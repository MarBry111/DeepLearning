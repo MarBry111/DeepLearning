{
  "nbformat": 4,
  "nbformat_minor": 5,
  "metadata": {
    "accelerator": "GPU",
    "colab": {
      "name": "CIFAR10(1).ipynb",
      "provenance": [],
      "collapsed_sections": []
    },
    "kernelspec": {
      "display_name": "Python 3",
      "language": "python",
      "name": "python3"
    },
    "language_info": {
      "codemirror_mode": {
        "name": "ipython",
        "version": 3
      },
      "file_extension": ".py",
      "mimetype": "text/x-python",
      "name": "python",
      "nbconvert_exporter": "python",
      "pygments_lexer": "ipython3",
      "version": "3.7.10"
    },
    "toc": {
      "base_numbering": 1,
      "nav_menu": {},
      "number_sections": true,
      "sideBar": true,
      "skip_h1_title": false,
      "title_cell": "Table of Contents",
      "title_sidebar": "Contents",
      "toc_cell": false,
      "toc_position": {},
      "toc_section_display": true,
      "toc_window_display": false
    },
    "widgets": {
      "application/vnd.jupyter.widget-state+json": {
        "69a43dacd54b4e81a12e44855d49aead": {
          "model_module": "@jupyter-widgets/controls",
          "model_name": "HBoxModel",
          "state": {
            "_view_name": "HBoxView",
            "_dom_classes": [],
            "_model_name": "HBoxModel",
            "_view_module": "@jupyter-widgets/controls",
            "_model_module_version": "1.5.0",
            "_view_count": null,
            "_view_module_version": "1.5.0",
            "box_style": "",
            "layout": "IPY_MODEL_fd3ec393b93b4c4d9047864b556c0d92",
            "_model_module": "@jupyter-widgets/controls",
            "children": [
              "IPY_MODEL_47d8657fdc524fc48e8f1d35045f2bf8",
              "IPY_MODEL_8497138a3be746ebaf48c597e01af80c"
            ]
          }
        },
        "fd3ec393b93b4c4d9047864b556c0d92": {
          "model_module": "@jupyter-widgets/base",
          "model_name": "LayoutModel",
          "state": {
            "_view_name": "LayoutView",
            "grid_template_rows": null,
            "right": null,
            "justify_content": null,
            "_view_module": "@jupyter-widgets/base",
            "overflow": null,
            "_model_module_version": "1.2.0",
            "_view_count": null,
            "flex_flow": null,
            "width": null,
            "min_width": null,
            "border": null,
            "align_items": null,
            "bottom": null,
            "_model_module": "@jupyter-widgets/base",
            "top": null,
            "grid_column": null,
            "overflow_y": null,
            "overflow_x": null,
            "grid_auto_flow": null,
            "grid_area": null,
            "grid_template_columns": null,
            "flex": null,
            "_model_name": "LayoutModel",
            "justify_items": null,
            "grid_row": null,
            "max_height": null,
            "align_content": null,
            "visibility": null,
            "align_self": null,
            "height": null,
            "min_height": null,
            "padding": null,
            "grid_auto_rows": null,
            "grid_gap": null,
            "max_width": null,
            "order": null,
            "_view_module_version": "1.2.0",
            "grid_template_areas": null,
            "object_position": null,
            "object_fit": null,
            "grid_auto_columns": null,
            "margin": null,
            "display": null,
            "left": null
          }
        },
        "47d8657fdc524fc48e8f1d35045f2bf8": {
          "model_module": "@jupyter-widgets/controls",
          "model_name": "FloatProgressModel",
          "state": {
            "_view_name": "ProgressView",
            "style": "IPY_MODEL_4fa9819a14334e2b8bab91b801c4322c",
            "_dom_classes": [],
            "description": "",
            "_model_name": "FloatProgressModel",
            "bar_style": "success",
            "max": 170498071,
            "_view_module": "@jupyter-widgets/controls",
            "_model_module_version": "1.5.0",
            "value": 170498071,
            "_view_count": null,
            "_view_module_version": "1.5.0",
            "orientation": "horizontal",
            "min": 0,
            "description_tooltip": null,
            "_model_module": "@jupyter-widgets/controls",
            "layout": "IPY_MODEL_ab10829d55fb4e66ae11d6d2e078e4b4"
          }
        },
        "8497138a3be746ebaf48c597e01af80c": {
          "model_module": "@jupyter-widgets/controls",
          "model_name": "HTMLModel",
          "state": {
            "_view_name": "HTMLView",
            "style": "IPY_MODEL_72990a90dbc24d3cba267f626417ed59",
            "_dom_classes": [],
            "description": "",
            "_model_name": "HTMLModel",
            "placeholder": "​",
            "_view_module": "@jupyter-widgets/controls",
            "_model_module_version": "1.5.0",
            "value": " 170499072/? [00:07&lt;00:00, 21585080.45it/s]",
            "_view_count": null,
            "_view_module_version": "1.5.0",
            "description_tooltip": null,
            "_model_module": "@jupyter-widgets/controls",
            "layout": "IPY_MODEL_7f9238071edd400ba2c34db2111154ea"
          }
        },
        "4fa9819a14334e2b8bab91b801c4322c": {
          "model_module": "@jupyter-widgets/controls",
          "model_name": "ProgressStyleModel",
          "state": {
            "_view_name": "StyleView",
            "_model_name": "ProgressStyleModel",
            "description_width": "initial",
            "_view_module": "@jupyter-widgets/base",
            "_model_module_version": "1.5.0",
            "_view_count": null,
            "_view_module_version": "1.2.0",
            "bar_color": null,
            "_model_module": "@jupyter-widgets/controls"
          }
        },
        "ab10829d55fb4e66ae11d6d2e078e4b4": {
          "model_module": "@jupyter-widgets/base",
          "model_name": "LayoutModel",
          "state": {
            "_view_name": "LayoutView",
            "grid_template_rows": null,
            "right": null,
            "justify_content": null,
            "_view_module": "@jupyter-widgets/base",
            "overflow": null,
            "_model_module_version": "1.2.0",
            "_view_count": null,
            "flex_flow": null,
            "width": null,
            "min_width": null,
            "border": null,
            "align_items": null,
            "bottom": null,
            "_model_module": "@jupyter-widgets/base",
            "top": null,
            "grid_column": null,
            "overflow_y": null,
            "overflow_x": null,
            "grid_auto_flow": null,
            "grid_area": null,
            "grid_template_columns": null,
            "flex": null,
            "_model_name": "LayoutModel",
            "justify_items": null,
            "grid_row": null,
            "max_height": null,
            "align_content": null,
            "visibility": null,
            "align_self": null,
            "height": null,
            "min_height": null,
            "padding": null,
            "grid_auto_rows": null,
            "grid_gap": null,
            "max_width": null,
            "order": null,
            "_view_module_version": "1.2.0",
            "grid_template_areas": null,
            "object_position": null,
            "object_fit": null,
            "grid_auto_columns": null,
            "margin": null,
            "display": null,
            "left": null
          }
        },
        "72990a90dbc24d3cba267f626417ed59": {
          "model_module": "@jupyter-widgets/controls",
          "model_name": "DescriptionStyleModel",
          "state": {
            "_view_name": "StyleView",
            "_model_name": "DescriptionStyleModel",
            "description_width": "",
            "_view_module": "@jupyter-widgets/base",
            "_model_module_version": "1.5.0",
            "_view_count": null,
            "_view_module_version": "1.2.0",
            "_model_module": "@jupyter-widgets/controls"
          }
        },
        "7f9238071edd400ba2c34db2111154ea": {
          "model_module": "@jupyter-widgets/base",
          "model_name": "LayoutModel",
          "state": {
            "_view_name": "LayoutView",
            "grid_template_rows": null,
            "right": null,
            "justify_content": null,
            "_view_module": "@jupyter-widgets/base",
            "overflow": null,
            "_model_module_version": "1.2.0",
            "_view_count": null,
            "flex_flow": null,
            "width": null,
            "min_width": null,
            "border": null,
            "align_items": null,
            "bottom": null,
            "_model_module": "@jupyter-widgets/base",
            "top": null,
            "grid_column": null,
            "overflow_y": null,
            "overflow_x": null,
            "grid_auto_flow": null,
            "grid_area": null,
            "grid_template_columns": null,
            "flex": null,
            "_model_name": "LayoutModel",
            "justify_items": null,
            "grid_row": null,
            "max_height": null,
            "align_content": null,
            "visibility": null,
            "align_self": null,
            "height": null,
            "min_height": null,
            "padding": null,
            "grid_auto_rows": null,
            "grid_gap": null,
            "max_width": null,
            "order": null,
            "_view_module_version": "1.2.0",
            "grid_template_areas": null,
            "object_position": null,
            "object_fit": null,
            "grid_auto_columns": null,
            "margin": null,
            "display": null,
            "left": null
          }
        },
        "ede79a58e5984975aea098d11f868f41": {
          "model_module": "@jupyter-widgets/controls",
          "model_name": "HBoxModel",
          "state": {
            "_dom_classes": [],
            "_model_module": "@jupyter-widgets/controls",
            "_model_module_version": "1.5.0",
            "_model_name": "HBoxModel",
            "_view_count": null,
            "_view_module": "@jupyter-widgets/controls",
            "_view_module_version": "1.5.0",
            "_view_name": "HBoxView",
            "box_style": "",
            "children": [
              "IPY_MODEL_24970d86bae8426ab7a1d6e504dadb43",
              "IPY_MODEL_85b071b5f2444838901fc13a680ec4f6"
            ],
            "layout": "IPY_MODEL_e8c9dda004754b74aa255ae11c95a16e"
          }
        },
        "24970d86bae8426ab7a1d6e504dadb43": {
          "model_module": "@jupyter-widgets/controls",
          "model_name": "FloatProgressModel",
          "state": {
            "_dom_classes": [],
            "_model_module": "@jupyter-widgets/controls",
            "_model_module_version": "1.5.0",
            "_model_name": "FloatProgressModel",
            "_view_count": null,
            "_view_module": "@jupyter-widgets/controls",
            "_view_module_version": "1.5.0",
            "_view_name": "ProgressView",
            "bar_style": "success",
            "description": "100%",
            "description_tooltip": null,
            "layout": "IPY_MODEL_5d446550f6a94f6f95b622ce0e1de450",
            "max": 100,
            "min": 0,
            "orientation": "horizontal",
            "style": "IPY_MODEL_d041e1f6352642998845b7f3c35b0483",
            "value": 100
          }
        },
        "85b071b5f2444838901fc13a680ec4f6": {
          "model_module": "@jupyter-widgets/controls",
          "model_name": "HTMLModel",
          "state": {
            "_dom_classes": [],
            "_model_module": "@jupyter-widgets/controls",
            "_model_module_version": "1.5.0",
            "_model_name": "HTMLModel",
            "_view_count": null,
            "_view_module": "@jupyter-widgets/controls",
            "_view_module_version": "1.5.0",
            "_view_name": "HTMLView",
            "description": "",
            "description_tooltip": null,
            "layout": "IPY_MODEL_68a2d1f548194d8cbc86091fca3fb61b",
            "placeholder": "​",
            "style": "IPY_MODEL_31ac0452d02441f49dc877711a7a16ce",
            "value": " 100/100 [1:16:44&lt;00:00, 46.04s/it]"
          }
        },
        "e8c9dda004754b74aa255ae11c95a16e": {
          "model_module": "@jupyter-widgets/base",
          "model_name": "LayoutModel",
          "state": {
            "_model_module": "@jupyter-widgets/base",
            "_model_module_version": "1.2.0",
            "_model_name": "LayoutModel",
            "_view_count": null,
            "_view_module": "@jupyter-widgets/base",
            "_view_module_version": "1.2.0",
            "_view_name": "LayoutView",
            "align_content": null,
            "align_items": null,
            "align_self": null,
            "border": null,
            "bottom": null,
            "display": null,
            "flex": null,
            "flex_flow": null,
            "grid_area": null,
            "grid_auto_columns": null,
            "grid_auto_flow": null,
            "grid_auto_rows": null,
            "grid_column": null,
            "grid_gap": null,
            "grid_row": null,
            "grid_template_areas": null,
            "grid_template_columns": null,
            "grid_template_rows": null,
            "height": null,
            "justify_content": null,
            "justify_items": null,
            "left": null,
            "margin": null,
            "max_height": null,
            "max_width": null,
            "min_height": null,
            "min_width": null,
            "object_fit": null,
            "object_position": null,
            "order": null,
            "overflow": null,
            "overflow_x": null,
            "overflow_y": null,
            "padding": null,
            "right": null,
            "top": null,
            "visibility": null,
            "width": null
          }
        },
        "5d446550f6a94f6f95b622ce0e1de450": {
          "model_module": "@jupyter-widgets/base",
          "model_name": "LayoutModel",
          "state": {
            "_model_module": "@jupyter-widgets/base",
            "_model_module_version": "1.2.0",
            "_model_name": "LayoutModel",
            "_view_count": null,
            "_view_module": "@jupyter-widgets/base",
            "_view_module_version": "1.2.0",
            "_view_name": "LayoutView",
            "align_content": null,
            "align_items": null,
            "align_self": null,
            "border": null,
            "bottom": null,
            "display": null,
            "flex": null,
            "flex_flow": null,
            "grid_area": null,
            "grid_auto_columns": null,
            "grid_auto_flow": null,
            "grid_auto_rows": null,
            "grid_column": null,
            "grid_gap": null,
            "grid_row": null,
            "grid_template_areas": null,
            "grid_template_columns": null,
            "grid_template_rows": null,
            "height": null,
            "justify_content": null,
            "justify_items": null,
            "left": null,
            "margin": null,
            "max_height": null,
            "max_width": null,
            "min_height": null,
            "min_width": null,
            "object_fit": null,
            "object_position": null,
            "order": null,
            "overflow": null,
            "overflow_x": null,
            "overflow_y": null,
            "padding": null,
            "right": null,
            "top": null,
            "visibility": null,
            "width": null
          }
        },
        "d041e1f6352642998845b7f3c35b0483": {
          "model_module": "@jupyter-widgets/controls",
          "model_name": "ProgressStyleModel",
          "state": {
            "_model_module": "@jupyter-widgets/controls",
            "_model_module_version": "1.5.0",
            "_model_name": "ProgressStyleModel",
            "_view_count": null,
            "_view_module": "@jupyter-widgets/base",
            "_view_module_version": "1.2.0",
            "_view_name": "StyleView",
            "bar_color": null,
            "description_width": "initial"
          }
        },
        "68a2d1f548194d8cbc86091fca3fb61b": {
          "model_module": "@jupyter-widgets/base",
          "model_name": "LayoutModel",
          "state": {
            "_model_module": "@jupyter-widgets/base",
            "_model_module_version": "1.2.0",
            "_model_name": "LayoutModel",
            "_view_count": null,
            "_view_module": "@jupyter-widgets/base",
            "_view_module_version": "1.2.0",
            "_view_name": "LayoutView",
            "align_content": null,
            "align_items": null,
            "align_self": null,
            "border": null,
            "bottom": null,
            "display": null,
            "flex": null,
            "flex_flow": null,
            "grid_area": null,
            "grid_auto_columns": null,
            "grid_auto_flow": null,
            "grid_auto_rows": null,
            "grid_column": null,
            "grid_gap": null,
            "grid_row": null,
            "grid_template_areas": null,
            "grid_template_columns": null,
            "grid_template_rows": null,
            "height": null,
            "justify_content": null,
            "justify_items": null,
            "left": null,
            "margin": null,
            "max_height": null,
            "max_width": null,
            "min_height": null,
            "min_width": null,
            "object_fit": null,
            "object_position": null,
            "order": null,
            "overflow": null,
            "overflow_x": null,
            "overflow_y": null,
            "padding": null,
            "right": null,
            "top": null,
            "visibility": null,
            "width": null
          }
        },
        "31ac0452d02441f49dc877711a7a16ce": {
          "model_module": "@jupyter-widgets/controls",
          "model_name": "DescriptionStyleModel",
          "state": {
            "_model_module": "@jupyter-widgets/controls",
            "_model_module_version": "1.5.0",
            "_model_name": "DescriptionStyleModel",
            "_view_count": null,
            "_view_module": "@jupyter-widgets/base",
            "_view_module_version": "1.2.0",
            "_view_name": "StyleView",
            "description_width": ""
          }
        },
        "f0c21938509a43199d376f8d78ff2f97": {
          "model_module": "@jupyter-widgets/controls",
          "model_name": "HBoxModel",
          "state": {
            "_dom_classes": [],
            "_model_module": "@jupyter-widgets/controls",
            "_model_module_version": "1.5.0",
            "_model_name": "HBoxModel",
            "_view_count": null,
            "_view_module": "@jupyter-widgets/controls",
            "_view_module_version": "1.5.0",
            "_view_name": "HBoxView",
            "box_style": "",
            "children": [
              "IPY_MODEL_87536e75b1ee4c4b803f3853e1040a6a",
              "IPY_MODEL_4693218eeb524b0f9526f2dadbec0427"
            ],
            "layout": "IPY_MODEL_9b7227c90c1145038a4a99d065b5b125"
          }
        },
        "87536e75b1ee4c4b803f3853e1040a6a": {
          "model_module": "@jupyter-widgets/controls",
          "model_name": "FloatProgressModel",
          "state": {
            "_dom_classes": [],
            "_model_module": "@jupyter-widgets/controls",
            "_model_module_version": "1.5.0",
            "_model_name": "FloatProgressModel",
            "_view_count": null,
            "_view_module": "@jupyter-widgets/controls",
            "_view_module_version": "1.5.0",
            "_view_name": "ProgressView",
            "bar_style": "",
            "description": " 68%",
            "description_tooltip": null,
            "layout": "IPY_MODEL_30e507b9b5e843f2afa5a9bd9c0fa518",
            "max": 100,
            "min": 0,
            "orientation": "horizontal",
            "style": "IPY_MODEL_737451b2b34b47ee8071622152f9570a",
            "value": 68
          }
        },
        "4693218eeb524b0f9526f2dadbec0427": {
          "model_module": "@jupyter-widgets/controls",
          "model_name": "HTMLModel",
          "state": {
            "_dom_classes": [],
            "_model_module": "@jupyter-widgets/controls",
            "_model_module_version": "1.5.0",
            "_model_name": "HTMLModel",
            "_view_count": null,
            "_view_module": "@jupyter-widgets/controls",
            "_view_module_version": "1.5.0",
            "_view_name": "HTMLView",
            "description": "",
            "description_tooltip": null,
            "layout": "IPY_MODEL_884bdb39163a4beda99d339ba57abfdc",
            "placeholder": "​",
            "style": "IPY_MODEL_86d07a4d16914a72971cf8bfa8c717de",
            "value": " 68/100 [51:52&lt;24:33, 46.06s/it]"
          }
        },
        "9b7227c90c1145038a4a99d065b5b125": {
          "model_module": "@jupyter-widgets/base",
          "model_name": "LayoutModel",
          "state": {
            "_model_module": "@jupyter-widgets/base",
            "_model_module_version": "1.2.0",
            "_model_name": "LayoutModel",
            "_view_count": null,
            "_view_module": "@jupyter-widgets/base",
            "_view_module_version": "1.2.0",
            "_view_name": "LayoutView",
            "align_content": null,
            "align_items": null,
            "align_self": null,
            "border": null,
            "bottom": null,
            "display": null,
            "flex": null,
            "flex_flow": null,
            "grid_area": null,
            "grid_auto_columns": null,
            "grid_auto_flow": null,
            "grid_auto_rows": null,
            "grid_column": null,
            "grid_gap": null,
            "grid_row": null,
            "grid_template_areas": null,
            "grid_template_columns": null,
            "grid_template_rows": null,
            "height": null,
            "justify_content": null,
            "justify_items": null,
            "left": null,
            "margin": null,
            "max_height": null,
            "max_width": null,
            "min_height": null,
            "min_width": null,
            "object_fit": null,
            "object_position": null,
            "order": null,
            "overflow": null,
            "overflow_x": null,
            "overflow_y": null,
            "padding": null,
            "right": null,
            "top": null,
            "visibility": null,
            "width": null
          }
        },
        "30e507b9b5e843f2afa5a9bd9c0fa518": {
          "model_module": "@jupyter-widgets/base",
          "model_name": "LayoutModel",
          "state": {
            "_model_module": "@jupyter-widgets/base",
            "_model_module_version": "1.2.0",
            "_model_name": "LayoutModel",
            "_view_count": null,
            "_view_module": "@jupyter-widgets/base",
            "_view_module_version": "1.2.0",
            "_view_name": "LayoutView",
            "align_content": null,
            "align_items": null,
            "align_self": null,
            "border": null,
            "bottom": null,
            "display": null,
            "flex": null,
            "flex_flow": null,
            "grid_area": null,
            "grid_auto_columns": null,
            "grid_auto_flow": null,
            "grid_auto_rows": null,
            "grid_column": null,
            "grid_gap": null,
            "grid_row": null,
            "grid_template_areas": null,
            "grid_template_columns": null,
            "grid_template_rows": null,
            "height": null,
            "justify_content": null,
            "justify_items": null,
            "left": null,
            "margin": null,
            "max_height": null,
            "max_width": null,
            "min_height": null,
            "min_width": null,
            "object_fit": null,
            "object_position": null,
            "order": null,
            "overflow": null,
            "overflow_x": null,
            "overflow_y": null,
            "padding": null,
            "right": null,
            "top": null,
            "visibility": null,
            "width": null
          }
        },
        "737451b2b34b47ee8071622152f9570a": {
          "model_module": "@jupyter-widgets/controls",
          "model_name": "ProgressStyleModel",
          "state": {
            "_model_module": "@jupyter-widgets/controls",
            "_model_module_version": "1.5.0",
            "_model_name": "ProgressStyleModel",
            "_view_count": null,
            "_view_module": "@jupyter-widgets/base",
            "_view_module_version": "1.2.0",
            "_view_name": "StyleView",
            "bar_color": null,
            "description_width": "initial"
          }
        },
        "884bdb39163a4beda99d339ba57abfdc": {
          "model_module": "@jupyter-widgets/base",
          "model_name": "LayoutModel",
          "state": {
            "_model_module": "@jupyter-widgets/base",
            "_model_module_version": "1.2.0",
            "_model_name": "LayoutModel",
            "_view_count": null,
            "_view_module": "@jupyter-widgets/base",
            "_view_module_version": "1.2.0",
            "_view_name": "LayoutView",
            "align_content": null,
            "align_items": null,
            "align_self": null,
            "border": null,
            "bottom": null,
            "display": null,
            "flex": null,
            "flex_flow": null,
            "grid_area": null,
            "grid_auto_columns": null,
            "grid_auto_flow": null,
            "grid_auto_rows": null,
            "grid_column": null,
            "grid_gap": null,
            "grid_row": null,
            "grid_template_areas": null,
            "grid_template_columns": null,
            "grid_template_rows": null,
            "height": null,
            "justify_content": null,
            "justify_items": null,
            "left": null,
            "margin": null,
            "max_height": null,
            "max_width": null,
            "min_height": null,
            "min_width": null,
            "object_fit": null,
            "object_position": null,
            "order": null,
            "overflow": null,
            "overflow_x": null,
            "overflow_y": null,
            "padding": null,
            "right": null,
            "top": null,
            "visibility": null,
            "width": null
          }
        },
        "86d07a4d16914a72971cf8bfa8c717de": {
          "model_module": "@jupyter-widgets/controls",
          "model_name": "DescriptionStyleModel",
          "state": {
            "_model_module": "@jupyter-widgets/controls",
            "_model_module_version": "1.5.0",
            "_model_name": "DescriptionStyleModel",
            "_view_count": null,
            "_view_module": "@jupyter-widgets/base",
            "_view_module_version": "1.2.0",
            "_view_name": "StyleView",
            "description_width": ""
          }
        },
        "dcfcb94b70fe4849a74bdbc481333fec": {
          "model_module": "@jupyter-widgets/controls",
          "model_name": "HBoxModel",
          "state": {
            "_view_name": "HBoxView",
            "_dom_classes": [],
            "_model_name": "HBoxModel",
            "_view_module": "@jupyter-widgets/controls",
            "_model_module_version": "1.5.0",
            "_view_count": null,
            "_view_module_version": "1.5.0",
            "box_style": "",
            "layout": "IPY_MODEL_46018067bdb8482dabb568a671203173",
            "_model_module": "@jupyter-widgets/controls",
            "children": [
              "IPY_MODEL_527882fba7d74905b94f0bd26df34b67",
              "IPY_MODEL_7fb86dc640444db79c5a480dc22ad9e3"
            ]
          }
        },
        "46018067bdb8482dabb568a671203173": {
          "model_module": "@jupyter-widgets/base",
          "model_name": "LayoutModel",
          "state": {
            "_view_name": "LayoutView",
            "grid_template_rows": null,
            "right": null,
            "justify_content": null,
            "_view_module": "@jupyter-widgets/base",
            "overflow": null,
            "_model_module_version": "1.2.0",
            "_view_count": null,
            "flex_flow": null,
            "width": null,
            "min_width": null,
            "border": null,
            "align_items": null,
            "bottom": null,
            "_model_module": "@jupyter-widgets/base",
            "top": null,
            "grid_column": null,
            "overflow_y": null,
            "overflow_x": null,
            "grid_auto_flow": null,
            "grid_area": null,
            "grid_template_columns": null,
            "flex": null,
            "_model_name": "LayoutModel",
            "justify_items": null,
            "grid_row": null,
            "max_height": null,
            "align_content": null,
            "visibility": null,
            "align_self": null,
            "height": null,
            "min_height": null,
            "padding": null,
            "grid_auto_rows": null,
            "grid_gap": null,
            "max_width": null,
            "order": null,
            "_view_module_version": "1.2.0",
            "grid_template_areas": null,
            "object_position": null,
            "object_fit": null,
            "grid_auto_columns": null,
            "margin": null,
            "display": null,
            "left": null
          }
        },
        "527882fba7d74905b94f0bd26df34b67": {
          "model_module": "@jupyter-widgets/controls",
          "model_name": "FloatProgressModel",
          "state": {
            "_view_name": "ProgressView",
            "style": "IPY_MODEL_60f62a25edf74c9c82cd6c53f85ce0a3",
            "_dom_classes": [],
            "description": "  3%",
            "_model_name": "FloatProgressModel",
            "bar_style": "",
            "max": 100,
            "_view_module": "@jupyter-widgets/controls",
            "_model_module_version": "1.5.0",
            "value": 3,
            "_view_count": null,
            "_view_module_version": "1.5.0",
            "orientation": "horizontal",
            "min": 0,
            "description_tooltip": null,
            "_model_module": "@jupyter-widgets/controls",
            "layout": "IPY_MODEL_515be19dafb24dfc9c3554b3a06def31"
          }
        },
        "7fb86dc640444db79c5a480dc22ad9e3": {
          "model_module": "@jupyter-widgets/controls",
          "model_name": "HTMLModel",
          "state": {
            "_view_name": "HTMLView",
            "style": "IPY_MODEL_f7791271c6744a52bc8fb278a664e371",
            "_dom_classes": [],
            "description": "",
            "_model_name": "HTMLModel",
            "placeholder": "​",
            "_view_module": "@jupyter-widgets/controls",
            "_model_module_version": "1.5.0",
            "value": " 3/100 [03:42&lt;1:59:56, 74.19s/it]",
            "_view_count": null,
            "_view_module_version": "1.5.0",
            "description_tooltip": null,
            "_model_module": "@jupyter-widgets/controls",
            "layout": "IPY_MODEL_495dd454268e4710af182e7b68af3537"
          }
        },
        "60f62a25edf74c9c82cd6c53f85ce0a3": {
          "model_module": "@jupyter-widgets/controls",
          "model_name": "ProgressStyleModel",
          "state": {
            "_view_name": "StyleView",
            "_model_name": "ProgressStyleModel",
            "description_width": "initial",
            "_view_module": "@jupyter-widgets/base",
            "_model_module_version": "1.5.0",
            "_view_count": null,
            "_view_module_version": "1.2.0",
            "bar_color": null,
            "_model_module": "@jupyter-widgets/controls"
          }
        },
        "515be19dafb24dfc9c3554b3a06def31": {
          "model_module": "@jupyter-widgets/base",
          "model_name": "LayoutModel",
          "state": {
            "_view_name": "LayoutView",
            "grid_template_rows": null,
            "right": null,
            "justify_content": null,
            "_view_module": "@jupyter-widgets/base",
            "overflow": null,
            "_model_module_version": "1.2.0",
            "_view_count": null,
            "flex_flow": null,
            "width": null,
            "min_width": null,
            "border": null,
            "align_items": null,
            "bottom": null,
            "_model_module": "@jupyter-widgets/base",
            "top": null,
            "grid_column": null,
            "overflow_y": null,
            "overflow_x": null,
            "grid_auto_flow": null,
            "grid_area": null,
            "grid_template_columns": null,
            "flex": null,
            "_model_name": "LayoutModel",
            "justify_items": null,
            "grid_row": null,
            "max_height": null,
            "align_content": null,
            "visibility": null,
            "align_self": null,
            "height": null,
            "min_height": null,
            "padding": null,
            "grid_auto_rows": null,
            "grid_gap": null,
            "max_width": null,
            "order": null,
            "_view_module_version": "1.2.0",
            "grid_template_areas": null,
            "object_position": null,
            "object_fit": null,
            "grid_auto_columns": null,
            "margin": null,
            "display": null,
            "left": null
          }
        },
        "f7791271c6744a52bc8fb278a664e371": {
          "model_module": "@jupyter-widgets/controls",
          "model_name": "DescriptionStyleModel",
          "state": {
            "_view_name": "StyleView",
            "_model_name": "DescriptionStyleModel",
            "description_width": "",
            "_view_module": "@jupyter-widgets/base",
            "_model_module_version": "1.5.0",
            "_view_count": null,
            "_view_module_version": "1.2.0",
            "_model_module": "@jupyter-widgets/controls"
          }
        },
        "495dd454268e4710af182e7b68af3537": {
          "model_module": "@jupyter-widgets/base",
          "model_name": "LayoutModel",
          "state": {
            "_view_name": "LayoutView",
            "grid_template_rows": null,
            "right": null,
            "justify_content": null,
            "_view_module": "@jupyter-widgets/base",
            "overflow": null,
            "_model_module_version": "1.2.0",
            "_view_count": null,
            "flex_flow": null,
            "width": null,
            "min_width": null,
            "border": null,
            "align_items": null,
            "bottom": null,
            "_model_module": "@jupyter-widgets/base",
            "top": null,
            "grid_column": null,
            "overflow_y": null,
            "overflow_x": null,
            "grid_auto_flow": null,
            "grid_area": null,
            "grid_template_columns": null,
            "flex": null,
            "_model_name": "LayoutModel",
            "justify_items": null,
            "grid_row": null,
            "max_height": null,
            "align_content": null,
            "visibility": null,
            "align_self": null,
            "height": null,
            "min_height": null,
            "padding": null,
            "grid_auto_rows": null,
            "grid_gap": null,
            "max_width": null,
            "order": null,
            "_view_module_version": "1.2.0",
            "grid_template_areas": null,
            "object_position": null,
            "object_fit": null,
            "grid_auto_columns": null,
            "margin": null,
            "display": null,
            "left": null
          }
        },
        "9b8d6e1346d94c0c8f4f19807d7abc9c": {
          "model_module": "@jupyter-widgets/controls",
          "model_name": "HBoxModel",
          "state": {
            "_view_name": "HBoxView",
            "_dom_classes": [],
            "_model_name": "HBoxModel",
            "_view_module": "@jupyter-widgets/controls",
            "_model_module_version": "1.5.0",
            "_view_count": null,
            "_view_module_version": "1.5.0",
            "box_style": "",
            "layout": "IPY_MODEL_0574fa158af846fdad9cc58488484341",
            "_model_module": "@jupyter-widgets/controls",
            "children": [
              "IPY_MODEL_53b92cf5b7194b81bf88473e69bd611e",
              "IPY_MODEL_1f33ee57d674445a965dad1fd2569a5b"
            ]
          }
        },
        "0574fa158af846fdad9cc58488484341": {
          "model_module": "@jupyter-widgets/base",
          "model_name": "LayoutModel",
          "state": {
            "_view_name": "LayoutView",
            "grid_template_rows": null,
            "right": null,
            "justify_content": null,
            "_view_module": "@jupyter-widgets/base",
            "overflow": null,
            "_model_module_version": "1.2.0",
            "_view_count": null,
            "flex_flow": null,
            "width": null,
            "min_width": null,
            "border": null,
            "align_items": null,
            "bottom": null,
            "_model_module": "@jupyter-widgets/base",
            "top": null,
            "grid_column": null,
            "overflow_y": null,
            "overflow_x": null,
            "grid_auto_flow": null,
            "grid_area": null,
            "grid_template_columns": null,
            "flex": null,
            "_model_name": "LayoutModel",
            "justify_items": null,
            "grid_row": null,
            "max_height": null,
            "align_content": null,
            "visibility": null,
            "align_self": null,
            "height": null,
            "min_height": null,
            "padding": null,
            "grid_auto_rows": null,
            "grid_gap": null,
            "max_width": null,
            "order": null,
            "_view_module_version": "1.2.0",
            "grid_template_areas": null,
            "object_position": null,
            "object_fit": null,
            "grid_auto_columns": null,
            "margin": null,
            "display": null,
            "left": null
          }
        },
        "53b92cf5b7194b81bf88473e69bd611e": {
          "model_module": "@jupyter-widgets/controls",
          "model_name": "FloatProgressModel",
          "state": {
            "_view_name": "ProgressView",
            "style": "IPY_MODEL_de8dd48e8f934417b7534e19f69ec21e",
            "_dom_classes": [],
            "description": "100%",
            "_model_name": "FloatProgressModel",
            "bar_style": "success",
            "max": 10,
            "_view_module": "@jupyter-widgets/controls",
            "_model_module_version": "1.5.0",
            "value": 10,
            "_view_count": null,
            "_view_module_version": "1.5.0",
            "orientation": "horizontal",
            "min": 0,
            "description_tooltip": null,
            "_model_module": "@jupyter-widgets/controls",
            "layout": "IPY_MODEL_1c4cfc4b841f49d2b3e1fe4c02f1e2cc"
          }
        },
        "1f33ee57d674445a965dad1fd2569a5b": {
          "model_module": "@jupyter-widgets/controls",
          "model_name": "HTMLModel",
          "state": {
            "_view_name": "HTMLView",
            "style": "IPY_MODEL_1390481b98454a77b81aa6443dd62fd0",
            "_dom_classes": [],
            "description": "",
            "_model_name": "HTMLModel",
            "placeholder": "​",
            "_view_module": "@jupyter-widgets/controls",
            "_model_module_version": "1.5.0",
            "value": " 10/10 [22:43&lt;00:00, 136.36s/it]",
            "_view_count": null,
            "_view_module_version": "1.5.0",
            "description_tooltip": null,
            "_model_module": "@jupyter-widgets/controls",
            "layout": "IPY_MODEL_d89d9703ff414e45b91e6e7f01347c35"
          }
        },
        "de8dd48e8f934417b7534e19f69ec21e": {
          "model_module": "@jupyter-widgets/controls",
          "model_name": "ProgressStyleModel",
          "state": {
            "_view_name": "StyleView",
            "_model_name": "ProgressStyleModel",
            "description_width": "initial",
            "_view_module": "@jupyter-widgets/base",
            "_model_module_version": "1.5.0",
            "_view_count": null,
            "_view_module_version": "1.2.0",
            "bar_color": null,
            "_model_module": "@jupyter-widgets/controls"
          }
        },
        "1c4cfc4b841f49d2b3e1fe4c02f1e2cc": {
          "model_module": "@jupyter-widgets/base",
          "model_name": "LayoutModel",
          "state": {
            "_view_name": "LayoutView",
            "grid_template_rows": null,
            "right": null,
            "justify_content": null,
            "_view_module": "@jupyter-widgets/base",
            "overflow": null,
            "_model_module_version": "1.2.0",
            "_view_count": null,
            "flex_flow": null,
            "width": null,
            "min_width": null,
            "border": null,
            "align_items": null,
            "bottom": null,
            "_model_module": "@jupyter-widgets/base",
            "top": null,
            "grid_column": null,
            "overflow_y": null,
            "overflow_x": null,
            "grid_auto_flow": null,
            "grid_area": null,
            "grid_template_columns": null,
            "flex": null,
            "_model_name": "LayoutModel",
            "justify_items": null,
            "grid_row": null,
            "max_height": null,
            "align_content": null,
            "visibility": null,
            "align_self": null,
            "height": null,
            "min_height": null,
            "padding": null,
            "grid_auto_rows": null,
            "grid_gap": null,
            "max_width": null,
            "order": null,
            "_view_module_version": "1.2.0",
            "grid_template_areas": null,
            "object_position": null,
            "object_fit": null,
            "grid_auto_columns": null,
            "margin": null,
            "display": null,
            "left": null
          }
        },
        "1390481b98454a77b81aa6443dd62fd0": {
          "model_module": "@jupyter-widgets/controls",
          "model_name": "DescriptionStyleModel",
          "state": {
            "_view_name": "StyleView",
            "_model_name": "DescriptionStyleModel",
            "description_width": "",
            "_view_module": "@jupyter-widgets/base",
            "_model_module_version": "1.5.0",
            "_view_count": null,
            "_view_module_version": "1.2.0",
            "_model_module": "@jupyter-widgets/controls"
          }
        },
        "d89d9703ff414e45b91e6e7f01347c35": {
          "model_module": "@jupyter-widgets/base",
          "model_name": "LayoutModel",
          "state": {
            "_view_name": "LayoutView",
            "grid_template_rows": null,
            "right": null,
            "justify_content": null,
            "_view_module": "@jupyter-widgets/base",
            "overflow": null,
            "_model_module_version": "1.2.0",
            "_view_count": null,
            "flex_flow": null,
            "width": null,
            "min_width": null,
            "border": null,
            "align_items": null,
            "bottom": null,
            "_model_module": "@jupyter-widgets/base",
            "top": null,
            "grid_column": null,
            "overflow_y": null,
            "overflow_x": null,
            "grid_auto_flow": null,
            "grid_area": null,
            "grid_template_columns": null,
            "flex": null,
            "_model_name": "LayoutModel",
            "justify_items": null,
            "grid_row": null,
            "max_height": null,
            "align_content": null,
            "visibility": null,
            "align_self": null,
            "height": null,
            "min_height": null,
            "padding": null,
            "grid_auto_rows": null,
            "grid_gap": null,
            "max_width": null,
            "order": null,
            "_view_module_version": "1.2.0",
            "grid_template_areas": null,
            "object_position": null,
            "object_fit": null,
            "grid_auto_columns": null,
            "margin": null,
            "display": null,
            "left": null
          }
        }
      }
    }
  },
  "cells": [
    {
      "cell_type": "code",
      "metadata": {
        "colab": {
          "base_uri": "https://localhost:8080/"
        },
        "id": "MNRucdkQk-8M",
        "outputId": "a8588cfa-0b54-43ae-b11c-d7b2c49a2070"
      },
      "source": [
        "%config Completer.use_jedi = False"
      ],
      "id": "MNRucdkQk-8M",
      "execution_count": null,
      "outputs": [
        {
          "output_type": "stream",
          "text": [
            "/usr/local/lib/python3.7/dist-packages/ipykernel_launcher.py:1: UserWarning: Config option `use_jedi` not recognized by `IPCompleter`.\n",
            "  \"\"\"Entry point for launching an IPython kernel.\n"
          ],
          "name": "stderr"
        }
      ]
    },
    {
      "cell_type": "code",
      "metadata": {
        "id": "kZPHaiMOk-8U"
      },
      "source": [
        "import torch\n",
        "from torch import nn\n",
        "from torch.utils.data import DataLoader\n",
        "from torchvision import datasets\n",
        "import torchvision.transforms as transforms\n",
        "import torch.nn.functional as F\n",
        "from torch import optim\n",
        "from torch.autograd import Variable\n",
        "\n",
        "import matplotlib.pyplot as plt\n",
        "import numpy as np\n",
        "import pandas as pd\n",
        "import plotly.express as px\n",
        "import seaborn as sn\n",
        "from tqdm.notebook import tqdm\n",
        " \n",
        "from functools import partial\n",
        "from collections import OrderedDict"
      ],
      "id": "kZPHaiMOk-8U",
      "execution_count": null,
      "outputs": []
    },
    {
      "cell_type": "code",
      "metadata": {
        "colab": {
          "base_uri": "https://localhost:8080/"
        },
        "id": "i7Zf3iqEk-8V",
        "outputId": "0d687b46-3f2e-4f88-9704-3e251976aba7"
      },
      "source": [
        "torch.cuda.is_available()"
      ],
      "id": "i7Zf3iqEk-8V",
      "execution_count": null,
      "outputs": [
        {
          "output_type": "execute_result",
          "data": {
            "text/plain": [
              "True"
            ]
          },
          "metadata": {
            "tags": []
          },
          "execution_count": 3
        }
      ]
    },
    {
      "cell_type": "code",
      "metadata": {
        "colab": {
          "base_uri": "https://localhost:8080/"
        },
        "id": "eabIU5sak-8W",
        "outputId": "f7be6db6-e184-4b1b-8347-d90a22b3596d"
      },
      "source": [
        "print(torch.__version__)"
      ],
      "id": "eabIU5sak-8W",
      "execution_count": null,
      "outputs": [
        {
          "output_type": "stream",
          "text": [
            "1.8.1+cu101\n"
          ],
          "name": "stdout"
        }
      ]
    },
    {
      "cell_type": "code",
      "metadata": {
        "colab": {
          "base_uri": "https://localhost:8080/",
          "height": 367,
          "referenced_widgets": [
            "69a43dacd54b4e81a12e44855d49aead",
            "fd3ec393b93b4c4d9047864b556c0d92",
            "47d8657fdc524fc48e8f1d35045f2bf8",
            "8497138a3be746ebaf48c597e01af80c",
            "4fa9819a14334e2b8bab91b801c4322c",
            "ab10829d55fb4e66ae11d6d2e078e4b4",
            "72990a90dbc24d3cba267f626417ed59",
            "7f9238071edd400ba2c34db2111154ea"
          ]
        },
        "id": "yzNihcTpk-8Y",
        "outputId": "63c83b98-b5af-4f91-91e6-93388f066860"
      },
      "source": [
        "transform = transforms.Compose(\n",
        "    [transforms.ToTensor(),\n",
        "     transforms.Normalize((0.5, 0.5, 0.5), (0.5, 0.5, 0.5)),\n",
        "     ]\n",
        ")\n",
        "\n",
        "if True:\n",
        "    transform = transforms.Compose([\n",
        "        transforms.ToTensor(),\n",
        "        transforms.Normalize((0.5, 0.5, 0.5), (0.5, 0.5, 0.5)),\n",
        "        transforms.GaussianBlur(kernel_size=[3,3], sigma=(0.2, 1)),\n",
        "        transforms.RandomAffine(degrees=[-20, 20], translate=[0.1, 0.1], scale=[0.9, 1.1], shear=[-20, 20]),\n",
        "        ])\n",
        "    \n",
        " \n",
        "trainset = datasets.CIFAR10(\n",
        "    root='./data', train=True, download=True, transform=transform)\n",
        "trainloader = torch.utils.data.DataLoader(\n",
        "    trainset, batch_size=32, shuffle=True, num_workers=2)\n",
        " \n",
        "testset = datasets.CIFAR10(\n",
        "    root='./data', train=False, download=True, transform=transform)\n",
        "testloader = torch.utils.data.DataLoader(\n",
        "    testset, batch_size=32, shuffle=False, num_workers=2)\n",
        " \n",
        "classes = ('plane', 'car', 'bird', 'cat',\n",
        "           'deer', 'dog', 'frog', 'horse', 'ship', 'truck')\n",
        "\n",
        "def imshow(img):\n",
        "    img = img / 2 + 0.5     # unnormalize\n",
        "    npimg = img.numpy()\n",
        "    plt.imshow(np.transpose(npimg, (1, 2, 0)))\n",
        "    plt.show()\n",
        "    \n",
        "imshow(trainset[0][0])"
      ],
      "id": "yzNihcTpk-8Y",
      "execution_count": null,
      "outputs": [
        {
          "output_type": "stream",
          "text": [
            "Downloading https://www.cs.toronto.edu/~kriz/cifar-10-python.tar.gz to ./data/cifar-10-python.tar.gz\n"
          ],
          "name": "stdout"
        },
        {
          "output_type": "display_data",
          "data": {
            "application/vnd.jupyter.widget-view+json": {
              "model_id": "69a43dacd54b4e81a12e44855d49aead",
              "version_minor": 0,
              "version_major": 2
            },
            "text/plain": [
              "HBox(children=(FloatProgress(value=0.0, max=170498071.0), HTML(value='')))"
            ]
          },
          "metadata": {
            "tags": []
          }
        },
        {
          "output_type": "stream",
          "text": [
            "\n",
            "Extracting ./data/cifar-10-python.tar.gz to ./data\n",
            "Files already downloaded and verified\n"
          ],
          "name": "stdout"
        },
        {
          "output_type": "display_data",
          "data": {
            "image/png": "[encoded data removed]",
            "text/plain": [
              "<Figure size 432x288 with 1 Axes>"
            ]
          },
          "metadata": {
            "tags": [],
            "needs_background": "light"
          }
        }
      ]
    },
    {
      "cell_type": "code",
      "metadata": {
        "colab": {
          "base_uri": "https://localhost:8080/",
          "height": 35
        },
        "id": "oolevyynk-8d",
        "outputId": "2832fdb4-14cf-4668-9a1f-74f394acf8f6"
      },
      "source": [
        "classes[trainset[0][1]]"
      ],
      "id": "oolevyynk-8d",
      "execution_count": null,
      "outputs": [
        {
          "output_type": "execute_result",
          "data": {
            "application/vnd.google.colaboratory.intrinsic+json": {
              "type": "string"
            },
            "text/plain": [
              "'frog'"
            ]
          },
          "metadata": {
            "tags": []
          },
          "execution_count": 6
        }
      ]
    },
    {
      "cell_type": "code",
      "metadata": {
        "colab": {
          "base_uri": "https://localhost:8080/"
        },
        "id": "Q0Gj1glUk-8e",
        "outputId": "672a7043-f8f8-4293-cf2b-6a7b964fc0b4"
      },
      "source": [
        "trainset[0][0].shape"
      ],
      "id": "Q0Gj1glUk-8e",
      "execution_count": null,
      "outputs": [
        {
          "output_type": "execute_result",
          "data": {
            "text/plain": [
              "torch.Size([3, 32, 32])"
            ]
          },
          "metadata": {
            "tags": []
          },
          "execution_count": 7
        }
      ]
    },
    {
      "cell_type": "code",
      "metadata": {
        "id": "v6DYUgdMk-8g"
      },
      "source": [
        "def test(net, dataloader, device='cuda:0'):\n",
        "    net = net.to(device)\n",
        "    conf_matrix = np.zeros((10, 10))\n",
        "    for i, (X, y) in enumerate(dataloader):\n",
        "        X, y = X.to(device), y.to(device)\n",
        "        with torch.no_grad():\n",
        "            pred = net(X)\n",
        "            pred_cls = pred.argmax(1)\n",
        "            for j in range(len(pred_cls)):\n",
        "                conf_matrix[y[j]][pred_cls[j]] += 1\n",
        "    return conf_matrix"
      ],
      "id": "v6DYUgdMk-8g",
      "execution_count": null,
      "outputs": []
    },
    {
      "cell_type": "code",
      "metadata": {
        "id": "mJIhOQpGk-8g"
      },
      "source": [
        "def train(net, dataloader, optimizer, loss_func, epochs=100, device='cuda:0', scheduler=None):\n",
        "    n = len(trainloader.dataset)\n",
        "    net.to(device)\n",
        "    train_acc = np.zeros(epochs)\n",
        "    test_acc = np.zeros(epochs)\n",
        "    train_loss = np.zeros(epochs)\n",
        "    test_loss = np.zeros(epochs)\n",
        "    \n",
        "    for epoch in tqdm(range(epochs)):\n",
        "        epoch_ok = 0\n",
        "        \n",
        "        for i, (X, y) in enumerate(dataloader):\n",
        "            X, y = X.to(device), y.to(device)\n",
        "            optimizer.zero_grad()\n",
        "            pred = net(X)\n",
        "            loss = loss_func(pred, y)\n",
        "            \n",
        "            train_loss[epoch] += loss.item()\n",
        "            pred_cls = pred.argmax(1)\n",
        "            epoch_ok += sum(pred_cls == y)\n",
        "            \n",
        "            loss.backward()\n",
        "            optimizer.step()\n",
        "        \n",
        "        if scheduler: scheduler.step()\n",
        "        \n",
        "        conf_matrix = test(net, testloader)    \n",
        "        test_acc[epoch] = np.diag(conf_matrix).sum() / np.sum(conf_matrix)\n",
        "        train_acc[epoch] = epoch_ok / n\n",
        "        \n",
        "        print(f'Epoch {epoch}: train loss: {train_loss[epoch]:.4f}, train acc: {train_acc[epoch]:.3f}, '\n",
        "              f'test acc: {test_acc[epoch]}')\n",
        "    \n",
        "    return  train_acc, test_acc, train_loss, test_loss"
      ],
      "id": "mJIhOQpGk-8g",
      "execution_count": null,
      "outputs": []
    },
    {
      "cell_type": "code",
      "metadata": {
        "id": "hdGTEZHgk-8h"
      },
      "source": [
        "class Net1(nn.Module):\n",
        "    \n",
        "    def __init__(self):\n",
        "        super(Net1, self).__init__()\n",
        "        self.conv1 = nn.Conv2d(in_channels=3, out_channels=16, kernel_size=(3,3), padding=1)\n",
        "        self.conv2 = nn.Conv2d(in_channels=16, out_channels=32, kernel_size=(3,3), padding=1)\n",
        "        self.conv3 = nn.Conv2d(in_channels=32, out_channels=64, kernel_size=(3,3), padding=1)\n",
        "        self.pool = nn.MaxPool2d(kernel_size=(2,2))\n",
        "        self.gap = nn.MaxPool2d(kernel_size=(8,8))\n",
        "\n",
        "        self.bn1 = nn.BatchNorm2d(16)\n",
        "        self.bn2 = nn.BatchNorm2d(32)\n",
        "        self.bn3 = nn.BatchNorm2d(64)\n",
        "        \n",
        "        self.linear = nn.Sequential(\n",
        "            nn.Linear(64, 32),\n",
        "            nn.ReLU(),\n",
        "            nn.Linear(32, 10),\n",
        "            nn.ReLU()\n",
        "        )\n",
        "\n",
        "    def forward(self, x):\n",
        "        # conv block\n",
        "        x = self.conv1(x)\n",
        "        x = self.bn1(x)\n",
        "        x = self.pool(F.relu(x))\n",
        "        x = self.conv2(x)\n",
        "        x = self.bn2(x)\n",
        "        x = self.pool(F.relu(x))\n",
        "        x = self.conv3(x)\n",
        "        x = self.bn3(x)\n",
        "        x = self.gap(F.relu(x))\n",
        "        x = x.squeeze()\n",
        "        # mlp block\n",
        "        x = self.linear(x)\n",
        "        return x\n",
        "    "
      ],
      "id": "hdGTEZHgk-8h",
      "execution_count": null,
      "outputs": []
    },
    {
      "cell_type": "code",
      "metadata": {
        "id": "CO6uXGa11Bsa"
      },
      "source": [
        "class Net2(nn.Module):\n",
        "    \n",
        "    def __init__(self):\n",
        "        super(Net2, self).__init__()\n",
        "        self.conv1 = nn.Conv2d(in_channels=3, out_channels=16, kernel_size=(3,3), padding=1)\n",
        "        self.conv11 = nn.Conv2d(in_channels=16, out_channels=16, kernel_size=(5,5), padding=2)\n",
        "        self.conv2 = nn.Conv2d(in_channels=16, out_channels=32, kernel_size=(3,3), padding=1)\n",
        "        self.conv22 = nn.Conv2d(in_channels=32, out_channels=32, kernel_size=(5,5), padding=2)\n",
        "        self.conv3 = nn.Conv2d(in_channels=32, out_channels=64, kernel_size=(3,3), padding=1)\n",
        "        self.conv33 = nn.Conv2d(in_channels=64, out_channels=64, kernel_size=(5,5), padding=2)\n",
        "        self.pool = nn.MaxPool2d(kernel_size=(2,2))\n",
        "        self.gap = nn.MaxPool2d(kernel_size=(8,8))\n",
        "        \n",
        "        self.linear = nn.Sequential(\n",
        "            nn.Linear(64, 32),\n",
        "            nn.ReLU(),\n",
        "            nn.Linear(32, 10),\n",
        "            nn.ReLU()\n",
        "        )\n",
        "\n",
        "    def forward(self, x):\n",
        "        # conv block\n",
        "        x = self.conv1(x)\n",
        "        # x = self.conv11(F.relu(x))\n",
        "        x = self.pool(F.relu(x))\n",
        "        x = self.conv2(x)\n",
        "        # x = self.conv22(F.relu(x))\n",
        "        x = self.pool(F.relu(x))\n",
        "        x = self.conv3(x)\n",
        "        # x = self.conv33(F.relu(x))\n",
        "        x = self.gap(F.relu(x))\n",
        "        x = x.squeeze()\n",
        "        # mlp block\n",
        "        x = self.linear(x)\n",
        "        return x\n",
        "    "
      ],
      "id": "CO6uXGa11Bsa",
      "execution_count": null,
      "outputs": []
    },
    {
      "cell_type": "code",
      "metadata": {
        "id": "nYl8DY--k-8i"
      },
      "source": [
        "class Net3(nn.Module):\n",
        "    \n",
        "    def __init__(self):\n",
        "        super(Net3, self).__init__()\n",
        "        self.conv1 = nn.Conv2d(in_channels=3, out_channels=16, kernel_size=(3,3), padding=1)\n",
        "        self.conv2 = nn.Conv2d(in_channels=16, out_channels=32, kernel_size=(3,3), padding=1)\n",
        "        self.conv3 = nn.Conv2d(in_channels=32, out_channels=64, kernel_size=(3,3), padding=1)\n",
        "        self.conv4 = nn.Conv2d(in_channels=64, out_channels=128, kernel_size=(3,3), padding=1)\n",
        "        self.pool = nn.MaxPool2d(kernel_size=(2,2))\n",
        "        self.gap = nn.MaxPool2d(kernel_size=(16, 16))\n",
        "        self.bn1 = nn.BatchNorm2d(16)\n",
        "        self.bn2 = nn.BatchNorm2d(32)\n",
        "        self.bn3 = nn.BatchNorm2d(64)\n",
        "        self.bn4 = nn.BatchNorm2d(128)\n",
        "        \n",
        "        self.linear = nn.Sequential(\n",
        "            nn.Linear(128, 64),\n",
        "            nn.ReLU(),\n",
        "            nn.Dropout(),\n",
        "            nn.Linear(64, 32),\n",
        "            nn.ReLU(),\n",
        "            nn.Dropout(),\n",
        "            nn.Linear(32, 10),\n",
        "            nn.ReLU()\n",
        "        )\n",
        "    \n",
        "    def forward(self, x):\n",
        "        # conv block\n",
        "        x = self.conv1(x)\n",
        "        # x = self.bn1(x)\n",
        "        x = F.relu(x)\n",
        "        x = self.conv2(x)\n",
        "        # x = self.bn2(x)\n",
        "        x = F.relu(x)\n",
        "        x = self.conv3(x)\n",
        "        # x = self.bn3(x)\n",
        "        x = F.relu(x)\n",
        "        x = self.pool(x)\n",
        "        x = self.conv4(x)\n",
        "        # x = self.bn4(x)\n",
        "        x = F.relu(x)\n",
        "        x = self.gap(x)\n",
        "\n",
        "        x = x.squeeze()\n",
        "        # mlp block\n",
        "        x = self.linear(x)\n",
        "        return x\n",
        "    "
      ],
      "id": "nYl8DY--k-8i",
      "execution_count": null,
      "outputs": []
    },
    {
      "cell_type": "code",
      "metadata": {
        "colab": {
          "base_uri": "https://localhost:8080/"
        },
        "id": "OpBIEwhyhW5X",
        "outputId": "1fdb91cf-9238-45c8-c495-5161fc5a0c66"
      },
      "source": [
        "device = torch.device(\"cuda:0\" if torch.cuda.is_available() else \"cpu\")\n",
        "device"
      ],
      "id": "OpBIEwhyhW5X",
      "execution_count": null,
      "outputs": [
        {
          "output_type": "execute_result",
          "data": {
            "text/plain": [
              "device(type='cuda', index=0)"
            ]
          },
          "metadata": {
            "tags": []
          },
          "execution_count": 10
        }
      ]
    },
    {
      "cell_type": "code",
      "metadata": {
        "colab": {
          "base_uri": "https://localhost:8080/"
        },
        "id": "QAwAhXmThGXW",
        "outputId": "01bc9cf1-4de0-47a2-8e11-570dfdb856fd"
      },
      "source": [
        "loss_func = nn.CrossEntropyLoss()\n",
        "net = Net1().to(device)\n",
        "sgd = optim.SGD(net.parameters(), lr=0.01, momentum=0.9)\n",
        "scheduler = optim.lr_scheduler.StepLR(sgd, step_size=10, gamma=0.5, verbose=True)"
      ],
      "id": "QAwAhXmThGXW",
      "execution_count": null,
      "outputs": [
        {
          "output_type": "stream",
          "text": [
            "Adjusting learning rate of group 0 to 1.0000e-02.\n"
          ],
          "name": "stdout"
        }
      ]
    },
    {
      "cell_type": "code",
      "metadata": {
        "colab": {
          "base_uri": "https://localhost:8080/",
          "height": 1000,
          "referenced_widgets": [
            "ede79a58e5984975aea098d11f868f41",
            "24970d86bae8426ab7a1d6e504dadb43",
            "85b071b5f2444838901fc13a680ec4f6",
            "e8c9dda004754b74aa255ae11c95a16e",
            "5d446550f6a94f6f95b622ce0e1de450",
            "d041e1f6352642998845b7f3c35b0483",
            "68a2d1f548194d8cbc86091fca3fb61b",
            "31ac0452d02441f49dc877711a7a16ce"
          ]
        },
        "id": "sKytFDxQhGPO",
        "outputId": "b9d09067-069e-4e90-8431-525d9b1b6104"
      },
      "source": [
        "train_acc, test_acc, train_loss, test_loss = train(net, trainloader, sgd, loss_func, 100)"
      ],
      "id": "sKytFDxQhGPO",
      "execution_count": null,
      "outputs": [
        {
          "output_type": "display_data",
          "data": {
            "application/vnd.jupyter.widget-view+json": {
              "model_id": "ede79a58e5984975aea098d11f868f41",
              "version_major": 2,
              "version_minor": 0
            },
            "text/plain": [
              "HBox(children=(FloatProgress(value=0.0), HTML(value='')))"
            ]
          },
          "metadata": {
            "tags": []
          }
        },
        {
          "output_type": "stream",
          "text": [
            "Epoch 0: train loss: 2717.9914, train acc: 0.360, test acc: 0.4309\n",
            "Epoch 1: train loss: 2280.1881, train acc: 0.465, test acc: 0.4958\n",
            "Epoch 2: train loss: 2123.0170, train acc: 0.509, test acc: 0.5209\n",
            "Epoch 3: train loss: 2013.1244, train acc: 0.534, test acc: 0.5192\n",
            "Epoch 4: train loss: 1939.3367, train acc: 0.559, test acc: 0.5694\n",
            "Epoch 5: train loss: 1884.1740, train acc: 0.568, test acc: 0.5764\n",
            "Epoch 6: train loss: 1839.9180, train acc: 0.582, test acc: 0.5866\n",
            "Epoch 7: train loss: 1794.5973, train acc: 0.590, test acc: 0.5894\n",
            "Epoch 8: train loss: 1780.8748, train acc: 0.597, test acc: 0.6031\n",
            "Epoch 9: train loss: 1748.8157, train acc: 0.602, test acc: 0.5876\n",
            "Epoch 10: train loss: 1737.5068, train acc: 0.605, test acc: 0.5996\n",
            "Epoch 11: train loss: 1707.7480, train acc: 0.612, test acc: 0.6115\n",
            "Epoch 12: train loss: 1693.2839, train acc: 0.617, test acc: 0.6091\n",
            "Epoch 13: train loss: 1667.6216, train acc: 0.621, test acc: 0.6176\n",
            "Epoch 14: train loss: 1649.5370, train acc: 0.629, test acc: 0.5973\n",
            "Epoch 15: train loss: 1645.8297, train acc: 0.629, test acc: 0.6174\n",
            "Epoch 16: train loss: 1627.1738, train acc: 0.634, test acc: 0.6227\n",
            "Epoch 17: train loss: 1620.1053, train acc: 0.636, test acc: 0.6375\n",
            "Epoch 18: train loss: 1611.7667, train acc: 0.636, test acc: 0.6273\n",
            "Epoch 19: train loss: 1598.9202, train acc: 0.641, test acc: 0.6326\n",
            "Epoch 20: train loss: 1589.2277, train acc: 0.644, test acc: 0.6301\n",
            "Epoch 21: train loss: 1584.6740, train acc: 0.644, test acc: 0.6295\n",
            "Epoch 22: train loss: 1571.0405, train acc: 0.648, test acc: 0.6449\n",
            "Epoch 23: train loss: 1553.5596, train acc: 0.651, test acc: 0.6361\n",
            "Epoch 24: train loss: 1556.7756, train acc: 0.649, test acc: 0.6367\n",
            "Epoch 25: train loss: 1549.8259, train acc: 0.654, test acc: 0.6512\n",
            "Epoch 26: train loss: 1535.8812, train acc: 0.658, test acc: 0.6164\n",
            "Epoch 27: train loss: 1542.1439, train acc: 0.653, test acc: 0.637\n",
            "Epoch 28: train loss: 1526.8166, train acc: 0.658, test acc: 0.6376\n",
            "Epoch 29: train loss: 1524.9006, train acc: 0.659, test acc: 0.6448\n",
            "Epoch 30: train loss: 1515.2583, train acc: 0.660, test acc: 0.6502\n",
            "Epoch 31: train loss: 1511.3668, train acc: 0.662, test acc: 0.6426\n",
            "Epoch 32: train loss: 1511.0386, train acc: 0.662, test acc: 0.6382\n",
            "Epoch 33: train loss: 1496.4722, train acc: 0.666, test acc: 0.6563\n",
            "Epoch 34: train loss: 1489.1550, train acc: 0.665, test acc: 0.6568\n",
            "Epoch 35: train loss: 1490.0176, train acc: 0.666, test acc: 0.659\n",
            "Epoch 36: train loss: 1486.9347, train acc: 0.668, test acc: 0.6538\n",
            "Epoch 37: train loss: 1481.6620, train acc: 0.667, test acc: 0.6463\n",
            "Epoch 38: train loss: 1471.3395, train acc: 0.671, test acc: 0.6616\n",
            "Epoch 39: train loss: 1469.2939, train acc: 0.670, test acc: 0.6548\n",
            "Epoch 40: train loss: 1466.3804, train acc: 0.673, test acc: 0.6528\n",
            "Epoch 41: train loss: 1466.2211, train acc: 0.672, test acc: 0.6424\n",
            "Epoch 42: train loss: 1461.2293, train acc: 0.675, test acc: 0.6729\n",
            "Epoch 43: train loss: 1454.7949, train acc: 0.676, test acc: 0.668\n",
            "Epoch 44: train loss: 1447.1924, train acc: 0.675, test acc: 0.648\n",
            "Epoch 45: train loss: 1444.6286, train acc: 0.678, test acc: 0.649\n",
            "Epoch 46: train loss: 1449.6973, train acc: 0.677, test acc: 0.6662\n",
            "Epoch 47: train loss: 1447.7373, train acc: 0.676, test acc: 0.6558\n",
            "Epoch 48: train loss: 1440.9913, train acc: 0.679, test acc: 0.6604\n",
            "Epoch 49: train loss: 1432.8122, train acc: 0.678, test acc: 0.6632\n",
            "Epoch 50: train loss: 1436.9000, train acc: 0.680, test acc: 0.6672\n",
            "Epoch 51: train loss: 1424.9443, train acc: 0.680, test acc: 0.6591\n",
            "Epoch 52: train loss: 1421.8871, train acc: 0.681, test acc: 0.6626\n",
            "Epoch 53: train loss: 1439.4150, train acc: 0.678, test acc: 0.6581\n",
            "Epoch 54: train loss: 1431.4148, train acc: 0.680, test acc: 0.6615\n",
            "Epoch 55: train loss: 1412.8640, train acc: 0.683, test acc: 0.6609\n",
            "Epoch 56: train loss: 1413.8705, train acc: 0.683, test acc: 0.66\n",
            "Epoch 57: train loss: 1415.9910, train acc: 0.683, test acc: 0.6561\n",
            "Epoch 58: train loss: 1416.7555, train acc: 0.683, test acc: 0.6734\n",
            "Epoch 59: train loss: 1411.1523, train acc: 0.686, test acc: 0.6619\n",
            "Epoch 60: train loss: 1395.8748, train acc: 0.689, test acc: 0.66\n",
            "Epoch 61: train loss: 1407.2755, train acc: 0.685, test acc: 0.6687\n",
            "Epoch 62: train loss: 1407.5360, train acc: 0.687, test acc: 0.6703\n",
            "Epoch 63: train loss: 1404.0374, train acc: 0.686, test acc: 0.6608\n",
            "Epoch 64: train loss: 1389.7288, train acc: 0.689, test acc: 0.6725\n",
            "Epoch 65: train loss: 1392.2088, train acc: 0.691, test acc: 0.672\n",
            "Epoch 66: train loss: 1399.7305, train acc: 0.689, test acc: 0.6749\n",
            "Epoch 67: train loss: 1392.7949, train acc: 0.686, test acc: 0.672\n",
            "Epoch 68: train loss: 1397.3053, train acc: 0.689, test acc: 0.6633\n",
            "Epoch 69: train loss: 1397.1549, train acc: 0.686, test acc: 0.6624\n",
            "Epoch 70: train loss: 1385.3698, train acc: 0.690, test acc: 0.6649\n",
            "Epoch 71: train loss: 1375.4953, train acc: 0.695, test acc: 0.6666\n",
            "Epoch 72: train loss: 1379.4123, train acc: 0.689, test acc: 0.6686\n",
            "Epoch 73: train loss: 1381.3718, train acc: 0.693, test acc: 0.6742\n",
            "Epoch 74: train loss: 1379.7155, train acc: 0.692, test acc: 0.6695\n",
            "Epoch 75: train loss: 1373.5793, train acc: 0.691, test acc: 0.6567\n",
            "Epoch 76: train loss: 1383.0770, train acc: 0.690, test acc: 0.6773\n",
            "Epoch 77: train loss: 1373.3631, train acc: 0.691, test acc: 0.6648\n",
            "Epoch 78: train loss: 1373.5548, train acc: 0.691, test acc: 0.6743\n",
            "Epoch 79: train loss: 1368.8442, train acc: 0.694, test acc: 0.6616\n",
            "Epoch 80: train loss: 1371.8543, train acc: 0.695, test acc: 0.6714\n",
            "Epoch 81: train loss: 1368.3043, train acc: 0.695, test acc: 0.6858\n",
            "Epoch 82: train loss: 1359.0335, train acc: 0.697, test acc: 0.6807\n",
            "Epoch 83: train loss: 1371.5307, train acc: 0.694, test acc: 0.6712\n",
            "Epoch 84: train loss: 1356.1998, train acc: 0.698, test acc: 0.6697\n",
            "Epoch 85: train loss: 1357.9855, train acc: 0.696, test acc: 0.6735\n",
            "Epoch 86: train loss: 1367.8746, train acc: 0.695, test acc: 0.6741\n",
            "Epoch 87: train loss: 1365.1694, train acc: 0.695, test acc: 0.6773\n",
            "Epoch 88: train loss: 1356.7559, train acc: 0.696, test acc: 0.6727\n",
            "Epoch 89: train loss: 1367.1160, train acc: 0.695, test acc: 0.6743\n",
            "Epoch 90: train loss: 1352.5437, train acc: 0.698, test acc: 0.6712\n",
            "Epoch 91: train loss: 1352.2951, train acc: 0.698, test acc: 0.6809\n",
            "Epoch 92: train loss: 1354.5576, train acc: 0.697, test acc: 0.6763\n",
            "Epoch 93: train loss: 1345.1495, train acc: 0.700, test acc: 0.6715\n",
            "Epoch 94: train loss: 1340.1195, train acc: 0.700, test acc: 0.6709\n",
            "Epoch 95: train loss: 1347.4127, train acc: 0.699, test acc: 0.6809\n",
            "Epoch 96: train loss: 1347.8852, train acc: 0.698, test acc: 0.6657\n",
            "Epoch 97: train loss: 1350.4157, train acc: 0.698, test acc: 0.6796\n",
            "Epoch 98: train loss: 1342.1229, train acc: 0.701, test acc: 0.6742\n",
            "Epoch 99: train loss: 1346.3740, train acc: 0.699, test acc: 0.688\n",
            "\n"
          ],
          "name": "stdout"
        }
      ]
    },
    {
      "cell_type": "code",
      "metadata": {
        "colab": {
          "background_save": true,
          "base_uri": "https://localhost:8080/",
          "height": 1000,
          "referenced_widgets": [
            "f0c21938509a43199d376f8d78ff2f97",
            "87536e75b1ee4c4b803f3853e1040a6a",
            "4693218eeb524b0f9526f2dadbec0427",
            "9b7227c90c1145038a4a99d065b5b125",
            "30e507b9b5e843f2afa5a9bd9c0fa518",
            "737451b2b34b47ee8071622152f9570a",
            "884bdb39163a4beda99d339ba57abfdc",
            "86d07a4d16914a72971cf8bfa8c717de"
          ]
        },
        "id": "1LjDXBkBQxqD",
        "outputId": "32241926-2b55-4fd5-dc65-7855ee26a490"
      },
      "source": [
        "train_acc2, test_acc2, train_loss2, test_loss2 = train(net, trainloader, sgd, loss_func, 100)"
      ],
      "id": "1LjDXBkBQxqD",
      "execution_count": null,
      "outputs": [
        {
          "output_type": "display_data",
          "data": {
            "application/vnd.jupyter.widget-view+json": {
              "model_id": "f0c21938509a43199d376f8d78ff2f97",
              "version_major": 2,
              "version_minor": 0
            },
            "text/plain": [
              "HBox(children=(FloatProgress(value=0.0), HTML(value='')))"
            ]
          },
          "metadata": {
            "tags": []
          }
        },
        {
          "output_type": "stream",
          "text": [
            "Epoch 0: train loss: 1346.4138, train acc: 0.698, test acc: 0.6854\n",
            "Epoch 1: train loss: 1342.4395, train acc: 0.700, test acc: 0.6788\n",
            "Epoch 2: train loss: 1344.0599, train acc: 0.699, test acc: 0.6847\n",
            "Epoch 3: train loss: 1336.2617, train acc: 0.702, test acc: 0.6847\n",
            "Epoch 4: train loss: 1339.2982, train acc: 0.701, test acc: 0.6756\n",
            "Epoch 5: train loss: 1343.3447, train acc: 0.698, test acc: 0.6829\n",
            "Epoch 6: train loss: 1332.3377, train acc: 0.703, test acc: 0.6842\n",
            "Epoch 7: train loss: 1329.0780, train acc: 0.703, test acc: 0.6695\n",
            "Epoch 8: train loss: 1325.9321, train acc: 0.703, test acc: 0.6761\n",
            "Epoch 9: train loss: 1339.4044, train acc: 0.702, test acc: 0.6795\n",
            "Epoch 10: train loss: 1332.9268, train acc: 0.703, test acc: 0.6755\n",
            "Epoch 11: train loss: 1333.7839, train acc: 0.702, test acc: 0.6786\n",
            "Epoch 12: train loss: 1332.4796, train acc: 0.703, test acc: 0.6918\n",
            "Epoch 13: train loss: 1322.2180, train acc: 0.707, test acc: 0.6627\n",
            "Epoch 14: train loss: 1329.0734, train acc: 0.705, test acc: 0.6861\n",
            "Epoch 15: train loss: 1325.8419, train acc: 0.704, test acc: 0.6795\n",
            "Epoch 16: train loss: 1326.4606, train acc: 0.704, test acc: 0.6724\n",
            "Epoch 17: train loss: 1334.3381, train acc: 0.703, test acc: 0.6742\n",
            "Epoch 18: train loss: 1319.4211, train acc: 0.704, test acc: 0.6796\n",
            "Epoch 19: train loss: 1326.7390, train acc: 0.705, test acc: 0.6931\n",
            "Epoch 20: train loss: 1319.6050, train acc: 0.705, test acc: 0.6898\n",
            "Epoch 21: train loss: 1317.2275, train acc: 0.706, test acc: 0.6761\n",
            "Epoch 22: train loss: 1325.4975, train acc: 0.703, test acc: 0.685\n",
            "Epoch 23: train loss: 1322.3285, train acc: 0.703, test acc: 0.6777\n",
            "Epoch 24: train loss: 1324.5031, train acc: 0.705, test acc: 0.6848\n",
            "Epoch 25: train loss: 1311.4132, train acc: 0.706, test acc: 0.6723\n",
            "Epoch 26: train loss: 1321.1194, train acc: 0.708, test acc: 0.6845\n",
            "Epoch 27: train loss: 1320.1040, train acc: 0.706, test acc: 0.6839\n",
            "Epoch 28: train loss: 1310.5392, train acc: 0.709, test acc: 0.6795\n",
            "Epoch 29: train loss: 1309.3198, train acc: 0.709, test acc: 0.6854\n",
            "Epoch 30: train loss: 1307.9406, train acc: 0.709, test acc: 0.6875\n",
            "Epoch 31: train loss: 1305.8255, train acc: 0.710, test acc: 0.6874\n",
            "Epoch 32: train loss: 1315.2543, train acc: 0.705, test acc: 0.6868\n",
            "Epoch 33: train loss: 1309.7103, train acc: 0.707, test acc: 0.6933\n",
            "Epoch 34: train loss: 1322.1933, train acc: 0.705, test acc: 0.6815\n",
            "Epoch 35: train loss: 1303.3735, train acc: 0.707, test acc: 0.6899\n",
            "Epoch 36: train loss: 1312.3775, train acc: 0.707, test acc: 0.693\n",
            "Epoch 37: train loss: 1301.7599, train acc: 0.710, test acc: 0.6852\n",
            "Epoch 38: train loss: 1310.8087, train acc: 0.707, test acc: 0.6809\n",
            "Epoch 39: train loss: 1309.0178, train acc: 0.706, test acc: 0.6826\n",
            "Epoch 40: train loss: 1302.1156, train acc: 0.710, test acc: 0.6892\n",
            "Epoch 41: train loss: 1299.6389, train acc: 0.710, test acc: 0.691\n",
            "Epoch 42: train loss: 1301.4817, train acc: 0.711, test acc: 0.6859\n",
            "Epoch 43: train loss: 1300.2832, train acc: 0.709, test acc: 0.6855\n",
            "Epoch 44: train loss: 1299.3172, train acc: 0.709, test acc: 0.6816\n",
            "Epoch 45: train loss: 1297.5738, train acc: 0.712, test acc: 0.6786\n",
            "Epoch 46: train loss: 1298.3620, train acc: 0.710, test acc: 0.6922\n",
            "Epoch 47: train loss: 1302.9185, train acc: 0.707, test acc: 0.6958\n",
            "Epoch 48: train loss: 1294.9259, train acc: 0.712, test acc: 0.686\n",
            "Epoch 49: train loss: 1304.8541, train acc: 0.709, test acc: 0.6884\n",
            "Epoch 50: train loss: 1297.5848, train acc: 0.710, test acc: 0.6873\n",
            "Epoch 51: train loss: 1301.7708, train acc: 0.708, test acc: 0.6992\n",
            "Epoch 52: train loss: 1293.4615, train acc: 0.713, test acc: 0.6968\n",
            "Epoch 53: train loss: 1304.0919, train acc: 0.707, test acc: 0.6849\n",
            "Epoch 54: train loss: 1288.3163, train acc: 0.713, test acc: 0.6831\n",
            "Epoch 55: train loss: 1292.7727, train acc: 0.713, test acc: 0.6922\n",
            "Epoch 56: train loss: 1295.0909, train acc: 0.710, test acc: 0.6822\n",
            "Epoch 57: train loss: 1295.1470, train acc: 0.711, test acc: 0.688\n",
            "Epoch 58: train loss: 1296.1333, train acc: 0.711, test acc: 0.6878\n",
            "Epoch 59: train loss: 1301.1648, train acc: 0.708, test acc: 0.6869\n",
            "Epoch 60: train loss: 1298.0261, train acc: 0.711, test acc: 0.6813\n",
            "Epoch 61: train loss: 1284.4342, train acc: 0.712, test acc: 0.6907\n",
            "Epoch 62: train loss: 1295.7841, train acc: 0.711, test acc: 0.6919\n",
            "Epoch 63: train loss: 1288.2691, train acc: 0.714, test acc: 0.6867\n",
            "Epoch 64: train loss: 1290.3305, train acc: 0.713, test acc: 0.695\n",
            "Epoch 65: train loss: 1291.2049, train acc: 0.712, test acc: 0.6868\n",
            "Epoch 66: train loss: 1286.7076, train acc: 0.711, test acc: 0.6897\n",
            "Epoch 67: train loss: 1280.8620, train acc: 0.712, test acc: 0.6956\n",
            "Epoch 68: train loss: 1281.8547, train acc: 0.713, test acc: 0.6847\n",
            "Epoch 69: train loss: 1300.8640, train acc: 0.709, test acc: 0.6881\n",
            "Epoch 70: train loss: 1278.7053, train acc: 0.716, test acc: 0.6813\n",
            "Epoch 71: train loss: 1289.3529, train acc: 0.713, test acc: 0.6905\n",
            "Epoch 72: train loss: 1290.5758, train acc: 0.713, test acc: 0.686\n",
            "Epoch 73: train loss: 1283.9115, train acc: 0.716, test acc: 0.6782\n",
            "Epoch 74: train loss: 1275.7411, train acc: 0.719, test acc: 0.693\n",
            "Epoch 75: train loss: 1277.5791, train acc: 0.716, test acc: 0.6899\n",
            "Epoch 76: train loss: 1278.5932, train acc: 0.715, test acc: 0.6968\n",
            "Epoch 77: train loss: 1288.6403, train acc: 0.712, test acc: 0.683\n",
            "Epoch 78: train loss: 1276.6883, train acc: 0.714, test acc: 0.6825\n",
            "Epoch 79: train loss: 1275.6256, train acc: 0.714, test acc: 0.6902\n",
            "Epoch 80: train loss: 1280.2242, train acc: 0.714, test acc: 0.6961\n",
            "Epoch 81: train loss: 1273.6300, train acc: 0.714, test acc: 0.6829\n",
            "Epoch 82: train loss: 1272.9163, train acc: 0.717, test acc: 0.6844\n",
            "Epoch 83: train loss: 1278.1127, train acc: 0.716, test acc: 0.6861\n",
            "Epoch 84: train loss: 1264.3249, train acc: 0.717, test acc: 0.6854\n",
            "Epoch 85: train loss: 1275.5504, train acc: 0.714, test acc: 0.6902\n",
            "Epoch 86: train loss: 1273.3077, train acc: 0.715, test acc: 0.6891\n",
            "Epoch 87: train loss: 1274.1164, train acc: 0.717, test acc: 0.686\n",
            "Epoch 88: train loss: 1273.4422, train acc: 0.716, test acc: 0.6822\n",
            "Epoch 89: train loss: 1283.5032, train acc: 0.713, test acc: 0.6958\n",
            "Epoch 90: train loss: 1269.2324, train acc: 0.716, test acc: 0.6903\n",
            "Epoch 91: train loss: 1272.9701, train acc: 0.714, test acc: 0.6876\n",
            "Epoch 92: train loss: 1270.5092, train acc: 0.716, test acc: 0.6941\n",
            "Epoch 93: train loss: 1267.8014, train acc: 0.717, test acc: 0.6799\n",
            "Epoch 94: train loss: 1265.0231, train acc: 0.717, test acc: 0.6891\n",
            "Epoch 95: train loss: 1266.2283, train acc: 0.718, test acc: 0.6925\n",
            "Epoch 96: train loss: 1278.3467, train acc: 0.716, test acc: 0.6897\n",
            "Epoch 97: train loss: 1270.5112, train acc: 0.715, test acc: 0.6881\n",
            "Epoch 98: train loss: 1269.3977, train acc: 0.717, test acc: 0.6829\n",
            "Epoch 99: train loss: 1273.8474, train acc: 0.715, test acc: 0.6892\n",
            "\n"
          ],
          "name": "stdout"
        }
      ]
    },
    {
      "cell_type": "code",
      "metadata": {
        "colab": {
          "base_uri": "https://localhost:8080/",
          "height": 542
        },
        "id": "40jmrb8BQlA7",
        "outputId": "af79f22f-dc0a-475d-bb83-37c3729f6ccf"
      },
      "source": [
        "px.line(y=test_acc)"
      ],
      "id": "40jmrb8BQlA7",
      "execution_count": null,
      "outputs": [
        {
          "output_type": "display_data",
          "data": {
            "text/html": [
              "<html>\n",
              "<head><meta charset=\"utf-8\" /></head>\n",
              "<body>\n",
              "    <div>\n",
              "            <script src=\"https://cdnjs.cloudflare.com/ajax/libs/mathjax/2.7.5/MathJax.js?config=TeX-AMS-MML_SVG\"></script><script type=\"text/javascript\">if (window.MathJax) {MathJax.Hub.Config({SVG: {font: \"STIX-Web\"}});}</script>\n",
              "                <script type=\"text/javascript\">window.PlotlyConfig = {MathJaxConfig: 'local'};</script>\n",
              "        <script src=\"https://cdn.plot.ly/plotly-latest.min.js\"></script>    \n",
              "            <div id=\"6c9ffc3a-010c-4fbe-bd6b-5e8a01c66d05\" class=\"plotly-graph-div\" style=\"height:525px; width:100%;\"></div>\n",
              "            <script type=\"text/javascript\">\n",
              "                \n",
              "                    window.PLOTLYENV=window.PLOTLYENV || {};\n",
              "                    \n",
              "                if (document.getElementById(\"6c9ffc3a-010c-4fbe-bd6b-5e8a01c66d05\")) {\n",
              "                    Plotly.newPlot(\n",
              "                        '6c9ffc3a-010c-4fbe-bd6b-5e8a01c66d05',\n",
              "                        [{\"hoverlabel\": {\"namelength\": 0}, \"hovertemplate\": \"y=%{y}\", \"legendgroup\": \"\", \"line\": {\"color\": \"#636efa\", \"dash\": \"solid\"}, \"mode\": \"lines\", \"name\": \"\", \"showlegend\": false, \"type\": \"scatter\", \"xaxis\": \"x\", \"y\": [0.4309, 0.4958, 0.5209, 0.5192, 0.5694, 0.5764, 0.5866, 0.5894, 0.6031, 0.5876, 0.5996, 0.6115, 0.6091, 0.6176, 0.5973, 0.6174, 0.6227, 0.6375, 0.6273, 0.6326, 0.6301, 0.6295, 0.6449, 0.6361, 0.6367, 0.6512, 0.6164, 0.637, 0.6376, 0.6448, 0.6502, 0.6426, 0.6382, 0.6563, 0.6568, 0.659, 0.6538, 0.6463, 0.6616, 0.6548, 0.6528, 0.6424, 0.6729, 0.668, 0.648, 0.649, 0.6662, 0.6558, 0.6604, 0.6632, 0.6672, 0.6591, 0.6626, 0.6581, 0.6615, 0.6609, 0.66, 0.6561, 0.6734, 0.6619, 0.66, 0.6687, 0.6703, 0.6608, 0.6725, 0.672, 0.6749, 0.672, 0.6633, 0.6624, 0.6649, 0.6666, 0.6686, 0.6742, 0.6695, 0.6567, 0.6773, 0.6648, 0.6743, 0.6616, 0.6714, 0.6858, 0.6807, 0.6712, 0.6697, 0.6735, 0.6741, 0.6773, 0.6727, 0.6743, 0.6712, 0.6809, 0.6763, 0.6715, 0.6709, 0.6809, 0.6657, 0.6796, 0.6742, 0.688], \"yaxis\": \"y\"}],\n",
              "                        {\"legend\": {\"tracegroupgap\": 0}, \"margin\": {\"t\": 60}, \"template\": {\"data\": {\"bar\": [{\"error_x\": {\"color\": \"#2a3f5f\"}, \"error_y\": {\"color\": \"#2a3f5f\"}, \"marker\": {\"line\": {\"color\": \"#E5ECF6\", \"width\": 0.5}}, \"type\": \"bar\"}], \"barpolar\": [{\"marker\": {\"line\": {\"color\": \"#E5ECF6\", \"width\": 0.5}}, \"type\": \"barpolar\"}], \"carpet\": [{\"aaxis\": {\"endlinecolor\": \"#2a3f5f\", \"gridcolor\": \"white\", \"linecolor\": \"white\", \"minorgridcolor\": \"white\", \"startlinecolor\": \"#2a3f5f\"}, \"baxis\": {\"endlinecolor\": \"#2a3f5f\", \"gridcolor\": \"white\", \"linecolor\": \"white\", \"minorgridcolor\": \"white\", \"startlinecolor\": \"#2a3f5f\"}, \"type\": \"carpet\"}], \"choropleth\": [{\"colorbar\": {\"outlinewidth\": 0, \"ticks\": \"\"}, \"type\": \"choropleth\"}], \"contour\": [{\"colorbar\": {\"outlinewidth\": 0, \"ticks\": \"\"}, \"colorscale\": [[0.0, \"#0d0887\"], [0.1111111111111111, \"#46039f\"], [0.2222222222222222, \"#7201a8\"], [0.3333333333333333, \"#9c179e\"], [0.4444444444444444, \"#bd3786\"], [0.5555555555555556, \"#d8576b\"], [0.6666666666666666, \"#ed7953\"], [0.7777777777777778, \"#fb9f3a\"], [0.8888888888888888, \"#fdca26\"], [1.0, \"#f0f921\"]], \"type\": \"contour\"}], \"contourcarpet\": [{\"colorbar\": {\"outlinewidth\": 0, \"ticks\": \"\"}, \"type\": \"contourcarpet\"}], \"heatmap\": [{\"colorbar\": {\"outlinewidth\": 0, \"ticks\": \"\"}, \"colorscale\": [[0.0, \"#0d0887\"], [0.1111111111111111, \"#46039f\"], [0.2222222222222222, \"#7201a8\"], [0.3333333333333333, \"#9c179e\"], [0.4444444444444444, \"#bd3786\"], [0.5555555555555556, \"#d8576b\"], [0.6666666666666666, \"#ed7953\"], [0.7777777777777778, \"#fb9f3a\"], [0.8888888888888888, \"#fdca26\"], [1.0, \"#f0f921\"]], \"type\": \"heatmap\"}], \"heatmapgl\": [{\"colorbar\": {\"outlinewidth\": 0, \"ticks\": \"\"}, \"colorscale\": [[0.0, \"#0d0887\"], [0.1111111111111111, \"#46039f\"], [0.2222222222222222, \"#7201a8\"], [0.3333333333333333, \"#9c179e\"], [0.4444444444444444, \"#bd3786\"], [0.5555555555555556, \"#d8576b\"], [0.6666666666666666, \"#ed7953\"], [0.7777777777777778, \"#fb9f3a\"], [0.8888888888888888, \"#fdca26\"], [1.0, \"#f0f921\"]], \"type\": \"heatmapgl\"}], \"histogram\": [{\"marker\": {\"colorbar\": {\"outlinewidth\": 0, \"ticks\": \"\"}}, \"type\": \"histogram\"}], \"histogram2d\": [{\"colorbar\": {\"outlinewidth\": 0, \"ticks\": \"\"}, \"colorscale\": [[0.0, \"#0d0887\"], [0.1111111111111111, \"#46039f\"], [0.2222222222222222, \"#7201a8\"], [0.3333333333333333, \"#9c179e\"], [0.4444444444444444, \"#bd3786\"], [0.5555555555555556, \"#d8576b\"], [0.6666666666666666, \"#ed7953\"], [0.7777777777777778, \"#fb9f3a\"], [0.8888888888888888, \"#fdca26\"], [1.0, \"#f0f921\"]], \"type\": \"histogram2d\"}], \"histogram2dcontour\": [{\"colorbar\": {\"outlinewidth\": 0, \"ticks\": \"\"}, \"colorscale\": [[0.0, \"#0d0887\"], [0.1111111111111111, \"#46039f\"], [0.2222222222222222, \"#7201a8\"], [0.3333333333333333, \"#9c179e\"], [0.4444444444444444, \"#bd3786\"], [0.5555555555555556, \"#d8576b\"], [0.6666666666666666, \"#ed7953\"], [0.7777777777777778, \"#fb9f3a\"], [0.8888888888888888, \"#fdca26\"], [1.0, \"#f0f921\"]], \"type\": \"histogram2dcontour\"}], \"mesh3d\": [{\"colorbar\": {\"outlinewidth\": 0, \"ticks\": \"\"}, \"type\": \"mesh3d\"}], \"parcoords\": [{\"line\": {\"colorbar\": {\"outlinewidth\": 0, \"ticks\": \"\"}}, \"type\": \"parcoords\"}], \"pie\": [{\"automargin\": true, \"type\": \"pie\"}], \"scatter\": [{\"marker\": {\"colorbar\": {\"outlinewidth\": 0, \"ticks\": \"\"}}, \"type\": \"scatter\"}], \"scatter3d\": [{\"line\": {\"colorbar\": {\"outlinewidth\": 0, \"ticks\": \"\"}}, \"marker\": {\"colorbar\": {\"outlinewidth\": 0, \"ticks\": \"\"}}, \"type\": \"scatter3d\"}], \"scattercarpet\": [{\"marker\": {\"colorbar\": {\"outlinewidth\": 0, \"ticks\": \"\"}}, \"type\": \"scattercarpet\"}], \"scattergeo\": [{\"marker\": {\"colorbar\": {\"outlinewidth\": 0, \"ticks\": \"\"}}, \"type\": \"scattergeo\"}], \"scattergl\": [{\"marker\": {\"colorbar\": {\"outlinewidth\": 0, \"ticks\": \"\"}}, \"type\": \"scattergl\"}], \"scattermapbox\": [{\"marker\": {\"colorbar\": {\"outlinewidth\": 0, \"ticks\": \"\"}}, \"type\": \"scattermapbox\"}], \"scatterpolar\": [{\"marker\": {\"colorbar\": {\"outlinewidth\": 0, \"ticks\": \"\"}}, \"type\": \"scatterpolar\"}], \"scatterpolargl\": [{\"marker\": {\"colorbar\": {\"outlinewidth\": 0, \"ticks\": \"\"}}, \"type\": \"scatterpolargl\"}], \"scatterternary\": [{\"marker\": {\"colorbar\": {\"outlinewidth\": 0, \"ticks\": \"\"}}, \"type\": \"scatterternary\"}], \"surface\": [{\"colorbar\": {\"outlinewidth\": 0, \"ticks\": \"\"}, \"colorscale\": [[0.0, \"#0d0887\"], [0.1111111111111111, \"#46039f\"], [0.2222222222222222, \"#7201a8\"], [0.3333333333333333, \"#9c179e\"], [0.4444444444444444, \"#bd3786\"], [0.5555555555555556, \"#d8576b\"], [0.6666666666666666, \"#ed7953\"], [0.7777777777777778, \"#fb9f3a\"], [0.8888888888888888, \"#fdca26\"], [1.0, \"#f0f921\"]], \"type\": \"surface\"}], \"table\": [{\"cells\": {\"fill\": {\"color\": \"#EBF0F8\"}, \"line\": {\"color\": \"white\"}}, \"header\": {\"fill\": {\"color\": \"#C8D4E3\"}, \"line\": {\"color\": \"white\"}}, \"type\": \"table\"}]}, \"layout\": {\"annotationdefaults\": {\"arrowcolor\": \"#2a3f5f\", \"arrowhead\": 0, \"arrowwidth\": 1}, \"coloraxis\": {\"colorbar\": {\"outlinewidth\": 0, \"ticks\": \"\"}}, \"colorscale\": {\"diverging\": [[0, \"#8e0152\"], [0.1, \"#c51b7d\"], [0.2, \"#de77ae\"], [0.3, \"#f1b6da\"], [0.4, \"#fde0ef\"], [0.5, \"#f7f7f7\"], [0.6, \"#e6f5d0\"], [0.7, \"#b8e186\"], [0.8, \"#7fbc41\"], [0.9, \"#4d9221\"], [1, \"#276419\"]], \"sequential\": [[0.0, \"#0d0887\"], [0.1111111111111111, \"#46039f\"], [0.2222222222222222, \"#7201a8\"], [0.3333333333333333, \"#9c179e\"], [0.4444444444444444, \"#bd3786\"], [0.5555555555555556, \"#d8576b\"], [0.6666666666666666, \"#ed7953\"], [0.7777777777777778, \"#fb9f3a\"], [0.8888888888888888, \"#fdca26\"], [1.0, \"#f0f921\"]], \"sequentialminus\": [[0.0, \"#0d0887\"], [0.1111111111111111, \"#46039f\"], [0.2222222222222222, \"#7201a8\"], [0.3333333333333333, \"#9c179e\"], [0.4444444444444444, \"#bd3786\"], [0.5555555555555556, \"#d8576b\"], [0.6666666666666666, \"#ed7953\"], [0.7777777777777778, \"#fb9f3a\"], [0.8888888888888888, \"#fdca26\"], [1.0, \"#f0f921\"]]}, \"colorway\": [\"#636efa\", \"#EF553B\", \"#00cc96\", \"#ab63fa\", \"#FFA15A\", \"#19d3f3\", \"#FF6692\", \"#B6E880\", \"#FF97FF\", \"#FECB52\"], \"font\": {\"color\": \"#2a3f5f\"}, \"geo\": {\"bgcolor\": \"white\", \"lakecolor\": \"white\", \"landcolor\": \"#E5ECF6\", \"showlakes\": true, \"showland\": true, \"subunitcolor\": \"white\"}, \"hoverlabel\": {\"align\": \"left\"}, \"hovermode\": \"closest\", \"mapbox\": {\"style\": \"light\"}, \"paper_bgcolor\": \"white\", \"plot_bgcolor\": \"#E5ECF6\", \"polar\": {\"angularaxis\": {\"gridcolor\": \"white\", \"linecolor\": \"white\", \"ticks\": \"\"}, \"bgcolor\": \"#E5ECF6\", \"radialaxis\": {\"gridcolor\": \"white\", \"linecolor\": \"white\", \"ticks\": \"\"}}, \"scene\": {\"xaxis\": {\"backgroundcolor\": \"#E5ECF6\", \"gridcolor\": \"white\", \"gridwidth\": 2, \"linecolor\": \"white\", \"showbackground\": true, \"ticks\": \"\", \"zerolinecolor\": \"white\"}, \"yaxis\": {\"backgroundcolor\": \"#E5ECF6\", \"gridcolor\": \"white\", \"gridwidth\": 2, \"linecolor\": \"white\", \"showbackground\": true, \"ticks\": \"\", \"zerolinecolor\": \"white\"}, \"zaxis\": {\"backgroundcolor\": \"#E5ECF6\", \"gridcolor\": \"white\", \"gridwidth\": 2, \"linecolor\": \"white\", \"showbackground\": true, \"ticks\": \"\", \"zerolinecolor\": \"white\"}}, \"shapedefaults\": {\"line\": {\"color\": \"#2a3f5f\"}}, \"ternary\": {\"aaxis\": {\"gridcolor\": \"white\", \"linecolor\": \"white\", \"ticks\": \"\"}, \"baxis\": {\"gridcolor\": \"white\", \"linecolor\": \"white\", \"ticks\": \"\"}, \"bgcolor\": \"#E5ECF6\", \"caxis\": {\"gridcolor\": \"white\", \"linecolor\": \"white\", \"ticks\": \"\"}}, \"title\": {\"x\": 0.05}, \"xaxis\": {\"automargin\": true, \"gridcolor\": \"white\", \"linecolor\": \"white\", \"ticks\": \"\", \"title\": {\"standoff\": 15}, \"zerolinecolor\": \"white\", \"zerolinewidth\": 2}, \"yaxis\": {\"automargin\": true, \"gridcolor\": \"white\", \"linecolor\": \"white\", \"ticks\": \"\", \"title\": {\"standoff\": 15}, \"zerolinecolor\": \"white\", \"zerolinewidth\": 2}}}, \"xaxis\": {\"anchor\": \"y\", \"domain\": [0.0, 1.0]}, \"yaxis\": {\"anchor\": \"x\", \"domain\": [0.0, 1.0], \"title\": {\"text\": \"y\"}}},\n",
              "                        {\"responsive\": true}\n",
              "                    ).then(function(){\n",
              "                            \n",
              "var gd = document.getElementById('6c9ffc3a-010c-4fbe-bd6b-5e8a01c66d05');\n",
              "var x = new MutationObserver(function (mutations, observer) {{\n",
              "        var display = window.getComputedStyle(gd).display;\n",
              "        if (!display || display === 'none') {{\n",
              "            console.log([gd, 'removed!']);\n",
              "            Plotly.purge(gd);\n",
              "            observer.disconnect();\n",
              "        }}\n",
              "}});\n",
              "\n",
              "// Listen for the removal of the full notebook cells\n",
              "var notebookContainer = gd.closest('#notebook-container');\n",
              "if (notebookContainer) {{\n",
              "    x.observe(notebookContainer, {childList: true});\n",
              "}}\n",
              "\n",
              "// Listen for the clearing of the current output cell\n",
              "var outputEl = gd.closest('.output');\n",
              "if (outputEl) {{\n",
              "    x.observe(outputEl, {childList: true});\n",
              "}}\n",
              "\n",
              "                        })\n",
              "                };\n",
              "                \n",
              "            </script>\n",
              "        </div>\n",
              "</body>\n",
              "</html>"
            ]
          },
          "metadata": {
            "tags": []
          }
        }
      ]
    },
    {
      "cell_type": "code",
      "metadata": {
        "id": "5UpjWVoLaSgt"
      },
      "source": [
        "class ResBlockSimple(nn.Module):\n",
        "    def __init__(self, n_channels):\n",
        "        super().__init__()\n",
        "        self.module = module\n",
        " \n",
        "    def forward(self, inputs):\n",
        "        return self.module(inputs) + inputs\n",
        "\n",
        "class ResBlockSimpleR(nn.Module):\n",
        "    def __init__(self, n_channels):\n",
        "        super().__init__()\n",
        "        self.module = nn.Sequential(\n",
        "                    nn.Conv2d(n_channels, n_channels, kernel_size=3, padding=1),\n",
        "                    nn.ReLU(),\n",
        "                    nn.BatchNorm2d(n_channels),\n",
        "                    nn.Conv2d(n_channels, n_channels, kernel_size=3, padding=1),\n",
        "                    nn.ReLU(),\n",
        "                    nn.BatchNorm2d(n_channels),\n",
        "                )\n",
        " \n",
        "    def forward(self, inputs):\n",
        "        return self.module(inputs) + inputs\n",
        " \n",
        " \n",
        "class ResNet02(nn.Module):\n",
        "    def __init__(self, classes=10, simpnet_name='ResNet02'):\n",
        "        super(ResNet02, self).__init__()\n",
        "        \n",
        "        self.conv1 = nn.Conv2d(in_channels=3, out_channels=16, kernel_size=(3,3), padding=1)\n",
        " \n",
        "        self.residual_net = self._make_layers()\n",
        " \n",
        "        self.gap = nn.MaxPool2d(kernel_size=(32, 32))\n",
        " \n",
        "        self.linear = nn.Sequential(\n",
        "            nn.Linear(128, 64),\n",
        "            nn.ReLU(),\n",
        "            nn.Dropout(0.1),\n",
        "            nn.Linear(64, 32),\n",
        "            nn.ReLU(),\n",
        "            nn.Dropout(0.1),\n",
        "            nn.Linear(32, 10),\n",
        "            nn.ReLU()\n",
        "        )\n",
        " \n",
        "    def forward(self, x):\n",
        "        x = self.conv1(x)\n",
        "        x = self.residual_net(x)\n",
        "        x = self.gap(x)\n",
        "        x = x.squeeze()\n",
        "        # mlp block\n",
        "        x = self.linear(x)\n",
        "        return x\n",
        " \n",
        "    def _make_layers(self):\n",
        " \n",
        "        model = nn.Sequential(\n",
        "            nn.ReLU(),\n",
        "            nn.BatchNorm2d(16),\n",
        "            ResBlockSimpleR(16),\n",
        "            ResBlockSimpleR(16),\n",
        "            nn.Conv2d(16, 32, kernel_size=3, padding=1),\n",
        "            nn.ReLU(),\n",
        "            nn.BatchNorm2d(32),\n",
        "            ResBlockSimpleR(32),\n",
        "            ResBlockSimpleR(32),\n",
        "            nn.Conv2d(32, 64, kernel_size=3, padding=1),\n",
        "            nn.ReLU(),\n",
        "            nn.BatchNorm2d(64),\n",
        "            ResBlockSimpleR(64),\n",
        "            ResBlockSimpleR(64),\n",
        "            nn.Conv2d(64, 128, kernel_size=3, padding=1),\n",
        "            nn.ReLU(),\n",
        "            nn.BatchNorm2d(128),\n",
        "            ResBlockSimpleR(128),\n",
        "            ResBlockSimpleR(128)\n",
        " \n",
        "        )\n",
        " \n",
        "        for m in model.modules():\n",
        "          if isinstance(m, nn.Conv2d):\n",
        "            nn.init.xavier_uniform_(m.weight.data, gain=nn.init.calculate_gain('relu'))\n",
        " \n",
        "        return model"
      ],
      "id": "5UpjWVoLaSgt",
      "execution_count": null,
      "outputs": []
    },
    {
      "cell_type": "code",
      "metadata": {
        "id": "8keAO80x-iB-"
      },
      "source": [
        "class InceptionBlock(nn.Module):\n",
        "\n",
        "    def __init__(self, c_in, c_red, c_out : dict, res = False):\n",
        "        \"\"\"\n",
        "        Inputs:\n",
        "            c_in - Number of input feature maps from the previous layers\n",
        "            c_red - specifying the output of the dimensionality reducing 1x1 convolutions\n",
        "            c_out - Dictionary with keys \"1x1\", \"3x3\", \"5x5\", and \"max\"\n",
        "        \"\"\"\n",
        "        super().__init__()\n",
        "\n",
        "        self.resTF = res\n",
        "        self.res = nn.Conv2d(c_in, c_out[\"1x1\"]+c_out[\"3x3\"]+c_out[\"5x5\"]+c_out[\"max\"], kernel_size=1)\n",
        "\n",
        "        # 1x1 convolution branch\n",
        "        self.conv_1x1 = nn.Sequential(\n",
        "            nn.Conv2d(c_in, c_out[\"1x1\"], kernel_size=1),\n",
        "            nn.BatchNorm2d(c_out[\"1x1\"]),\n",
        "            nn.ReLU()\n",
        "        )\n",
        "\n",
        "        # 3x3 convolution branch\n",
        "        self.conv_3x3 = nn.Sequential(\n",
        "            nn.Conv2d(c_in, c_red, kernel_size=1),\n",
        "            nn.BatchNorm2d(c_red),\n",
        "            nn.ReLU(),\n",
        "            nn.Conv2d(c_red, c_out[\"3x3\"], kernel_size=3, padding=1),\n",
        "            nn.BatchNorm2d(c_out[\"3x3\"]),\n",
        "            nn.ReLU()\n",
        "        )\n",
        "\n",
        "        # 5x5 convolution branch\n",
        "        self.conv_5x5 = nn.Sequential(\n",
        "            nn.Conv2d(c_in, c_red, kernel_size=1),\n",
        "            nn.BatchNorm2d(c_red),\n",
        "            nn.ReLU(),\n",
        "            nn.Conv2d(c_red, c_out[\"5x5\"], kernel_size=5, padding=2),\n",
        "            nn.BatchNorm2d(c_out[\"5x5\"]),\n",
        "            nn.ReLU()\n",
        "        )\n",
        "\n",
        "        # Max-pool branch\n",
        "        self.max_pool = nn.Sequential(\n",
        "            nn.MaxPool2d(kernel_size=3, padding=1, stride=1),\n",
        "            nn.Conv2d(c_in, c_out[\"max\"], kernel_size=1),\n",
        "            nn.BatchNorm2d(c_out[\"max\"]),\n",
        "            nn.ReLU()\n",
        "        )\n",
        "\n",
        "\n",
        "    def forward(self, x):\n",
        "        x_1x1 = self.conv_1x1(x)\n",
        "        x_3x3 = self.conv_3x3(x)\n",
        "        x_5x5 = self.conv_5x5(x)\n",
        "        x_max = self.max_pool(x)\n",
        "        x_out = torch.cat([x_1x1, x_3x3, x_5x5, x_max], dim=1)\n",
        "\n",
        "        if self.resTF:\n",
        "            residal = self.res(x)\n",
        "            x_out += residal\n",
        "        \n",
        "        return x_out\n",
        "\n",
        "class IcepNet01(nn.Module):\n",
        "    def __init__(self, classes=10, simpnet_name='IncepNet02'):\n",
        "        super(IcepNet01, self).__init__()\n",
        "        \n",
        "        self.conv1 = nn.Conv2d(in_channels=3, out_channels=16, kernel_size=3, padding=1)\n",
        " \n",
        "        self.inception_net = self._make_layers()\n",
        " \n",
        "        self.gap = nn.MaxPool2d(kernel_size=(32, 32))\n",
        " \n",
        "        self.linear = nn.Sequential(\n",
        "            nn.Linear(128, 64),\n",
        "            nn.ReLU(),\n",
        "            nn.Dropout(0.1),\n",
        "            nn.Linear(64, 32),\n",
        "            nn.ReLU(),\n",
        "            nn.Dropout(0.1),\n",
        "            nn.Linear(32, 10),\n",
        "            nn.ReLU()\n",
        "        )\n",
        " \n",
        "    def forward(self, x):\n",
        "        x = self.conv1(x)\n",
        "        x = self.inception_net(x)\n",
        "        x = self.gap(x)\n",
        "        x = x.squeeze()\n",
        "        # mlp block\n",
        "        x = self.linear(x)\n",
        "        return x\n",
        " \n",
        "    def _make_layers(self):\n",
        " \n",
        "        model = nn.Sequential(\n",
        "            nn.ReLU(),\n",
        "            nn.BatchNorm2d(16),\n",
        "            InceptionBlock(c_in=16, c_red=6, c_out={\"1x1\":8, \"3x3\":8, \"5x5\":8, \"max\":8}),\n",
        "            nn.ReLU(),\n",
        "            nn.BatchNorm2d(32),\n",
        "            InceptionBlock(c_in=32, c_red=16, c_out={\"1x1\":16, \"3x3\":16, \"5x5\":16, \"max\":16}),\n",
        "            nn.ReLU(),\n",
        "            nn.BatchNorm2d(64),\n",
        "            InceptionBlock(c_in=64, c_red=20, c_out={\"1x1\":32, \"3x3\":32, \"5x5\":32, \"max\":32}),\n",
        "            nn.ReLU(),\n",
        "            nn.BatchNorm2d(128),\n",
        "        )\n",
        " \n",
        "        for m in model.modules():\n",
        "          if isinstance(m, nn.Conv2d):\n",
        "            nn.init.xavier_uniform_(m.weight.data, gain=nn.init.calculate_gain('relu'))\n",
        " \n",
        "        return model"
      ],
      "id": "8keAO80x-iB-",
      "execution_count": null,
      "outputs": []
    },
    {
      "cell_type": "code",
      "metadata": {
        "id": "mWnSW7PhXyZ4"
      },
      "source": [
        "class ResBlockSimple(nn.Module):\n",
        "    def __init__(self, n_channels):\n",
        "        super().__init__()\n",
        "        self.module = module\n",
        " \n",
        "    def forward(self, inputs):\n",
        "        return self.module(inputs) + inputs\n",
        "\n",
        "class ResBlockSimpleR(nn.Module):\n",
        "    def __init__(self, in_ch, out_ch):\n",
        "        super().__init__()\n",
        "\n",
        "        self.conv1 = nn.Conv2d(in_channels=in_ch, out_channels=out_ch, kernel_size=1)\n",
        "\n",
        "        self.module = nn.Sequential(\n",
        "                    nn.Conv2d(in_ch, in_ch, kernel_size=3, padding=1),\n",
        "                    nn.ReLU(),\n",
        "                    nn.BatchNorm2d(in_ch),\n",
        "                    nn.Conv2d(in_ch, out_ch, kernel_size=3, padding=1),\n",
        "                    nn.ReLU(),\n",
        "                    nn.BatchNorm2d(out_ch),\n",
        "                )\n",
        " \n",
        "    def forward(self, inputs):\n",
        "        return self.module(inputs) + self.conv1(inputs)\n",
        " \n",
        " \n",
        "class ResNet02(nn.Module):\n",
        "    def __init__(self, classes=10, simpnet_name='ResNet02'):\n",
        "        super(ResNet02, self).__init__()\n",
        "        \n",
        "        self.conv1 = nn.Conv2d(in_channels=3, out_channels=16, kernel_size=3, padding=1)\n",
        " \n",
        "        self.residual_net = self._make_layers()\n",
        " \n",
        "        self.gap = nn.MaxPool2d(kernel_size=(32, 32))\n",
        " \n",
        "        self.linear = nn.Sequential(\n",
        "            nn.Linear(128, 64),\n",
        "            nn.ReLU(),\n",
        "            nn.Dropout(0.1),\n",
        "            nn.Linear(64, 32),\n",
        "            nn.ReLU(),\n",
        "            nn.Dropout(0.1),\n",
        "            nn.Linear(32, 10),\n",
        "            nn.ReLU()\n",
        "        )\n",
        " \n",
        "    def forward(self, x):\n",
        "        x = self.conv1(x)\n",
        "        x = self.residual_net(x)\n",
        "        x = self.gap(x)\n",
        "        x = x.squeeze()\n",
        "        # mlp block\n",
        "        x = self.linear(x)\n",
        "        return x\n",
        " \n",
        "    def _make_layers(self):\n",
        " \n",
        "        model = nn.Sequential(\n",
        "            nn.ReLU(),\n",
        "            nn.BatchNorm2d(16),\n",
        "            ResBlockSimpleR(16, 16),\n",
        "            ResBlockSimpleR(16, 16),\n",
        "            ResBlockSimpleR(16, 32),\n",
        "            ResBlockSimpleR(32, 32),\n",
        "            ResBlockSimpleR(32, 32),\n",
        "            ResBlockSimpleR(32, 64),\n",
        "            ResBlockSimpleR(64, 64),\n",
        "            ResBlockSimpleR(64, 64),\n",
        "            ResBlockSimpleR(64, 128),\n",
        "            ResBlockSimpleR(128, 128),\n",
        "            ResBlockSimpleR(128, 128)\n",
        " \n",
        "        )\n",
        " \n",
        "        for m in model.modules():\n",
        "          if isinstance(m, nn.Conv2d):\n",
        "            nn.init.xavier_uniform_(m.weight.data, gain=nn.init.calculate_gain('relu'))\n",
        " \n",
        "        return model"
      ],
      "id": "mWnSW7PhXyZ4",
      "execution_count": null,
      "outputs": []
    },
    {
      "cell_type": "code",
      "metadata": {
        "colab": {
          "base_uri": "https://localhost:8080/"
        },
        "id": "wwh1YqrNk-8i",
        "outputId": "741c3e1f-513d-486b-b6db-54dd5b0dc4b0"
      },
      "source": [
        "device = torch.device(\"cuda:0\" if torch.cuda.is_available() else \"cpu\")\n",
        "device"
      ],
      "id": "wwh1YqrNk-8i",
      "execution_count": null,
      "outputs": [
        {
          "output_type": "execute_result",
          "data": {
            "text/plain": [
              "device(type='cuda', index=0)"
            ]
          },
          "metadata": {
            "tags": []
          },
          "execution_count": 34
        }
      ]
    },
    {
      "cell_type": "code",
      "metadata": {
        "id": "j5PwtGUok-8j",
        "colab": {
          "base_uri": "https://localhost:8080/"
        },
        "outputId": "968700e5-5147-4f73-fb09-ec3a9ea3c286"
      },
      "source": [
        "loss_func = nn.CrossEntropyLoss()\n",
        "resnet = ResNet02().to(device)\n",
        "sgd = optim.SGD(resnet.parameters(), lr=0.01, momentum=0.9)\n",
        "scheduler = optim.lr_scheduler.StepLR(sgd, step_size=10, gamma=0.5, verbose=True)"
      ],
      "id": "j5PwtGUok-8j",
      "execution_count": null,
      "outputs": [
        {
          "output_type": "stream",
          "text": [
            "Adjusting learning rate of group 0 to 1.0000e-02.\n"
          ],
          "name": "stdout"
        }
      ]
    },
    {
      "cell_type": "code",
      "metadata": {
        "colab": {
          "base_uri": "https://localhost:8080/",
          "height": 101,
          "referenced_widgets": [
            "dcfcb94b70fe4849a74bdbc481333fec",
            "46018067bdb8482dabb568a671203173",
            "527882fba7d74905b94f0bd26df34b67",
            "7fb86dc640444db79c5a480dc22ad9e3",
            "60f62a25edf74c9c82cd6c53f85ce0a3",
            "515be19dafb24dfc9c3554b3a06def31",
            "f7791271c6744a52bc8fb278a664e371",
            "495dd454268e4710af182e7b68af3537"
          ]
        },
        "id": "W5WvmpC4nNnH",
        "outputId": "10100f3e-72d6-40ed-fd65-e0747edbc8b1"
      },
      "source": [
        "train_acc_res, test_acc_res, train_loss_res, test_loss_res = train(resnet, trainloader, sgd, loss_func, 100)"
      ],
      "id": "W5WvmpC4nNnH",
      "execution_count": null,
      "outputs": [
        {
          "output_type": "display_data",
          "data": {
            "application/vnd.jupyter.widget-view+json": {
              "model_id": "dcfcb94b70fe4849a74bdbc481333fec",
              "version_minor": 0,
              "version_major": 2
            },
            "text/plain": [
              "HBox(children=(FloatProgress(value=0.0), HTML(value='')))"
            ]
          },
          "metadata": {
            "tags": []
          }
        },
        {
          "output_type": "stream",
          "text": [
            "Epoch 0: train loss: 3598.9390, train acc: 0.100, test acc: 0.0999\n",
            "Epoch 1: train loss: 3598.9398, train acc: 0.100, test acc: 0.0999\n",
            "Epoch 2: train loss: 3598.9364, train acc: 0.100, test acc: 0.1\n"
          ],
          "name": "stdout"
        }
      ]
    },
    {
      "cell_type": "code",
      "metadata": {
        "id": "jybFpOXuWy6W"
      },
      "source": [
        "import pandas as pd\n",
        "import pandas as pd\n",
        "dataset = pd.DataFrame({'train_acc': train_acc_res, \n",
        "                        'test_acc': test_acc_res,\n",
        "                        'train_loss': train_loss_res, \n",
        "                        'test_loss': test_loss_res})\n",
        "dataset.to_csv('ResnetTrue.csv')\n",
        "\n",
        "# Specify a path\n",
        "PATH = \"ResnetTrue.pt\"\n",
        "\n",
        "# Save\n",
        "torch.save(resnet.state_dict(), PATH)\n",
        "\n",
        "from google.colab import files\n",
        "files.download('ResnetTrue.csv')\n",
        "files.download('ResnetTrue.pt')"
      ],
      "id": "jybFpOXuWy6W",
      "execution_count": null,
      "outputs": []
    },
    {
      "cell_type": "code",
      "metadata": {
        "colab": {
          "base_uri": "https://localhost:8080/",
          "height": 269
        },
        "id": "njjbsAoClQa7",
        "outputId": "a92be4bb-6d3d-4f26-e8fc-785d1e41a9ba"
      },
      "source": [
        "plt.plot(train_acc_res,label='train acc')\n",
        "plt.plot(test_acc_res,label='test acc')\n",
        "plt.legend()\n",
        "plt.ylim([0.5,1])\n",
        "plt.show()"
      ],
      "id": "njjbsAoClQa7",
      "execution_count": null,
      "outputs": [
        {
          "output_type": "display_data",
          "data": {
            "image/png": "[encoded data removed]",
            "text/plain": [
              "<Figure size 432x288 with 1 Axes>"
            ]
          },
          "metadata": {
            "tags": [],
            "needs_background": "light"
          }
        }
      ]
    },
    {
      "cell_type": "code",
      "metadata": {
        "colab": {
          "base_uri": "https://localhost:8080/",
          "height": 240,
          "referenced_widgets": [
            "9b8d6e1346d94c0c8f4f19807d7abc9c",
            "0574fa158af846fdad9cc58488484341",
            "53b92cf5b7194b81bf88473e69bd611e",
            "1f33ee57d674445a965dad1fd2569a5b",
            "de8dd48e8f934417b7534e19f69ec21e",
            "1c4cfc4b841f49d2b3e1fe4c02f1e2cc",
            "1390481b98454a77b81aa6443dd62fd0",
            "d89d9703ff414e45b91e6e7f01347c35"
          ]
        },
        "id": "LQqZBi-6sUH7",
        "outputId": "1d4c283e-ab27-4adf-b82e-2120ec320075"
      },
      "source": [
        "train_acc_res, test_acc_res, train_loss_res, test_loss_res = train(resnet, trainloader, sgd, loss_func, 10)"
      ],
      "id": "LQqZBi-6sUH7",
      "execution_count": null,
      "outputs": [
        {
          "output_type": "display_data",
          "data": {
            "application/vnd.jupyter.widget-view+json": {
              "model_id": "9b8d6e1346d94c0c8f4f19807d7abc9c",
              "version_minor": 0,
              "version_major": 2
            },
            "text/plain": [
              "HBox(children=(FloatProgress(value=0.0, max=10.0), HTML(value='')))"
            ]
          },
          "metadata": {
            "tags": []
          }
        },
        {
          "output_type": "stream",
          "text": [
            "Epoch 0: train loss: 596.9078, train acc: 0.872, test acc: 0.8084\n",
            "Epoch 1: train loss: 602.0539, train acc: 0.873, test acc: 0.8055\n",
            "Epoch 2: train loss: 593.2748, train acc: 0.871, test acc: 0.7979\n",
            "Epoch 3: train loss: 590.3426, train acc: 0.872, test acc: 0.7997\n",
            "Epoch 4: train loss: 580.9173, train acc: 0.874, test acc: 0.808\n",
            "Epoch 5: train loss: 591.7177, train acc: 0.873, test acc: 0.8088\n",
            "Epoch 6: train loss: 575.1690, train acc: 0.875, test acc: 0.803\n",
            "Epoch 7: train loss: 577.0605, train acc: 0.876, test acc: 0.8049\n",
            "Epoch 8: train loss: 576.3891, train acc: 0.876, test acc: 0.8078\n",
            "Epoch 9: train loss: 565.6397, train acc: 0.879, test acc: 0.8036\n",
            "\n"
          ],
          "name": "stdout"
        }
      ]
    },
    {
      "cell_type": "code",
      "metadata": {
        "colab": {
          "base_uri": "https://localhost:8080/",
          "height": 265
        },
        "id": "q8_djZiz2_7v",
        "outputId": "ba03e6fb-7df5-46ce-dbc4-7353d2f09280"
      },
      "source": [
        "plt.plot(train_acc_res,label='train acc')\n",
        "plt.plot(test_acc_res,label='test acc')\n",
        "plt.legend()\n",
        "plt.show()"
      ],
      "id": "q8_djZiz2_7v",
      "execution_count": null,
      "outputs": [
        {
          "output_type": "display_data",
          "data": {
            "image/png": "[encoded data removed]",
            "text/plain": [
              "<Figure size 432x288 with 1 Axes>"
            ]
          },
          "metadata": {
            "tags": [],
            "needs_background": "light"
          }
        }
      ]
    }
  ]
}