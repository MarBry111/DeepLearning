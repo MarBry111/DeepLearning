{
  "nbformat": 4,
  "nbformat_minor": 5,
  "metadata": {
    "accelerator": "GPU",
    "colab": {
      "name": "CIFAR10(1).ipynb",
      "provenance": [],
      "collapsed_sections": []
    },
    "kernelspec": {
      "display_name": "Python 3",
      "language": "python",
      "name": "python3"
    },
    "language_info": {
      "codemirror_mode": {
        "name": "ipython",
        "version": 3
      },
      "file_extension": ".py",
      "mimetype": "text/x-python",
      "name": "python",
      "nbconvert_exporter": "python",
      "pygments_lexer": "ipython3",
      "version": "3.7.10"
    },
    "toc": {
      "base_numbering": 1,
      "nav_menu": {},
      "number_sections": true,
      "sideBar": true,
      "skip_h1_title": false,
      "title_cell": "Table of Contents",
      "title_sidebar": "Contents",
      "toc_cell": false,
      "toc_position": {},
      "toc_section_display": true,
      "toc_window_display": false
    },
    "widgets": {
      "application/vnd.jupyter.widget-state+json": {
        "b29a3f3b110d47bca7d560744ef0f15e": {
          "model_module": "@jupyter-widgets/controls",
          "model_name": "HBoxModel",
          "state": {
            "_view_name": "HBoxView",
            "_dom_classes": [],
            "_model_name": "HBoxModel",
            "_view_module": "@jupyter-widgets/controls",
            "_model_module_version": "1.5.0",
            "_view_count": null,
            "_view_module_version": "1.5.0",
            "box_style": "",
            "layout": "IPY_MODEL_eb1b428ce3c0420ea0868065b8eea0c5",
            "_model_module": "@jupyter-widgets/controls",
            "children": [
              "IPY_MODEL_4992d18bf09f4234a6bdd6849fb89452",
              "IPY_MODEL_c9ec083365374fb28cd150d8f5c667cf"
            ]
          }
        },
        "eb1b428ce3c0420ea0868065b8eea0c5": {
          "model_module": "@jupyter-widgets/base",
          "model_name": "LayoutModel",
          "state": {
            "_view_name": "LayoutView",
            "grid_template_rows": null,
            "right": null,
            "justify_content": null,
            "_view_module": "@jupyter-widgets/base",
            "overflow": null,
            "_model_module_version": "1.2.0",
            "_view_count": null,
            "flex_flow": null,
            "width": null,
            "min_width": null,
            "border": null,
            "align_items": null,
            "bottom": null,
            "_model_module": "@jupyter-widgets/base",
            "top": null,
            "grid_column": null,
            "overflow_y": null,
            "overflow_x": null,
            "grid_auto_flow": null,
            "grid_area": null,
            "grid_template_columns": null,
            "flex": null,
            "_model_name": "LayoutModel",
            "justify_items": null,
            "grid_row": null,
            "max_height": null,
            "align_content": null,
            "visibility": null,
            "align_self": null,
            "height": null,
            "min_height": null,
            "padding": null,
            "grid_auto_rows": null,
            "grid_gap": null,
            "max_width": null,
            "order": null,
            "_view_module_version": "1.2.0",
            "grid_template_areas": null,
            "object_position": null,
            "object_fit": null,
            "grid_auto_columns": null,
            "margin": null,
            "display": null,
            "left": null
          }
        },
        "4992d18bf09f4234a6bdd6849fb89452": {
          "model_module": "@jupyter-widgets/controls",
          "model_name": "FloatProgressModel",
          "state": {
            "_view_name": "ProgressView",
            "style": "IPY_MODEL_0ec897862e7743988ffb03689393b648",
            "_dom_classes": [],
            "description": " 29%",
            "_model_name": "FloatProgressModel",
            "bar_style": "danger",
            "max": 100,
            "_view_module": "@jupyter-widgets/controls",
            "_model_module_version": "1.5.0",
            "value": 29,
            "_view_count": null,
            "_view_module_version": "1.5.0",
            "orientation": "horizontal",
            "min": 0,
            "description_tooltip": null,
            "_model_module": "@jupyter-widgets/controls",
            "layout": "IPY_MODEL_1ed098d8723c4a2eae4ec95d8fe426b6"
          }
        },
        "c9ec083365374fb28cd150d8f5c667cf": {
          "model_module": "@jupyter-widgets/controls",
          "model_name": "HTMLModel",
          "state": {
            "_view_name": "HTMLView",
            "style": "IPY_MODEL_542fc1181194465589f0ba18d71d4cb0",
            "_dom_classes": [],
            "description": "",
            "_model_name": "HTMLModel",
            "placeholder": "​",
            "_view_module": "@jupyter-widgets/controls",
            "_model_module_version": "1.5.0",
            "value": " 29/100 [55:59&lt;2:17:31, 116.22s/it]",
            "_view_count": null,
            "_view_module_version": "1.5.0",
            "description_tooltip": null,
            "_model_module": "@jupyter-widgets/controls",
            "layout": "IPY_MODEL_21a90ebefb40412b9d891dac76795119"
          }
        },
        "0ec897862e7743988ffb03689393b648": {
          "model_module": "@jupyter-widgets/controls",
          "model_name": "ProgressStyleModel",
          "state": {
            "_view_name": "StyleView",
            "_model_name": "ProgressStyleModel",
            "description_width": "initial",
            "_view_module": "@jupyter-widgets/base",
            "_model_module_version": "1.5.0",
            "_view_count": null,
            "_view_module_version": "1.2.0",
            "bar_color": null,
            "_model_module": "@jupyter-widgets/controls"
          }
        },
        "1ed098d8723c4a2eae4ec95d8fe426b6": {
          "model_module": "@jupyter-widgets/base",
          "model_name": "LayoutModel",
          "state": {
            "_view_name": "LayoutView",
            "grid_template_rows": null,
            "right": null,
            "justify_content": null,
            "_view_module": "@jupyter-widgets/base",
            "overflow": null,
            "_model_module_version": "1.2.0",
            "_view_count": null,
            "flex_flow": null,
            "width": null,
            "min_width": null,
            "border": null,
            "align_items": null,
            "bottom": null,
            "_model_module": "@jupyter-widgets/base",
            "top": null,
            "grid_column": null,
            "overflow_y": null,
            "overflow_x": null,
            "grid_auto_flow": null,
            "grid_area": null,
            "grid_template_columns": null,
            "flex": null,
            "_model_name": "LayoutModel",
            "justify_items": null,
            "grid_row": null,
            "max_height": null,
            "align_content": null,
            "visibility": null,
            "align_self": null,
            "height": null,
            "min_height": null,
            "padding": null,
            "grid_auto_rows": null,
            "grid_gap": null,
            "max_width": null,
            "order": null,
            "_view_module_version": "1.2.0",
            "grid_template_areas": null,
            "object_position": null,
            "object_fit": null,
            "grid_auto_columns": null,
            "margin": null,
            "display": null,
            "left": null
          }
        },
        "542fc1181194465589f0ba18d71d4cb0": {
          "model_module": "@jupyter-widgets/controls",
          "model_name": "DescriptionStyleModel",
          "state": {
            "_view_name": "StyleView",
            "_model_name": "DescriptionStyleModel",
            "description_width": "",
            "_view_module": "@jupyter-widgets/base",
            "_model_module_version": "1.5.0",
            "_view_count": null,
            "_view_module_version": "1.2.0",
            "_model_module": "@jupyter-widgets/controls"
          }
        },
        "21a90ebefb40412b9d891dac76795119": {
          "model_module": "@jupyter-widgets/base",
          "model_name": "LayoutModel",
          "state": {
            "_view_name": "LayoutView",
            "grid_template_rows": null,
            "right": null,
            "justify_content": null,
            "_view_module": "@jupyter-widgets/base",
            "overflow": null,
            "_model_module_version": "1.2.0",
            "_view_count": null,
            "flex_flow": null,
            "width": null,
            "min_width": null,
            "border": null,
            "align_items": null,
            "bottom": null,
            "_model_module": "@jupyter-widgets/base",
            "top": null,
            "grid_column": null,
            "overflow_y": null,
            "overflow_x": null,
            "grid_auto_flow": null,
            "grid_area": null,
            "grid_template_columns": null,
            "flex": null,
            "_model_name": "LayoutModel",
            "justify_items": null,
            "grid_row": null,
            "max_height": null,
            "align_content": null,
            "visibility": null,
            "align_self": null,
            "height": null,
            "min_height": null,
            "padding": null,
            "grid_auto_rows": null,
            "grid_gap": null,
            "max_width": null,
            "order": null,
            "_view_module_version": "1.2.0",
            "grid_template_areas": null,
            "object_position": null,
            "object_fit": null,
            "grid_auto_columns": null,
            "margin": null,
            "display": null,
            "left": null
          }
        },
        "939ff3a6753c41b99334c6f6b86ae5ed": {
          "model_module": "@jupyter-widgets/controls",
          "model_name": "HBoxModel",
          "state": {
            "_view_name": "HBoxView",
            "_dom_classes": [],
            "_model_name": "HBoxModel",
            "_view_module": "@jupyter-widgets/controls",
            "_model_module_version": "1.5.0",
            "_view_count": null,
            "_view_module_version": "1.5.0",
            "box_style": "",
            "layout": "IPY_MODEL_076775198f5f4f8680c90b633a6c6e21",
            "_model_module": "@jupyter-widgets/controls",
            "children": [
              "IPY_MODEL_71555e2c96b84a559d93bfe7762e1acd",
              "IPY_MODEL_3caf9549dc2246da8c40d62648472f5b"
            ]
          }
        },
        "076775198f5f4f8680c90b633a6c6e21": {
          "model_module": "@jupyter-widgets/base",
          "model_name": "LayoutModel",
          "state": {
            "_view_name": "LayoutView",
            "grid_template_rows": null,
            "right": null,
            "justify_content": null,
            "_view_module": "@jupyter-widgets/base",
            "overflow": null,
            "_model_module_version": "1.2.0",
            "_view_count": null,
            "flex_flow": null,
            "width": null,
            "min_width": null,
            "border": null,
            "align_items": null,
            "bottom": null,
            "_model_module": "@jupyter-widgets/base",
            "top": null,
            "grid_column": null,
            "overflow_y": null,
            "overflow_x": null,
            "grid_auto_flow": null,
            "grid_area": null,
            "grid_template_columns": null,
            "flex": null,
            "_model_name": "LayoutModel",
            "justify_items": null,
            "grid_row": null,
            "max_height": null,
            "align_content": null,
            "visibility": null,
            "align_self": null,
            "height": null,
            "min_height": null,
            "padding": null,
            "grid_auto_rows": null,
            "grid_gap": null,
            "max_width": null,
            "order": null,
            "_view_module_version": "1.2.0",
            "grid_template_areas": null,
            "object_position": null,
            "object_fit": null,
            "grid_auto_columns": null,
            "margin": null,
            "display": null,
            "left": null
          }
        },
        "71555e2c96b84a559d93bfe7762e1acd": {
          "model_module": "@jupyter-widgets/controls",
          "model_name": "FloatProgressModel",
          "state": {
            "_view_name": "ProgressView",
            "style": "IPY_MODEL_b4f6751c739b440885a8bbb48cf82763",
            "_dom_classes": [],
            "description": " 46%",
            "_model_name": "FloatProgressModel",
            "bar_style": "",
            "max": 150,
            "_view_module": "@jupyter-widgets/controls",
            "_model_module_version": "1.5.0",
            "value": 69,
            "_view_count": null,
            "_view_module_version": "1.5.0",
            "orientation": "horizontal",
            "min": 0,
            "description_tooltip": null,
            "_model_module": "@jupyter-widgets/controls",
            "layout": "IPY_MODEL_2783f63b54d8423d9c77183d7bde69b5"
          }
        },
        "3caf9549dc2246da8c40d62648472f5b": {
          "model_module": "@jupyter-widgets/controls",
          "model_name": "HTMLModel",
          "state": {
            "_view_name": "HTMLView",
            "style": "IPY_MODEL_6e3cd649ffa141f984853a1c48d51abf",
            "_dom_classes": [],
            "description": "",
            "_model_name": "HTMLModel",
            "placeholder": "​",
            "_view_module": "@jupyter-widgets/controls",
            "_model_module_version": "1.5.0",
            "value": " 69/150 [5:03:16&lt;5:57:33, 264.85s/it]",
            "_view_count": null,
            "_view_module_version": "1.5.0",
            "description_tooltip": null,
            "_model_module": "@jupyter-widgets/controls",
            "layout": "IPY_MODEL_78ccd5e27662493abfdd406edd37f4db"
          }
        },
        "b4f6751c739b440885a8bbb48cf82763": {
          "model_module": "@jupyter-widgets/controls",
          "model_name": "ProgressStyleModel",
          "state": {
            "_view_name": "StyleView",
            "_model_name": "ProgressStyleModel",
            "description_width": "initial",
            "_view_module": "@jupyter-widgets/base",
            "_model_module_version": "1.5.0",
            "_view_count": null,
            "_view_module_version": "1.2.0",
            "bar_color": null,
            "_model_module": "@jupyter-widgets/controls"
          }
        },
        "2783f63b54d8423d9c77183d7bde69b5": {
          "model_module": "@jupyter-widgets/base",
          "model_name": "LayoutModel",
          "state": {
            "_view_name": "LayoutView",
            "grid_template_rows": null,
            "right": null,
            "justify_content": null,
            "_view_module": "@jupyter-widgets/base",
            "overflow": null,
            "_model_module_version": "1.2.0",
            "_view_count": null,
            "flex_flow": null,
            "width": null,
            "min_width": null,
            "border": null,
            "align_items": null,
            "bottom": null,
            "_model_module": "@jupyter-widgets/base",
            "top": null,
            "grid_column": null,
            "overflow_y": null,
            "overflow_x": null,
            "grid_auto_flow": null,
            "grid_area": null,
            "grid_template_columns": null,
            "flex": null,
            "_model_name": "LayoutModel",
            "justify_items": null,
            "grid_row": null,
            "max_height": null,
            "align_content": null,
            "visibility": null,
            "align_self": null,
            "height": null,
            "min_height": null,
            "padding": null,
            "grid_auto_rows": null,
            "grid_gap": null,
            "max_width": null,
            "order": null,
            "_view_module_version": "1.2.0",
            "grid_template_areas": null,
            "object_position": null,
            "object_fit": null,
            "grid_auto_columns": null,
            "margin": null,
            "display": null,
            "left": null
          }
        },
        "6e3cd649ffa141f984853a1c48d51abf": {
          "model_module": "@jupyter-widgets/controls",
          "model_name": "DescriptionStyleModel",
          "state": {
            "_view_name": "StyleView",
            "_model_name": "DescriptionStyleModel",
            "description_width": "",
            "_view_module": "@jupyter-widgets/base",
            "_model_module_version": "1.5.0",
            "_view_count": null,
            "_view_module_version": "1.2.0",
            "_model_module": "@jupyter-widgets/controls"
          }
        },
        "78ccd5e27662493abfdd406edd37f4db": {
          "model_module": "@jupyter-widgets/base",
          "model_name": "LayoutModel",
          "state": {
            "_view_name": "LayoutView",
            "grid_template_rows": null,
            "right": null,
            "justify_content": null,
            "_view_module": "@jupyter-widgets/base",
            "overflow": null,
            "_model_module_version": "1.2.0",
            "_view_count": null,
            "flex_flow": null,
            "width": null,
            "min_width": null,
            "border": null,
            "align_items": null,
            "bottom": null,
            "_model_module": "@jupyter-widgets/base",
            "top": null,
            "grid_column": null,
            "overflow_y": null,
            "overflow_x": null,
            "grid_auto_flow": null,
            "grid_area": null,
            "grid_template_columns": null,
            "flex": null,
            "_model_name": "LayoutModel",
            "justify_items": null,
            "grid_row": null,
            "max_height": null,
            "align_content": null,
            "visibility": null,
            "align_self": null,
            "height": null,
            "min_height": null,
            "padding": null,
            "grid_auto_rows": null,
            "grid_gap": null,
            "max_width": null,
            "order": null,
            "_view_module_version": "1.2.0",
            "grid_template_areas": null,
            "object_position": null,
            "object_fit": null,
            "grid_auto_columns": null,
            "margin": null,
            "display": null,
            "left": null
          }
        }
      }
    }
  },
  "cells": [
    {
      "cell_type": "code",
      "metadata": {
        "colab": {
          "base_uri": "https://localhost:8080/"
        },
        "id": "MNRucdkQk-8M",
        "outputId": "36a3ae71-b9dd-402f-8c90-842b6a6e5c0a"
      },
      "source": [
        "%config Completer.use_jedi = False"
      ],
      "id": "MNRucdkQk-8M",
      "execution_count": null,
      "outputs": [
        {
          "output_type": "stream",
          "text": [
            "/usr/local/lib/python3.7/dist-packages/ipykernel_launcher.py:1: UserWarning:\n",
            "\n",
            "Config option `use_jedi` not recognized by `IPCompleter`.\n",
            "\n"
          ],
          "name": "stderr"
        }
      ]
    },
    {
      "cell_type": "code",
      "metadata": {
        "id": "kZPHaiMOk-8U"
      },
      "source": [
        "import torch\n",
        "from torch import nn\n",
        "from torch.utils.data import DataLoader\n",
        "from torchvision import datasets\n",
        "import torchvision.transforms as transforms\n",
        "import torch.nn.functional as F\n",
        "from torch import optim\n",
        "from torch.autograd import Variable\n",
        "\n",
        "import matplotlib.pyplot as plt\n",
        "import numpy as np\n",
        "import pandas as pd\n",
        "import plotly.express as px\n",
        "import seaborn as sn\n",
        "from tqdm.notebook import tqdm\n",
        " \n",
        "from functools import partial\n",
        "from collections import OrderedDict"
      ],
      "id": "kZPHaiMOk-8U",
      "execution_count": null,
      "outputs": []
    },
    {
      "cell_type": "code",
      "metadata": {
        "colab": {
          "base_uri": "https://localhost:8080/"
        },
        "id": "i7Zf3iqEk-8V",
        "outputId": "e23cb9bf-12dd-4d2c-e8a9-20de42bc7a65"
      },
      "source": [
        "torch.cuda.is_available()"
      ],
      "id": "i7Zf3iqEk-8V",
      "execution_count": null,
      "outputs": [
        {
          "output_type": "execute_result",
          "data": {
            "text/plain": [
              "True"
            ]
          },
          "metadata": {
            "tags": []
          },
          "execution_count": 19
        }
      ]
    },
    {
      "cell_type": "code",
      "metadata": {
        "colab": {
          "base_uri": "https://localhost:8080/"
        },
        "id": "eabIU5sak-8W",
        "outputId": "0a3f37e9-661d-4b83-f178-1c1bf34d83d3"
      },
      "source": [
        "print(torch.__version__)"
      ],
      "id": "eabIU5sak-8W",
      "execution_count": null,
      "outputs": [
        {
          "output_type": "stream",
          "text": [
            "1.8.1+cu101\n"
          ],
          "name": "stdout"
        }
      ]
    },
    {
      "cell_type": "code",
      "metadata": {
        "colab": {
          "base_uri": "https://localhost:8080/",
          "height": 301
        },
        "id": "yzNihcTpk-8Y",
        "outputId": "7e5b8367-f7c9-4ae5-c7f3-5f9668154b2f"
      },
      "source": [
        "transform = transforms.Compose(\n",
        "    [transforms.ToTensor(),\n",
        "     transforms.Normalize((0.5, 0.5, 0.5), (0.5, 0.5, 0.5)),\n",
        "     ]\n",
        ")\n",
        "\n",
        "if True:\n",
        "    transform = transforms.Compose([\n",
        "        transforms.ToTensor(),\n",
        "        transforms.Normalize((0.5, 0.5, 0.5), (0.5, 0.5, 0.5)),\n",
        "        transforms.GaussianBlur(kernel_size=[3,3], sigma=(0.2, 1)),\n",
        "        transforms.RandomAffine(degrees=[-20, 20], translate=[0.1, 0.1], scale=[0.9, 1.1], shear=[-20, 20]),\n",
        "        ])\n",
        "    \n",
        " \n",
        "trainset = datasets.CIFAR10(\n",
        "    root='./data', train=True, download=True, transform=transform)\n",
        "trainloader = torch.utils.data.DataLoader(\n",
        "    trainset, batch_size=32, shuffle=True, num_workers=2)\n",
        " \n",
        "testset = datasets.CIFAR10(\n",
        "    root='./data', train=False, download=True, transform=transform)\n",
        "testloader = torch.utils.data.DataLoader(\n",
        "    testset, batch_size=32, shuffle=False, num_workers=2)\n",
        " \n",
        "classes = ('plane', 'car', 'bird', 'cat',\n",
        "           'deer', 'dog', 'frog', 'horse', 'ship', 'truck')\n",
        "\n",
        "def imshow(img):\n",
        "    img = img / 2 + 0.5     # unnormalize\n",
        "    npimg = img.numpy()\n",
        "    plt.imshow(np.transpose(npimg, (1, 2, 0)))\n",
        "    plt.show()\n",
        "    \n",
        "imshow(trainset[0][0])"
      ],
      "id": "yzNihcTpk-8Y",
      "execution_count": null,
      "outputs": [
        {
          "output_type": "stream",
          "text": [
            "Files already downloaded and verified\n",
            "Files already downloaded and verified\n"
          ],
          "name": "stdout"
        },
        {
          "output_type": "display_data",
          "data": {
            "image/png": "[encoded data removed]",
            "text/plain": [
              "<Figure size 432x288 with 1 Axes>"
            ]
          },
          "metadata": {
            "tags": [],
            "needs_background": "light"
          }
        }
      ]
    },
    {
      "cell_type": "code",
      "metadata": {
        "colab": {
          "base_uri": "https://localhost:8080/",
          "height": 35
        },
        "id": "oolevyynk-8d",
        "outputId": "ab4cf0c8-7540-41ae-ed2b-8db3bb5551c6"
      },
      "source": [
        "classes[trainset[0][1]]"
      ],
      "id": "oolevyynk-8d",
      "execution_count": null,
      "outputs": [
        {
          "output_type": "execute_result",
          "data": {
            "application/vnd.google.colaboratory.intrinsic+json": {
              "type": "string"
            },
            "text/plain": [
              "'frog'"
            ]
          },
          "metadata": {
            "tags": []
          },
          "execution_count": 22
        }
      ]
    },
    {
      "cell_type": "code",
      "metadata": {
        "colab": {
          "base_uri": "https://localhost:8080/"
        },
        "id": "Q0Gj1glUk-8e",
        "outputId": "63ba2c13-6c04-49c8-fa29-0fb21f8991a2"
      },
      "source": [
        "trainset[0][0].shape"
      ],
      "id": "Q0Gj1glUk-8e",
      "execution_count": null,
      "outputs": [
        {
          "output_type": "execute_result",
          "data": {
            "text/plain": [
              "torch.Size([3, 32, 32])"
            ]
          },
          "metadata": {
            "tags": []
          },
          "execution_count": 23
        }
      ]
    },
    {
      "cell_type": "code",
      "metadata": {
        "id": "v6DYUgdMk-8g"
      },
      "source": [
        "def test(net, dataloader, device='cuda:0'):\n",
        "    net = net.to(device)\n",
        "    conf_matrix = np.zeros((10, 10))\n",
        "    for i, (X, y) in enumerate(dataloader):\n",
        "        X, y = X.to(device), y.to(device)\n",
        "        with torch.no_grad():\n",
        "            pred = net(X)\n",
        "            pred_cls = pred.argmax(1)\n",
        "            for j in range(len(pred_cls)):\n",
        "                conf_matrix[y[j]][pred_cls[j]] += 1\n",
        "    return conf_matrix"
      ],
      "id": "v6DYUgdMk-8g",
      "execution_count": null,
      "outputs": []
    },
    {
      "cell_type": "code",
      "metadata": {
        "id": "mJIhOQpGk-8g"
      },
      "source": [
        "def train(net, dataloader, optimizer, loss_func, epochs=100, device='cuda:0', scheduler=None):\n",
        "    n = len(trainloader.dataset)\n",
        "    net.to(device)\n",
        "    train_acc = np.zeros(epochs)\n",
        "    test_acc = np.zeros(epochs)\n",
        "    train_loss = np.zeros(epochs)\n",
        "    test_loss = np.zeros(epochs)\n",
        "    \n",
        "    for epoch in tqdm(range(epochs)):\n",
        "        epoch_ok = 0\n",
        "        \n",
        "        for i, (X, y) in enumerate(dataloader):\n",
        "            X, y = X.to(device), y.to(device)\n",
        "            optimizer.zero_grad()\n",
        "            pred = net(X)\n",
        "            loss = loss_func(pred, y)\n",
        "            \n",
        "            train_loss[epoch] += loss.item()\n",
        "            pred_cls = pred.argmax(1)\n",
        "            epoch_ok += sum(pred_cls == y)\n",
        "            \n",
        "            loss.backward()\n",
        "            optimizer.step()\n",
        "        \n",
        "        if scheduler: scheduler.step()\n",
        "        \n",
        "        conf_matrix = test(net, testloader)    \n",
        "        test_acc[epoch] = np.diag(conf_matrix).sum() / np.sum(conf_matrix)\n",
        "        train_acc[epoch] = epoch_ok / n\n",
        "        \n",
        "        print(f'Epoch {epoch}: train loss: {train_loss[epoch]:.4f}, train acc: {train_acc[epoch]:.3f}, '\n",
        "              f'test acc: {test_acc[epoch]}')\n",
        "    \n",
        "    return  train_acc, test_acc, train_loss, test_loss"
      ],
      "id": "mJIhOQpGk-8g",
      "execution_count": null,
      "outputs": []
    },
    {
      "cell_type": "code",
      "metadata": {
        "colab": {
          "base_uri": "https://localhost:8080/"
        },
        "id": "OpBIEwhyhW5X",
        "outputId": "07061b05-ef75-4565-b12c-d0b9f34de332"
      },
      "source": [
        "device = torch.device(\"cuda:0\" if torch.cuda.is_available() else \"cpu\")\n",
        "device"
      ],
      "id": "OpBIEwhyhW5X",
      "execution_count": null,
      "outputs": [
        {
          "output_type": "execute_result",
          "data": {
            "text/plain": [
              "device(type='cuda', index=0)"
            ]
          },
          "metadata": {
            "tags": []
          },
          "execution_count": 26
        }
      ]
    },
    {
      "cell_type": "code",
      "metadata": {
        "id": "8keAO80x-iB-"
      },
      "source": [
        "class InceptionBlock(nn.Module):\n",
        "\n",
        "    def __init__(self, c_in, c_red, c_out : dict, res = False):\n",
        "        super().__init__()\n",
        "\n",
        "        self.resTF = res\n",
        "        self.res = nn.Conv2d(c_in, c_out[\"1x1\"]+c_out[\"3x3\"]+c_out[\"5x5\"]+c_out[\"max\"], kernel_size=1)\n",
        "\n",
        "        # 1x1 convolution branch\n",
        "        self.conv_1x1 = nn.Sequential(\n",
        "            nn.Conv2d(c_in, c_out[\"1x1\"], kernel_size=1),\n",
        "            nn.BatchNorm2d(c_out[\"1x1\"]),\n",
        "            nn.ReLU()\n",
        "        )\n",
        "\n",
        "        # 3x3 convolution branch\n",
        "        self.conv_3x3 = nn.Sequential(\n",
        "            nn.Conv2d(c_in, c_red, kernel_size=1),\n",
        "            nn.BatchNorm2d(c_red),\n",
        "            nn.ReLU(),\n",
        "            nn.Conv2d(c_red, c_out[\"3x3\"], kernel_size=3, padding=1),\n",
        "            nn.BatchNorm2d(c_out[\"3x3\"]),\n",
        "            nn.ReLU()\n",
        "        )\n",
        "\n",
        "        # 5x5 convolution branch\n",
        "        self.conv_5x5 = nn.Sequential(\n",
        "            nn.Conv2d(c_in, c_red, kernel_size=1),\n",
        "            nn.BatchNorm2d(c_red),\n",
        "            nn.ReLU(),\n",
        "            nn.Conv2d(c_red, c_out[\"5x5\"], kernel_size=5, padding=2),\n",
        "            nn.BatchNorm2d(c_out[\"5x5\"]),\n",
        "            nn.ReLU()\n",
        "        )\n",
        "\n",
        "        # Max-pool branch\n",
        "        self.max_pool = nn.Sequential(\n",
        "            nn.MaxPool2d(kernel_size=3, padding=1, stride=1),\n",
        "            nn.Conv2d(c_in, c_out[\"max\"], kernel_size=1),\n",
        "            nn.BatchNorm2d(c_out[\"max\"]),\n",
        "            nn.ReLU()\n",
        "        )\n",
        "\n",
        "\n",
        "    def forward(self, x):\n",
        "        x_1x1 = self.conv_1x1(x)\n",
        "        x_3x3 = self.conv_3x3(x)\n",
        "        x_5x5 = self.conv_5x5(x)\n",
        "        x_max = self.max_pool(x)\n",
        "        x_out = torch.cat([x_1x1, x_3x3, x_5x5, x_max], dim=1)\n",
        "\n",
        "        if self.resTF:\n",
        "            residal = self.res(x)\n",
        "            x_out += residal\n",
        "        \n",
        "        return x_out"
      ],
      "id": "8keAO80x-iB-",
      "execution_count": null,
      "outputs": []
    },
    {
      "cell_type": "code",
      "metadata": {
        "id": "RMzlU08yk-8k"
      },
      "source": [
        "class IncepResNet01(nn.Module):\n",
        "    def __init__(self, classes=10, simpnet_name='IncepResNet02'):\n",
        "        super(IncepResNet01, self).__init__()\n",
        "        \n",
        "        self.conv1 = nn.Conv2d(in_channels=3, out_channels=16, kernel_size=3, padding=1)\n",
        " \n",
        "        self.inception_net = self._make_layers()\n",
        " \n",
        "        self.gap = nn.MaxPool2d(kernel_size=32)\n",
        " \n",
        "        self.linear = nn.Sequential(\n",
        "            nn.Linear(128, 64),\n",
        "            nn.ReLU(),\n",
        "            nn.Dropout(0.1),\n",
        "            nn.Linear(64, 32),\n",
        "            nn.ReLU(),\n",
        "            nn.Dropout(0.1),\n",
        "            nn.Linear(32, 10),\n",
        "            nn.ReLU()\n",
        "        )\n",
        " \n",
        "    def forward(self, x):\n",
        "        x = self.conv1(x)\n",
        "        x = self.inception_net(x)\n",
        "        x = self.gap(x)\n",
        "        x = x.squeeze()\n",
        "        # mlp block\n",
        "        x = self.linear(x)\n",
        "        return x\n",
        " \n",
        "    def _make_layers(self):\n",
        " \n",
        "        model = nn.Sequential(\n",
        "            nn.ReLU(),\n",
        "            nn.BatchNorm2d(16),\n",
        "            InceptionBlock(c_in=16, c_red=8, c_out={\"1x1\":4, \"3x3\":4, \"5x5\":4, \"max\":4}, res=True),\n",
        "            nn.ReLU(),\n",
        "            nn.BatchNorm2d(16),\n",
        "            InceptionBlock(c_in=16, c_red=8, c_out={\"1x1\":8, \"3x3\":8, \"5x5\":8, \"max\":8}, res=True),\n",
        "            nn.ReLU(),\n",
        "            nn.BatchNorm2d(32),\n",
        "            InceptionBlock(c_in=32, c_red=16, c_out={\"1x1\":8, \"3x3\":8, \"5x5\":8, \"max\":8}, res=True),\n",
        "            nn.ReLU(),\n",
        "            nn.BatchNorm2d(32),\n",
        "            InceptionBlock(c_in=32, c_red=16, c_out={\"1x1\":16, \"3x3\":16, \"5x5\":16, \"max\":16}, res=True),\n",
        "            nn.ReLU(),\n",
        "            nn.BatchNorm2d(64),\n",
        "            InceptionBlock(c_in=64, c_red=24, c_out={\"1x1\":16, \"3x3\":16, \"5x5\":16, \"max\":16}, res=True),\n",
        "            nn.ReLU(),\n",
        "            nn.BatchNorm2d(64),\n",
        "            InceptionBlock(c_in=64, c_red=24, c_out={\"1x1\":32, \"3x3\":32, \"5x5\":32, \"max\":32}, res=True),\n",
        "            nn.ReLU(),\n",
        "            nn.BatchNorm2d(128),\n",
        "            InceptionBlock(c_in=128, c_red=40, c_out={\"1x1\":32, \"3x3\":32, \"5x5\":32, \"max\":32}, res=True),\n",
        "            nn.ReLU(),\n",
        "            nn.BatchNorm2d(128),\n",
        "            InceptionBlock(c_in=128, c_red=40, c_out={\"1x1\":32, \"3x3\":32, \"5x5\":32, \"max\":32}, res=True),\n",
        "            nn.ReLU(),\n",
        "            nn.BatchNorm2d(128)\n",
        "        )\n",
        " \n",
        "        for m in model.modules():\n",
        "          if isinstance(m, nn.Conv2d):\n",
        "            nn.init.xavier_uniform_(m.weight.data, gain=nn.init.calculate_gain('relu'))\n",
        " \n",
        "        return model"
      ],
      "id": "RMzlU08yk-8k",
      "execution_count": null,
      "outputs": []
    },
    {
      "cell_type": "code",
      "metadata": {
        "colab": {
          "base_uri": "https://localhost:8080/"
        },
        "id": "Zj0kOpZc8Me4",
        "outputId": "f3c62a8c-e6fd-40fa-e664-4c14e9a5e6b1"
      },
      "source": [
        "device = torch.device(\"cuda:0\" if torch.cuda.is_available() else \"cpu\")\n",
        "loss_func = nn.CrossEntropyLoss()\n",
        "incresnet = IncepResNet01().to(device)\n",
        "sgd = optim.SGD(incresnet.parameters(), lr=0.01, momentum=0.9)\n",
        "scheduler = optim.lr_scheduler.StepLR(sgd, step_size=10, gamma=0.5, verbose=True)"
      ],
      "id": "Zj0kOpZc8Me4",
      "execution_count": null,
      "outputs": [
        {
          "output_type": "stream",
          "text": [
            "Adjusting learning rate of group 0 to 1.0000e-02.\n"
          ],
          "name": "stdout"
        }
      ]
    },
    {
      "cell_type": "code",
      "metadata": {
        "colab": {
          "base_uri": "https://localhost:8080/",
          "height": 849,
          "referenced_widgets": [
            "b29a3f3b110d47bca7d560744ef0f15e",
            "eb1b428ce3c0420ea0868065b8eea0c5",
            "4992d18bf09f4234a6bdd6849fb89452",
            "c9ec083365374fb28cd150d8f5c667cf",
            "0ec897862e7743988ffb03689393b648",
            "1ed098d8723c4a2eae4ec95d8fe426b6",
            "542fc1181194465589f0ba18d71d4cb0",
            "21a90ebefb40412b9d891dac76795119"
          ]
        },
        "id": "120xTgNh8k4d",
        "outputId": "671fb87c-1865-4e38-fed4-f62e4246e30b"
      },
      "source": [
        "train_acc_resinc, test_acc_resinc, train_loss_resinc, test_loss_resinc = train(incresnet, trainloader, sgd, loss_func, 100)"
      ],
      "id": "120xTgNh8k4d",
      "execution_count": null,
      "outputs": [
        {
          "output_type": "display_data",
          "data": {
            "application/vnd.jupyter.widget-view+json": {
              "model_id": "b29a3f3b110d47bca7d560744ef0f15e",
              "version_minor": 0,
              "version_major": 2
            },
            "text/plain": [
              "HBox(children=(FloatProgress(value=0.0), HTML(value='')))"
            ]
          },
          "metadata": {
            "tags": []
          }
        },
        {
          "output_type": "stream",
          "text": [
            "Epoch 0: train loss: 3145.6918, train acc: 0.227, test acc: 0.282\n",
            "Epoch 1: train loss: 2816.0313, train acc: 0.298, test acc: 0.3239\n",
            "Epoch 2: train loss: 2676.5868, train acc: 0.335, test acc: 0.3741\n",
            "Epoch 3: train loss: 2564.9022, train acc: 0.377, test acc: 0.3989\n",
            "Epoch 4: train loss: 2447.5408, train acc: 0.415, test acc: 0.437\n",
            "Epoch 5: train loss: 2360.2665, train acc: 0.440, test acc: 0.4404\n",
            "Epoch 6: train loss: 2300.4809, train acc: 0.462, test acc: 0.4419\n",
            "Epoch 7: train loss: 2229.3817, train acc: 0.482, test acc: 0.4867\n",
            "Epoch 8: train loss: 2178.1278, train acc: 0.497, test acc: 0.4959\n",
            "Epoch 9: train loss: 2112.4916, train acc: 0.508, test acc: 0.5151\n",
            "Epoch 10: train loss: 2069.9818, train acc: 0.521, test acc: 0.5143\n",
            "Epoch 11: train loss: 2019.7272, train acc: 0.535, test acc: 0.5217\n",
            "Epoch 12: train loss: 1984.5281, train acc: 0.544, test acc: 0.5411\n",
            "Epoch 13: train loss: 1943.9385, train acc: 0.555, test acc: 0.5355\n",
            "Epoch 14: train loss: 1907.4374, train acc: 0.564, test acc: 0.5658\n",
            "Epoch 15: train loss: 1862.9475, train acc: 0.576, test acc: 0.5659\n",
            "Epoch 16: train loss: 1832.9541, train acc: 0.584, test acc: 0.5925\n",
            "Epoch 17: train loss: 1798.1094, train acc: 0.593, test acc: 0.5848\n",
            "Epoch 18: train loss: 1761.5980, train acc: 0.600, test acc: 0.5939\n",
            "Epoch 19: train loss: 1726.7069, train acc: 0.611, test acc: 0.6084\n",
            "Epoch 20: train loss: 1705.1727, train acc: 0.615, test acc: 0.6288\n",
            "Epoch 21: train loss: 1667.2473, train acc: 0.627, test acc: 0.6278\n",
            "Epoch 22: train loss: 1639.7700, train acc: 0.632, test acc: 0.6335\n",
            "Epoch 23: train loss: 1614.7103, train acc: 0.639, test acc: 0.6359\n",
            "Epoch 24: train loss: 1587.0504, train acc: 0.645, test acc: 0.6261\n",
            "Epoch 25: train loss: 1573.4757, train acc: 0.652, test acc: 0.6426\n",
            "Epoch 26: train loss: 1541.2199, train acc: 0.659, test acc: 0.6534\n",
            "Epoch 27: train loss: 1526.0821, train acc: 0.665, test acc: 0.6357\n",
            "Epoch 28: train loss: 1489.6096, train acc: 0.671, test acc: 0.6539\n"
          ],
          "name": "stdout"
        },
        {
          "output_type": "error",
          "ename": "KeyboardInterrupt",
          "evalue": "ignored",
          "traceback": [
            "\u001b[0;31m---------------------------------------------------------------------------\u001b[0m",
            "\u001b[0;31mKeyboardInterrupt\u001b[0m                         Traceback (most recent call last)",
            "\u001b[0;32m<ipython-input-30-7edf94821c9b>\u001b[0m in \u001b[0;36m<module>\u001b[0;34m()\u001b[0m\n\u001b[0;32m----> 1\u001b[0;31m \u001b[0mtrain_acc_resinc\u001b[0m\u001b[0;34m,\u001b[0m \u001b[0mtest_acc_resinc\u001b[0m\u001b[0;34m,\u001b[0m \u001b[0mtrain_loss_resinc\u001b[0m\u001b[0;34m,\u001b[0m \u001b[0mtest_loss_resinc\u001b[0m \u001b[0;34m=\u001b[0m \u001b[0mtrain\u001b[0m\u001b[0;34m(\u001b[0m\u001b[0mincresnet\u001b[0m\u001b[0;34m,\u001b[0m \u001b[0mtrainloader\u001b[0m\u001b[0;34m,\u001b[0m \u001b[0msgd\u001b[0m\u001b[0;34m,\u001b[0m \u001b[0mloss_func\u001b[0m\u001b[0;34m,\u001b[0m \u001b[0;36m100\u001b[0m\u001b[0;34m)\u001b[0m\u001b[0;34m\u001b[0m\u001b[0;34m\u001b[0m\u001b[0m\n\u001b[0m",
            "\u001b[0;32m<ipython-input-25-a76e157a9ae0>\u001b[0m in \u001b[0;36mtrain\u001b[0;34m(net, dataloader, optimizer, loss_func, epochs, device, scheduler)\u001b[0m\n\u001b[1;32m     21\u001b[0m \u001b[0;34m\u001b[0m\u001b[0m\n\u001b[1;32m     22\u001b[0m             \u001b[0mloss\u001b[0m\u001b[0;34m.\u001b[0m\u001b[0mbackward\u001b[0m\u001b[0;34m(\u001b[0m\u001b[0;34m)\u001b[0m\u001b[0;34m\u001b[0m\u001b[0;34m\u001b[0m\u001b[0m\n\u001b[0;32m---> 23\u001b[0;31m             \u001b[0moptimizer\u001b[0m\u001b[0;34m.\u001b[0m\u001b[0mstep\u001b[0m\u001b[0;34m(\u001b[0m\u001b[0;34m)\u001b[0m\u001b[0;34m\u001b[0m\u001b[0;34m\u001b[0m\u001b[0m\n\u001b[0m\u001b[1;32m     24\u001b[0m \u001b[0;34m\u001b[0m\u001b[0m\n\u001b[1;32m     25\u001b[0m         \u001b[0;32mif\u001b[0m \u001b[0mscheduler\u001b[0m\u001b[0;34m:\u001b[0m \u001b[0mscheduler\u001b[0m\u001b[0;34m.\u001b[0m\u001b[0mstep\u001b[0m\u001b[0;34m(\u001b[0m\u001b[0;34m)\u001b[0m\u001b[0;34m\u001b[0m\u001b[0;34m\u001b[0m\u001b[0m\n",
            "\u001b[0;32m/usr/local/lib/python3.7/dist-packages/torch/optim/lr_scheduler.py\u001b[0m in \u001b[0;36mwrapper\u001b[0;34m(*args, **kwargs)\u001b[0m\n\u001b[1;32m     63\u001b[0m                 \u001b[0minstance\u001b[0m\u001b[0;34m.\u001b[0m\u001b[0m_step_count\u001b[0m \u001b[0;34m+=\u001b[0m \u001b[0;36m1\u001b[0m\u001b[0;34m\u001b[0m\u001b[0;34m\u001b[0m\u001b[0m\n\u001b[1;32m     64\u001b[0m                 \u001b[0mwrapped\u001b[0m \u001b[0;34m=\u001b[0m \u001b[0mfunc\u001b[0m\u001b[0;34m.\u001b[0m\u001b[0m__get__\u001b[0m\u001b[0;34m(\u001b[0m\u001b[0minstance\u001b[0m\u001b[0;34m,\u001b[0m \u001b[0mcls\u001b[0m\u001b[0;34m)\u001b[0m\u001b[0;34m\u001b[0m\u001b[0;34m\u001b[0m\u001b[0m\n\u001b[0;32m---> 65\u001b[0;31m                 \u001b[0;32mreturn\u001b[0m \u001b[0mwrapped\u001b[0m\u001b[0;34m(\u001b[0m\u001b[0;34m*\u001b[0m\u001b[0margs\u001b[0m\u001b[0;34m,\u001b[0m \u001b[0;34m**\u001b[0m\u001b[0mkwargs\u001b[0m\u001b[0;34m)\u001b[0m\u001b[0;34m\u001b[0m\u001b[0;34m\u001b[0m\u001b[0m\n\u001b[0m\u001b[1;32m     66\u001b[0m \u001b[0;34m\u001b[0m\u001b[0m\n\u001b[1;32m     67\u001b[0m             \u001b[0;31m# Note that the returned function here is no longer a bound method,\u001b[0m\u001b[0;34m\u001b[0m\u001b[0;34m\u001b[0m\u001b[0;34m\u001b[0m\u001b[0m\n",
            "\u001b[0;32m/usr/local/lib/python3.7/dist-packages/torch/optim/optimizer.py\u001b[0m in \u001b[0;36mwrapper\u001b[0;34m(*args, **kwargs)\u001b[0m\n\u001b[1;32m     87\u001b[0m                 \u001b[0mprofile_name\u001b[0m \u001b[0;34m=\u001b[0m \u001b[0;34m\"Optimizer.step#{}.step\"\u001b[0m\u001b[0;34m.\u001b[0m\u001b[0mformat\u001b[0m\u001b[0;34m(\u001b[0m\u001b[0mobj\u001b[0m\u001b[0;34m.\u001b[0m\u001b[0m__class__\u001b[0m\u001b[0;34m.\u001b[0m\u001b[0m__name__\u001b[0m\u001b[0;34m)\u001b[0m\u001b[0;34m\u001b[0m\u001b[0;34m\u001b[0m\u001b[0m\n\u001b[1;32m     88\u001b[0m                 \u001b[0;32mwith\u001b[0m \u001b[0mtorch\u001b[0m\u001b[0;34m.\u001b[0m\u001b[0mautograd\u001b[0m\u001b[0;34m.\u001b[0m\u001b[0mprofiler\u001b[0m\u001b[0;34m.\u001b[0m\u001b[0mrecord_function\u001b[0m\u001b[0;34m(\u001b[0m\u001b[0mprofile_name\u001b[0m\u001b[0;34m)\u001b[0m\u001b[0;34m:\u001b[0m\u001b[0;34m\u001b[0m\u001b[0;34m\u001b[0m\u001b[0m\n\u001b[0;32m---> 89\u001b[0;31m                     \u001b[0;32mreturn\u001b[0m \u001b[0mfunc\u001b[0m\u001b[0;34m(\u001b[0m\u001b[0;34m*\u001b[0m\u001b[0margs\u001b[0m\u001b[0;34m,\u001b[0m \u001b[0;34m**\u001b[0m\u001b[0mkwargs\u001b[0m\u001b[0;34m)\u001b[0m\u001b[0;34m\u001b[0m\u001b[0;34m\u001b[0m\u001b[0m\n\u001b[0m\u001b[1;32m     90\u001b[0m             \u001b[0;32mreturn\u001b[0m \u001b[0mwrapper\u001b[0m\u001b[0;34m\u001b[0m\u001b[0;34m\u001b[0m\u001b[0m\n\u001b[1;32m     91\u001b[0m \u001b[0;34m\u001b[0m\u001b[0m\n",
            "\u001b[0;32m/usr/local/lib/python3.7/dist-packages/torch/autograd/grad_mode.py\u001b[0m in \u001b[0;36mdecorate_context\u001b[0;34m(*args, **kwargs)\u001b[0m\n\u001b[1;32m     25\u001b[0m         \u001b[0;32mdef\u001b[0m \u001b[0mdecorate_context\u001b[0m\u001b[0;34m(\u001b[0m\u001b[0;34m*\u001b[0m\u001b[0margs\u001b[0m\u001b[0;34m,\u001b[0m \u001b[0;34m**\u001b[0m\u001b[0mkwargs\u001b[0m\u001b[0;34m)\u001b[0m\u001b[0;34m:\u001b[0m\u001b[0;34m\u001b[0m\u001b[0;34m\u001b[0m\u001b[0m\n\u001b[1;32m     26\u001b[0m             \u001b[0;32mwith\u001b[0m \u001b[0mself\u001b[0m\u001b[0;34m.\u001b[0m\u001b[0m__class__\u001b[0m\u001b[0;34m(\u001b[0m\u001b[0;34m)\u001b[0m\u001b[0;34m:\u001b[0m\u001b[0;34m\u001b[0m\u001b[0;34m\u001b[0m\u001b[0m\n\u001b[0;32m---> 27\u001b[0;31m                 \u001b[0;32mreturn\u001b[0m \u001b[0mfunc\u001b[0m\u001b[0;34m(\u001b[0m\u001b[0;34m*\u001b[0m\u001b[0margs\u001b[0m\u001b[0;34m,\u001b[0m \u001b[0;34m**\u001b[0m\u001b[0mkwargs\u001b[0m\u001b[0;34m)\u001b[0m\u001b[0;34m\u001b[0m\u001b[0;34m\u001b[0m\u001b[0m\n\u001b[0m\u001b[1;32m     28\u001b[0m         \u001b[0;32mreturn\u001b[0m \u001b[0mcast\u001b[0m\u001b[0;34m(\u001b[0m\u001b[0mF\u001b[0m\u001b[0;34m,\u001b[0m \u001b[0mdecorate_context\u001b[0m\u001b[0;34m)\u001b[0m\u001b[0;34m\u001b[0m\u001b[0;34m\u001b[0m\u001b[0m\n\u001b[1;32m     29\u001b[0m \u001b[0;34m\u001b[0m\u001b[0m\n",
            "\u001b[0;32m/usr/local/lib/python3.7/dist-packages/torch/optim/sgd.py\u001b[0m in \u001b[0;36mstep\u001b[0;34m(self, closure)\u001b[0m\n\u001b[1;32m    115\u001b[0m                   \u001b[0mlr\u001b[0m\u001b[0;34m,\u001b[0m\u001b[0;34m\u001b[0m\u001b[0;34m\u001b[0m\u001b[0m\n\u001b[1;32m    116\u001b[0m                   \u001b[0mdampening\u001b[0m\u001b[0;34m,\u001b[0m\u001b[0;34m\u001b[0m\u001b[0;34m\u001b[0m\u001b[0m\n\u001b[0;32m--> 117\u001b[0;31m                   nesterov)\n\u001b[0m\u001b[1;32m    118\u001b[0m \u001b[0;34m\u001b[0m\u001b[0m\n\u001b[1;32m    119\u001b[0m             \u001b[0;31m# update momentum_buffers in state\u001b[0m\u001b[0;34m\u001b[0m\u001b[0;34m\u001b[0m\u001b[0;34m\u001b[0m\u001b[0m\n",
            "\u001b[0;32m/usr/local/lib/python3.7/dist-packages/torch/optim/_functional.py\u001b[0m in \u001b[0;36msgd\u001b[0;34m(params, d_p_list, momentum_buffer_list, weight_decay, momentum, lr, dampening, nesterov)\u001b[0m\n\u001b[1;32m    167\u001b[0m                 \u001b[0mmomentum_buffer_list\u001b[0m\u001b[0;34m[\u001b[0m\u001b[0mi\u001b[0m\u001b[0;34m]\u001b[0m \u001b[0;34m=\u001b[0m \u001b[0mbuf\u001b[0m\u001b[0;34m\u001b[0m\u001b[0;34m\u001b[0m\u001b[0m\n\u001b[1;32m    168\u001b[0m             \u001b[0;32melse\u001b[0m\u001b[0;34m:\u001b[0m\u001b[0;34m\u001b[0m\u001b[0;34m\u001b[0m\u001b[0m\n\u001b[0;32m--> 169\u001b[0;31m                 \u001b[0mbuf\u001b[0m\u001b[0;34m.\u001b[0m\u001b[0mmul_\u001b[0m\u001b[0;34m(\u001b[0m\u001b[0mmomentum\u001b[0m\u001b[0;34m)\u001b[0m\u001b[0;34m.\u001b[0m\u001b[0madd_\u001b[0m\u001b[0;34m(\u001b[0m\u001b[0md_p\u001b[0m\u001b[0;34m,\u001b[0m \u001b[0malpha\u001b[0m\u001b[0;34m=\u001b[0m\u001b[0;36m1\u001b[0m \u001b[0;34m-\u001b[0m \u001b[0mdampening\u001b[0m\u001b[0;34m)\u001b[0m\u001b[0;34m\u001b[0m\u001b[0;34m\u001b[0m\u001b[0m\n\u001b[0m\u001b[1;32m    170\u001b[0m \u001b[0;34m\u001b[0m\u001b[0m\n\u001b[1;32m    171\u001b[0m             \u001b[0;32mif\u001b[0m \u001b[0mnesterov\u001b[0m\u001b[0;34m:\u001b[0m\u001b[0;34m\u001b[0m\u001b[0;34m\u001b[0m\u001b[0m\n",
            "\u001b[0;31mKeyboardInterrupt\u001b[0m: "
          ]
        }
      ]
    },
    {
      "cell_type": "code",
      "metadata": {
        "id": "MZ-n1d8ezp7c"
      },
      "source": [
        "import pandas as pd\n",
        "dataset = pd.DataFrame({'train_acc': train_acc_resinc, \n",
        "                        'test_acc': test_acc_resinc,\n",
        "                        'train_loss': train_loss_resinc, \n",
        "                        'test_loss': test_loss_resinc})\n",
        "dataset.to_csv('inception_resnet_dense.csv')\n",
        "\n",
        "# Specify a path\n",
        "PATH = \"IncepResNet02_dense.pt\"\n",
        "\n",
        "# Save\n",
        "torch.save(incresnet, PATH)"
      ],
      "id": "MZ-n1d8ezp7c",
      "execution_count": null,
      "outputs": []
    },
    {
      "cell_type": "code",
      "metadata": {
        "colab": {
          "base_uri": "https://localhost:8080/",
          "height": 269
        },
        "id": "24dh8fET_ei7",
        "outputId": "89408702-50a8-406c-de44-0931c253cee9"
      },
      "source": [
        "plt.plot(train_acc_resinc,label='train acc')\n",
        "plt.plot(test_acc_resinc,label='test acc')\n",
        "plt.legend()\n",
        "plt.ylim([0.5,1])\n",
        "plt.show()"
      ],
      "id": "24dh8fET_ei7",
      "execution_count": null,
      "outputs": [
        {
          "output_type": "display_data",
          "data": {
            "image/png": "[encoded data removed]",
            "text/plain": [
              "<Figure size 432x288 with 1 Axes>"
            ]
          },
          "metadata": {
            "tags": [],
            "needs_background": "light"
          }
        }
      ]
    },
    {
      "cell_type": "code",
      "metadata": {
        "id": "5MO2E1mI_km7",
        "colab": {
          "base_uri": "https://localhost:8080/"
        },
        "outputId": "d972cb29-6b45-40fe-ac2e-91770159c693"
      },
      "source": [
        "loss_func = nn.CrossEntropyLoss()\n",
        "incresnet = IncepResNet01().to(device)\n",
        "sgd = optim.SGD(incresnet.parameters(), lr=0.01, momentum=0.9)\n",
        "scheduler = optim.lr_scheduler.StepLR(sgd, step_size=10, gamma=0.5, verbose=True)"
      ],
      "id": "5MO2E1mI_km7",
      "execution_count": null,
      "outputs": [
        {
          "output_type": "stream",
          "text": [
            "Adjusting learning rate of group 0 to 1.0000e-02.\n"
          ],
          "name": "stdout"
        }
      ]
    },
    {
      "cell_type": "code",
      "metadata": {
        "colab": {
          "base_uri": "https://localhost:8080/",
          "height": 1000,
          "referenced_widgets": [
            "939ff3a6753c41b99334c6f6b86ae5ed",
            "076775198f5f4f8680c90b633a6c6e21",
            "71555e2c96b84a559d93bfe7762e1acd",
            "3caf9549dc2246da8c40d62648472f5b",
            "b4f6751c739b440885a8bbb48cf82763",
            "2783f63b54d8423d9c77183d7bde69b5",
            "6e3cd649ffa141f984853a1c48d51abf",
            "78ccd5e27662493abfdd406edd37f4db"
          ]
        },
        "id": "3CXFKv1EYDzu",
        "outputId": "fdbf0534-e2d0-456d-b791-99107add0a5e"
      },
      "source": [
        "train_acc_resinc, test_acc_resinc, train_loss_resinc, test_loss_resinc = train(incresnet, trainloader, sgd, loss_func, 150)"
      ],
      "id": "3CXFKv1EYDzu",
      "execution_count": null,
      "outputs": [
        {
          "output_type": "display_data",
          "data": {
            "application/vnd.jupyter.widget-view+json": {
              "model_id": "939ff3a6753c41b99334c6f6b86ae5ed",
              "version_minor": 0,
              "version_major": 2
            },
            "text/plain": [
              "HBox(children=(FloatProgress(value=0.0, max=150.0), HTML(value='')))"
            ]
          },
          "metadata": {
            "tags": []
          }
        },
        {
          "output_type": "stream",
          "text": [
            "Epoch 0: train loss: 3451.5961, train acc: 0.149, test acc: 0.2058\n",
            "Epoch 1: train loss: 2950.3428, train acc: 0.258, test acc: 0.3053\n",
            "Epoch 2: train loss: 2755.0677, train acc: 0.312, test acc: 0.3276\n",
            "Epoch 3: train loss: 2616.9412, train acc: 0.365, test acc: 0.3878\n",
            "Epoch 4: train loss: 2470.0185, train acc: 0.408, test acc: 0.4339\n",
            "Epoch 5: train loss: 2368.9342, train acc: 0.435, test acc: 0.4461\n",
            "Epoch 6: train loss: 2267.9106, train acc: 0.470, test acc: 0.4832\n",
            "Epoch 7: train loss: 2185.3443, train acc: 0.492, test acc: 0.5081\n",
            "Epoch 8: train loss: 2114.0029, train acc: 0.510, test acc: 0.5126\n",
            "Epoch 9: train loss: 2049.0236, train acc: 0.528, test acc: 0.5495\n",
            "Epoch 10: train loss: 1986.6030, train acc: 0.544, test acc: 0.5566\n",
            "Epoch 11: train loss: 1943.8075, train acc: 0.557, test acc: 0.5558\n",
            "Epoch 12: train loss: 1901.5092, train acc: 0.571, test acc: 0.5659\n",
            "Epoch 13: train loss: 1856.7825, train acc: 0.578, test acc: 0.5904\n",
            "Epoch 14: train loss: 1808.8054, train acc: 0.593, test acc: 0.5875\n",
            "Epoch 15: train loss: 1763.7095, train acc: 0.605, test acc: 0.6007\n",
            "Epoch 16: train loss: 1750.0364, train acc: 0.608, test acc: 0.6071\n",
            "Epoch 17: train loss: 1706.4424, train acc: 0.622, test acc: 0.6011\n",
            "Epoch 18: train loss: 1679.7155, train acc: 0.626, test acc: 0.6168\n",
            "Epoch 19: train loss: 1648.9684, train acc: 0.630, test acc: 0.6122\n",
            "Epoch 20: train loss: 1617.8532, train acc: 0.640, test acc: 0.6209\n",
            "Epoch 21: train loss: 1577.9576, train acc: 0.649, test acc: 0.6151\n",
            "Epoch 22: train loss: 1562.2061, train acc: 0.654, test acc: 0.6473\n",
            "Epoch 23: train loss: 1537.2241, train acc: 0.661, test acc: 0.6481\n",
            "Epoch 24: train loss: 1513.5961, train acc: 0.670, test acc: 0.6703\n",
            "Epoch 25: train loss: 1483.9762, train acc: 0.676, test acc: 0.6636\n",
            "Epoch 26: train loss: 1462.4357, train acc: 0.681, test acc: 0.6684\n",
            "Epoch 27: train loss: 1428.5240, train acc: 0.687, test acc: 0.6704\n",
            "Epoch 28: train loss: 1413.8858, train acc: 0.688, test acc: 0.6536\n",
            "Epoch 29: train loss: 1400.1953, train acc: 0.694, test acc: 0.67\n",
            "Epoch 30: train loss: 1368.8120, train acc: 0.702, test acc: 0.6874\n",
            "Epoch 31: train loss: 1353.4603, train acc: 0.706, test acc: 0.6808\n",
            "Epoch 32: train loss: 1332.9250, train acc: 0.709, test acc: 0.6779\n",
            "Epoch 33: train loss: 1313.8041, train acc: 0.715, test acc: 0.7056\n",
            "Epoch 34: train loss: 1310.8523, train acc: 0.714, test acc: 0.6919\n",
            "Epoch 35: train loss: 1288.1185, train acc: 0.721, test acc: 0.7169\n",
            "Epoch 36: train loss: 1254.0639, train acc: 0.727, test acc: 0.7072\n",
            "Epoch 37: train loss: 1245.1960, train acc: 0.731, test acc: 0.7022\n",
            "Epoch 38: train loss: 1229.8685, train acc: 0.734, test acc: 0.7049\n",
            "Epoch 39: train loss: 1219.1786, train acc: 0.739, test acc: 0.7239\n",
            "Epoch 40: train loss: 1188.5389, train acc: 0.743, test acc: 0.7253\n",
            "Epoch 41: train loss: 1196.1375, train acc: 0.741, test acc: 0.7204\n",
            "Epoch 42: train loss: 1169.0262, train acc: 0.747, test acc: 0.7231\n",
            "Epoch 43: train loss: 1158.7086, train acc: 0.749, test acc: 0.7285\n",
            "Epoch 44: train loss: 1135.2617, train acc: 0.755, test acc: 0.7261\n",
            "Epoch 45: train loss: 1142.2728, train acc: 0.754, test acc: 0.7277\n",
            "Epoch 46: train loss: 1113.6906, train acc: 0.758, test acc: 0.7309\n",
            "Epoch 47: train loss: 1114.9489, train acc: 0.761, test acc: 0.7272\n",
            "Epoch 48: train loss: 1097.7646, train acc: 0.763, test acc: 0.7422\n",
            "Epoch 49: train loss: 1087.5478, train acc: 0.766, test acc: 0.7367\n",
            "Epoch 50: train loss: 1080.7804, train acc: 0.767, test acc: 0.7473\n",
            "Epoch 51: train loss: 1067.2366, train acc: 0.770, test acc: 0.7429\n",
            "Epoch 52: train loss: 1048.2412, train acc: 0.773, test acc: 0.7426\n",
            "Epoch 53: train loss: 1058.4403, train acc: 0.773, test acc: 0.7312\n",
            "Epoch 54: train loss: 1049.3124, train acc: 0.774, test acc: 0.7428\n",
            "Epoch 55: train loss: 1042.2400, train acc: 0.776, test acc: 0.7385\n",
            "Epoch 56: train loss: 1016.8675, train acc: 0.781, test acc: 0.7434\n",
            "Epoch 57: train loss: 1011.6289, train acc: 0.783, test acc: 0.7536\n",
            "Epoch 58: train loss: 1010.9154, train acc: 0.784, test acc: 0.7496\n",
            "Epoch 59: train loss: 1000.5539, train acc: 0.785, test acc: 0.7469\n",
            "Epoch 60: train loss: 997.9850, train acc: 0.787, test acc: 0.7448\n",
            "Epoch 61: train loss: 982.4409, train acc: 0.790, test acc: 0.7559\n",
            "Epoch 62: train loss: 977.9616, train acc: 0.790, test acc: 0.7559\n",
            "Epoch 63: train loss: 964.8459, train acc: 0.792, test acc: 0.7501\n",
            "Epoch 64: train loss: 962.5411, train acc: 0.794, test acc: 0.7606\n",
            "Epoch 65: train loss: 959.0368, train acc: 0.794, test acc: 0.7542\n",
            "Epoch 66: train loss: 946.4164, train acc: 0.795, test acc: 0.7528\n",
            "Epoch 67: train loss: 936.2114, train acc: 0.799, test acc: 0.7517\n",
            "Epoch 68: train loss: 929.9430, train acc: 0.800, test acc: 0.7609\n"
          ],
          "name": "stdout"
        }
      ]
    }
  ]
}