{
 "cells": [
  {
   "cell_type": "code",
   "execution_count": 1,
   "id": "acting-classroom",
   "metadata": {},
   "outputs": [],
   "source": [
    "%config Completer.use_jedi = False"
   ]
  },
  {
   "cell_type": "code",
   "execution_count": 2,
   "id": "remarkable-nation",
   "metadata": {},
   "outputs": [],
   "source": [
    "import torch\n",
    "from torch import nn\n",
    "from torch.utils.data import DataLoader\n",
    "from torchvision import datasets\n",
    "import torchvision.transforms as transforms\n",
    "import torch.nn.functional as F\n",
    "from torch import optim\n",
    "\n",
    "import matplotlib.pyplot as plt\n",
    "import numpy as np\n",
    "import plotly.express as px\n",
    "from tqdm.notebook import tqdm"
   ]
  },
  {
   "cell_type": "code",
   "execution_count": 3,
   "id": "phantom-kenya",
   "metadata": {},
   "outputs": [
    {
     "name": "stdout",
     "output_type": "stream",
     "text": [
      "Files already downloaded and verified\n",
      "Files already downloaded and verified\n"
     ]
    }
   ],
   "source": [
    "transform = transforms.Compose(\n",
    "    [transforms.ToTensor(),\n",
    "     transforms.Normalize((0.5, 0.5, 0.5), (0.5, 0.5, 0.5))])\n",
    "\n",
    "trainset = datasets.CIFAR10(\n",
    "    root='./data', train=True, download=True, transform=transform)\n",
    "trainloader = torch.utils.data.DataLoader(\n",
    "    trainset, batch_size=32, shuffle=True, num_workers=2)\n",
    "\n",
    "testset = datasets.CIFAR10(\n",
    "    root='./data', train=False, download=True, transform=transform)\n",
    "testloader = torch.utils.data.DataLoader(\n",
    "    testset, batch_size=32, shuffle=False, num_workers=2)\n",
    "\n",
    "classes = ('plane', 'car', 'bird', 'cat',\n",
    "           'deer', 'dog', 'frog', 'horse', 'ship', 'truck')"
   ]
  },
  {
   "cell_type": "code",
   "execution_count": null,
   "id": "immediate-error",
   "metadata": {},
   "outputs": [],
   "source": [
    "px.imshow(torch.movedim(trainset[0][0], 0, 2))"
   ]
  },
  {
   "cell_type": "code",
   "execution_count": 6,
   "id": "boring-chest",
   "metadata": {},
   "outputs": [
    {
     "data": {
      "text/plain": [
       "'frog'"
      ]
     },
     "execution_count": 6,
     "metadata": {},
     "output_type": "execute_result"
    }
   ],
   "source": [
    "classes[trainset[0][1]]"
   ]
  },
  {
   "cell_type": "code",
   "execution_count": null,
   "id": "stone-radical",
   "metadata": {},
   "outputs": [],
   "source": []
  },
  {
   "cell_type": "code",
   "execution_count": 44,
   "id": "weird-water",
   "metadata": {},
   "outputs": [],
   "source": [
    "def test(net, dataloader, device='cuda:0'):\n",
    "    net = net.to(device)\n",
    "    conf_matrix = np.zeros((10, 10))\n",
    "    for i, (X, y) in enumerate(dataloader):\n",
    "        X, y = X.to(device), y.to(device)\n",
    "        with torch.no_grad():\n",
    "            pred = net(X)\n",
    "            pred_cls = pred.argmax(1)\n",
    "            for j in range(len(pred_cls)):\n",
    "                conf_matrix[y[j]][pred_cls[j]] += 1\n",
    "    return conf_matrix"
   ]
  },
  {
   "cell_type": "code",
   "execution_count": 48,
   "id": "responsible-integral",
   "metadata": {},
   "outputs": [],
   "source": [
    "def train(net, dataloader, optimizer, loss_func, epochs=100, device='cuda:0'):\n",
    "    n = len(trainloader.dataset)\n",
    "    net.to(device)\n",
    "    train_acc = np.zeros(epochs)\n",
    "    test_acc = np.zeros(epochs)\n",
    "    train_loss = np.zeros(epochs)\n",
    "    test_loss = np.zeros(epochs)\n",
    "    \n",
    "    for epoch in tqdm(range(epochs)):\n",
    "        epoch_ok = 0\n",
    "        for i, (X, y) in enumerate(dataloader):\n",
    "            X, y = X.to(device), y.to(device)\n",
    "            optimizer.zero_grad()\n",
    "            pred = net(X)\n",
    "            loss = loss_func(pred, y)\n",
    "            \n",
    "            train_loss[epoch] += loss.item()\n",
    "            pred_cls = pred.argmax(1)\n",
    "            epoch_ok += sum(pred_cls == y)\n",
    "            \n",
    "            loss.backward()\n",
    "            optimizer.step()\n",
    "        \n",
    "        conf_matrix = test(net, testloader)    \n",
    "        test_acc[epoch] = np.diag(conf_matrix).sum() / np.sum(conf_matrix)\n",
    "        train_acc[epoch] = epoch_ok / n\n",
    "        \n",
    "        print(f'Epoch {epoch}: train loss: {train_loss[epoch]:.4f}, train acc: {train_acc[epoch]:.3f}, '\n",
    "              f'test acc: {test_acc[epoch]}')"
   ]
  },
  {
   "cell_type": "code",
   "execution_count": 33,
   "id": "jewish-drinking",
   "metadata": {},
   "outputs": [],
   "source": [
    "class Net(nn.Module):\n",
    "    \n",
    "    def __init__(self):\n",
    "        super(Net, self).__init__()\n",
    "        self.conv1 = nn.Conv2d(in_channels=3, out_channels=16, kernel_size=(3,3), padding=1)\n",
    "        self.conv2 = nn.Conv2d(in_channels=16, out_channels=32, kernel_size=(3,3), padding=1)\n",
    "        self.conv3 = nn.Conv2d(in_channels=32, out_channels=64, kernel_size=(3,3), padding=1)\n",
    "        self.pool = nn.MaxPool2d(kernel_size=(2,2))\n",
    "        self.gap = nn.MaxPool2d(kernel_size=(8,8))\n",
    "        \n",
    "        self.linear = nn.Sequential(\n",
    "            nn.Linear(64, 32),\n",
    "            nn.ReLU(),\n",
    "            nn.Linear(32, 10),\n",
    "            nn.ReLU()\n",
    "        )\n",
    "        \n",
    "    \n",
    "    def forward(self, x):\n",
    "        # conv block\n",
    "        x = self.conv1(x)\n",
    "        x = self.pool(F.relu(x))\n",
    "        x = self.conv2(x)\n",
    "        x = self.pool(F.relu(x))\n",
    "        x = self.conv3(x)\n",
    "        x = self.gap(F.relu(x))\n",
    "        x = x.squeeze()\n",
    "        # mlp block\n",
    "        x = self.linear(x)\n",
    "        return x\n",
    "    "
   ]
  },
  {
   "cell_type": "code",
   "execution_count": 86,
   "id": "threaded-garden",
   "metadata": {},
   "outputs": [],
   "source": [
    "class Net(nn.Module):\n",
    "    \n",
    "    def __init__(self):\n",
    "        super(Net, self).__init__()\n",
    "        self.conv1 = nn.Conv2d(in_channels=3, out_channels=16, kernel_size=(3,3), padding=1)\n",
    "        self.conv2 = nn.Conv2d(in_channels=16, out_channels=32, kernel_size=(3,3), padding=1)\n",
    "        self.conv3 = nn.Conv2d(in_channels=32, out_channels=64, kernel_size=(3,3), padding=1)\n",
    "        self.conv4 = nn.Conv2d(in_channels=64, out_channels=128, kernel_size=(3,3), padding=1)\n",
    "        self.pool = nn.MaxPool2d(kernel_size=(2,2))\n",
    "        self.gap = nn.MaxPool2d(kernel_size=(16, 16))\n",
    "        self.bn1 = nn.BatchNorm2d(16)\n",
    "        self.bn2 = nn.BatchNorm2d(32)\n",
    "        self.bn3 = nn.BatchNorm2d(64)\n",
    "        self.bn4 = nn.BatchNorm2d(128)\n",
    "        \n",
    "        self.linear = nn.Sequential(\n",
    "            nn.Linear(128, 64),\n",
    "            nn.ReLU(),\n",
    "            nn.Dropout(),\n",
    "            nn.Linear(64, 32),\n",
    "            nn.ReLU(),\n",
    "            nn.Dropout(),\n",
    "            nn.Linear(32, 10),\n",
    "            nn.ReLU()\n",
    "        )\n",
    "        \n",
    "    \n",
    "    def forward(self, x):\n",
    "        # conv block\n",
    "        x = self.conv1(x)\n",
    "        x = self.bn1(x)\n",
    "        x = F.relu(x)\n",
    "        x = self.conv2(x)\n",
    "        x = self.bn2(x)\n",
    "        x = F.relu(x)\n",
    "        x = self.conv3(x)\n",
    "        x = self.bn3(x)\n",
    "        x = F.relu(x)\n",
    "        x = self.pool(x)\n",
    "        x = self.conv4(x)\n",
    "        x = self.bn4(x)\n",
    "        x = F.relu(x)\n",
    "        x = self.gap(x)\n",
    "\n",
    "        x = x.squeeze()\n",
    "        # mlp block\n",
    "        x = self.linear(x)\n",
    "        return x\n",
    "    "
   ]
  },
  {
   "cell_type": "code",
   "execution_count": 87,
   "id": "unable-voice",
   "metadata": {},
   "outputs": [
    {
     "data": {
      "text/plain": [
       "device(type='cuda', index=0)"
      ]
     },
     "execution_count": 87,
     "metadata": {},
     "output_type": "execute_result"
    }
   ],
   "source": [
    "device = torch.device(\"cuda:0\" if torch.cuda.is_available() else \"cpu\")\n",
    "device"
   ]
  },
  {
   "cell_type": "code",
   "execution_count": 88,
   "id": "crazy-showcase",
   "metadata": {},
   "outputs": [],
   "source": [
    "net = Net().to(device)"
   ]
  },
  {
   "cell_type": "code",
   "execution_count": 91,
   "id": "considered-outside",
   "metadata": {},
   "outputs": [],
   "source": [
    "loss_func = nn.CrossEntropyLoss()\n",
    "adam = optim.SGD(net.parameters(), lr=0.01, momentum=0.9)"
   ]
  },
  {
   "cell_type": "code",
   "execution_count": null,
   "id": "animated-popularity",
   "metadata": {},
   "outputs": [
    {
     "data": {
      "application/vnd.jupyter.widget-view+json": {
       "model_id": "7062b14283924be3a3695e4ed57803f1",
       "version_major": 2,
       "version_minor": 0
      },
      "text/plain": [
       "  0%|          | 0/30 [00:00<?, ?it/s]"
      ]
     },
     "metadata": {},
     "output_type": "display_data"
    },
    {
     "name": "stdout",
     "output_type": "stream",
     "text": [
      "Epoch 0: train loss: 2895.6760, train acc: 0.267, test acc: 0.2804\n",
      "Epoch 1: train loss: 2791.8459, train acc: 0.276, test acc: 0.2853\n",
      "Epoch 2: train loss: 2722.9210, train acc: 0.287, test acc: 0.2755\n",
      "Epoch 3: train loss: 2712.7681, train acc: 0.291, test acc: 0.2837\n",
      "Epoch 4: train loss: 2632.5181, train acc: 0.314, test acc: 0.3174\n",
      "Epoch 5: train loss: 2595.5600, train acc: 0.327, test acc: 0.2915\n",
      "Epoch 6: train loss: 2515.4739, train acc: 0.351, test acc: 0.3673\n",
      "Epoch 7: train loss: 2451.6955, train acc: 0.374, test acc: 0.4042\n",
      "Epoch 8: train loss: 2341.0621, train acc: 0.414, test acc: 0.4214\n",
      "Epoch 9: train loss: 2210.2629, train acc: 0.456, test acc: 0.4768\n",
      "Epoch 10: train loss: 2083.5239, train acc: 0.489, test acc: 0.5017\n",
      "Epoch 11: train loss: 1976.1048, train acc: 0.523, test acc: 0.5207\n",
      "Epoch 12: train loss: 1902.4885, train acc: 0.540, test acc: 0.5248\n",
      "Epoch 13: train loss: 1844.2700, train acc: 0.557, test acc: 0.5271\n",
      "Epoch 14: train loss: 1810.1991, train acc: 0.569, test acc: 0.5285\n",
      "Epoch 15: train loss: 1744.5082, train acc: 0.587, test acc: 0.5756\n",
      "Epoch 16: train loss: 1731.2938, train acc: 0.592, test acc: 0.57\n",
      "Epoch 17: train loss: 1721.5025, train acc: 0.599, test acc: 0.5598\n",
      "Epoch 18: train loss: 1677.2084, train acc: 0.610, test acc: 0.5702\n",
      "Epoch 19: train loss: 1647.8332, train acc: 0.622, test acc: 0.5855\n",
      "Epoch 20: train loss: 1628.7018, train acc: 0.629, test acc: 0.5913\n",
      "Epoch 21: train loss: 1597.7795, train acc: 0.637, test acc: 0.5901\n",
      "Epoch 22: train loss: 1585.5057, train acc: 0.639, test acc: 0.5935\n",
      "Epoch 23: train loss: 1565.3250, train acc: 0.650, test acc: 0.5892\n",
      "Epoch 24: train loss: 1525.1448, train acc: 0.659, test acc: 0.5952\n"
     ]
    }
   ],
   "source": [
    "train(net, trainloader, adam, loss_func, 30)"
   ]
  },
  {
   "cell_type": "code",
   "execution_count": null,
   "id": "aware-auction",
   "metadata": {},
   "outputs": [],
   "source": []
  },
  {
   "cell_type": "code",
   "execution_count": null,
   "id": "turned-measurement",
   "metadata": {},
   "outputs": [],
   "source": []
  },
  {
   "cell_type": "code",
   "execution_count": null,
   "id": "indian-sullivan",
   "metadata": {},
   "outputs": [],
   "source": []
  },
  {
   "cell_type": "markdown",
   "id": "surface-degree",
   "metadata": {},
   "source": [
    "- lr scheduler,\n",
    "- "
   ]
  },
  {
   "cell_type": "code",
   "execution_count": null,
   "id": "least-algebra",
   "metadata": {},
   "outputs": [],
   "source": []
  },
  {
   "cell_type": "code",
   "execution_count": null,
   "id": "eastern-education",
   "metadata": {},
   "outputs": [],
   "source": []
  },
  {
   "cell_type": "code",
   "execution_count": null,
   "id": "celtic-generic",
   "metadata": {},
   "outputs": [],
   "source": []
  },
  {
   "cell_type": "code",
   "execution_count": null,
   "id": "bizarre-inquiry",
   "metadata": {},
   "outputs": [],
   "source": []
  },
  {
   "cell_type": "code",
   "execution_count": null,
   "id": "binding-honor",
   "metadata": {},
   "outputs": [],
   "source": []
  }
 ],
 "metadata": {
  "kernelspec": {
   "display_name": "Python 3",
   "language": "python",
   "name": "python3"
  },
  "language_info": {
   "codemirror_mode": {
    "name": "ipython",
    "version": 3
   },
   "file_extension": ".py",
   "mimetype": "text/x-python",
   "name": "python",
   "nbconvert_exporter": "python",
   "pygments_lexer": "ipython3",
   "version": "3.8.0"
  }
 },
 "nbformat": 4,
 "nbformat_minor": 5
}
