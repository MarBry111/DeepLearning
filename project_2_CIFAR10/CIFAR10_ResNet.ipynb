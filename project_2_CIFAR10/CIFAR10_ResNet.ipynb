{
  "nbformat": 4,
  "nbformat_minor": 5,
  "metadata": {
    "kernelspec": {
      "display_name": "Python 3",
      "language": "python",
      "name": "python3"
    },
    "language_info": {
      "codemirror_mode": {
        "name": "ipython",
        "version": 3
      },
      "file_extension": ".py",
      "mimetype": "text/x-python",
      "name": "python",
      "nbconvert_exporter": "python",
      "pygments_lexer": "ipython3",
      "version": "3.7.10"
    },
    "toc": {
      "base_numbering": 1,
      "nav_menu": {},
      "number_sections": true,
      "sideBar": true,
      "skip_h1_title": false,
      "title_cell": "Table of Contents",
      "title_sidebar": "Contents",
      "toc_cell": false,
      "toc_position": {},
      "toc_section_display": true,
      "toc_window_display": false
    },
    "colab": {
      "name": "Kopia notatnika CIFAR10.ipynb",
      "provenance": [],
      "collapsed_sections": [],
      "include_colab_link": true
    },
    "accelerator": "GPU",
    "widgets": {
      "application/vnd.jupyter.widget-state+json": {
        "471048f0da81438f8bcbdb63421c10b7": {
          "model_module": "@jupyter-widgets/controls",
          "model_name": "HBoxModel",
          "state": {
            "_view_name": "HBoxView",
            "_dom_classes": [],
            "_model_name": "HBoxModel",
            "_view_module": "@jupyter-widgets/controls",
            "_model_module_version": "1.5.0",
            "_view_count": null,
            "_view_module_version": "1.5.0",
            "box_style": "",
            "layout": "IPY_MODEL_4190dc55fca94cda98323458dd14291c",
            "_model_module": "@jupyter-widgets/controls",
            "children": [
              "IPY_MODEL_83e26d00b341471f96c101099e5344cd",
              "IPY_MODEL_f3d24a4a8ac44af2a721439e4e2eff03"
            ]
          }
        },
        "4190dc55fca94cda98323458dd14291c": {
          "model_module": "@jupyter-widgets/base",
          "model_name": "LayoutModel",
          "state": {
            "_view_name": "LayoutView",
            "grid_template_rows": null,
            "right": null,
            "justify_content": null,
            "_view_module": "@jupyter-widgets/base",
            "overflow": null,
            "_model_module_version": "1.2.0",
            "_view_count": null,
            "flex_flow": null,
            "width": null,
            "min_width": null,
            "border": null,
            "align_items": null,
            "bottom": null,
            "_model_module": "@jupyter-widgets/base",
            "top": null,
            "grid_column": null,
            "overflow_y": null,
            "overflow_x": null,
            "grid_auto_flow": null,
            "grid_area": null,
            "grid_template_columns": null,
            "flex": null,
            "_model_name": "LayoutModel",
            "justify_items": null,
            "grid_row": null,
            "max_height": null,
            "align_content": null,
            "visibility": null,
            "align_self": null,
            "height": null,
            "min_height": null,
            "padding": null,
            "grid_auto_rows": null,
            "grid_gap": null,
            "max_width": null,
            "order": null,
            "_view_module_version": "1.2.0",
            "grid_template_areas": null,
            "object_position": null,
            "object_fit": null,
            "grid_auto_columns": null,
            "margin": null,
            "display": null,
            "left": null
          }
        },
        "83e26d00b341471f96c101099e5344cd": {
          "model_module": "@jupyter-widgets/controls",
          "model_name": "FloatProgressModel",
          "state": {
            "_view_name": "ProgressView",
            "style": "IPY_MODEL_48f95b57c51d43fb93e95f0c7d684c90",
            "_dom_classes": [],
            "description": "",
            "_model_name": "FloatProgressModel",
            "bar_style": "success",
            "max": 170498071,
            "_view_module": "@jupyter-widgets/controls",
            "_model_module_version": "1.5.0",
            "value": 170498071,
            "_view_count": null,
            "_view_module_version": "1.5.0",
            "orientation": "horizontal",
            "min": 0,
            "description_tooltip": null,
            "_model_module": "@jupyter-widgets/controls",
            "layout": "IPY_MODEL_2690b2f45d69476eadbf9f0baf96f744"
          }
        },
        "f3d24a4a8ac44af2a721439e4e2eff03": {
          "model_module": "@jupyter-widgets/controls",
          "model_name": "HTMLModel",
          "state": {
            "_view_name": "HTMLView",
            "style": "IPY_MODEL_8bbca8201efa411a89c3e10c0a933738",
            "_dom_classes": [],
            "description": "",
            "_model_name": "HTMLModel",
            "placeholder": "​",
            "_view_module": "@jupyter-widgets/controls",
            "_model_module_version": "1.5.0",
            "value": " 170499072/? [00:07&lt;00:00, 23893159.49it/s]",
            "_view_count": null,
            "_view_module_version": "1.5.0",
            "description_tooltip": null,
            "_model_module": "@jupyter-widgets/controls",
            "layout": "IPY_MODEL_98a36231074b4b8c9f9728184b205a15"
          }
        },
        "48f95b57c51d43fb93e95f0c7d684c90": {
          "model_module": "@jupyter-widgets/controls",
          "model_name": "ProgressStyleModel",
          "state": {
            "_view_name": "StyleView",
            "_model_name": "ProgressStyleModel",
            "description_width": "initial",
            "_view_module": "@jupyter-widgets/base",
            "_model_module_version": "1.5.0",
            "_view_count": null,
            "_view_module_version": "1.2.0",
            "bar_color": null,
            "_model_module": "@jupyter-widgets/controls"
          }
        },
        "2690b2f45d69476eadbf9f0baf96f744": {
          "model_module": "@jupyter-widgets/base",
          "model_name": "LayoutModel",
          "state": {
            "_view_name": "LayoutView",
            "grid_template_rows": null,
            "right": null,
            "justify_content": null,
            "_view_module": "@jupyter-widgets/base",
            "overflow": null,
            "_model_module_version": "1.2.0",
            "_view_count": null,
            "flex_flow": null,
            "width": null,
            "min_width": null,
            "border": null,
            "align_items": null,
            "bottom": null,
            "_model_module": "@jupyter-widgets/base",
            "top": null,
            "grid_column": null,
            "overflow_y": null,
            "overflow_x": null,
            "grid_auto_flow": null,
            "grid_area": null,
            "grid_template_columns": null,
            "flex": null,
            "_model_name": "LayoutModel",
            "justify_items": null,
            "grid_row": null,
            "max_height": null,
            "align_content": null,
            "visibility": null,
            "align_self": null,
            "height": null,
            "min_height": null,
            "padding": null,
            "grid_auto_rows": null,
            "grid_gap": null,
            "max_width": null,
            "order": null,
            "_view_module_version": "1.2.0",
            "grid_template_areas": null,
            "object_position": null,
            "object_fit": null,
            "grid_auto_columns": null,
            "margin": null,
            "display": null,
            "left": null
          }
        },
        "8bbca8201efa411a89c3e10c0a933738": {
          "model_module": "@jupyter-widgets/controls",
          "model_name": "DescriptionStyleModel",
          "state": {
            "_view_name": "StyleView",
            "_model_name": "DescriptionStyleModel",
            "description_width": "",
            "_view_module": "@jupyter-widgets/base",
            "_model_module_version": "1.5.0",
            "_view_count": null,
            "_view_module_version": "1.2.0",
            "_model_module": "@jupyter-widgets/controls"
          }
        },
        "98a36231074b4b8c9f9728184b205a15": {
          "model_module": "@jupyter-widgets/base",
          "model_name": "LayoutModel",
          "state": {
            "_view_name": "LayoutView",
            "grid_template_rows": null,
            "right": null,
            "justify_content": null,
            "_view_module": "@jupyter-widgets/base",
            "overflow": null,
            "_model_module_version": "1.2.0",
            "_view_count": null,
            "flex_flow": null,
            "width": null,
            "min_width": null,
            "border": null,
            "align_items": null,
            "bottom": null,
            "_model_module": "@jupyter-widgets/base",
            "top": null,
            "grid_column": null,
            "overflow_y": null,
            "overflow_x": null,
            "grid_auto_flow": null,
            "grid_area": null,
            "grid_template_columns": null,
            "flex": null,
            "_model_name": "LayoutModel",
            "justify_items": null,
            "grid_row": null,
            "max_height": null,
            "align_content": null,
            "visibility": null,
            "align_self": null,
            "height": null,
            "min_height": null,
            "padding": null,
            "grid_auto_rows": null,
            "grid_gap": null,
            "max_width": null,
            "order": null,
            "_view_module_version": "1.2.0",
            "grid_template_areas": null,
            "object_position": null,
            "object_fit": null,
            "grid_auto_columns": null,
            "margin": null,
            "display": null,
            "left": null
          }
        },
        "aced3ddf956840c5b392942291b2e699": {
          "model_module": "@jupyter-widgets/controls",
          "model_name": "HBoxModel",
          "state": {
            "_view_name": "HBoxView",
            "_dom_classes": [],
            "_model_name": "HBoxModel",
            "_view_module": "@jupyter-widgets/controls",
            "_model_module_version": "1.5.0",
            "_view_count": null,
            "_view_module_version": "1.5.0",
            "box_style": "",
            "layout": "IPY_MODEL_31a70520ec294dbfac9a752cedaf5486",
            "_model_module": "@jupyter-widgets/controls",
            "children": [
              "IPY_MODEL_9e8b24b51daa4510a0794f13a157fa12",
              "IPY_MODEL_499c4f09cb6f4b438851ee59b8460f56"
            ]
          }
        },
        "31a70520ec294dbfac9a752cedaf5486": {
          "model_module": "@jupyter-widgets/base",
          "model_name": "LayoutModel",
          "state": {
            "_view_name": "LayoutView",
            "grid_template_rows": null,
            "right": null,
            "justify_content": null,
            "_view_module": "@jupyter-widgets/base",
            "overflow": null,
            "_model_module_version": "1.2.0",
            "_view_count": null,
            "flex_flow": null,
            "width": null,
            "min_width": null,
            "border": null,
            "align_items": null,
            "bottom": null,
            "_model_module": "@jupyter-widgets/base",
            "top": null,
            "grid_column": null,
            "overflow_y": null,
            "overflow_x": null,
            "grid_auto_flow": null,
            "grid_area": null,
            "grid_template_columns": null,
            "flex": null,
            "_model_name": "LayoutModel",
            "justify_items": null,
            "grid_row": null,
            "max_height": null,
            "align_content": null,
            "visibility": null,
            "align_self": null,
            "height": null,
            "min_height": null,
            "padding": null,
            "grid_auto_rows": null,
            "grid_gap": null,
            "max_width": null,
            "order": null,
            "_view_module_version": "1.2.0",
            "grid_template_areas": null,
            "object_position": null,
            "object_fit": null,
            "grid_auto_columns": null,
            "margin": null,
            "display": null,
            "left": null
          }
        },
        "9e8b24b51daa4510a0794f13a157fa12": {
          "model_module": "@jupyter-widgets/controls",
          "model_name": "FloatProgressModel",
          "state": {
            "_view_name": "ProgressView",
            "style": "IPY_MODEL_8f9251e055ed4072b7a4499a0286857a",
            "_dom_classes": [],
            "description": " 30%",
            "_model_name": "FloatProgressModel",
            "bar_style": "",
            "max": 10,
            "_view_module": "@jupyter-widgets/controls",
            "_model_module_version": "1.5.0",
            "value": 3,
            "_view_count": null,
            "_view_module_version": "1.5.0",
            "orientation": "horizontal",
            "min": 0,
            "description_tooltip": null,
            "_model_module": "@jupyter-widgets/controls",
            "layout": "IPY_MODEL_d9839731ff374eebab0cd6dc35245cef"
          }
        },
        "499c4f09cb6f4b438851ee59b8460f56": {
          "model_module": "@jupyter-widgets/controls",
          "model_name": "HTMLModel",
          "state": {
            "_view_name": "HTMLView",
            "style": "IPY_MODEL_11426da5dc11417ebe9fe6342ce5b2e3",
            "_dom_classes": [],
            "description": "",
            "_model_name": "HTMLModel",
            "placeholder": "​",
            "_view_module": "@jupyter-widgets/controls",
            "_model_module_version": "1.5.0",
            "value": " 3/10 [03:46&lt;08:49, 75.60s/it]",
            "_view_count": null,
            "_view_module_version": "1.5.0",
            "description_tooltip": null,
            "_model_module": "@jupyter-widgets/controls",
            "layout": "IPY_MODEL_7332b4e71b904dafaa5fdbfb54998399"
          }
        },
        "8f9251e055ed4072b7a4499a0286857a": {
          "model_module": "@jupyter-widgets/controls",
          "model_name": "ProgressStyleModel",
          "state": {
            "_view_name": "StyleView",
            "_model_name": "ProgressStyleModel",
            "description_width": "initial",
            "_view_module": "@jupyter-widgets/base",
            "_model_module_version": "1.5.0",
            "_view_count": null,
            "_view_module_version": "1.2.0",
            "bar_color": null,
            "_model_module": "@jupyter-widgets/controls"
          }
        },
        "d9839731ff374eebab0cd6dc35245cef": {
          "model_module": "@jupyter-widgets/base",
          "model_name": "LayoutModel",
          "state": {
            "_view_name": "LayoutView",
            "grid_template_rows": null,
            "right": null,
            "justify_content": null,
            "_view_module": "@jupyter-widgets/base",
            "overflow": null,
            "_model_module_version": "1.2.0",
            "_view_count": null,
            "flex_flow": null,
            "width": null,
            "min_width": null,
            "border": null,
            "align_items": null,
            "bottom": null,
            "_model_module": "@jupyter-widgets/base",
            "top": null,
            "grid_column": null,
            "overflow_y": null,
            "overflow_x": null,
            "grid_auto_flow": null,
            "grid_area": null,
            "grid_template_columns": null,
            "flex": null,
            "_model_name": "LayoutModel",
            "justify_items": null,
            "grid_row": null,
            "max_height": null,
            "align_content": null,
            "visibility": null,
            "align_self": null,
            "height": null,
            "min_height": null,
            "padding": null,
            "grid_auto_rows": null,
            "grid_gap": null,
            "max_width": null,
            "order": null,
            "_view_module_version": "1.2.0",
            "grid_template_areas": null,
            "object_position": null,
            "object_fit": null,
            "grid_auto_columns": null,
            "margin": null,
            "display": null,
            "left": null
          }
        },
        "11426da5dc11417ebe9fe6342ce5b2e3": {
          "model_module": "@jupyter-widgets/controls",
          "model_name": "DescriptionStyleModel",
          "state": {
            "_view_name": "StyleView",
            "_model_name": "DescriptionStyleModel",
            "description_width": "",
            "_view_module": "@jupyter-widgets/base",
            "_model_module_version": "1.5.0",
            "_view_count": null,
            "_view_module_version": "1.2.0",
            "_model_module": "@jupyter-widgets/controls"
          }
        },
        "7332b4e71b904dafaa5fdbfb54998399": {
          "model_module": "@jupyter-widgets/base",
          "model_name": "LayoutModel",
          "state": {
            "_view_name": "LayoutView",
            "grid_template_rows": null,
            "right": null,
            "justify_content": null,
            "_view_module": "@jupyter-widgets/base",
            "overflow": null,
            "_model_module_version": "1.2.0",
            "_view_count": null,
            "flex_flow": null,
            "width": null,
            "min_width": null,
            "border": null,
            "align_items": null,
            "bottom": null,
            "_model_module": "@jupyter-widgets/base",
            "top": null,
            "grid_column": null,
            "overflow_y": null,
            "overflow_x": null,
            "grid_auto_flow": null,
            "grid_area": null,
            "grid_template_columns": null,
            "flex": null,
            "_model_name": "LayoutModel",
            "justify_items": null,
            "grid_row": null,
            "max_height": null,
            "align_content": null,
            "visibility": null,
            "align_self": null,
            "height": null,
            "min_height": null,
            "padding": null,
            "grid_auto_rows": null,
            "grid_gap": null,
            "max_width": null,
            "order": null,
            "_view_module_version": "1.2.0",
            "grid_template_areas": null,
            "object_position": null,
            "object_fit": null,
            "grid_auto_columns": null,
            "margin": null,
            "display": null,
            "left": null
          }
        }
      }
    }
  },
  "cells": [
    {
      "cell_type": "markdown",
      "metadata": {
        "id": "view-in-github",
        "colab_type": "text"
      },
      "source": [
        "<a href=\"https://colab.research.google.com/github/MarBry111/DeepLearning/blob/main/CIFAR10_ResNet.ipynb\" target=\"_parent\"><img src=\"https://colab.research.google.com/assets/colab-badge.svg\" alt=\"Open In Colab\"/></a>"
      ]
    },
    {
      "cell_type": "code",
      "metadata": {
        "colab": {
          "base_uri": "https://localhost:8080/"
        },
        "id": "MNRucdkQk-8M",
        "outputId": "f12e6d93-9688-4f45-9ff8-e70ac3ba0dc8"
      },
      "source": [
        "%config Completer.use_jedi = False"
      ],
      "id": "MNRucdkQk-8M",
      "execution_count": null,
      "outputs": [
        {
          "output_type": "stream",
          "text": [
            "/usr/local/lib/python3.7/dist-packages/ipykernel_launcher.py:1: UserWarning: Config option `use_jedi` not recognized by `IPCompleter`.\n",
            "  \"\"\"Entry point for launching an IPython kernel.\n"
          ],
          "name": "stderr"
        }
      ]
    },
    {
      "cell_type": "code",
      "metadata": {
        "id": "kZPHaiMOk-8U"
      },
      "source": [
        "import torch\n",
        "from torch import nn\n",
        "from torch.utils.data import DataLoader\n",
        "from torchvision import datasets\n",
        "import torchvision.transforms as transforms\n",
        "import torch.nn.functional as F\n",
        "from torch import optim\n",
        "from torch.autograd import Variable\n",
        " \n",
        "import matplotlib.pyplot as plt\n",
        "import numpy as np\n",
        "import pandas as pd\n",
        "import plotly.express as px\n",
        "import seaborn as sn\n",
        "from tqdm.notebook import tqdm\n",
        " \n",
        "from functools import partial\n",
        "from collections import OrderedDict"
      ],
      "id": "kZPHaiMOk-8U",
      "execution_count": null,
      "outputs": []
    },
    {
      "cell_type": "code",
      "metadata": {
        "colab": {
          "base_uri": "https://localhost:8080/"
        },
        "id": "i7Zf3iqEk-8V",
        "outputId": "ccadefbe-f1b8-4503-f3c7-1c178cbc0ae6"
      },
      "source": [
        "torch.cuda.is_available()"
      ],
      "id": "i7Zf3iqEk-8V",
      "execution_count": null,
      "outputs": [
        {
          "output_type": "execute_result",
          "data": {
            "text/plain": [
              "True"
            ]
          },
          "metadata": {
            "tags": []
          },
          "execution_count": 3
        }
      ]
    },
    {
      "cell_type": "code",
      "metadata": {
        "colab": {
          "base_uri": "https://localhost:8080/"
        },
        "id": "eabIU5sak-8W",
        "outputId": "a8144831-4226-4fcd-959d-757c565e5af0"
      },
      "source": [
        "print(torch.__version__)"
      ],
      "id": "eabIU5sak-8W",
      "execution_count": null,
      "outputs": [
        {
          "output_type": "stream",
          "text": [
            "1.8.1+cu101\n"
          ],
          "name": "stdout"
        }
      ]
    },
    {
      "cell_type": "code",
      "metadata": {
        "colab": {
          "base_uri": "https://localhost:8080/",
          "height": 118,
          "referenced_widgets": [
            "471048f0da81438f8bcbdb63421c10b7",
            "4190dc55fca94cda98323458dd14291c",
            "83e26d00b341471f96c101099e5344cd",
            "f3d24a4a8ac44af2a721439e4e2eff03",
            "48f95b57c51d43fb93e95f0c7d684c90",
            "2690b2f45d69476eadbf9f0baf96f744",
            "8bbca8201efa411a89c3e10c0a933738",
            "98a36231074b4b8c9f9728184b205a15"
          ]
        },
        "id": "yzNihcTpk-8Y",
        "outputId": "de95aa26-2a9f-454a-b8c3-52b5634d062a"
      },
      "source": [
        "transform = transforms.Compose(\n",
        "    [transforms.ToTensor(),\n",
        "     transforms.Normalize((0.5, 0.5, 0.5), (0.5, 0.5, 0.5))])\n",
        " \n",
        "trainset = datasets.CIFAR10(\n",
        "    root='./data', train=True, download=True, transform=transform)\n",
        "trainloader = torch.utils.data.DataLoader(\n",
        "    trainset, batch_size=32, shuffle=True, num_workers=2)\n",
        " \n",
        "testset = datasets.CIFAR10(\n",
        "    root='./data', train=False, download=True, transform=transform)\n",
        "testloader = torch.utils.data.DataLoader(\n",
        "    testset, batch_size=32, shuffle=False, num_workers=2)\n",
        " \n",
        "classes = ('plane', 'car', 'bird', 'cat',\n",
        "           'deer', 'dog', 'frog', 'horse', 'ship', 'truck')"
      ],
      "id": "yzNihcTpk-8Y",
      "execution_count": null,
      "outputs": [
        {
          "output_type": "stream",
          "text": [
            "Downloading https://www.cs.toronto.edu/~kriz/cifar-10-python.tar.gz to ./data/cifar-10-python.tar.gz\n"
          ],
          "name": "stdout"
        },
        {
          "output_type": "display_data",
          "data": {
            "application/vnd.jupyter.widget-view+json": {
              "model_id": "471048f0da81438f8bcbdb63421c10b7",
              "version_minor": 0,
              "version_major": 2
            },
            "text/plain": [
              "HBox(children=(FloatProgress(value=0.0, max=170498071.0), HTML(value='')))"
            ]
          },
          "metadata": {
            "tags": []
          }
        },
        {
          "output_type": "stream",
          "text": [
            "\n",
            "Extracting ./data/cifar-10-python.tar.gz to ./data\n",
            "Files already downloaded and verified\n"
          ],
          "name": "stdout"
        }
      ]
    },
    {
      "cell_type": "code",
      "metadata": {
        "colab": {
          "base_uri": "https://localhost:8080/",
          "height": 542
        },
        "id": "wplWRd40k-8Z",
        "outputId": "88d242ab-d333-4194-ac8d-505ef5f854bb"
      },
      "source": [
        "#px.imshow(torch.movedim(trainset[0][0], 0, 2))\n",
        "px.imshow(trainset[0][0].numpy()[0])"
      ],
      "id": "wplWRd40k-8Z",
      "execution_count": null,
      "outputs": [
        {
          "output_type": "display_data",
          "data": {
            "text/html": [
              "<html>\n",
              "<head><meta charset=\"utf-8\" /></head>\n",
              "<body>\n",
              "    <div>\n",
              "            <script src=\"https://cdnjs.cloudflare.com/ajax/libs/mathjax/2.7.5/MathJax.js?config=TeX-AMS-MML_SVG\"></script><script type=\"text/javascript\">if (window.MathJax) {MathJax.Hub.Config({SVG: {font: \"STIX-Web\"}});}</script>\n",
              "                <script type=\"text/javascript\">window.PlotlyConfig = {MathJaxConfig: 'local'};</script>\n",
              "        <script src=\"https://cdn.plot.ly/plotly-latest.min.js\"></script>    \n",
              "            <div id=\"29a909d3-3572-42bb-85e4-9b96729e8d9d\" class=\"plotly-graph-div\" style=\"height:525px; width:100%;\"></div>\n",
              "            <script type=\"text/javascript\">\n",
              "                \n",
              "                    window.PLOTLYENV=window.PLOTLYENV || {};\n",
              "                    \n",
              "                if (document.getElementById(\"29a909d3-3572-42bb-85e4-9b96729e8d9d\")) {\n",
              "                    Plotly.newPlot(\n",
              "                        '29a909d3-3572-42bb-85e4-9b96729e8d9d',\n",
              "                        [{\"coloraxis\": \"coloraxis\", \"type\": \"heatmap\", \"z\": [[-0.5372549295425415, -0.6627451181411743, -0.6078431606292725, -0.46666663885116577, -0.23137253522872925, -0.06666666269302368, 0.09019613265991211, 0.13725495338439941, 0.16862750053405762, 0.16862750053405762, 0.027451038360595703, -0.019607841968536377, 0.11372554302215576, 0.12941181659698486, 0.07450985908508301, 0.011764764785766602, 0.07450985908508301, 0.050980448722839355, -0.027450978755950928, 0.09019613265991211, 0.09019613265991211, 0.043137311935424805, 0.06666672229766846, 0.09019613265991211, 0.19215691089630127, 0.27843141555786133, 0.3176470994949341, 0.24705886840820312, 0.23921573162078857, 0.23921573162078857, 0.19215691089630127, 0.16078436374664307], [-0.8745098114013672, -1.0, -0.8588235378265381, -0.6000000238418579, -0.30980390310287476, -0.05882352590560913, 0.003921627998352051, -0.003921568393707275, -0.011764705181121826, -0.09019607305526733, -0.16862744092941284, -0.2078431248664856, -0.1764705777168274, -0.11372548341751099, -0.1450980305671692, -0.12156862020492554, -0.06666666269302368, -0.1450980305671692, -0.1764705777168274, -0.019607841968536377, -0.003921568393707275, -0.04313725233078003, 0.027451038360595703, -0.027450978755950928, -0.05098038911819458, 0.027451038360595703, 0.035294175148010254, 0.043137311935424805, 0.043137311935424805, -0.03529411554336548, -0.06666666269302368, -0.04313725233078003], [-0.8039215803146362, -0.8745098114013672, -0.615686297416687, -0.3490195870399475, -0.13725489377975464, 0.011764764785766602, 0.019607901573181152, -0.05098038911819458, -0.11372548341751099, -0.12156862020492554, -0.12156862020492554, -0.16862744092941284, -0.1764705777168274, 0.003921627998352051, -0.027450978755950928, 0.019607901573181152, -0.003921568393707275, -0.04313725233078003, -0.09803920984268188, -0.05882352590560913, 0.019607901573181152, 0.027451038360595703, 0.09019613265991211, -0.003921568393707275, -0.011764705181121826, -0.003921568393707275, 0.019607901573181152, 0.11372554302215576, 0.019607901573181152, -0.07450979948043823, -0.05882352590560913, -0.1450980305671692], [-0.7411764860153198, -0.7019608020782471, -0.3176470398902893, -0.16862744092941284, -0.09803920984268188, -0.08235293626785278, -0.10588234663009644, -0.1764705777168274, -0.1607843041419983, -0.05098038911819458, -0.019607841968536377, -0.1450980305671692, -0.11372548341751099, 0.14509809017181396, 0.043137311935424805, -0.003921568393707275, -0.07450979948043823, -0.08235293626785278, -0.003921568393707275, -0.04313725233078003, 0.035294175148010254, 0.07450985908508301, 0.06666672229766846, 0.027451038360595703, -0.027450978755950928, 0.019607901573181152, 0.035294175148010254, 0.058823585510253906, 0.019607901573181152, -0.019607841968536377, -0.05098038911819458, -0.26274508237838745], [-0.6078431606292725, -0.5372549295425415, -0.19999998807907104, -0.003921568393707275, -0.027450978755950928, -0.05098038911819458, -0.05882352590560913, -0.10588234663009644, -0.1607843041419983, -0.019607841968536377, 0.011764764785766602, -0.16862744092941284, -0.15294116735458374, -0.027450978755950928, -0.05098038911819458, -0.15294116735458374, -0.23137253522872925, -0.13725489377975464, -0.08235293626785278, -0.05882352590560913, 0.050980448722839355, 0.09803926944732666, 0.027451038360595703, 0.10588240623474121, 0.058823585510253906, -0.003921568393707275, -0.05098038911819458, -0.06666666269302368, -0.1921568512916565, -0.3176470398902893, -0.4117646813392639, -0.4745097756385803], [-0.4431372284889221, -0.34117645025253296, -0.13725489377975464, 0.011764764785766602, 0.06666672229766846, 0.027451038360595703, 0.011764764785766602, -0.06666666269302368, -0.15294116735458374, -0.04313725233078003, -0.03529411554336548, -0.1764705777168274, -0.1607843041419983, -0.1294117569923401, -0.15294116735458374, -0.23137253522872925, -0.26274508237838745, -0.2392156720161438, -0.3490195870399475, -0.30980390310287476, -0.19999998807907104, -0.2392156720161438, -0.30980390310287476, -0.07450979948043823, 0.09803926944732666, 0.06666672229766846, -0.05882352590560913, -0.1607843041419983, -0.30980390310287476, -0.4745097756385803, -0.7254902124404907, -0.7490196228027344], [-0.2392156720161438, -0.1294117569923401, -0.03529411554336548, 0.019607901573181152, 0.06666672229766846, 0.035294175148010254, -0.04313725233078003, -0.05098038911819458, -0.003921568393707275, 0.08235299587249756, -0.027450978755950928, -0.05882352590560913, -0.1607843041419983, -0.37254899740219116, -0.46666663885116577, -0.41960781812667847, -0.2078431248664856, -0.1764705777168274, -0.4901960492134094, -0.545098066329956, -0.5058823823928833, -0.38823527097702026, 0.06666672229766846, -0.04313725233078003, 0.09019613265991211, 0.18431377410888672, 0.011764764785766602, -0.15294116735458374, -0.2549019455909729, -0.24705880880355835, -0.3019607663154602, -0.4823529124259949], [-0.09803920984268188, -0.06666666269302368, 0.019607901573181152, 0.09803926944732666, 0.043137311935424805, -0.003921568393707275, 0.08235299587249756, 0.07450985908508301, 0.027451038360595703, 0.043137311935424805, 0.050980448722839355, -0.15294116735458374, -0.43529409170150757, -0.6000000238418579, -0.6784313917160034, -0.43529409170150757, 0.41960787773132324, 0.6392157077789307, -0.019607841968536377, -0.46666663885116577, -0.498039186000824, -0.35686272382736206, -0.03529411554336548, -0.12156862020492554, 0.058823585510253906, 0.18431377410888672, 0.07450985908508301, -0.10588234663009644, -0.1764705777168274, -0.2078431248664856, -0.011764705181121826, -0.19999998807907104], [0.07450985908508301, 0.003921627998352051, 0.035294175148010254, 0.003921627998352051, -0.06666666269302368, -0.03529411554336548, 0.003921627998352051, 0.019607901573181152, -0.05098038911819458, 0.07450985908508301, 0.027451038360595703, -0.41960781812667847, -0.5764706134796143, -0.6078431606292725, -0.6549019813537598, -0.32549017667770386, 0.5921568870544434, 0.7019608020782471, 0.2705882787704468, -0.21568626165390015, -0.3960784077644348, -0.4117646813392639, -0.41960781812667847, -0.40392154455184937, -0.1607843041419983, 0.058823585510253906, 0.058823585510253906, 0.011764764785766602, -0.003921568393707275, -0.06666666269302368, -0.019607841968536377, 0.050980448722839355], [0.20784318447113037, 0.20784318447113037, 0.22352945804595947, 0.09803926944732666, -0.03529411554336548, -0.019607841968536377, -0.011764705181121826, -0.003921568393707275, 0.043137311935424805, 0.035294175148010254, -0.29411762952804565, -0.5058823823928833, -0.5137255191802979, -0.45098036527633667, -0.3803921341896057, -0.1921568512916565, 0.19215691089630127, 0.16078436374664307, 0.10588240623474121, -0.05098038911819458, -0.2078431248664856, -0.24705880880355835, -0.32549017667770386, -0.4117646813392639, -0.2078431248664856, 0.06666672229766846, 0.06666672229766846, 0.050980448722839355, 0.043137311935424805, 0.035294175148010254, 0.003921627998352051, 0.043137311935424805], [0.20784318447113037, 0.21568632125854492, 0.22352945804595947, 0.15294122695922852, 0.043137311935424805, 0.07450985908508301, 0.09019613265991211, 0.050980448722839355, 0.10588240623474121, -0.05098038911819458, -0.37254899740219116, -0.2392156720161438, -0.29411762952804565, -0.23137253522872925, 0.07450985908508301, 0.09019613265991211, 0.16078436374664307, 0.050980448722839355, 0.08235299587249756, 0.050980448722839355, 0.09803926944732666, 0.37254905700683594, 0.11372554302215576, -0.19999998807907104, -0.15294116735458374, 0.058823585510253906, 0.027451038360595703, 0.043137311935424805, 0.08235299587249756, 0.06666672229766846, 0.019607901573181152, 0.050980448722839355], [0.13725495338439941, 0.14509809017181396, 0.14509809017181396, 0.058823585510253906, -0.003921568393707275, 0.011764764785766602, -0.08235293626785278, -0.1921568512916565, 0.019607901573181152, -0.05882352590560913, -0.1294117569923401, 0.14509809017181396, 0.06666672229766846, 0.27843141555786133, 0.32549023628234863, 0.19215691089630127, 0.2627451419830322, 0.16078436374664307, 0.38823533058166504, 0.2627451419830322, 0.529411792755127, 0.6392157077789307, 0.48235297203063965, -0.019607841968536377, -0.15294116735458374, 0.09803926944732666, 0.07450985908508301, 0.035294175148010254, 0.06666672229766846, 0.043137311935424805, 0.035294175148010254, 0.043137311935424805], [0.11372554302215576, 0.10588240623474121, 0.09803926944732666, 0.12941181659698486, 0.15294122695922852, -0.05098038911819458, -0.34117645025253296, -0.30980390310287476, -0.1450980305671692, -0.2078431248664856, 0.08235299587249756, 0.6705882549285889, 0.3960784673690796, 0.49803924560546875, 0.6549019813537598, 0.48235297203063965, 0.6078431606292725, 0.6235294342041016, 0.6705882549285889, 0.49803924560546875, 0.5607843399047852, 0.4745098352432251, 0.2627451419830322, 0.019607901573181152, -0.027450978755950928, 0.027451038360595703, 0.019607901573181152, 0.027451038360595703, 0.050980448722839355, 0.058823585510253906, 0.06666672229766846, 0.043137311935424805], [0.23921573162078857, 0.20784318447113037, 0.11372554302215576, 0.12156867980957031, 0.035294175148010254, -0.29411762952804565, -0.43529409170150757, -0.3647058606147766, -0.34117645025253296, -0.1607843041419983, 0.29411768913269043, 0.7960784435272217, 0.43529415130615234, 0.49803924560546875, 0.8745098114013672, 0.7176470756530762, 0.7882353067398071, 0.7647058963775635, 0.6784313917160034, 0.6941176652908325, 0.6470588445663452, 0.5686274766921997, 0.48235297203063965, 0.3647059202194214, 0.2627451419830322, 0.09019613265991211, 0.050980448722839355, -0.011764705181121826, 0.027451038360595703, 0.11372554302215576, 0.06666672229766846, 0.08235299587249756], [0.13725495338439941, 0.16862750053405762, 0.15294122695922852, 0.15294122695922852, 0.06666672229766846, -0.37254899740219116, -0.3019607663154602, -0.1764705777168274, -0.24705880880355835, 0.011764764785766602, 0.5058823823928833, 0.45098042488098145, 0.13725495338439941, 0.5921568870544434, 0.7490196228027344, 0.8980392217636108, 0.9137254953384399, 0.8666666746139526, 0.8901960849761963, 0.7803921699523926, 0.7647058963775635, 0.843137264251709, 0.7176470756530762, 0.7568627595901489, 0.686274528503418, 0.22352945804595947, 0.003921627998352051, 0.011764764785766602, 0.027451038360595703, 0.043137311935424805, 0.003921627998352051, 0.019607901573181152], [0.16078436374664307, 0.14509809017181396, 0.13725495338439941, 0.15294122695922852, 0.043137311935424805, -0.5058823823928833, -0.4823529124259949, -0.30980390310287476, -0.11372548341751099, 0.4274510145187378, 0.7254902124404907, 0.08235299587249756, 0.2705882787704468, 0.615686297416687, 0.5372549295425415, 0.9372549057006836, 1.0, 1.0, 0.9215686321258545, 0.8509804010391235, 0.8039215803146362, 0.686274528503418, 0.8117647171020508, 0.9607843160629272, 0.8901960849761963, 0.23921573162078857, -0.019607841968536377, -0.011764705181121826, -0.027450978755950928, -0.019607841968536377, -0.011764705181121826, -0.027450978755950928], [0.16862750053405762, 0.12156867980957031, 0.12941181659698486, 0.18431377410888672, 0.035294175148010254, -0.498039186000824, -0.34117645025253296, -0.12156862020492554, 0.27843141555786133, 0.7490196228027344, 0.615686297416687, 0.13725495338439941, 0.5372549295425415, 0.6000000238418579, 0.7254902124404907, 0.9058823585510254, 0.9215686321258545, 0.8745098114013672, 0.8352941274642944, 0.8117647171020508, 0.529411792755127, 0.17647063732147217, 0.6313725709915161, 0.9607843160629272, 0.7803921699523926, 0.27843141555786133, 0.13725495338439941, 0.12156867980957031, 0.09803926944732666, 0.06666672229766846, -0.05098038911819458, -0.10588234663009644], [0.15294122695922852, 0.050980448722839355, 0.09803926944732666, 0.16078436374664307, 0.058823585510253906, -0.21568626165390015, -0.15294116735458374, 0.12941181659698486, 0.6470588445663452, 0.9450980424880981, 0.37254905700683594, 0.37254905700683594, 0.7254902124404907, 0.772549033164978, 0.8039215803146362, 0.8274509906768799, 0.7568627595901489, 0.5764706134796143, 0.4431372880935669, 0.41960787773132324, 0.4901961088180542, 0.3333333730697632, 0.40392160415649414, 0.8117647171020508, 0.7490196228027344, 0.2705882787704468, 0.14509809017181396, 0.09803926944732666, 0.09019613265991211, 0.13725495338439941, 0.11372554302215576, 0.003921627998352051], [0.19215691089630127, -0.08235293626785278, -0.10588234663009644, -0.03529411554336548, -0.011764705181121826, -0.04313725233078003, -0.270588219165802, 0.40392160415649414, 0.8666666746139526, 0.9450980424880981, 0.3333333730697632, 0.45098042488098145, 0.8901960849761963, 0.8039215803146362, 0.46666669845581055, 0.4117647409439087, 0.301960825920105, 0.14509809017181396, 0.16862750053405762, 0.23137259483337402, 0.4431372880935669, 0.6941176652908325, 0.6627451181411743, 0.8509804010391235, 0.8509804010391235, 0.301960825920105, 0.06666672229766846, 0.050980448722839355, 0.019607901573181152, -0.003921568393707275, 0.07450985908508301, 0.18431377410888672], [0.13725495338439941, -0.003921568393707275, 0.003921627998352051, 0.043137311935424805, 0.035294175148010254, 0.058823585510253906, 0.34117650985717773, 0.8588235378265381, 0.9764705896377563, 0.7960784435272217, 0.35686278343200684, 0.32549023628234863, 0.7254902124404907, 0.5215686559677124, -0.03529411554336548, 0.058823585510253906, -0.003921568393707275, 0.18431377410888672, 0.29411768913269043, 0.035294175148010254, 0.18431377410888672, 0.5843137502670288, 0.8823529481887817, 0.8823529481887817, 0.7411764860153198, 0.22352945804595947, -0.06666666269302368, -0.05882352590560913, -0.12156862020492554, -0.21568626165390015, -0.2235293984413147, 0.09803926944732666], [0.12156867980957031, -0.003921568393707275, 0.011764764785766602, 0.011764764785766602, 0.019607901573181152, 0.09803926944732666, 0.7176470756530762, 0.9137254953384399, 0.6470588445663452, 0.5137255191802979, 0.301960825920105, 0.20000004768371582, 0.49803924560546875, 0.40392160415649414, 0.003921627998352051, 0.15294122695922852, 0.16862750053405762, 0.3490196466445923, 0.15294122695922852, 0.003921627998352051, 0.10588240623474121, 0.35686278343200684, 0.5843137502670288, 0.4901961088180542, 0.5529412031173706, 0.19215691089630127, -0.21568626165390015, -0.1450980305671692, -0.06666666269302368, -0.05098038911819458, -0.15294116735458374, 0.06666672229766846], [0.12156867980957031, -0.019607841968536377, 0.027451038360595703, 0.003921627998352051, -0.03529411554336548, 0.20000004768371582, 0.16078436374664307, 0.301960825920105, 0.4745098352432251, 0.4274510145187378, 0.34117650985717773, 0.29411768913269043, 0.529411792755127, 0.4901961088180542, 0.19215691089630127, 0.12156867980957031, 0.19215691089630127, 0.20000004768371582, 0.11372554302215576, 0.10588240623474121, 0.058823585510253906, 0.06666672229766846, 0.16078436374664307, 0.10588240623474121, 0.10588240623474121, 0.08235299587249756, -0.1294117569923401, -0.1294117569923401, -0.05098038911819458, 0.011764764785766602, 0.08235299587249756, 0.40392160415649414], [0.10588240623474121, 0.027451038360595703, 0.09019613265991211, 0.09019613265991211, 0.08235299587249756, 0.18431377410888672, 0.003921627998352051, 0.06666672229766846, 0.37254905700683594, 0.35686278343200684, 0.48235297203063965, 0.6078431606292725, 0.5764706134796143, 0.3176470994949341, 0.18431377410888672, 0.13725495338439941, 0.14509809017181396, 0.16862750053405762, 0.20000004768371582, 0.16862750053405762, 0.12941181659698486, 0.12941181659698486, 0.13725495338439941, 0.12156867980957031, 0.011764764785766602, -0.03529411554336548, -0.027450978755950928, -0.11372548341751099, -0.15294116735458374, -0.11372548341751099, 0.16078436374664307, 0.5607843399047852], [0.12156867980957031, 0.09019613265991211, 0.08235299587249756, 0.16862750053405762, 0.2549020051956177, 0.17647063732147217, 0.15294122695922852, 0.18431377410888672, 0.32549023628234863, 0.30980396270751953, 0.40392160415649414, 0.6627451181411743, 0.5921568870544434, 0.6235294342041016, 0.16862750053405762, 0.09019613265991211, 0.12941181659698486, 0.07450985908508301, 0.18431377410888672, 0.21568632125854492, 0.19215691089630127, 0.09803926944732666, -0.1607843041419983, -0.2862744927406311, -0.34117645025253296, -0.1764705777168274, 0.035294175148010254, -0.07450979948043823, -0.24705880880355835, -0.19999998807907104, 0.24705886840820312, 0.4901961088180542], [0.16862750053405762, 0.043137311935424805, 0.06666672229766846, 0.15294122695922852, 0.17647063732147217, 0.20000004768371582, 0.23137259483337402, 0.2705882787704468, 0.37254905700683594, 0.4901961088180542, 0.301960825920105, 0.5843137502670288, 0.7568627595901489, 0.545098066329956, 0.5058823823928833, 0.4117647409439087, 0.14509809017181396, -0.011764705181121826, 0.10588240623474121, 0.22352945804595947, 0.20000004768371582, -0.09803920984268188, -0.3960784077644348, -0.3803921341896057, -0.270588219165802, -0.011764705181121826, 0.043137311935424805, -0.06666666269302368, -0.11372548341751099, 0.09803926944732666, 0.46666669845581055, 0.20784318447113037], [0.3490196466445923, 0.12941181659698486, 0.058823585510253906, 0.06666672229766846, 0.058823585510253906, 0.09019613265991211, 0.20000004768371582, 0.27843141555786133, 0.301960825920105, 0.4431372880935669, 0.301960825920105, 0.17647063732147217, 0.4431372880935669, 0.22352945804595947, 0.23921573162078857, 0.3176470994949341, 0.16862750053405762, 0.058823585510253906, 0.019607901573181152, 0.035294175148010254, 0.003921627998352051, -0.003921568393707275, 0.058823585510253906, 0.12156867980957031, 0.09019613265991211, 0.06666672229766846, -0.003921568393707275, -0.05098038911819458, 0.058823585510253906, 0.48235297203063965, 0.6549019813537598, 0.06666672229766846], [0.5843137502670288, 0.46666669845581055, 0.18431377410888672, 0.003921627998352051, -0.04313725233078003, 0.050980448722839355, 0.11372554302215576, 0.17647063732147217, 0.20000004768371582, 0.16078436374664307, 0.058823585510253906, -0.003921568393707275, 0.20000004768371582, 0.301960825920105, 0.12156867980957031, 0.019607901573181152, 0.003921627998352051, 0.18431377410888672, 0.19215691089630127, 0.058823585510253906, 0.09019613265991211, 0.21568632125854492, 0.2627451419830322, 0.20784318447113037, 0.20784318447113037, 0.12156867980957031, 0.019607901573181152, 0.035294175148010254, 0.34117650985717773, 0.686274528503418, 0.458823561668396, -0.08235293626785278], [0.6941176652908325, 0.5137255191802979, 0.3176470994949341, 0.18431377410888672, 0.027451038360595703, -0.011764705181121826, 0.08235299587249756, 0.12941181659698486, 0.11372554302215576, 0.07450985908508301, -0.05882352590560913, 0.027451038360595703, 0.13725495338439941, 0.12941181659698486, 0.07450985908508301, -0.003921568393707275, -0.011764705181121826, 0.09019613265991211, 0.20000004768371582, 0.16862750053405762, 0.09803926944732666, 0.058823585510253906, 0.15294122695922852, 0.16078436374664307, 0.16862750053405762, 0.16862750053405762, 0.07450985908508301, 0.12156867980957031, 0.5921568870544434, 0.615686297416687, -0.027450978755950928, -0.4431372284889221], [0.7254902124404907, 0.5764706134796143, 0.458823561668396, 0.3490196466445923, 0.22352945804595947, 0.11372554302215576, 0.11372554302215576, 0.20000004768371582, 0.17647063732147217, 0.09019613265991211, -0.011764705181121826, 0.06666672229766846, 0.16078436374664307, 0.10588240623474121, 0.027451038360595703, -0.011764705181121826, -0.003921568393707275, 0.08235299587249756, 0.17647063732147217, 0.20784318447113037, 0.16862750053405762, -0.027450978755950928, -0.011764705181121826, 0.10588240623474121, 0.13725495338439941, 0.15294122695922852, -0.003921568393707275, -0.10588234663009644, 0.458823561668396, 0.35686278343200684, -0.5607843399047852, -0.7411764860153198], [0.6313725709915161, 0.5764706134796143, 0.5529412031173706, 0.49803924560546875, 0.43529415130615234, 0.34117650985717773, 0.24705886840820312, 0.15294122695922852, 0.058823585510253906, 0.019607901573181152, 0.09019613265991211, 0.15294122695922852, 0.12941181659698486, 0.13725495338439941, 0.07450985908508301, 0.06666672229766846, 0.07450985908508301, 0.16078436374664307, 0.19215691089630127, 0.17647063732147217, 0.21568632125854492, 0.08235299587249756, -0.05882352590560913, 0.003921627998352051, 0.11372554302215576, 0.058823585510253906, -0.29411762952804565, -0.6078431606292725, 0.07450985908508301, 0.2549020051956177, -0.5607843399047852, -0.5843137502670288], [0.4117647409439087, 0.35686278343200684, 0.458823561668396, 0.5215686559677124, 0.5529412031173706, 0.5764706134796143, 0.48235297203063965, 0.35686278343200684, 0.22352945804595947, 0.09019613265991211, 0.11372554302215576, 0.13725495338439941, 0.10588240623474121, 0.10588240623474121, 0.09019613265991211, 0.09803926944732666, 0.12156867980957031, 0.09019613265991211, 0.08235299587249756, 0.12156867980957031, 0.14509809017181396, 0.058823585510253906, -0.08235293626785278, -0.12156862020492554, -0.04313725233078003, -0.18431371450424194, -0.545098066329956, -0.7333333492279053, 0.027451038360595703, 0.4431372880935669, -0.2392156720161438, -0.3490195870399475], [0.38823533058166504, 0.3176470994949341, 0.40392160415649414, 0.4745098352432251, 0.5843137502670288, 0.7098039388656616, 0.7098039388656616, 0.6235294342041016, 0.49803924560546875, 0.37254905700683594, 0.301960825920105, 0.27843141555786133, 0.27843141555786133, 0.2627451419830322, 0.20000004768371582, 0.24705886840820312, 0.2705882787704468, 0.16862750053405762, 0.09803926944732666, 0.16078436374664307, 0.2627451419830322, 0.12941181659698486, -0.12156862020492554, -0.06666666269302368, 0.019607901573181152, -0.05882352590560913, -0.27843135595321655, -0.1921568512916565, 0.3333333730697632, 0.6941176652908325, 0.18431377410888672, -0.03529411554336548]]}],\n",
              "                        {\"coloraxis\": {\"colorscale\": [[0.0, \"#0d0887\"], [0.1111111111111111, \"#46039f\"], [0.2222222222222222, \"#7201a8\"], [0.3333333333333333, \"#9c179e\"], [0.4444444444444444, \"#bd3786\"], [0.5555555555555556, \"#d8576b\"], [0.6666666666666666, \"#ed7953\"], [0.7777777777777778, \"#fb9f3a\"], [0.8888888888888888, \"#fdca26\"], [1.0, \"#f0f921\"]]}, \"margin\": {\"t\": 60}, \"template\": {\"data\": {\"bar\": [{\"error_x\": {\"color\": \"#2a3f5f\"}, \"error_y\": {\"color\": \"#2a3f5f\"}, \"marker\": {\"line\": {\"color\": \"#E5ECF6\", \"width\": 0.5}}, \"type\": \"bar\"}], \"barpolar\": [{\"marker\": {\"line\": {\"color\": \"#E5ECF6\", \"width\": 0.5}}, \"type\": \"barpolar\"}], \"carpet\": [{\"aaxis\": {\"endlinecolor\": \"#2a3f5f\", \"gridcolor\": \"white\", \"linecolor\": \"white\", \"minorgridcolor\": \"white\", \"startlinecolor\": \"#2a3f5f\"}, \"baxis\": {\"endlinecolor\": \"#2a3f5f\", \"gridcolor\": \"white\", \"linecolor\": \"white\", \"minorgridcolor\": \"white\", \"startlinecolor\": \"#2a3f5f\"}, \"type\": \"carpet\"}], \"choropleth\": [{\"colorbar\": {\"outlinewidth\": 0, \"ticks\": \"\"}, \"type\": \"choropleth\"}], \"contour\": [{\"colorbar\": {\"outlinewidth\": 0, \"ticks\": \"\"}, \"colorscale\": [[0.0, \"#0d0887\"], [0.1111111111111111, \"#46039f\"], [0.2222222222222222, \"#7201a8\"], [0.3333333333333333, \"#9c179e\"], [0.4444444444444444, \"#bd3786\"], [0.5555555555555556, \"#d8576b\"], [0.6666666666666666, \"#ed7953\"], [0.7777777777777778, \"#fb9f3a\"], [0.8888888888888888, \"#fdca26\"], [1.0, \"#f0f921\"]], \"type\": \"contour\"}], \"contourcarpet\": [{\"colorbar\": {\"outlinewidth\": 0, \"ticks\": \"\"}, \"type\": \"contourcarpet\"}], \"heatmap\": [{\"colorbar\": {\"outlinewidth\": 0, \"ticks\": \"\"}, \"colorscale\": [[0.0, \"#0d0887\"], [0.1111111111111111, \"#46039f\"], [0.2222222222222222, \"#7201a8\"], [0.3333333333333333, \"#9c179e\"], [0.4444444444444444, \"#bd3786\"], [0.5555555555555556, \"#d8576b\"], [0.6666666666666666, \"#ed7953\"], [0.7777777777777778, \"#fb9f3a\"], [0.8888888888888888, \"#fdca26\"], [1.0, \"#f0f921\"]], \"type\": \"heatmap\"}], \"heatmapgl\": [{\"colorbar\": {\"outlinewidth\": 0, \"ticks\": \"\"}, \"colorscale\": [[0.0, \"#0d0887\"], [0.1111111111111111, \"#46039f\"], [0.2222222222222222, \"#7201a8\"], [0.3333333333333333, \"#9c179e\"], [0.4444444444444444, \"#bd3786\"], [0.5555555555555556, \"#d8576b\"], [0.6666666666666666, \"#ed7953\"], [0.7777777777777778, \"#fb9f3a\"], [0.8888888888888888, \"#fdca26\"], [1.0, \"#f0f921\"]], \"type\": \"heatmapgl\"}], \"histogram\": [{\"marker\": {\"colorbar\": {\"outlinewidth\": 0, \"ticks\": \"\"}}, \"type\": \"histogram\"}], \"histogram2d\": [{\"colorbar\": {\"outlinewidth\": 0, \"ticks\": \"\"}, \"colorscale\": [[0.0, \"#0d0887\"], [0.1111111111111111, \"#46039f\"], [0.2222222222222222, \"#7201a8\"], [0.3333333333333333, \"#9c179e\"], [0.4444444444444444, \"#bd3786\"], [0.5555555555555556, \"#d8576b\"], [0.6666666666666666, \"#ed7953\"], [0.7777777777777778, \"#fb9f3a\"], [0.8888888888888888, \"#fdca26\"], [1.0, \"#f0f921\"]], \"type\": \"histogram2d\"}], \"histogram2dcontour\": [{\"colorbar\": {\"outlinewidth\": 0, \"ticks\": \"\"}, \"colorscale\": [[0.0, \"#0d0887\"], [0.1111111111111111, \"#46039f\"], [0.2222222222222222, \"#7201a8\"], [0.3333333333333333, \"#9c179e\"], [0.4444444444444444, \"#bd3786\"], [0.5555555555555556, \"#d8576b\"], [0.6666666666666666, \"#ed7953\"], [0.7777777777777778, \"#fb9f3a\"], [0.8888888888888888, \"#fdca26\"], [1.0, \"#f0f921\"]], \"type\": \"histogram2dcontour\"}], \"mesh3d\": [{\"colorbar\": {\"outlinewidth\": 0, \"ticks\": \"\"}, \"type\": \"mesh3d\"}], \"parcoords\": [{\"line\": {\"colorbar\": {\"outlinewidth\": 0, \"ticks\": \"\"}}, \"type\": \"parcoords\"}], \"pie\": [{\"automargin\": true, \"type\": \"pie\"}], \"scatter\": [{\"marker\": {\"colorbar\": {\"outlinewidth\": 0, \"ticks\": \"\"}}, \"type\": \"scatter\"}], \"scatter3d\": [{\"line\": {\"colorbar\": {\"outlinewidth\": 0, \"ticks\": \"\"}}, \"marker\": {\"colorbar\": {\"outlinewidth\": 0, \"ticks\": \"\"}}, \"type\": \"scatter3d\"}], \"scattercarpet\": [{\"marker\": {\"colorbar\": {\"outlinewidth\": 0, \"ticks\": \"\"}}, \"type\": \"scattercarpet\"}], \"scattergeo\": [{\"marker\": {\"colorbar\": {\"outlinewidth\": 0, \"ticks\": \"\"}}, \"type\": \"scattergeo\"}], \"scattergl\": [{\"marker\": {\"colorbar\": {\"outlinewidth\": 0, \"ticks\": \"\"}}, \"type\": \"scattergl\"}], \"scattermapbox\": [{\"marker\": {\"colorbar\": {\"outlinewidth\": 0, \"ticks\": \"\"}}, \"type\": \"scattermapbox\"}], \"scatterpolar\": [{\"marker\": {\"colorbar\": {\"outlinewidth\": 0, \"ticks\": \"\"}}, \"type\": \"scatterpolar\"}], \"scatterpolargl\": [{\"marker\": {\"colorbar\": {\"outlinewidth\": 0, \"ticks\": \"\"}}, \"type\": \"scatterpolargl\"}], \"scatterternary\": [{\"marker\": {\"colorbar\": {\"outlinewidth\": 0, \"ticks\": \"\"}}, \"type\": \"scatterternary\"}], \"surface\": [{\"colorbar\": {\"outlinewidth\": 0, \"ticks\": \"\"}, \"colorscale\": [[0.0, \"#0d0887\"], [0.1111111111111111, \"#46039f\"], [0.2222222222222222, \"#7201a8\"], [0.3333333333333333, \"#9c179e\"], [0.4444444444444444, \"#bd3786\"], [0.5555555555555556, \"#d8576b\"], [0.6666666666666666, \"#ed7953\"], [0.7777777777777778, \"#fb9f3a\"], [0.8888888888888888, \"#fdca26\"], [1.0, \"#f0f921\"]], \"type\": \"surface\"}], \"table\": [{\"cells\": {\"fill\": {\"color\": \"#EBF0F8\"}, \"line\": {\"color\": \"white\"}}, \"header\": {\"fill\": {\"color\": \"#C8D4E3\"}, \"line\": {\"color\": \"white\"}}, \"type\": \"table\"}]}, \"layout\": {\"annotationdefaults\": {\"arrowcolor\": \"#2a3f5f\", \"arrowhead\": 0, \"arrowwidth\": 1}, \"coloraxis\": {\"colorbar\": {\"outlinewidth\": 0, \"ticks\": \"\"}}, \"colorscale\": {\"diverging\": [[0, \"#8e0152\"], [0.1, \"#c51b7d\"], [0.2, \"#de77ae\"], [0.3, \"#f1b6da\"], [0.4, \"#fde0ef\"], [0.5, \"#f7f7f7\"], [0.6, \"#e6f5d0\"], [0.7, \"#b8e186\"], [0.8, \"#7fbc41\"], [0.9, \"#4d9221\"], [1, \"#276419\"]], \"sequential\": [[0.0, \"#0d0887\"], [0.1111111111111111, \"#46039f\"], [0.2222222222222222, \"#7201a8\"], [0.3333333333333333, \"#9c179e\"], [0.4444444444444444, \"#bd3786\"], [0.5555555555555556, \"#d8576b\"], [0.6666666666666666, \"#ed7953\"], [0.7777777777777778, \"#fb9f3a\"], [0.8888888888888888, \"#fdca26\"], [1.0, \"#f0f921\"]], \"sequentialminus\": [[0.0, \"#0d0887\"], [0.1111111111111111, \"#46039f\"], [0.2222222222222222, \"#7201a8\"], [0.3333333333333333, \"#9c179e\"], [0.4444444444444444, \"#bd3786\"], [0.5555555555555556, \"#d8576b\"], [0.6666666666666666, \"#ed7953\"], [0.7777777777777778, \"#fb9f3a\"], [0.8888888888888888, \"#fdca26\"], [1.0, \"#f0f921\"]]}, \"colorway\": [\"#636efa\", \"#EF553B\", \"#00cc96\", \"#ab63fa\", \"#FFA15A\", \"#19d3f3\", \"#FF6692\", \"#B6E880\", \"#FF97FF\", \"#FECB52\"], \"font\": {\"color\": \"#2a3f5f\"}, \"geo\": {\"bgcolor\": \"white\", \"lakecolor\": \"white\", \"landcolor\": \"#E5ECF6\", \"showlakes\": true, \"showland\": true, \"subunitcolor\": \"white\"}, \"hoverlabel\": {\"align\": \"left\"}, \"hovermode\": \"closest\", \"mapbox\": {\"style\": \"light\"}, \"paper_bgcolor\": \"white\", \"plot_bgcolor\": \"#E5ECF6\", \"polar\": {\"angularaxis\": {\"gridcolor\": \"white\", \"linecolor\": \"white\", \"ticks\": \"\"}, \"bgcolor\": \"#E5ECF6\", \"radialaxis\": {\"gridcolor\": \"white\", \"linecolor\": \"white\", \"ticks\": \"\"}}, \"scene\": {\"xaxis\": {\"backgroundcolor\": \"#E5ECF6\", \"gridcolor\": \"white\", \"gridwidth\": 2, \"linecolor\": \"white\", \"showbackground\": true, \"ticks\": \"\", \"zerolinecolor\": \"white\"}, \"yaxis\": {\"backgroundcolor\": \"#E5ECF6\", \"gridcolor\": \"white\", \"gridwidth\": 2, \"linecolor\": \"white\", \"showbackground\": true, \"ticks\": \"\", \"zerolinecolor\": \"white\"}, \"zaxis\": {\"backgroundcolor\": \"#E5ECF6\", \"gridcolor\": \"white\", \"gridwidth\": 2, \"linecolor\": \"white\", \"showbackground\": true, \"ticks\": \"\", \"zerolinecolor\": \"white\"}}, \"shapedefaults\": {\"line\": {\"color\": \"#2a3f5f\"}}, \"ternary\": {\"aaxis\": {\"gridcolor\": \"white\", \"linecolor\": \"white\", \"ticks\": \"\"}, \"baxis\": {\"gridcolor\": \"white\", \"linecolor\": \"white\", \"ticks\": \"\"}, \"bgcolor\": \"#E5ECF6\", \"caxis\": {\"gridcolor\": \"white\", \"linecolor\": \"white\", \"ticks\": \"\"}}, \"title\": {\"x\": 0.05}, \"xaxis\": {\"automargin\": true, \"gridcolor\": \"white\", \"linecolor\": \"white\", \"ticks\": \"\", \"title\": {\"standoff\": 15}, \"zerolinecolor\": \"white\", \"zerolinewidth\": 2}, \"yaxis\": {\"automargin\": true, \"gridcolor\": \"white\", \"linecolor\": \"white\", \"ticks\": \"\", \"title\": {\"standoff\": 15}, \"zerolinecolor\": \"white\", \"zerolinewidth\": 2}}}, \"xaxis\": {\"constrain\": \"domain\", \"scaleanchor\": \"y\"}, \"yaxis\": {\"autorange\": \"reversed\", \"constrain\": \"domain\"}},\n",
              "                        {\"responsive\": true}\n",
              "                    ).then(function(){\n",
              "                            \n",
              "var gd = document.getElementById('29a909d3-3572-42bb-85e4-9b96729e8d9d');\n",
              "var x = new MutationObserver(function (mutations, observer) {{\n",
              "        var display = window.getComputedStyle(gd).display;\n",
              "        if (!display || display === 'none') {{\n",
              "            console.log([gd, 'removed!']);\n",
              "            Plotly.purge(gd);\n",
              "            observer.disconnect();\n",
              "        }}\n",
              "}});\n",
              "\n",
              "// Listen for the removal of the full notebook cells\n",
              "var notebookContainer = gd.closest('#notebook-container');\n",
              "if (notebookContainer) {{\n",
              "    x.observe(notebookContainer, {childList: true});\n",
              "}}\n",
              "\n",
              "// Listen for the clearing of the current output cell\n",
              "var outputEl = gd.closest('.output');\n",
              "if (outputEl) {{\n",
              "    x.observe(outputEl, {childList: true});\n",
              "}}\n",
              "\n",
              "                        })\n",
              "                };\n",
              "                \n",
              "            </script>\n",
              "        </div>\n",
              "</body>\n",
              "</html>"
            ]
          },
          "metadata": {
            "tags": []
          }
        }
      ]
    },
    {
      "cell_type": "code",
      "metadata": {
        "colab": {
          "base_uri": "https://localhost:8080/",
          "height": 266
        },
        "id": "5EYRmnx8k-8d",
        "outputId": "bed4e6dc-0e60-4eb2-f1ae-95e47ef13d41"
      },
      "source": [
        "def imshow(img):\n",
        "    img = img / 2 + 0.5     # unnormalize\n",
        "    npimg = img.numpy()\n",
        "    plt.imshow(np.transpose(npimg, (1, 2, 0)))\n",
        "    plt.show()\n",
        "    \n",
        "imshow(trainset[0][0])"
      ],
      "id": "5EYRmnx8k-8d",
      "execution_count": null,
      "outputs": [
        {
          "output_type": "display_data",
          "data": {
            "image/png": "[encoded data removed]",
            "text/plain": [
              "<Figure size 432x288 with 1 Axes>"
            ]
          },
          "metadata": {
            "tags": [],
            "needs_background": "light"
          }
        }
      ]
    },
    {
      "cell_type": "code",
      "metadata": {
        "colab": {
          "base_uri": "https://localhost:8080/",
          "height": 35
        },
        "id": "oolevyynk-8d",
        "outputId": "e12e207b-2a1f-4922-9d59-bc9de47edf1e"
      },
      "source": [
        "classes[trainset[0][1]]"
      ],
      "id": "oolevyynk-8d",
      "execution_count": null,
      "outputs": [
        {
          "output_type": "execute_result",
          "data": {
            "application/vnd.google.colaboratory.intrinsic+json": {
              "type": "string"
            },
            "text/plain": [
              "'frog'"
            ]
          },
          "metadata": {
            "tags": []
          },
          "execution_count": 8
        }
      ]
    },
    {
      "cell_type": "code",
      "metadata": {
        "colab": {
          "base_uri": "https://localhost:8080/"
        },
        "id": "Q0Gj1glUk-8e",
        "outputId": "a56ea361-270a-40f3-e2f2-a62c30e3f86c"
      },
      "source": [
        "trainset[0][0].shape"
      ],
      "id": "Q0Gj1glUk-8e",
      "execution_count": null,
      "outputs": [
        {
          "output_type": "execute_result",
          "data": {
            "text/plain": [
              "torch.Size([3, 32, 32])"
            ]
          },
          "metadata": {
            "tags": []
          },
          "execution_count": 9
        }
      ]
    },
    {
      "cell_type": "code",
      "metadata": {
        "id": "v6DYUgdMk-8g"
      },
      "source": [
        "def test(net, dataloader, device='cuda:0'):\n",
        "    net = net.to(device)\n",
        "    conf_matrix = np.zeros((10, 10))\n",
        "    for i, (X, y) in enumerate(dataloader):\n",
        "        X, y = X.to(device), y.to(device)\n",
        "        with torch.no_grad():\n",
        "            pred = net(X)\n",
        "            pred_cls = pred.argmax(1)\n",
        "            for j in range(len(pred_cls)):\n",
        "                conf_matrix[y[j]][pred_cls[j]] += 1\n",
        "    return conf_matrix"
      ],
      "id": "v6DYUgdMk-8g",
      "execution_count": null,
      "outputs": []
    },
    {
      "cell_type": "code",
      "metadata": {
        "id": "mJIhOQpGk-8g"
      },
      "source": [
        "def train(net, dataloader, optimizer, loss_func, epochs=100, device='cuda:0', scheduler=None):\n",
        "    n = len(trainloader.dataset)\n",
        "    net.to(device)\n",
        "    train_acc = np.zeros(epochs)\n",
        "    test_acc = np.zeros(epochs)\n",
        "    train_loss = np.zeros(epochs)\n",
        "    test_loss = np.zeros(epochs)\n",
        "    \n",
        "    for epoch in tqdm(range(epochs)):\n",
        "        epoch_ok = 0\n",
        "        \n",
        "        for i, (X, y) in enumerate(dataloader):\n",
        "            X, y = X.to(device), y.to(device)\n",
        "            optimizer.zero_grad()\n",
        "            pred = net(X)\n",
        "            loss = loss_func(pred, y)\n",
        "            \n",
        "            train_loss[epoch] += loss.item()\n",
        "            pred_cls = pred.argmax(1)\n",
        "            epoch_ok += sum(pred_cls == y)\n",
        "            \n",
        "            loss.backward()\n",
        "            optimizer.step()\n",
        "        \n",
        "        if scheduler: scheduler.step()\n",
        "        \n",
        "        conf_matrix = test(net, testloader)    \n",
        "        test_acc[epoch] = np.diag(conf_matrix).sum() / np.sum(conf_matrix)\n",
        "        train_acc[epoch] = epoch_ok / n\n",
        "        \n",
        "        print(f'Epoch {epoch}: train loss: {train_loss[epoch]:.4f}, train acc: {train_acc[epoch]:.3f}, '\n",
        "              f'test acc: {test_acc[epoch]}')\n",
        "    \n",
        "    return  train_acc, test_acc, train_loss, test_loss"
      ],
      "id": "mJIhOQpGk-8g",
      "execution_count": null,
      "outputs": []
    },
    {
      "cell_type": "code",
      "metadata": {
        "id": "hdGTEZHgk-8h"
      },
      "source": [
        "class Net(nn.Module):\n",
        "    \n",
        "    def __init__(self):\n",
        "        super(Net, self).__init__()\n",
        "        self.conv1 = nn.Conv2d(in_channels=3, out_channels=16, kernel_size=(3,3), padding=1)\n",
        "        self.conv2 = nn.Conv2d(in_channels=16, out_channels=32, kernel_size=(3,3), padding=1)\n",
        "        self.conv3 = nn.Conv2d(in_channels=32, out_channels=64, kernel_size=(3,3), padding=1)\n",
        "        self.pool = nn.MaxPool2d(kernel_size=(2,2))\n",
        "        self.gap = nn.MaxPool2d(kernel_size=(8,8))\n",
        "        \n",
        "        self.linear = nn.Sequential(\n",
        "            nn.Linear(64, 32),\n",
        "            nn.ReLU(),\n",
        "            nn.Linear(32, 10),\n",
        "            nn.ReLU()\n",
        "        )\n",
        "        \n",
        "    \n",
        "    def forward(self, x):\n",
        "        # conv block\n",
        "        x = self.conv1(x)\n",
        "        x = self.pool(F.relu(x))\n",
        "        x = self.conv2(x)\n",
        "        x = self.pool(F.relu(x))\n",
        "        x = self.conv3(x)\n",
        "        x = self.gap(F.relu(x))\n",
        "        x = x.squeeze()\n",
        "        # mlp block\n",
        "        x = self.linear(x)\n",
        "        return x\n",
        "    "
      ],
      "id": "hdGTEZHgk-8h",
      "execution_count": null,
      "outputs": []
    },
    {
      "cell_type": "code",
      "metadata": {
        "id": "nYl8DY--k-8i"
      },
      "source": [
        "class Net(nn.Module):\n",
        "    \n",
        "    def __init__(self):\n",
        "        super(Net, self).__init__()\n",
        "        self.conv1 = nn.Conv2d(in_channels=3, out_channels=16, kernel_size=(3,3), padding=1)\n",
        "        self.conv2 = nn.Conv2d(in_channels=16, out_channels=32, kernel_size=(3,3), padding=1)\n",
        "        self.conv3 = nn.Conv2d(in_channels=32, out_channels=64, kernel_size=(3,3), padding=1)\n",
        "        self.conv4 = nn.Conv2d(in_channels=64, out_channels=128, kernel_size=(3,3), padding=1)\n",
        "        self.pool = nn.MaxPool2d(kernel_size=(2,2))\n",
        "        self.gap = nn.MaxPool2d(kernel_size=(16, 16))\n",
        "        self.bn1 = nn.BatchNorm2d(16)\n",
        "        self.bn2 = nn.BatchNorm2d(32)\n",
        "        self.bn3 = nn.BatchNorm2d(64)\n",
        "        self.bn4 = nn.BatchNorm2d(128)\n",
        "        \n",
        "        self.linear = nn.Sequential(\n",
        "            nn.Linear(128, 64),\n",
        "            nn.ReLU(),\n",
        "            nn.Dropout(),\n",
        "            nn.Linear(64, 32),\n",
        "            nn.ReLU(),\n",
        "            nn.Dropout(),\n",
        "            nn.Linear(32, 10),\n",
        "            nn.ReLU()\n",
        "        )\n",
        "    \n",
        "    def forward(self, x):\n",
        "        # conv block\n",
        "        x = self.conv1(x)\n",
        "        x = self.bn1(x)\n",
        "        x = F.relu(x)\n",
        "        x = self.conv2(x)\n",
        "        x = self.bn2(x)\n",
        "        x = F.relu(x)\n",
        "        x = self.conv3(x)\n",
        "        x = self.bn3(x)\n",
        "        x = F.relu(x)\n",
        "        x = self.pool(x)\n",
        "        x = self.conv4(x)\n",
        "        x = self.bn4(x)\n",
        "        x = F.relu(x)\n",
        "        x = self.gap(x)\n",
        "\n",
        "        x = x.squeeze()\n",
        "        # mlp block\n",
        "        x = self.linear(x)\n",
        "        return x\n",
        "    "
      ],
      "id": "nYl8DY--k-8i",
      "execution_count": null,
      "outputs": []
    },
    {
      "cell_type": "code",
      "metadata": {
        "id": "s1CCOp2Ok-8i"
      },
      "source": [
        "class ResNet01(nn.Module):\n",
        "    \n",
        "    def __init__(self):\n",
        "        super(ResNet01, self).__init__()\n",
        "        self.conv1 = nn.Conv2d(in_channels=3, out_channels=16, kernel_size=(3,3), padding=1)\n",
        "        self.conv11 = nn.Conv2d(in_channels=16, out_channels=16, kernel_size=(3,3), padding=1)\n",
        "        self.conv1to11 = nn.Conv2d(in_channels=3, out_channels=16, kernel_size=(1,1), padding=0)\n",
        "        \n",
        "        self.conv2 = nn.Conv2d(in_channels=16, out_channels=32, kernel_size=(3,3), padding=1)\n",
        "        self.conv22 = nn.Conv2d(in_channels=32, out_channels=32, kernel_size=(3,3), padding=1)\n",
        "        self.conv2to22 = nn.Conv2d(in_channels=16, out_channels=32, kernel_size=(1,1), padding=0)\n",
        "        \n",
        "        self.conv3 = nn.Conv2d(in_channels=32, out_channels=64, kernel_size=(3,3), padding=1)\n",
        "        self.conv33 = nn.Conv2d(in_channels=64, out_channels=64, kernel_size=(3,3), padding=1)\n",
        "        self.conv3to33 = nn.Conv2d(in_channels=32, out_channels=64, kernel_size=(1,1), padding=0)\n",
        "        \n",
        "        self.conv4 = nn.Conv2d(in_channels=64, out_channels=128, kernel_size=(3,3), padding=1)\n",
        "        self.conv44 = nn.Conv2d(in_channels=128, out_channels=128, kernel_size=(3,3), padding=1)\n",
        "        self.conv4to44 = nn.Conv2d(in_channels=64, out_channels=128, kernel_size=(1,1), padding=0)\n",
        "        \n",
        "        self.pool = nn.MaxPool2d(kernel_size=(2,2))\n",
        "        self.gap = nn.MaxPool2d(kernel_size=(32, 32))\n",
        "        \n",
        "        self.bn1 = nn.BatchNorm2d(16)\n",
        "        self.bn2 = nn.BatchNorm2d(32)\n",
        "        self.bn3 = nn.BatchNorm2d(64)\n",
        "        self.bn4 = nn.BatchNorm2d(128)\n",
        "        \n",
        "        self.res_layer_1 = nn.Sequential(\n",
        "            self.conv11(),\n",
        "            self.bn1(),\n",
        "            F.relu(),\n",
        "            self.conv11(),\n",
        "            self.bn1()\n",
        "        )\n",
        " \n",
        "        self.linear = nn.Sequential(\n",
        "            nn.Linear(128, 64),\n",
        "            nn.ReLU(),\n",
        "            nn.Dropout(),\n",
        "            nn.Linear(64, 32),\n",
        "            nn.ReLU(),\n",
        "            nn.Dropout(),\n",
        "            nn.Linear(32, 10),\n",
        "            nn.ReLU()\n",
        "        )\n",
        "    \n",
        "    def forward(self, x):\n",
        "        identity = self.conv1to11(x)\n",
        "        x = self.conv1(x)\n",
        "        x = self.bn1(x)\n",
        "        x = F.relu(x)\n",
        "        x = self.conv11(x)\n",
        "        x = self.bn1(x)\n",
        "        x += identity\n",
        "        x = F.relu(x)\n",
        " \n",
        "        identity = x\n",
        "        x = self.conv11(x)\n",
        "        x = self.bn1(x)\n",
        "        x = F.relu(x)\n",
        "        x = self.conv11(x)\n",
        "        x = self.bn1(x)\n",
        "        x += identity\n",
        "        x = F.relu(x)\n",
        " \n",
        "        identity = self.conv2to22(x)\n",
        "        x = self.conv2(x)\n",
        "        x = self.bn2(x)\n",
        "        x = F.relu(x)\n",
        "        x = self.conv22(x)\n",
        "        x = self.bn2(x)\n",
        "        x += identity\n",
        "        x = F.relu(x)\n",
        "        \n",
        "        identity = x\n",
        "        x = self.conv22(x)\n",
        "        x = self.bn2(x)\n",
        "        x = F.relu(x)\n",
        "        x = self.conv22(x)\n",
        "        x = self.bn2(x)\n",
        "        x += identity\n",
        "        x = F.relu(x)\n",
        " \n",
        "        identity = self.conv3to33(x)\n",
        "        x = self.conv3(x)\n",
        "        x = self.bn3(x)\n",
        "        x = F.relu(x)\n",
        "        x = self.conv33(x)\n",
        "        x = self.bn3(x)\n",
        "        x += identity\n",
        "        x = F.relu(x)\n",
        "        \n",
        "        identity = x\n",
        "        x = self.conv33(x)\n",
        "        x = self.bn3(x)\n",
        "        x = F.relu(x)\n",
        "        x = self.conv33(x)\n",
        "        x = self.bn3(x)\n",
        "        x += identity\n",
        "        x = F.relu(x)\n",
        " \n",
        "        identity = self.conv4to44(x)\n",
        "        x = self.conv4(x)\n",
        "        x = self.bn4(x)\n",
        "        x = F.relu(x)\n",
        "        x = self.conv44(x)\n",
        "        x = self.bn4(x)\n",
        "        x += identity\n",
        "        x = F.relu(x)\n",
        "        \n",
        "        identity = x\n",
        "        x = self.conv44(x)\n",
        "        x = self.bn4(x)\n",
        "        x = F.relu(x)\n",
        "        x = self.conv44(x)\n",
        "        x = self.bn4(x)\n",
        "        x += identity\n",
        "        x = F.relu(x)\n",
        " \n",
        "        x = self.gap(x)\n",
        " \n",
        "        x = x.squeeze()\n",
        "        # mlp block\n",
        "        x = self.linear(x)\n",
        "        return x"
      ],
      "id": "s1CCOp2Ok-8i",
      "execution_count": null,
      "outputs": []
    },
    {
      "cell_type": "code",
      "metadata": {
        "id": "5UpjWVoLaSgt"
      },
      "source": [
        "# https://uvadlc-notebooks.readthedocs.io/en/latest/tutorial_notebooks/tutorial5/Inception_ResNet_DenseNet.html\n",
        "class InceptionBlock(nn.Module):\n",
        "\n",
        "    def __init__(self, c_in, c_red : dict, c_out : dict, act_fn):\n",
        "        \"\"\"\n",
        "        Inputs:\n",
        "            c_in - Number of input feature maps from the previous layers\n",
        "            c_red - Dictionary with keys \"3x3\" and \"5x5\" specifying the output of the dimensionality reducing 1x1 convolutions\n",
        "            c_out - Dictionary with keys \"1x1\", \"3x3\", \"5x5\", and \"max\"\n",
        "            act_fn - Activation class constructor (e.g. nn.ReLU)\n",
        "        \"\"\"\n",
        "        super().__init__()\n",
        "\n",
        "        # 1x1 convolution branch\n",
        "        self.conv_1x1 = nn.Sequential(\n",
        "            nn.Conv2d(c_in, c_out[\"1x1\"], kernel_size=1),\n",
        "            nn.BatchNorm2d(c_out[\"1x1\"]),\n",
        "            act_fn()\n",
        "        )\n",
        "\n",
        "        # 3x3 convolution branch\n",
        "        self.conv_3x3 = nn.Sequential(\n",
        "            nn.Conv2d(c_in, c_red[\"3x3\"], kernel_size=1),\n",
        "            nn.BatchNorm2d(c_red[\"3x3\"]),\n",
        "            act_fn(),\n",
        "            nn.Conv2d(c_red[\"3x3\"], c_out[\"3x3\"], kernel_size=3, padding=1),\n",
        "            nn.BatchNorm2d(c_out[\"3x3\"]),\n",
        "            act_fn()\n",
        "        )\n",
        "\n",
        "        # 5x5 convolution branch\n",
        "        self.conv_5x5 = nn.Sequential(\n",
        "            nn.Conv2d(c_in, c_red[\"5x5\"], kernel_size=1),\n",
        "            nn.BatchNorm2d(c_red[\"5x5\"]),\n",
        "            act_fn(),\n",
        "            nn.Conv2d(c_red[\"5x5\"], c_out[\"5x5\"], kernel_size=5, padding=2),\n",
        "            nn.BatchNorm2d(c_out[\"5x5\"]),\n",
        "            act_fn()\n",
        "        )\n",
        "\n",
        "        # Max-pool branch\n",
        "        self.max_pool = nn.Sequential(\n",
        "            nn.MaxPool2d(kernel_size=3, padding=1, stride=1),\n",
        "            nn.Conv2d(c_in, c_out[\"max\"], kernel_size=1),\n",
        "            nn.BatchNorm2d(c_out[\"max\"]),\n",
        "            act_fn()\n",
        "        )\n",
        "\n",
        "\n",
        "    def forward(self, x):\n",
        "        x_1x1 = self.conv_1x1(x)\n",
        "        x_3x3 = self.conv_3x3(x)\n",
        "        x_5x5 = self.conv_5x5(x)\n",
        "        x_max = self.max_pool(x)\n",
        "        x_out = torch.cat([x_1x1, x_3x3, x_5x5, x_max], dim=1)\n",
        "        return x_out\n",
        "\n",
        " \n",
        "class ResBlockSimple(nn.Module):\n",
        "    def __init__(self, module):\n",
        "        super().__init__()\n",
        "        self.module = module\n",
        " \n",
        "    def forward(self, inputs):\n",
        "        return self.module(inputs) + inputs\n",
        " \n",
        "class ResNet02(nn.Module):\n",
        "    def __init__(self, classes=10, simpnet_name='ResNet02'):\n",
        "        super(ResNet02, self).__init__()\n",
        "        \n",
        "        self.conv1 = nn.Conv2d(in_channels=3, out_channels=16, kernel_size=(3,3), padding=1)\n",
        " \n",
        "        self.residual_net = self._make_layers()\n",
        " \n",
        "        self.gap = nn.MaxPool2d(kernel_size=(32, 32))\n",
        " \n",
        "        self.linear = nn.Sequential(\n",
        "            nn.Linear(128, 64),\n",
        "            nn.ReLU(),\n",
        "            nn.Dropout(0.1),\n",
        "            nn.Linear(64, 32),\n",
        "            nn.ReLU(),\n",
        "            nn.Dropout(0.1),\n",
        "            nn.Linear(32, 10),\n",
        "            nn.ReLU()\n",
        "        )\n",
        " \n",
        "    def forward(self, x):\n",
        "        x = self.conv1(x)\n",
        "        x = self.residual_net(x)\n",
        "        x = self.gap(x)\n",
        "        x = x.squeeze()\n",
        "        # mlp block\n",
        "        x = self.linear(x)\n",
        "        return x\n",
        " \n",
        "    def _make_layers(self):\n",
        " \n",
        "        model = nn.Sequential(\n",
        "            nn.ReLU(),\n",
        "            nn.BatchNorm2d(16),\n",
        "            ResBlockSimple(\n",
        "                nn.Sequential(\n",
        "                    nn.Conv2d(16, 16, kernel_size=3, padding=1),\n",
        "                    nn.ReLU(),\n",
        "                    nn.BatchNorm2d(16),\n",
        "                    nn.Conv2d(16, 16, kernel_size=3, padding=1),\n",
        "                    nn.ReLU(),\n",
        "                    nn.BatchNorm2d(16),\n",
        "                )\n",
        "            ),\n",
        "            ResBlockSimple(\n",
        "                nn.Sequential(\n",
        "                    nn.Conv2d(16, 16, kernel_size=3, padding=1),\n",
        "                    nn.ReLU(),\n",
        "                    nn.BatchNorm2d(16),\n",
        "                    nn.Conv2d(16, 16, kernel_size=3, padding=1),\n",
        "                    nn.ReLU(),\n",
        "                    nn.BatchNorm2d(16),\n",
        "                )\n",
        "            ),\n",
        "            nn.Conv2d(16, 32, kernel_size=3, padding=1),\n",
        "            nn.ReLU(),\n",
        "            nn.BatchNorm2d(32),\n",
        "            ResBlockSimple(\n",
        "                nn.Sequential(\n",
        "                    nn.Conv2d(32, 32, kernel_size=3, padding=1),\n",
        "                    nn.ReLU(),\n",
        "                    nn.BatchNorm2d(32),\n",
        "                    nn.Conv2d(32, 32, kernel_size=3, padding=1),\n",
        "                    nn.ReLU(),\n",
        "                    nn.BatchNorm2d(32),\n",
        "                )\n",
        "            ),\n",
        "            ResBlockSimple(\n",
        "                nn.Sequential(\n",
        "                    nn.Conv2d(32, 32, kernel_size=3, padding=1),\n",
        "                    nn.ReLU(),\n",
        "                    nn.BatchNorm2d(32),\n",
        "                    nn.Conv2d(32, 32, kernel_size=3, padding=1),\n",
        "                    nn.ReLU(),\n",
        "                    nn.BatchNorm2d(32),\n",
        "                )\n",
        "            ),\n",
        "            nn.Conv2d(32, 64, kernel_size=3, padding=1),\n",
        "            nn.ReLU(),\n",
        "            nn.BatchNorm2d(64),\n",
        "            ResBlockSimple(\n",
        "                nn.Sequential(\n",
        "                    nn.Conv2d(64, 64, kernel_size=3, padding=1),\n",
        "                    nn.ReLU(),\n",
        "                    nn.BatchNorm2d(64),\n",
        "                    nn.Conv2d(64, 64, kernel_size=3, padding=1),\n",
        "                    nn.ReLU(),\n",
        "                    nn.BatchNorm2d(64),\n",
        "                )\n",
        "            ),\n",
        "            ResBlockSimple(\n",
        "                nn.Sequential(\n",
        "                    nn.Conv2d(64, 64, kernel_size=3, padding=1),\n",
        "                    nn.ReLU(),\n",
        "                    nn.BatchNorm2d(64),\n",
        "                    nn.Conv2d(64, 64, kernel_size=3, padding=1),\n",
        "                    nn.ReLU(),\n",
        "                    nn.BatchNorm2d(64),\n",
        "                )\n",
        "            ),\n",
        "            nn.Conv2d(64, 128, kernel_size=3, padding=1),\n",
        "            nn.ReLU(),\n",
        "            nn.BatchNorm2d(128),\n",
        "            ResBlockSimple(\n",
        "                nn.Sequential(\n",
        "                    nn.Conv2d(128, 128, kernel_size=3, padding=1),\n",
        "                    nn.ReLU(),\n",
        "                    nn.BatchNorm2d(128),\n",
        "                    nn.Conv2d(128, 128, kernel_size=3, padding=1),\n",
        "                    nn.ReLU(),\n",
        "                    nn.BatchNorm2d(128),\n",
        "                )\n",
        "            ),\n",
        "            ResBlockSimple(\n",
        "                nn.Sequential(\n",
        "                    nn.Conv2d(128, 128, kernel_size=3, padding=1),\n",
        "                    nn.ReLU(),\n",
        "                    nn.BatchNorm2d(128),\n",
        "                    nn.Conv2d(128, 128, kernel_size=3, padding=1),\n",
        "                    nn.ReLU(),\n",
        "                    nn.BatchNorm2d(128),\n",
        "                )\n",
        "            )\n",
        " \n",
        "        )\n",
        " \n",
        "        for m in model.modules():\n",
        "          if isinstance(m, nn.Conv2d):\n",
        "            nn.init.xavier_uniform_(m.weight.data, gain=nn.init.calculate_gain('relu'))\n",
        " \n",
        "        return model"
      ],
      "id": "5UpjWVoLaSgt",
      "execution_count": null,
      "outputs": []
    },
    {
      "cell_type": "code",
      "metadata": {
        "colab": {
          "base_uri": "https://localhost:8080/"
        },
        "id": "wwh1YqrNk-8i",
        "outputId": "1e8500bb-1979-41e4-e444-5d82d034d5d1"
      },
      "source": [
        "device = torch.device(\"cuda:0\" if torch.cuda.is_available() else \"cpu\")\n",
        "device"
      ],
      "id": "wwh1YqrNk-8i",
      "execution_count": null,
      "outputs": [
        {
          "output_type": "execute_result",
          "data": {
            "text/plain": [
              "device(type='cuda', index=0)"
            ]
          },
          "metadata": {
            "tags": []
          },
          "execution_count": 20
        }
      ]
    },
    {
      "cell_type": "code",
      "metadata": {
        "id": "j5PwtGUok-8j"
      },
      "source": [
        "net = ResNet02().to(device)"
      ],
      "id": "j5PwtGUok-8j",
      "execution_count": null,
      "outputs": []
    },
    {
      "cell_type": "code",
      "metadata": {
        "id": "k8hkRpCKk-8j"
      },
      "source": [
        "loss_func = nn.CrossEntropyLoss()\n",
        "sgd = optim.SGD(net.parameters(), lr=0.01, momentum=0.9)\n",
        "scheduler = optim.lr_scheduler.StepLR(sgd, step_size=5, gamma=2)"
      ],
      "id": "k8hkRpCKk-8j",
      "execution_count": null,
      "outputs": []
    },
    {
      "cell_type": "code",
      "metadata": {
        "colab": {
          "base_uri": "https://localhost:8080/",
          "height": 101,
          "referenced_widgets": [
            "aced3ddf956840c5b392942291b2e699",
            "31a70520ec294dbfac9a752cedaf5486",
            "9e8b24b51daa4510a0794f13a157fa12",
            "499c4f09cb6f4b438851ee59b8460f56",
            "8f9251e055ed4072b7a4499a0286857a",
            "d9839731ff374eebab0cd6dc35245cef",
            "11426da5dc11417ebe9fe6342ce5b2e3",
            "7332b4e71b904dafaa5fdbfb54998399"
          ]
        },
        "id": "W5WvmpC4nNnH",
        "outputId": "d058b4a7-1419-4e3c-93e7-94b594e29ee7"
      },
      "source": [
        "train(net, trainloader, sgd, loss_func, 10)"
      ],
      "id": "W5WvmpC4nNnH",
      "execution_count": null,
      "outputs": [
        {
          "output_type": "display_data",
          "data": {
            "application/vnd.jupyter.widget-view+json": {
              "model_id": "aced3ddf956840c5b392942291b2e699",
              "version_minor": 0,
              "version_major": 2
            },
            "text/plain": [
              "HBox(children=(FloatProgress(value=0.0, max=10.0), HTML(value='')))"
            ]
          },
          "metadata": {
            "tags": []
          }
        },
        {
          "output_type": "stream",
          "text": [
            "Epoch 0: train loss: 454.9094, train acc: 0.904, test acc: 0.809\n",
            "Epoch 1: train loss: 428.5620, train acc: 0.910, test acc: 0.7953\n",
            "Epoch 2: train loss: 420.9768, train acc: 0.912, test acc: 0.8081\n"
          ],
          "name": "stdout"
        }
      ]
    },
    {
      "cell_type": "code",
      "metadata": {
        "id": "UmzpKOXxk-8k"
      },
      "source": [
        "mx = test(net, trainloader)"
      ],
      "id": "UmzpKOXxk-8k",
      "execution_count": null,
      "outputs": []
    },
    {
      "cell_type": "code",
      "metadata": {
        "id": "4xIp7j0Fk-8k",
        "colab": {
          "base_uri": "https://localhost:8080/",
          "height": 282
        },
        "outputId": "98c65a42-cdd4-4ce8-ee99-bd744735271d"
      },
      "source": [
        "mx_df = pd.DataFrame(mx)\n",
        "mx_df.columns = classes\n",
        "mx_df.index = classes\n",
        "sn.heatmap(mx_df)"
      ],
      "id": "4xIp7j0Fk-8k",
      "execution_count": null,
      "outputs": [
        {
          "output_type": "execute_result",
          "data": {
            "text/plain": [
              "<matplotlib.axes._subplots.AxesSubplot at 0x7f1b15b97e90>"
            ]
          },
          "metadata": {
            "tags": []
          },
          "execution_count": 16
        },
        {
          "output_type": "display_data",
          "data": {
            "image/png": "[encoded data removed]",
            "text/plain": [
              "<Figure size 432x288 with 2 Axes>"
            ]
          },
          "metadata": {
            "tags": [],
            "needs_background": "light"
          }
        }
      ]
    },
    {
      "cell_type": "code",
      "metadata": {
        "id": "RMzlU08yk-8k"
      },
      "source": [
        ""
      ],
      "id": "RMzlU08yk-8k",
      "execution_count": null,
      "outputs": []
    },
    {
      "cell_type": "markdown",
      "metadata": {
        "id": "GO1jvxRfk-8l"
      },
      "source": [
        "- lr scheduler,\n",
        "- "
      ],
      "id": "GO1jvxRfk-8l"
    }
  ]
}