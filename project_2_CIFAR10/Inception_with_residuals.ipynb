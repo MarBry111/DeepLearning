{
  "nbformat": 4,
  "nbformat_minor": 5,
  "metadata": {
    "accelerator": "GPU",
    "colab": {
      "name": "CIFAR10(1)(1).ipynb",
      "provenance": [],
      "collapsed_sections": []
    },
    "kernelspec": {
      "display_name": "Python 3",
      "language": "python",
      "name": "python3"
    },
    "language_info": {
      "codemirror_mode": {
        "name": "ipython",
        "version": 3
      },
      "file_extension": ".py",
      "mimetype": "text/x-python",
      "name": "python",
      "nbconvert_exporter": "python",
      "pygments_lexer": "ipython3",
      "version": "3.7.10"
    },
    "toc": {
      "base_numbering": 1,
      "nav_menu": {},
      "number_sections": true,
      "sideBar": true,
      "skip_h1_title": false,
      "title_cell": "Table of Contents",
      "title_sidebar": "Contents",
      "toc_cell": false,
      "toc_position": {},
      "toc_section_display": true,
      "toc_window_display": false
    },
    "widgets": {
      "application/vnd.jupyter.widget-state+json": {
        "86a8f27b290a4f81bcc2eb60d606114d": {
          "model_module": "@jupyter-widgets/controls",
          "model_name": "HBoxModel",
          "state": {
            "_dom_classes": [],
            "_model_module": "@jupyter-widgets/controls",
            "_model_module_version": "1.5.0",
            "_model_name": "HBoxModel",
            "_view_count": null,
            "_view_module": "@jupyter-widgets/controls",
            "_view_module_version": "1.5.0",
            "_view_name": "HBoxView",
            "box_style": "",
            "children": [
              "IPY_MODEL_29abaf14c01441808c8cf02cf8562eeb",
              "IPY_MODEL_c53b51853a8b4ed5822b4a40b7ead5e3"
            ],
            "layout": "IPY_MODEL_44627989a1484ab7bd4aea347a53c401"
          }
        },
        "29abaf14c01441808c8cf02cf8562eeb": {
          "model_module": "@jupyter-widgets/controls",
          "model_name": "FloatProgressModel",
          "state": {
            "_dom_classes": [],
            "_model_module": "@jupyter-widgets/controls",
            "_model_module_version": "1.5.0",
            "_model_name": "FloatProgressModel",
            "_view_count": null,
            "_view_module": "@jupyter-widgets/controls",
            "_view_module_version": "1.5.0",
            "_view_name": "ProgressView",
            "bar_style": "success",
            "description": "100%",
            "description_tooltip": null,
            "layout": "IPY_MODEL_745b180fbf274359b9528e5577817f5c",
            "max": 100,
            "min": 0,
            "orientation": "horizontal",
            "style": "IPY_MODEL_6c7ddb11f1ca4b08a736408aaf03b60d",
            "value": 100
          }
        },
        "c53b51853a8b4ed5822b4a40b7ead5e3": {
          "model_module": "@jupyter-widgets/controls",
          "model_name": "HTMLModel",
          "state": {
            "_dom_classes": [],
            "_model_module": "@jupyter-widgets/controls",
            "_model_module_version": "1.5.0",
            "_model_name": "HTMLModel",
            "_view_count": null,
            "_view_module": "@jupyter-widgets/controls",
            "_view_module_version": "1.5.0",
            "_view_name": "HTMLView",
            "description": "",
            "description_tooltip": null,
            "layout": "IPY_MODEL_293f69e909164ea88b038d4a5110516a",
            "placeholder": "​",
            "style": "IPY_MODEL_cba21f66eb3a4a1785c179c2950fbf21",
            "value": " 100/100 [3:20:56&lt;00:00, 120.57s/it]"
          }
        },
        "44627989a1484ab7bd4aea347a53c401": {
          "model_module": "@jupyter-widgets/base",
          "model_name": "LayoutModel",
          "state": {
            "_model_module": "@jupyter-widgets/base",
            "_model_module_version": "1.2.0",
            "_model_name": "LayoutModel",
            "_view_count": null,
            "_view_module": "@jupyter-widgets/base",
            "_view_module_version": "1.2.0",
            "_view_name": "LayoutView",
            "align_content": null,
            "align_items": null,
            "align_self": null,
            "border": null,
            "bottom": null,
            "display": null,
            "flex": null,
            "flex_flow": null,
            "grid_area": null,
            "grid_auto_columns": null,
            "grid_auto_flow": null,
            "grid_auto_rows": null,
            "grid_column": null,
            "grid_gap": null,
            "grid_row": null,
            "grid_template_areas": null,
            "grid_template_columns": null,
            "grid_template_rows": null,
            "height": null,
            "justify_content": null,
            "justify_items": null,
            "left": null,
            "margin": null,
            "max_height": null,
            "max_width": null,
            "min_height": null,
            "min_width": null,
            "object_fit": null,
            "object_position": null,
            "order": null,
            "overflow": null,
            "overflow_x": null,
            "overflow_y": null,
            "padding": null,
            "right": null,
            "top": null,
            "visibility": null,
            "width": null
          }
        },
        "745b180fbf274359b9528e5577817f5c": {
          "model_module": "@jupyter-widgets/base",
          "model_name": "LayoutModel",
          "state": {
            "_model_module": "@jupyter-widgets/base",
            "_model_module_version": "1.2.0",
            "_model_name": "LayoutModel",
            "_view_count": null,
            "_view_module": "@jupyter-widgets/base",
            "_view_module_version": "1.2.0",
            "_view_name": "LayoutView",
            "align_content": null,
            "align_items": null,
            "align_self": null,
            "border": null,
            "bottom": null,
            "display": null,
            "flex": null,
            "flex_flow": null,
            "grid_area": null,
            "grid_auto_columns": null,
            "grid_auto_flow": null,
            "grid_auto_rows": null,
            "grid_column": null,
            "grid_gap": null,
            "grid_row": null,
            "grid_template_areas": null,
            "grid_template_columns": null,
            "grid_template_rows": null,
            "height": null,
            "justify_content": null,
            "justify_items": null,
            "left": null,
            "margin": null,
            "max_height": null,
            "max_width": null,
            "min_height": null,
            "min_width": null,
            "object_fit": null,
            "object_position": null,
            "order": null,
            "overflow": null,
            "overflow_x": null,
            "overflow_y": null,
            "padding": null,
            "right": null,
            "top": null,
            "visibility": null,
            "width": null
          }
        },
        "6c7ddb11f1ca4b08a736408aaf03b60d": {
          "model_module": "@jupyter-widgets/controls",
          "model_name": "ProgressStyleModel",
          "state": {
            "_model_module": "@jupyter-widgets/controls",
            "_model_module_version": "1.5.0",
            "_model_name": "ProgressStyleModel",
            "_view_count": null,
            "_view_module": "@jupyter-widgets/base",
            "_view_module_version": "1.2.0",
            "_view_name": "StyleView",
            "bar_color": null,
            "description_width": "initial"
          }
        },
        "293f69e909164ea88b038d4a5110516a": {
          "model_module": "@jupyter-widgets/base",
          "model_name": "LayoutModel",
          "state": {
            "_model_module": "@jupyter-widgets/base",
            "_model_module_version": "1.2.0",
            "_model_name": "LayoutModel",
            "_view_count": null,
            "_view_module": "@jupyter-widgets/base",
            "_view_module_version": "1.2.0",
            "_view_name": "LayoutView",
            "align_content": null,
            "align_items": null,
            "align_self": null,
            "border": null,
            "bottom": null,
            "display": null,
            "flex": null,
            "flex_flow": null,
            "grid_area": null,
            "grid_auto_columns": null,
            "grid_auto_flow": null,
            "grid_auto_rows": null,
            "grid_column": null,
            "grid_gap": null,
            "grid_row": null,
            "grid_template_areas": null,
            "grid_template_columns": null,
            "grid_template_rows": null,
            "height": null,
            "justify_content": null,
            "justify_items": null,
            "left": null,
            "margin": null,
            "max_height": null,
            "max_width": null,
            "min_height": null,
            "min_width": null,
            "object_fit": null,
            "object_position": null,
            "order": null,
            "overflow": null,
            "overflow_x": null,
            "overflow_y": null,
            "padding": null,
            "right": null,
            "top": null,
            "visibility": null,
            "width": null
          }
        },
        "cba21f66eb3a4a1785c179c2950fbf21": {
          "model_module": "@jupyter-widgets/controls",
          "model_name": "DescriptionStyleModel",
          "state": {
            "_model_module": "@jupyter-widgets/controls",
            "_model_module_version": "1.5.0",
            "_model_name": "DescriptionStyleModel",
            "_view_count": null,
            "_view_module": "@jupyter-widgets/base",
            "_view_module_version": "1.2.0",
            "_view_name": "StyleView",
            "description_width": ""
          }
        },
        "9b8d6e1346d94c0c8f4f19807d7abc9c": {
          "model_module": "@jupyter-widgets/controls",
          "model_name": "HBoxModel",
          "state": {
            "_dom_classes": [],
            "_model_module": "@jupyter-widgets/controls",
            "_model_module_version": "1.5.0",
            "_model_name": "HBoxModel",
            "_view_count": null,
            "_view_module": "@jupyter-widgets/controls",
            "_view_module_version": "1.5.0",
            "_view_name": "HBoxView",
            "box_style": "",
            "children": [
              "IPY_MODEL_53b92cf5b7194b81bf88473e69bd611e",
              "IPY_MODEL_1f33ee57d674445a965dad1fd2569a5b"
            ],
            "layout": "IPY_MODEL_0574fa158af846fdad9cc58488484341"
          }
        },
        "53b92cf5b7194b81bf88473e69bd611e": {
          "model_module": "@jupyter-widgets/controls",
          "model_name": "FloatProgressModel",
          "state": {
            "_dom_classes": [],
            "_model_module": "@jupyter-widgets/controls",
            "_model_module_version": "1.5.0",
            "_model_name": "FloatProgressModel",
            "_view_count": null,
            "_view_module": "@jupyter-widgets/controls",
            "_view_module_version": "1.5.0",
            "_view_name": "ProgressView",
            "bar_style": "success",
            "description": "100%",
            "description_tooltip": null,
            "layout": "IPY_MODEL_1c4cfc4b841f49d2b3e1fe4c02f1e2cc",
            "max": 10,
            "min": 0,
            "orientation": "horizontal",
            "style": "IPY_MODEL_de8dd48e8f934417b7534e19f69ec21e",
            "value": 10
          }
        },
        "1f33ee57d674445a965dad1fd2569a5b": {
          "model_module": "@jupyter-widgets/controls",
          "model_name": "HTMLModel",
          "state": {
            "_dom_classes": [],
            "_model_module": "@jupyter-widgets/controls",
            "_model_module_version": "1.5.0",
            "_model_name": "HTMLModel",
            "_view_count": null,
            "_view_module": "@jupyter-widgets/controls",
            "_view_module_version": "1.5.0",
            "_view_name": "HTMLView",
            "description": "",
            "description_tooltip": null,
            "layout": "IPY_MODEL_d89d9703ff414e45b91e6e7f01347c35",
            "placeholder": "​",
            "style": "IPY_MODEL_1390481b98454a77b81aa6443dd62fd0",
            "value": " 10/10 [22:43&lt;00:00, 136.36s/it]"
          }
        },
        "0574fa158af846fdad9cc58488484341": {
          "model_module": "@jupyter-widgets/base",
          "model_name": "LayoutModel",
          "state": {
            "_model_module": "@jupyter-widgets/base",
            "_model_module_version": "1.2.0",
            "_model_name": "LayoutModel",
            "_view_count": null,
            "_view_module": "@jupyter-widgets/base",
            "_view_module_version": "1.2.0",
            "_view_name": "LayoutView",
            "align_content": null,
            "align_items": null,
            "align_self": null,
            "border": null,
            "bottom": null,
            "display": null,
            "flex": null,
            "flex_flow": null,
            "grid_area": null,
            "grid_auto_columns": null,
            "grid_auto_flow": null,
            "grid_auto_rows": null,
            "grid_column": null,
            "grid_gap": null,
            "grid_row": null,
            "grid_template_areas": null,
            "grid_template_columns": null,
            "grid_template_rows": null,
            "height": null,
            "justify_content": null,
            "justify_items": null,
            "left": null,
            "margin": null,
            "max_height": null,
            "max_width": null,
            "min_height": null,
            "min_width": null,
            "object_fit": null,
            "object_position": null,
            "order": null,
            "overflow": null,
            "overflow_x": null,
            "overflow_y": null,
            "padding": null,
            "right": null,
            "top": null,
            "visibility": null,
            "width": null
          }
        },
        "1c4cfc4b841f49d2b3e1fe4c02f1e2cc": {
          "model_module": "@jupyter-widgets/base",
          "model_name": "LayoutModel",
          "state": {
            "_model_module": "@jupyter-widgets/base",
            "_model_module_version": "1.2.0",
            "_model_name": "LayoutModel",
            "_view_count": null,
            "_view_module": "@jupyter-widgets/base",
            "_view_module_version": "1.2.0",
            "_view_name": "LayoutView",
            "align_content": null,
            "align_items": null,
            "align_self": null,
            "border": null,
            "bottom": null,
            "display": null,
            "flex": null,
            "flex_flow": null,
            "grid_area": null,
            "grid_auto_columns": null,
            "grid_auto_flow": null,
            "grid_auto_rows": null,
            "grid_column": null,
            "grid_gap": null,
            "grid_row": null,
            "grid_template_areas": null,
            "grid_template_columns": null,
            "grid_template_rows": null,
            "height": null,
            "justify_content": null,
            "justify_items": null,
            "left": null,
            "margin": null,
            "max_height": null,
            "max_width": null,
            "min_height": null,
            "min_width": null,
            "object_fit": null,
            "object_position": null,
            "order": null,
            "overflow": null,
            "overflow_x": null,
            "overflow_y": null,
            "padding": null,
            "right": null,
            "top": null,
            "visibility": null,
            "width": null
          }
        },
        "de8dd48e8f934417b7534e19f69ec21e": {
          "model_module": "@jupyter-widgets/controls",
          "model_name": "ProgressStyleModel",
          "state": {
            "_model_module": "@jupyter-widgets/controls",
            "_model_module_version": "1.5.0",
            "_model_name": "ProgressStyleModel",
            "_view_count": null,
            "_view_module": "@jupyter-widgets/base",
            "_view_module_version": "1.2.0",
            "_view_name": "StyleView",
            "bar_color": null,
            "description_width": "initial"
          }
        },
        "d89d9703ff414e45b91e6e7f01347c35": {
          "model_module": "@jupyter-widgets/base",
          "model_name": "LayoutModel",
          "state": {
            "_model_module": "@jupyter-widgets/base",
            "_model_module_version": "1.2.0",
            "_model_name": "LayoutModel",
            "_view_count": null,
            "_view_module": "@jupyter-widgets/base",
            "_view_module_version": "1.2.0",
            "_view_name": "LayoutView",
            "align_content": null,
            "align_items": null,
            "align_self": null,
            "border": null,
            "bottom": null,
            "display": null,
            "flex": null,
            "flex_flow": null,
            "grid_area": null,
            "grid_auto_columns": null,
            "grid_auto_flow": null,
            "grid_auto_rows": null,
            "grid_column": null,
            "grid_gap": null,
            "grid_row": null,
            "grid_template_areas": null,
            "grid_template_columns": null,
            "grid_template_rows": null,
            "height": null,
            "justify_content": null,
            "justify_items": null,
            "left": null,
            "margin": null,
            "max_height": null,
            "max_width": null,
            "min_height": null,
            "min_width": null,
            "object_fit": null,
            "object_position": null,
            "order": null,
            "overflow": null,
            "overflow_x": null,
            "overflow_y": null,
            "padding": null,
            "right": null,
            "top": null,
            "visibility": null,
            "width": null
          }
        },
        "1390481b98454a77b81aa6443dd62fd0": {
          "model_module": "@jupyter-widgets/controls",
          "model_name": "DescriptionStyleModel",
          "state": {
            "_model_module": "@jupyter-widgets/controls",
            "_model_module_version": "1.5.0",
            "_model_name": "DescriptionStyleModel",
            "_view_count": null,
            "_view_module": "@jupyter-widgets/base",
            "_view_module_version": "1.2.0",
            "_view_name": "StyleView",
            "description_width": ""
          }
        }
      }
    }
  },
  "cells": [
    {
      "cell_type": "code",
      "metadata": {
        "colab": {
          "base_uri": "https://localhost:8080/"
        },
        "id": "MNRucdkQk-8M",
        "outputId": "9c70d7aa-f678-48be-d019-a3ab239af3b2"
      },
      "source": [
        "%config Completer.use_jedi = False"
      ],
      "id": "MNRucdkQk-8M",
      "execution_count": null,
      "outputs": [
        {
          "output_type": "stream",
          "text": [
            "/usr/local/lib/python3.7/dist-packages/ipykernel_launcher.py:1: UserWarning: Config option `use_jedi` not recognized by `IPCompleter`.\n",
            "  \"\"\"Entry point for launching an IPython kernel.\n"
          ],
          "name": "stderr"
        }
      ]
    },
    {
      "cell_type": "code",
      "metadata": {
        "id": "kZPHaiMOk-8U"
      },
      "source": [
        "import torch\n",
        "from torch import nn\n",
        "from torch.utils.data import DataLoader\n",
        "from torchvision import datasets\n",
        "import torchvision.transforms as transforms\n",
        "import torch.nn.functional as F\n",
        "from torch import optim\n",
        "from torch.autograd import Variable\n",
        "\n",
        "import matplotlib.pyplot as plt\n",
        "import numpy as np\n",
        "import pandas as pd\n",
        "import plotly.express as px\n",
        "import seaborn as sn\n",
        "from tqdm.notebook import tqdm\n",
        " \n",
        "from functools import partial\n",
        "from collections import OrderedDict"
      ],
      "id": "kZPHaiMOk-8U",
      "execution_count": null,
      "outputs": []
    },
    {
      "cell_type": "code",
      "metadata": {
        "colab": {
          "base_uri": "https://localhost:8080/"
        },
        "id": "i7Zf3iqEk-8V",
        "outputId": "e8d94075-1b2f-4597-b768-15c34dc53d48"
      },
      "source": [
        "torch.cuda.is_available()"
      ],
      "id": "i7Zf3iqEk-8V",
      "execution_count": null,
      "outputs": [
        {
          "output_type": "execute_result",
          "data": {
            "text/plain": [
              "True"
            ]
          },
          "metadata": {
            "tags": []
          },
          "execution_count": 3
        }
      ]
    },
    {
      "cell_type": "code",
      "metadata": {
        "colab": {
          "base_uri": "https://localhost:8080/"
        },
        "id": "eabIU5sak-8W",
        "outputId": "487b5730-f5ca-4826-a0b4-a004f56fa059"
      },
      "source": [
        "print(torch.__version__)"
      ],
      "id": "eabIU5sak-8W",
      "execution_count": null,
      "outputs": [
        {
          "output_type": "stream",
          "text": [
            "1.8.1+cu101\n"
          ],
          "name": "stdout"
        }
      ]
    },
    {
      "cell_type": "code",
      "metadata": {
        "colab": {
          "background_save": true,
          "base_uri": "https://localhost:8080/",
          "height": 367,
          "referenced_widgets": [
            "fbdd7e8ee22243efa1e1146c6ebee267"
          ]
        },
        "id": "yzNihcTpk-8Y",
        "outputId": "c41a8b26-c7f6-4a0a-ca86-0e692c3dfe0c"
      },
      "source": [
        "transform = transforms.Compose(\n",
        "    [transforms.ToTensor(),\n",
        "     transforms.Normalize((0.5, 0.5, 0.5), (0.5, 0.5, 0.5)),\n",
        "     ]\n",
        ")\n",
        "\n",
        "if True:\n",
        "    transform = transforms.Compose([\n",
        "        transforms.ToTensor(),\n",
        "        transforms.Normalize((0.5, 0.5, 0.5), (0.5, 0.5, 0.5)),\n",
        "        transforms.GaussianBlur(kernel_size=[3,3], sigma=(0.2, 1)),\n",
        "        transforms.RandomAffine(degrees=[-20, 20], translate=[0.1, 0.1], scale=[0.9, 1.1], shear=[-20, 20]),\n",
        "        ])\n",
        "    \n",
        " \n",
        "trainset = datasets.CIFAR10(\n",
        "    root='./data', train=True, download=True, transform=transform)\n",
        "trainloader = torch.utils.data.DataLoader(\n",
        "    trainset, batch_size=32, shuffle=True, num_workers=2)\n",
        " \n",
        "testset = datasets.CIFAR10(\n",
        "    root='./data', train=False, download=True, transform=transform)\n",
        "testloader = torch.utils.data.DataLoader(\n",
        "    testset, batch_size=32, shuffle=False, num_workers=2)\n",
        " \n",
        "classes = ('plane', 'car', 'bird', 'cat',\n",
        "           'deer', 'dog', 'frog', 'horse', 'ship', 'truck')\n",
        "\n",
        "def imshow(img):\n",
        "    img = img / 2 + 0.5     # unnormalize\n",
        "    npimg = img.numpy()\n",
        "    plt.imshow(np.transpose(npimg, (1, 2, 0)))\n",
        "    plt.show()\n",
        "    \n",
        "imshow(trainset[0][0])"
      ],
      "id": "yzNihcTpk-8Y",
      "execution_count": null,
      "outputs": [
        {
          "output_type": "stream",
          "text": [
            "Downloading https://www.cs.toronto.edu/~kriz/cifar-10-python.tar.gz to ./data/cifar-10-python.tar.gz\n"
          ],
          "name": "stdout"
        },
        {
          "output_type": "display_data",
          "data": {
            "application/vnd.jupyter.widget-view+json": {
              "model_id": "fbdd7e8ee22243efa1e1146c6ebee267",
              "version_major": 2,
              "version_minor": 0
            },
            "text/plain": [
              "HBox(children=(FloatProgress(value=0.0, max=170498071.0), HTML(value='')))"
            ]
          },
          "metadata": {
            "tags": []
          }
        },
        {
          "output_type": "stream",
          "text": [
            "\n",
            "Extracting ./data/cifar-10-python.tar.gz to ./data\n",
            "Files already downloaded and verified\n"
          ],
          "name": "stdout"
        },
        {
          "output_type": "display_data",
          "data": {
            "image/png": "[encoded data removed]",
            "text/plain": [
              "<Figure size 432x288 with 1 Axes>"
            ]
          },
          "metadata": {
            "tags": []
          }
        }
      ]
    },
    {
      "cell_type": "code",
      "metadata": {
        "colab": {
          "background_save": true,
          "base_uri": "https://localhost:8080/",
          "height": 35
        },
        "id": "oolevyynk-8d",
        "outputId": "0624f06a-8480-479f-ece6-f54855a3d8f3"
      },
      "source": [
        "classes[trainset[0][1]]"
      ],
      "id": "oolevyynk-8d",
      "execution_count": null,
      "outputs": [
        {
          "output_type": "execute_result",
          "data": {
            "application/vnd.google.colaboratory.intrinsic+json": {
              "type": "string"
            },
            "text/plain": [
              "'frog'"
            ]
          },
          "metadata": {
            "tags": []
          },
          "execution_count": 0
        }
      ]
    },
    {
      "cell_type": "code",
      "metadata": {
        "colab": {
          "background_save": true,
          "base_uri": "https://localhost:8080/"
        },
        "id": "Q0Gj1glUk-8e",
        "outputId": "e0be30d9-40fa-4c52-cd6c-318abdfcb0be"
      },
      "source": [
        "trainset[0][0].shape"
      ],
      "id": "Q0Gj1glUk-8e",
      "execution_count": null,
      "outputs": [
        {
          "output_type": "execute_result",
          "data": {
            "text/plain": [
              "torch.Size([3, 32, 32])"
            ]
          },
          "metadata": {
            "tags": []
          },
          "execution_count": 0
        }
      ]
    },
    {
      "cell_type": "code",
      "metadata": {
        "colab": {
          "background_save": true
        },
        "id": "v6DYUgdMk-8g"
      },
      "source": [
        "def test(net, dataloader, device='cuda:0'):\n",
        "    net = net.to(device)\n",
        "    conf_matrix = np.zeros((10, 10))\n",
        "    for i, (X, y) in enumerate(dataloader):\n",
        "        X, y = X.to(device), y.to(device)\n",
        "        with torch.no_grad():\n",
        "            pred = net(X)\n",
        "            pred_cls = pred.argmax(1)\n",
        "            for j in range(len(pred_cls)):\n",
        "                conf_matrix[y[j]][pred_cls[j]] += 1\n",
        "    return conf_matrix"
      ],
      "id": "v6DYUgdMk-8g",
      "execution_count": null,
      "outputs": []
    },
    {
      "cell_type": "code",
      "metadata": {
        "colab": {
          "background_save": true
        },
        "id": "mJIhOQpGk-8g"
      },
      "source": [
        "def train(net, dataloader, optimizer, loss_func, epochs=100, device='cuda:0', scheduler=None):\n",
        "    n = len(trainloader.dataset)\n",
        "    net.to(device)\n",
        "    train_acc = np.zeros(epochs)\n",
        "    test_acc = np.zeros(epochs)\n",
        "    train_loss = np.zeros(epochs)\n",
        "    test_loss = np.zeros(epochs)\n",
        "    \n",
        "    for epoch in tqdm(range(epochs)):\n",
        "        epoch_ok = 0\n",
        "        \n",
        "        for i, (X, y) in enumerate(dataloader):\n",
        "            X, y = X.to(device), y.to(device)\n",
        "            optimizer.zero_grad()\n",
        "            pred = net(X)\n",
        "            loss = loss_func(pred, y)\n",
        "            \n",
        "            train_loss[epoch] += loss.item()\n",
        "            pred_cls = pred.argmax(1)\n",
        "            epoch_ok += sum(pred_cls == y)\n",
        "            \n",
        "            loss.backward()\n",
        "            optimizer.step()\n",
        "        \n",
        "        if scheduler: scheduler.step()\n",
        "        \n",
        "        conf_matrix = test(net, testloader)    \n",
        "        test_acc[epoch] = np.diag(conf_matrix).sum() / np.sum(conf_matrix)\n",
        "        train_acc[epoch] = epoch_ok / n\n",
        "        \n",
        "        print(f'Epoch {epoch}: train loss: {train_loss[epoch]:.4f}, train acc: {train_acc[epoch]:.3f}, '\n",
        "              f'test acc: {test_acc[epoch]}')\n",
        "    \n",
        "    return  train_acc, test_acc, train_loss, test_loss"
      ],
      "id": "mJIhOQpGk-8g",
      "execution_count": null,
      "outputs": []
    },
    {
      "cell_type": "code",
      "metadata": {
        "colab": {
          "background_save": true,
          "base_uri": "https://localhost:8080/"
        },
        "id": "OpBIEwhyhW5X",
        "outputId": "58088e06-b2f3-4a94-9323-dc8f326afb2e"
      },
      "source": [
        "device = torch.device(\"cuda:0\" if torch.cuda.is_available() else \"cpu\")\n",
        "device"
      ],
      "id": "OpBIEwhyhW5X",
      "execution_count": null,
      "outputs": [
        {
          "output_type": "execute_result",
          "data": {
            "text/plain": [
              "device(type='cuda', index=0)"
            ]
          },
          "metadata": {
            "tags": []
          },
          "execution_count": 0
        }
      ]
    },
    {
      "cell_type": "code",
      "metadata": {
        "colab": {
          "background_save": true
        },
        "id": "8keAO80x-iB-"
      },
      "source": [
        "class InceptionBlock(nn.Module):\n",
        "\n",
        "    def __init__(self, c_in, c_red, c_out : dict, res = False):\n",
        "        super().__init__()\n",
        "\n",
        "        self.resTF = res\n",
        "        self.res = nn.Conv2d(c_in, c_out[\"1x1\"]+c_out[\"3x3\"]+c_out[\"5x5\"]+c_out[\"max\"], kernel_size=1)\n",
        "\n",
        "        # 1x1 convolution branch\n",
        "        self.conv_1x1 = nn.Sequential(\n",
        "            nn.Conv2d(c_in, c_out[\"1x1\"], kernel_size=1),\n",
        "            nn.BatchNorm2d(c_out[\"1x1\"]),\n",
        "            nn.ReLU()\n",
        "        )\n",
        "\n",
        "        # 3x3 convolution branch\n",
        "        self.conv_3x3 = nn.Sequential(\n",
        "            nn.Conv2d(c_in, c_red, kernel_size=1),\n",
        "            nn.BatchNorm2d(c_red),\n",
        "            nn.ReLU(),\n",
        "            nn.Conv2d(c_red, c_out[\"3x3\"], kernel_size=3, padding=1),\n",
        "            nn.BatchNorm2d(c_out[\"3x3\"]),\n",
        "            nn.ReLU()\n",
        "        )\n",
        "\n",
        "        # 5x5 convolution branch\n",
        "        self.conv_5x5 = nn.Sequential(\n",
        "            nn.Conv2d(c_in, c_red, kernel_size=1),\n",
        "            nn.BatchNorm2d(c_red),\n",
        "            nn.ReLU(),\n",
        "            nn.Conv2d(c_red, c_out[\"5x5\"], kernel_size=5, padding=2),\n",
        "            nn.BatchNorm2d(c_out[\"5x5\"]),\n",
        "            nn.ReLU()\n",
        "        )\n",
        "\n",
        "        # Max-pool branch\n",
        "        self.max_pool = nn.Sequential(\n",
        "            nn.MaxPool2d(kernel_size=3, padding=1, stride=1),\n",
        "            nn.Conv2d(c_in, c_out[\"max\"], kernel_size=1),\n",
        "            nn.BatchNorm2d(c_out[\"max\"]),\n",
        "            nn.ReLU()\n",
        "        )\n",
        "\n",
        "\n",
        "    def forward(self, x):\n",
        "        x_1x1 = self.conv_1x1(x)\n",
        "        x_3x3 = self.conv_3x3(x)\n",
        "        x_5x5 = self.conv_5x5(x)\n",
        "        x_max = self.max_pool(x)\n",
        "        x_out = torch.cat([x_1x1, x_3x3, x_5x5, x_max], dim=1)\n",
        "\n",
        "        if self.resTF:\n",
        "            residal = self.res(x)\n",
        "            x_out += residal\n",
        "        \n",
        "        return x_out\n",
        "\n",
        "class IcepNet01(nn.Module):\n",
        "    def __init__(self, classes=10, simpnet_name='IncepNet02'):\n",
        "        super(IcepNet01, self).__init__()\n",
        "        \n",
        "        self.conv1 = nn.Conv2d(in_channels=3, out_channels=16, kernel_size=3, padding=1)\n",
        " \n",
        "        self.inception_net = self._make_layers()\n",
        " \n",
        "        self.gap = nn.MaxPool2d(kernel_size=(32, 32))\n",
        " \n",
        "        self.linear = nn.Sequential(\n",
        "            nn.Linear(128, 64),\n",
        "            nn.ReLU(),\n",
        "            nn.Dropout(0.1),\n",
        "            nn.Linear(64, 32),\n",
        "            nn.ReLU(),\n",
        "            nn.Dropout(0.1),\n",
        "            nn.Linear(32, 10),\n",
        "            nn.ReLU()\n",
        "        )\n",
        " \n",
        "    def forward(self, x):\n",
        "        x = self.conv1(x)\n",
        "        x = self.inception_net(x)\n",
        "        x = self.gap(x)\n",
        "        x = x.squeeze()\n",
        "        # mlp block\n",
        "        x = self.linear(x)\n",
        "        return x\n",
        " \n",
        "    def _make_layers(self):\n",
        " \n",
        "        model = nn.Sequential(\n",
        "            nn.ReLU(),\n",
        "            nn.BatchNorm2d(16),\n",
        "            InceptionBlock(c_in=16, c_red=16, c_out={\"1x1\":8, \"3x3\":8, \"5x5\":8, \"max\":8}, res=True),\n",
        "            nn.ReLU(),\n",
        "            nn.BatchNorm2d(32),\n",
        "            InceptionBlock(c_in=32, c_red=32, c_out={\"1x1\":16, \"3x3\":16, \"5x5\":16, \"max\":16}, res=True),\n",
        "            nn.ReLU(),\n",
        "            nn.BatchNorm2d(64),\n",
        "            InceptionBlock(c_in=64, c_red=64, c_out={\"1x1\":32, \"3x3\":32, \"5x5\":32, \"max\":32}, res=True),\n",
        "            nn.ReLU(),\n",
        "            nn.BatchNorm2d(128),\n",
        "            InceptionBlock(c_in=128, c_red=128, c_out={\"1x1\":32, \"3x3\":32, \"5x5\":32, \"max\":32}, res=True),\n",
        "            nn.ReLU(),\n",
        "            nn.BatchNorm2d(128),\n",
        "            InceptionBlock(c_in=128, c_red=128, c_out={\"1x1\":32, \"3x3\":32, \"5x5\":32, \"max\":32}, res=True),\n",
        "            nn.ReLU(),\n",
        "            nn.BatchNorm2d(128)\n",
        "        )\n",
        " \n",
        "        for m in model.modules():\n",
        "          if isinstance(m, nn.Conv2d):\n",
        "            nn.init.xavier_uniform_(m.weight.data, gain=nn.init.calculate_gain('relu'))\n",
        " \n",
        "        return model"
      ],
      "id": "8keAO80x-iB-",
      "execution_count": null,
      "outputs": []
    },
    {
      "cell_type": "code",
      "metadata": {
        "colab": {
          "base_uri": "https://localhost:8080/"
        },
        "id": "wwh1YqrNk-8i",
        "outputId": "602821d8-0cc1-47b2-91f8-d90ffed87404"
      },
      "source": [
        "device = torch.device(\"cuda:0\" if torch.cuda.is_available() else \"cpu\")\n",
        "device"
      ],
      "id": "wwh1YqrNk-8i",
      "execution_count": null,
      "outputs": [
        {
          "output_type": "execute_result",
          "data": {
            "text/plain": [
              "device(type='cuda', index=0)"
            ]
          },
          "metadata": {
            "tags": []
          },
          "execution_count": 13
        }
      ]
    },
    {
      "cell_type": "code",
      "metadata": {
        "colab": {
          "base_uri": "https://localhost:8080/"
        },
        "id": "j5PwtGUok-8j",
        "outputId": "729ee444-374e-4879-902f-d016231cacc7"
      },
      "source": [
        "loss_func = nn.CrossEntropyLoss()\n",
        "net = IcepNet01().to(device)\n",
        "sgd = optim.SGD(net.parameters(), lr=0.01, momentum=0.9)\n",
        "scheduler = optim.lr_scheduler.StepLR(sgd, step_size=10, gamma=0.5, verbose=True)"
      ],
      "id": "j5PwtGUok-8j",
      "execution_count": null,
      "outputs": [
        {
          "output_type": "stream",
          "text": [
            "Adjusting learning rate of group 0 to 1.0000e-02.\n"
          ],
          "name": "stdout"
        }
      ]
    },
    {
      "cell_type": "code",
      "metadata": {
        "colab": {
          "base_uri": "https://localhost:8080/",
          "height": 1000,
          "referenced_widgets": [
            "86a8f27b290a4f81bcc2eb60d606114d",
            "29abaf14c01441808c8cf02cf8562eeb",
            "c53b51853a8b4ed5822b4a40b7ead5e3",
            "44627989a1484ab7bd4aea347a53c401",
            "745b180fbf274359b9528e5577817f5c",
            "6c7ddb11f1ca4b08a736408aaf03b60d",
            "293f69e909164ea88b038d4a5110516a",
            "cba21f66eb3a4a1785c179c2950fbf21"
          ]
        },
        "id": "W5WvmpC4nNnH",
        "outputId": "6a32abd0-2877-4205-b747-21e3fe446bff"
      },
      "source": [
        "train_acc, test_acc, train_loss, test_loss = train(net, trainloader, sgd, loss_func, 100)"
      ],
      "id": "W5WvmpC4nNnH",
      "execution_count": null,
      "outputs": [
        {
          "output_type": "display_data",
          "data": {
            "application/vnd.jupyter.widget-view+json": {
              "model_id": "86a8f27b290a4f81bcc2eb60d606114d",
              "version_major": 2,
              "version_minor": 0
            },
            "text/plain": [
              "HBox(children=(FloatProgress(value=0.0), HTML(value='')))"
            ]
          },
          "metadata": {
            "tags": []
          }
        },
        {
          "output_type": "stream",
          "text": [
            "Epoch 0: train loss: 3170.7350, train acc: 0.239, test acc: 0.308\n",
            "Epoch 1: train loss: 2726.1684, train acc: 0.334, test acc: 0.3562\n",
            "Epoch 2: train loss: 2535.4437, train acc: 0.386, test acc: 0.3886\n",
            "Epoch 3: train loss: 2417.5187, train acc: 0.420, test acc: 0.4256\n",
            "Epoch 4: train loss: 2322.8672, train acc: 0.449, test acc: 0.4443\n",
            "Epoch 5: train loss: 2240.6667, train acc: 0.475, test acc: 0.494\n",
            "Epoch 6: train loss: 2158.8767, train acc: 0.496, test acc: 0.494\n",
            "Epoch 7: train loss: 2106.7182, train acc: 0.512, test acc: 0.5125\n",
            "Epoch 8: train loss: 2043.6504, train acc: 0.527, test acc: 0.5293\n",
            "Epoch 9: train loss: 1981.3243, train acc: 0.546, test acc: 0.5519\n",
            "Epoch 10: train loss: 1944.8007, train acc: 0.555, test acc: 0.5598\n",
            "Epoch 11: train loss: 1888.8848, train acc: 0.572, test acc: 0.5829\n",
            "Epoch 12: train loss: 1846.8309, train acc: 0.580, test acc: 0.5707\n",
            "Epoch 13: train loss: 1793.9450, train acc: 0.593, test acc: 0.5877\n",
            "Epoch 14: train loss: 1766.3298, train acc: 0.603, test acc: 0.5906\n",
            "Epoch 15: train loss: 1730.7526, train acc: 0.608, test acc: 0.5906\n",
            "Epoch 16: train loss: 1696.2655, train acc: 0.617, test acc: 0.5515\n",
            "Epoch 17: train loss: 1659.9938, train acc: 0.631, test acc: 0.6205\n",
            "Epoch 18: train loss: 1631.9511, train acc: 0.636, test acc: 0.6163\n",
            "Epoch 19: train loss: 1596.1128, train acc: 0.646, test acc: 0.6277\n",
            "Epoch 20: train loss: 1566.2163, train acc: 0.650, test acc: 0.6388\n",
            "Epoch 21: train loss: 1548.9813, train acc: 0.659, test acc: 0.6495\n",
            "Epoch 22: train loss: 1516.7142, train acc: 0.666, test acc: 0.6546\n",
            "Epoch 23: train loss: 1492.2529, train acc: 0.670, test acc: 0.6627\n",
            "Epoch 24: train loss: 1475.6174, train acc: 0.676, test acc: 0.6457\n",
            "Epoch 25: train loss: 1447.0525, train acc: 0.681, test acc: 0.6743\n",
            "Epoch 26: train loss: 1417.0723, train acc: 0.691, test acc: 0.676\n",
            "Epoch 27: train loss: 1410.4830, train acc: 0.692, test acc: 0.6896\n",
            "Epoch 28: train loss: 1386.6539, train acc: 0.697, test acc: 0.6886\n",
            "Epoch 29: train loss: 1366.7201, train acc: 0.705, test acc: 0.6529\n",
            "Epoch 30: train loss: 1333.4670, train acc: 0.710, test acc: 0.674\n",
            "Epoch 31: train loss: 1336.8607, train acc: 0.710, test acc: 0.6663\n",
            "Epoch 32: train loss: 1298.2910, train acc: 0.718, test acc: 0.7041\n",
            "Epoch 33: train loss: 1288.0238, train acc: 0.721, test acc: 0.7025\n",
            "Epoch 34: train loss: 1272.8728, train acc: 0.726, test acc: 0.6849\n",
            "Epoch 35: train loss: 1259.7081, train acc: 0.730, test acc: 0.6887\n",
            "Epoch 36: train loss: 1241.7085, train acc: 0.732, test acc: 0.704\n",
            "Epoch 37: train loss: 1227.3477, train acc: 0.737, test acc: 0.7033\n",
            "Epoch 38: train loss: 1216.9618, train acc: 0.737, test acc: 0.7081\n",
            "Epoch 39: train loss: 1190.3281, train acc: 0.745, test acc: 0.7101\n",
            "Epoch 40: train loss: 1176.5248, train acc: 0.747, test acc: 0.7197\n",
            "Epoch 41: train loss: 1168.3223, train acc: 0.747, test acc: 0.7135\n",
            "Epoch 42: train loss: 1163.0259, train acc: 0.749, test acc: 0.7202\n",
            "Epoch 43: train loss: 1133.4657, train acc: 0.757, test acc: 0.711\n",
            "Epoch 44: train loss: 1129.2772, train acc: 0.758, test acc: 0.7338\n",
            "Epoch 45: train loss: 1116.7915, train acc: 0.760, test acc: 0.7265\n",
            "Epoch 46: train loss: 1121.7877, train acc: 0.758, test acc: 0.7279\n",
            "Epoch 47: train loss: 1082.6419, train acc: 0.765, test acc: 0.7321\n",
            "Epoch 48: train loss: 1099.8136, train acc: 0.763, test acc: 0.7114\n",
            "Epoch 49: train loss: 1080.4619, train acc: 0.769, test acc: 0.7359\n",
            "Epoch 50: train loss: 1060.8235, train acc: 0.772, test acc: 0.7368\n",
            "Epoch 51: train loss: 1050.2462, train acc: 0.774, test acc: 0.7355\n",
            "Epoch 52: train loss: 1063.2673, train acc: 0.773, test acc: 0.7443\n",
            "Epoch 53: train loss: 1034.9619, train acc: 0.779, test acc: 0.7435\n",
            "Epoch 54: train loss: 1025.3653, train acc: 0.781, test acc: 0.7371\n",
            "Epoch 55: train loss: 1017.1338, train acc: 0.783, test acc: 0.7383\n",
            "Epoch 56: train loss: 1005.4939, train acc: 0.785, test acc: 0.7491\n",
            "Epoch 57: train loss: 1005.4766, train acc: 0.784, test acc: 0.7151\n",
            "Epoch 58: train loss: 992.5873, train acc: 0.788, test acc: 0.7465\n",
            "Epoch 59: train loss: 981.8445, train acc: 0.790, test acc: 0.7472\n",
            "Epoch 60: train loss: 979.2336, train acc: 0.788, test acc: 0.7497\n",
            "Epoch 61: train loss: 964.1269, train acc: 0.793, test acc: 0.757\n",
            "Epoch 62: train loss: 963.8610, train acc: 0.791, test acc: 0.7474\n",
            "Epoch 63: train loss: 940.8837, train acc: 0.798, test acc: 0.7399\n",
            "Epoch 64: train loss: 935.4871, train acc: 0.800, test acc: 0.7532\n",
            "Epoch 65: train loss: 931.4657, train acc: 0.799, test acc: 0.7541\n",
            "Epoch 66: train loss: 924.0489, train acc: 0.802, test acc: 0.75\n",
            "Epoch 67: train loss: 932.7498, train acc: 0.798, test acc: 0.7627\n",
            "Epoch 68: train loss: 935.1036, train acc: 0.802, test acc: 0.7604\n",
            "Epoch 69: train loss: 913.8169, train acc: 0.805, test acc: 0.7497\n",
            "Epoch 70: train loss: 913.3565, train acc: 0.802, test acc: 0.7465\n",
            "Epoch 71: train loss: 903.5075, train acc: 0.805, test acc: 0.7631\n",
            "Epoch 72: train loss: 886.1637, train acc: 0.810, test acc: 0.7682\n",
            "Epoch 73: train loss: 884.2856, train acc: 0.810, test acc: 0.7329\n",
            "Epoch 74: train loss: 885.5937, train acc: 0.809, test acc: 0.7505\n",
            "Epoch 75: train loss: 876.2122, train acc: 0.812, test acc: 0.7592\n",
            "Epoch 76: train loss: 863.4088, train acc: 0.813, test acc: 0.7644\n",
            "Epoch 77: train loss: 861.3847, train acc: 0.816, test acc: 0.7551\n",
            "Epoch 78: train loss: 858.1860, train acc: 0.816, test acc: 0.7681\n",
            "Epoch 79: train loss: 842.5407, train acc: 0.820, test acc: 0.7545\n",
            "Epoch 80: train loss: 844.4079, train acc: 0.819, test acc: 0.7655\n",
            "Epoch 81: train loss: 831.6415, train acc: 0.821, test acc: 0.7631\n",
            "Epoch 82: train loss: 834.8321, train acc: 0.820, test acc: 0.761\n",
            "Epoch 83: train loss: 824.4232, train acc: 0.823, test acc: 0.7708\n",
            "Epoch 84: train loss: 823.4807, train acc: 0.823, test acc: 0.7579\n",
            "Epoch 85: train loss: 830.3358, train acc: 0.822, test acc: 0.769\n",
            "Epoch 86: train loss: 821.2129, train acc: 0.822, test acc: 0.7646\n",
            "Epoch 87: train loss: 808.0380, train acc: 0.827, test acc: 0.7739\n",
            "Epoch 88: train loss: 804.3804, train acc: 0.825, test acc: 0.7608\n",
            "Epoch 89: train loss: 799.8281, train acc: 0.831, test acc: 0.7702\n",
            "Epoch 90: train loss: 792.7228, train acc: 0.830, test acc: 0.755\n",
            "Epoch 91: train loss: 792.3153, train acc: 0.830, test acc: 0.7534\n",
            "Epoch 92: train loss: 787.0188, train acc: 0.833, test acc: 0.7643\n",
            "Epoch 93: train loss: 792.4290, train acc: 0.829, test acc: 0.7686\n",
            "Epoch 94: train loss: 778.8277, train acc: 0.834, test acc: 0.777\n",
            "Epoch 95: train loss: 780.6257, train acc: 0.831, test acc: 0.764\n",
            "Epoch 96: train loss: 766.8710, train acc: 0.836, test acc: 0.7653\n",
            "Epoch 97: train loss: 763.2229, train acc: 0.836, test acc: 0.7645\n",
            "Epoch 98: train loss: 762.9925, train acc: 0.837, test acc: 0.7714\n",
            "Epoch 99: train loss: 757.3494, train acc: 0.840, test acc: 0.7529\n",
            "\n"
          ],
          "name": "stdout"
        }
      ]
    },
    {
      "cell_type": "code",
      "metadata": {
        "id": "9ZnMhNdvzejf"
      },
      "source": [
        "import pandas as pd\n",
        "dataset = pd.DataFrame({'train_acc': train_acc, \n",
        "                        'test_acc': test_acc,\n",
        "                        'train_loss': train_loss, \n",
        "                        'test_loss': test_loss})\n",
        "dataset.to_csv('incepion_resnet_dense.csv')\n",
        "\n",
        "# Specify a path\n",
        "PATH = \"Inception_resnet_dense.pt\"\n",
        "\n",
        "# Save\n",
        "torch.save(net, PATH)"
      ],
      "id": "9ZnMhNdvzejf",
      "execution_count": null,
      "outputs": []
    },
    {
      "cell_type": "code",
      "metadata": {
        "colab": {
          "base_uri": "https://localhost:8080/",
          "height": 17
        },
        "id": "nRVzLB75AF1e",
        "outputId": "8efd8a26-f371-4ad3-c24a-05c4c5cc114f"
      },
      "source": [
        "from google.colab import files\n",
        "files.download('incepion_resnet_dense.csv')\n",
        "files.download('Inception_resnet_dense.pt')"
      ],
      "id": "nRVzLB75AF1e",
      "execution_count": null,
      "outputs": [
        {
          "output_type": "display_data",
          "data": {
            "application/javascript": [
              "\n",
              "    async function download(id, filename, size) {\n",
              "      if (!google.colab.kernel.accessAllowed) {\n",
              "        return;\n",
              "      }\n",
              "      const div = document.createElement('div');\n",
              "      const label = document.createElement('label');\n",
              "      label.textContent = `Downloading \"${filename}\": `;\n",
              "      div.appendChild(label);\n",
              "      const progress = document.createElement('progress');\n",
              "      progress.max = size;\n",
              "      div.appendChild(progress);\n",
              "      document.body.appendChild(div);\n",
              "\n",
              "      const buffers = [];\n",
              "      let downloaded = 0;\n",
              "\n",
              "      const channel = await google.colab.kernel.comms.open(id);\n",
              "      // Send a message to notify the kernel that we're ready.\n",
              "      channel.send({})\n",
              "\n",
              "      for await (const message of channel.messages) {\n",
              "        // Send a message to notify the kernel that we're ready.\n",
              "        channel.send({})\n",
              "        if (message.buffers) {\n",
              "          for (const buffer of message.buffers) {\n",
              "            buffers.push(buffer);\n",
              "            downloaded += buffer.byteLength;\n",
              "            progress.value = downloaded;\n",
              "          }\n",
              "        }\n",
              "      }\n",
              "      const blob = new Blob(buffers, {type: 'application/binary'});\n",
              "      const a = document.createElement('a');\n",
              "      a.href = window.URL.createObjectURL(blob);\n",
              "      a.download = filename;\n",
              "      div.appendChild(a);\n",
              "      a.click();\n",
              "      div.remove();\n",
              "    }\n",
              "  "
            ],
            "text/plain": [
              "<IPython.core.display.Javascript object>"
            ]
          },
          "metadata": {
            "tags": []
          }
        },
        {
          "output_type": "display_data",
          "data": {
            "application/javascript": [
              "download(\"download_b1924adc-03d2-4b01-a7c7-70ef059fc600\", \"incepion_resnet_dense.csv\", 5150)"
            ],
            "text/plain": [
              "<IPython.core.display.Javascript object>"
            ]
          },
          "metadata": {
            "tags": []
          }
        },
        {
          "output_type": "display_data",
          "data": {
            "application/javascript": [
              "\n",
              "    async function download(id, filename, size) {\n",
              "      if (!google.colab.kernel.accessAllowed) {\n",
              "        return;\n",
              "      }\n",
              "      const div = document.createElement('div');\n",
              "      const label = document.createElement('label');\n",
              "      label.textContent = `Downloading \"${filename}\": `;\n",
              "      div.appendChild(label);\n",
              "      const progress = document.createElement('progress');\n",
              "      progress.max = size;\n",
              "      div.appendChild(progress);\n",
              "      document.body.appendChild(div);\n",
              "\n",
              "      const buffers = [];\n",
              "      let downloaded = 0;\n",
              "\n",
              "      const channel = await google.colab.kernel.comms.open(id);\n",
              "      // Send a message to notify the kernel that we're ready.\n",
              "      channel.send({})\n",
              "\n",
              "      for await (const message of channel.messages) {\n",
              "        // Send a message to notify the kernel that we're ready.\n",
              "        channel.send({})\n",
              "        if (message.buffers) {\n",
              "          for (const buffer of message.buffers) {\n",
              "            buffers.push(buffer);\n",
              "            downloaded += buffer.byteLength;\n",
              "            progress.value = downloaded;\n",
              "          }\n",
              "        }\n",
              "      }\n",
              "      const blob = new Blob(buffers, {type: 'application/binary'});\n",
              "      const a = document.createElement('a');\n",
              "      a.href = window.URL.createObjectURL(blob);\n",
              "      a.download = filename;\n",
              "      div.appendChild(a);\n",
              "      a.click();\n",
              "      div.remove();\n",
              "    }\n",
              "  "
            ],
            "text/plain": [
              "<IPython.core.display.Javascript object>"
            ]
          },
          "metadata": {
            "tags": []
          }
        },
        {
          "output_type": "display_data",
          "data": {
            "application/javascript": [
              "download(\"download_40032a6d-69d8-4116-9027-18f93ae9de58\", \"Inception_resnet_dense.pt\", 2232833)"
            ],
            "text/plain": [
              "<IPython.core.display.Javascript object>"
            ]
          },
          "metadata": {
            "tags": []
          }
        }
      ]
    },
    {
      "cell_type": "code",
      "metadata": {
        "colab": {
          "base_uri": "https://localhost:8080/",
          "height": 265
        },
        "id": "njjbsAoClQa7",
        "outputId": "ae7bbf05-5071-46e7-e954-6c79d3d5828e"
      },
      "source": [
        "plt.plot(train_acc,label='train acc')\n",
        "plt.plot(test_acc,label='test acc')\n",
        "plt.legend()\n",
        "plt.show()"
      ],
      "id": "njjbsAoClQa7",
      "execution_count": null,
      "outputs": [
        {
          "output_type": "display_data",
          "data": {
            "image/png": "[encoded data removed]",
            "text/plain": [
              "<Figure size 432x288 with 1 Axes>"
            ]
          },
          "metadata": {
            "tags": []
          }
        }
      ]
    },
    {
      "cell_type": "code",
      "metadata": {
        "colab": {
          "base_uri": "https://localhost:8080/",
          "height": 240,
          "referenced_widgets": [
            "9b8d6e1346d94c0c8f4f19807d7abc9c",
            "53b92cf5b7194b81bf88473e69bd611e",
            "1f33ee57d674445a965dad1fd2569a5b",
            "0574fa158af846fdad9cc58488484341",
            "1c4cfc4b841f49d2b3e1fe4c02f1e2cc",
            "de8dd48e8f934417b7534e19f69ec21e",
            "d89d9703ff414e45b91e6e7f01347c35",
            "1390481b98454a77b81aa6443dd62fd0"
          ]
        },
        "id": "LQqZBi-6sUH7",
        "outputId": "1d4c283e-ab27-4adf-b82e-2120ec320075"
      },
      "source": [
        "train_acc_res, test_acc_res, train_loss_res, test_loss_res = train(resnet, trainloader, sgd, loss_func, 10)"
      ],
      "id": "LQqZBi-6sUH7",
      "execution_count": null,
      "outputs": [
        {
          "output_type": "display_data",
          "data": {
            "application/vnd.jupyter.widget-view+json": {
              "model_id": "9b8d6e1346d94c0c8f4f19807d7abc9c",
              "version_major": 2,
              "version_minor": 0
            },
            "text/plain": [
              "HBox(children=(FloatProgress(value=0.0, max=10.0), HTML(value='')))"
            ]
          },
          "metadata": {
            "tags": []
          }
        },
        {
          "output_type": "stream",
          "text": [
            "Epoch 0: train loss: 596.9078, train acc: 0.872, test acc: 0.8084\n",
            "Epoch 1: train loss: 602.0539, train acc: 0.873, test acc: 0.8055\n",
            "Epoch 2: train loss: 593.2748, train acc: 0.871, test acc: 0.7979\n",
            "Epoch 3: train loss: 590.3426, train acc: 0.872, test acc: 0.7997\n",
            "Epoch 4: train loss: 580.9173, train acc: 0.874, test acc: 0.808\n",
            "Epoch 5: train loss: 591.7177, train acc: 0.873, test acc: 0.8088\n",
            "Epoch 6: train loss: 575.1690, train acc: 0.875, test acc: 0.803\n",
            "Epoch 7: train loss: 577.0605, train acc: 0.876, test acc: 0.8049\n",
            "Epoch 8: train loss: 576.3891, train acc: 0.876, test acc: 0.8078\n",
            "Epoch 9: train loss: 565.6397, train acc: 0.879, test acc: 0.8036\n",
            "\n"
          ],
          "name": "stdout"
        }
      ]
    },
    {
      "cell_type": "code",
      "metadata": {
        "colab": {
          "base_uri": "https://localhost:8080/",
          "height": 265
        },
        "id": "q8_djZiz2_7v",
        "outputId": "ba03e6fb-7df5-46ce-dbc4-7353d2f09280"
      },
      "source": [
        "plt.plot(train_acc_res,label='train acc')\n",
        "plt.plot(test_acc_res,label='test acc')\n",
        "plt.legend()\n",
        "plt.show()"
      ],
      "id": "q8_djZiz2_7v",
      "execution_count": null,
      "outputs": [
        {
          "output_type": "display_data",
          "data": {
            "image/png": "[encoded data removed]",
            "text/plain": [
              "<Figure size 432x288 with 1 Axes>"
            ]
          },
          "metadata": {
            "tags": []
          }
        }
      ]
    }
  ]
}