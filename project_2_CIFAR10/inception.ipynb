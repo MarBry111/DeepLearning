{
  "nbformat": 4,
  "nbformat_minor": 5,
  "metadata": {
    "accelerator": "GPU",
    "colab": {
      "name": "CIFAR10(1).ipynb",
      "provenance": [],
      "collapsed_sections": []
    },
    "kernelspec": {
      "display_name": "Python 3",
      "language": "python",
      "name": "python3"
    },
    "language_info": {
      "codemirror_mode": {
        "name": "ipython",
        "version": 3
      },
      "file_extension": ".py",
      "mimetype": "text/x-python",
      "name": "python",
      "nbconvert_exporter": "python",
      "pygments_lexer": "ipython3",
      "version": "3.7.10"
    },
    "toc": {
      "base_numbering": 1,
      "nav_menu": {},
      "number_sections": true,
      "sideBar": true,
      "skip_h1_title": false,
      "title_cell": "Table of Contents",
      "title_sidebar": "Contents",
      "toc_cell": false,
      "toc_position": {},
      "toc_section_display": true,
      "toc_window_display": false
    },
    "widgets": {
      "application/vnd.jupyter.widget-state+json": {
        "27ba964b83ea45289e863bbb21d213ec": {
          "model_module": "@jupyter-widgets/controls",
          "model_name": "HBoxModel",
          "state": {
            "_view_name": "HBoxView",
            "_dom_classes": [],
            "_model_name": "HBoxModel",
            "_view_module": "@jupyter-widgets/controls",
            "_model_module_version": "1.5.0",
            "_view_count": null,
            "_view_module_version": "1.5.0",
            "box_style": "",
            "layout": "IPY_MODEL_2c6ce76610ae47799491a748c65730f3",
            "_model_module": "@jupyter-widgets/controls",
            "children": [
              "IPY_MODEL_6a5354bb57524087b389727580221a82",
              "IPY_MODEL_fd3e02f4e6124c008bb872df4ffde62f"
            ]
          }
        },
        "2c6ce76610ae47799491a748c65730f3": {
          "model_module": "@jupyter-widgets/base",
          "model_name": "LayoutModel",
          "state": {
            "_view_name": "LayoutView",
            "grid_template_rows": null,
            "right": null,
            "justify_content": null,
            "_view_module": "@jupyter-widgets/base",
            "overflow": null,
            "_model_module_version": "1.2.0",
            "_view_count": null,
            "flex_flow": null,
            "width": null,
            "min_width": null,
            "border": null,
            "align_items": null,
            "bottom": null,
            "_model_module": "@jupyter-widgets/base",
            "top": null,
            "grid_column": null,
            "overflow_y": null,
            "overflow_x": null,
            "grid_auto_flow": null,
            "grid_area": null,
            "grid_template_columns": null,
            "flex": null,
            "_model_name": "LayoutModel",
            "justify_items": null,
            "grid_row": null,
            "max_height": null,
            "align_content": null,
            "visibility": null,
            "align_self": null,
            "height": null,
            "min_height": null,
            "padding": null,
            "grid_auto_rows": null,
            "grid_gap": null,
            "max_width": null,
            "order": null,
            "_view_module_version": "1.2.0",
            "grid_template_areas": null,
            "object_position": null,
            "object_fit": null,
            "grid_auto_columns": null,
            "margin": null,
            "display": null,
            "left": null
          }
        },
        "6a5354bb57524087b389727580221a82": {
          "model_module": "@jupyter-widgets/controls",
          "model_name": "FloatProgressModel",
          "state": {
            "_view_name": "ProgressView",
            "style": "IPY_MODEL_fc9af670425644379ac90a3fc369513c",
            "_dom_classes": [],
            "description": "100%",
            "_model_name": "FloatProgressModel",
            "bar_style": "success",
            "max": 100,
            "_view_module": "@jupyter-widgets/controls",
            "_model_module_version": "1.5.0",
            "value": 100,
            "_view_count": null,
            "_view_module_version": "1.5.0",
            "orientation": "horizontal",
            "min": 0,
            "description_tooltip": null,
            "_model_module": "@jupyter-widgets/controls",
            "layout": "IPY_MODEL_01f38a55bad248bbaccd830f8fb9be97"
          }
        },
        "fd3e02f4e6124c008bb872df4ffde62f": {
          "model_module": "@jupyter-widgets/controls",
          "model_name": "HTMLModel",
          "state": {
            "_view_name": "HTMLView",
            "style": "IPY_MODEL_dca22b62fdef48889e92b961c65396d3",
            "_dom_classes": [],
            "description": "",
            "_model_name": "HTMLModel",
            "placeholder": "​",
            "_view_module": "@jupyter-widgets/controls",
            "_model_module_version": "1.5.0",
            "value": " 100/100 [3:07:12&lt;00:00, 112.32s/it]",
            "_view_count": null,
            "_view_module_version": "1.5.0",
            "description_tooltip": null,
            "_model_module": "@jupyter-widgets/controls",
            "layout": "IPY_MODEL_a50a2ec6ed6640029b56b1eacd240e45"
          }
        },
        "fc9af670425644379ac90a3fc369513c": {
          "model_module": "@jupyter-widgets/controls",
          "model_name": "ProgressStyleModel",
          "state": {
            "_view_name": "StyleView",
            "_model_name": "ProgressStyleModel",
            "description_width": "initial",
            "_view_module": "@jupyter-widgets/base",
            "_model_module_version": "1.5.0",
            "_view_count": null,
            "_view_module_version": "1.2.0",
            "bar_color": null,
            "_model_module": "@jupyter-widgets/controls"
          }
        },
        "01f38a55bad248bbaccd830f8fb9be97": {
          "model_module": "@jupyter-widgets/base",
          "model_name": "LayoutModel",
          "state": {
            "_view_name": "LayoutView",
            "grid_template_rows": null,
            "right": null,
            "justify_content": null,
            "_view_module": "@jupyter-widgets/base",
            "overflow": null,
            "_model_module_version": "1.2.0",
            "_view_count": null,
            "flex_flow": null,
            "width": null,
            "min_width": null,
            "border": null,
            "align_items": null,
            "bottom": null,
            "_model_module": "@jupyter-widgets/base",
            "top": null,
            "grid_column": null,
            "overflow_y": null,
            "overflow_x": null,
            "grid_auto_flow": null,
            "grid_area": null,
            "grid_template_columns": null,
            "flex": null,
            "_model_name": "LayoutModel",
            "justify_items": null,
            "grid_row": null,
            "max_height": null,
            "align_content": null,
            "visibility": null,
            "align_self": null,
            "height": null,
            "min_height": null,
            "padding": null,
            "grid_auto_rows": null,
            "grid_gap": null,
            "max_width": null,
            "order": null,
            "_view_module_version": "1.2.0",
            "grid_template_areas": null,
            "object_position": null,
            "object_fit": null,
            "grid_auto_columns": null,
            "margin": null,
            "display": null,
            "left": null
          }
        },
        "dca22b62fdef48889e92b961c65396d3": {
          "model_module": "@jupyter-widgets/controls",
          "model_name": "DescriptionStyleModel",
          "state": {
            "_view_name": "StyleView",
            "_model_name": "DescriptionStyleModel",
            "description_width": "",
            "_view_module": "@jupyter-widgets/base",
            "_model_module_version": "1.5.0",
            "_view_count": null,
            "_view_module_version": "1.2.0",
            "_model_module": "@jupyter-widgets/controls"
          }
        },
        "a50a2ec6ed6640029b56b1eacd240e45": {
          "model_module": "@jupyter-widgets/base",
          "model_name": "LayoutModel",
          "state": {
            "_view_name": "LayoutView",
            "grid_template_rows": null,
            "right": null,
            "justify_content": null,
            "_view_module": "@jupyter-widgets/base",
            "overflow": null,
            "_model_module_version": "1.2.0",
            "_view_count": null,
            "flex_flow": null,
            "width": null,
            "min_width": null,
            "border": null,
            "align_items": null,
            "bottom": null,
            "_model_module": "@jupyter-widgets/base",
            "top": null,
            "grid_column": null,
            "overflow_y": null,
            "overflow_x": null,
            "grid_auto_flow": null,
            "grid_area": null,
            "grid_template_columns": null,
            "flex": null,
            "_model_name": "LayoutModel",
            "justify_items": null,
            "grid_row": null,
            "max_height": null,
            "align_content": null,
            "visibility": null,
            "align_self": null,
            "height": null,
            "min_height": null,
            "padding": null,
            "grid_auto_rows": null,
            "grid_gap": null,
            "max_width": null,
            "order": null,
            "_view_module_version": "1.2.0",
            "grid_template_areas": null,
            "object_position": null,
            "object_fit": null,
            "grid_auto_columns": null,
            "margin": null,
            "display": null,
            "left": null
          }
        },
        "9b8d6e1346d94c0c8f4f19807d7abc9c": {
          "model_module": "@jupyter-widgets/controls",
          "model_name": "HBoxModel",
          "state": {
            "_view_name": "HBoxView",
            "_dom_classes": [],
            "_model_name": "HBoxModel",
            "_view_module": "@jupyter-widgets/controls",
            "_model_module_version": "1.5.0",
            "_view_count": null,
            "_view_module_version": "1.5.0",
            "box_style": "",
            "layout": "IPY_MODEL_0574fa158af846fdad9cc58488484341",
            "_model_module": "@jupyter-widgets/controls",
            "children": [
              "IPY_MODEL_53b92cf5b7194b81bf88473e69bd611e",
              "IPY_MODEL_1f33ee57d674445a965dad1fd2569a5b"
            ]
          }
        },
        "0574fa158af846fdad9cc58488484341": {
          "model_module": "@jupyter-widgets/base",
          "model_name": "LayoutModel",
          "state": {
            "_view_name": "LayoutView",
            "grid_template_rows": null,
            "right": null,
            "justify_content": null,
            "_view_module": "@jupyter-widgets/base",
            "overflow": null,
            "_model_module_version": "1.2.0",
            "_view_count": null,
            "flex_flow": null,
            "width": null,
            "min_width": null,
            "border": null,
            "align_items": null,
            "bottom": null,
            "_model_module": "@jupyter-widgets/base",
            "top": null,
            "grid_column": null,
            "overflow_y": null,
            "overflow_x": null,
            "grid_auto_flow": null,
            "grid_area": null,
            "grid_template_columns": null,
            "flex": null,
            "_model_name": "LayoutModel",
            "justify_items": null,
            "grid_row": null,
            "max_height": null,
            "align_content": null,
            "visibility": null,
            "align_self": null,
            "height": null,
            "min_height": null,
            "padding": null,
            "grid_auto_rows": null,
            "grid_gap": null,
            "max_width": null,
            "order": null,
            "_view_module_version": "1.2.0",
            "grid_template_areas": null,
            "object_position": null,
            "object_fit": null,
            "grid_auto_columns": null,
            "margin": null,
            "display": null,
            "left": null
          }
        },
        "53b92cf5b7194b81bf88473e69bd611e": {
          "model_module": "@jupyter-widgets/controls",
          "model_name": "FloatProgressModel",
          "state": {
            "_view_name": "ProgressView",
            "style": "IPY_MODEL_de8dd48e8f934417b7534e19f69ec21e",
            "_dom_classes": [],
            "description": "100%",
            "_model_name": "FloatProgressModel",
            "bar_style": "success",
            "max": 10,
            "_view_module": "@jupyter-widgets/controls",
            "_model_module_version": "1.5.0",
            "value": 10,
            "_view_count": null,
            "_view_module_version": "1.5.0",
            "orientation": "horizontal",
            "min": 0,
            "description_tooltip": null,
            "_model_module": "@jupyter-widgets/controls",
            "layout": "IPY_MODEL_1c4cfc4b841f49d2b3e1fe4c02f1e2cc"
          }
        },
        "1f33ee57d674445a965dad1fd2569a5b": {
          "model_module": "@jupyter-widgets/controls",
          "model_name": "HTMLModel",
          "state": {
            "_view_name": "HTMLView",
            "style": "IPY_MODEL_1390481b98454a77b81aa6443dd62fd0",
            "_dom_classes": [],
            "description": "",
            "_model_name": "HTMLModel",
            "placeholder": "​",
            "_view_module": "@jupyter-widgets/controls",
            "_model_module_version": "1.5.0",
            "value": " 10/10 [22:43&lt;00:00, 136.36s/it]",
            "_view_count": null,
            "_view_module_version": "1.5.0",
            "description_tooltip": null,
            "_model_module": "@jupyter-widgets/controls",
            "layout": "IPY_MODEL_d89d9703ff414e45b91e6e7f01347c35"
          }
        },
        "de8dd48e8f934417b7534e19f69ec21e": {
          "model_module": "@jupyter-widgets/controls",
          "model_name": "ProgressStyleModel",
          "state": {
            "_view_name": "StyleView",
            "_model_name": "ProgressStyleModel",
            "description_width": "initial",
            "_view_module": "@jupyter-widgets/base",
            "_model_module_version": "1.5.0",
            "_view_count": null,
            "_view_module_version": "1.2.0",
            "bar_color": null,
            "_model_module": "@jupyter-widgets/controls"
          }
        },
        "1c4cfc4b841f49d2b3e1fe4c02f1e2cc": {
          "model_module": "@jupyter-widgets/base",
          "model_name": "LayoutModel",
          "state": {
            "_view_name": "LayoutView",
            "grid_template_rows": null,
            "right": null,
            "justify_content": null,
            "_view_module": "@jupyter-widgets/base",
            "overflow": null,
            "_model_module_version": "1.2.0",
            "_view_count": null,
            "flex_flow": null,
            "width": null,
            "min_width": null,
            "border": null,
            "align_items": null,
            "bottom": null,
            "_model_module": "@jupyter-widgets/base",
            "top": null,
            "grid_column": null,
            "overflow_y": null,
            "overflow_x": null,
            "grid_auto_flow": null,
            "grid_area": null,
            "grid_template_columns": null,
            "flex": null,
            "_model_name": "LayoutModel",
            "justify_items": null,
            "grid_row": null,
            "max_height": null,
            "align_content": null,
            "visibility": null,
            "align_self": null,
            "height": null,
            "min_height": null,
            "padding": null,
            "grid_auto_rows": null,
            "grid_gap": null,
            "max_width": null,
            "order": null,
            "_view_module_version": "1.2.0",
            "grid_template_areas": null,
            "object_position": null,
            "object_fit": null,
            "grid_auto_columns": null,
            "margin": null,
            "display": null,
            "left": null
          }
        },
        "1390481b98454a77b81aa6443dd62fd0": {
          "model_module": "@jupyter-widgets/controls",
          "model_name": "DescriptionStyleModel",
          "state": {
            "_view_name": "StyleView",
            "_model_name": "DescriptionStyleModel",
            "description_width": "",
            "_view_module": "@jupyter-widgets/base",
            "_model_module_version": "1.5.0",
            "_view_count": null,
            "_view_module_version": "1.2.0",
            "_model_module": "@jupyter-widgets/controls"
          }
        },
        "d89d9703ff414e45b91e6e7f01347c35": {
          "model_module": "@jupyter-widgets/base",
          "model_name": "LayoutModel",
          "state": {
            "_view_name": "LayoutView",
            "grid_template_rows": null,
            "right": null,
            "justify_content": null,
            "_view_module": "@jupyter-widgets/base",
            "overflow": null,
            "_model_module_version": "1.2.0",
            "_view_count": null,
            "flex_flow": null,
            "width": null,
            "min_width": null,
            "border": null,
            "align_items": null,
            "bottom": null,
            "_model_module": "@jupyter-widgets/base",
            "top": null,
            "grid_column": null,
            "overflow_y": null,
            "overflow_x": null,
            "grid_auto_flow": null,
            "grid_area": null,
            "grid_template_columns": null,
            "flex": null,
            "_model_name": "LayoutModel",
            "justify_items": null,
            "grid_row": null,
            "max_height": null,
            "align_content": null,
            "visibility": null,
            "align_self": null,
            "height": null,
            "min_height": null,
            "padding": null,
            "grid_auto_rows": null,
            "grid_gap": null,
            "max_width": null,
            "order": null,
            "_view_module_version": "1.2.0",
            "grid_template_areas": null,
            "object_position": null,
            "object_fit": null,
            "grid_auto_columns": null,
            "margin": null,
            "display": null,
            "left": null
          }
        }
      }
    }
  },
  "cells": [
    {
      "cell_type": "code",
      "metadata": {
        "colab": {
          "base_uri": "https://localhost:8080/"
        },
        "id": "MNRucdkQk-8M",
        "outputId": "b3077e10-f6e4-446f-e372-d37186690a72"
      },
      "source": [
        "%config Completer.use_jedi = False"
      ],
      "id": "MNRucdkQk-8M",
      "execution_count": null,
      "outputs": [
        {
          "output_type": "stream",
          "text": [
            "/usr/local/lib/python3.7/dist-packages/ipykernel_launcher.py:1: UserWarning:\n",
            "\n",
            "Config option `use_jedi` not recognized by `IPCompleter`.\n",
            "\n"
          ],
          "name": "stderr"
        }
      ]
    },
    {
      "cell_type": "code",
      "metadata": {
        "id": "kZPHaiMOk-8U"
      },
      "source": [
        "import torch\n",
        "from torch import nn\n",
        "from torch.utils.data import DataLoader\n",
        "from torchvision import datasets\n",
        "import torchvision.transforms as transforms\n",
        "import torch.nn.functional as F\n",
        "from torch import optim\n",
        "from torch.autograd import Variable\n",
        "\n",
        "import matplotlib.pyplot as plt\n",
        "import numpy as np\n",
        "import pandas as pd\n",
        "import plotly.express as px\n",
        "import seaborn as sn\n",
        "from tqdm.notebook import tqdm\n",
        " \n",
        "from functools import partial\n",
        "from collections import OrderedDict"
      ],
      "id": "kZPHaiMOk-8U",
      "execution_count": null,
      "outputs": []
    },
    {
      "cell_type": "code",
      "metadata": {
        "colab": {
          "base_uri": "https://localhost:8080/"
        },
        "id": "AQU_8cV6ZI_Q",
        "outputId": "be782ce4-a15e-4988-cff3-62bad4d25bed"
      },
      "source": [
        "!pip install torchviz"
      ],
      "id": "AQU_8cV6ZI_Q",
      "execution_count": null,
      "outputs": [
        {
          "output_type": "stream",
          "text": [
            "Collecting torchviz\n",
            "  Downloading https://files.pythonhosted.org/packages/79/e7/643808913211d6c1fc96a3a4333bf4c9276858fab00bcafaf98ea58a97be/torchviz-0.0.2.tar.gz\n",
            "Requirement already satisfied: torch in /usr/local/lib/python3.7/dist-packages (from torchviz) (1.8.1+cu101)\n",
            "Requirement already satisfied: graphviz in /usr/local/lib/python3.7/dist-packages (from torchviz) (0.10.1)\n",
            "Requirement already satisfied: numpy in /usr/local/lib/python3.7/dist-packages (from torch->torchviz) (1.19.5)\n",
            "Requirement already satisfied: typing-extensions in /usr/local/lib/python3.7/dist-packages (from torch->torchviz) (3.7.4.3)\n",
            "Building wheels for collected packages: torchviz\n",
            "  Building wheel for torchviz (setup.py) ... \u001b[?25l\u001b[?25hdone\n",
            "  Created wheel for torchviz: filename=torchviz-0.0.2-cp37-none-any.whl size=4152 sha256=9253e07efdf85c0575082e49125284d2510c372eb8803d4dcd9b1899be58f11b\n",
            "  Stored in directory: /root/.cache/pip/wheels/01/26/58/026ffd533dbe8b3972eb423da9c7949beca68d1c98ed9e8624\n",
            "Successfully built torchviz\n",
            "Installing collected packages: torchviz\n",
            "Successfully installed torchviz-0.0.2\n"
          ],
          "name": "stdout"
        }
      ]
    },
    {
      "cell_type": "code",
      "metadata": {
        "id": "T29cEwP6ZNKZ"
      },
      "source": [
        "from torchviz import make_dot"
      ],
      "id": "T29cEwP6ZNKZ",
      "execution_count": null,
      "outputs": []
    },
    {
      "cell_type": "code",
      "metadata": {
        "colab": {
          "base_uri": "https://localhost:8080/"
        },
        "id": "i7Zf3iqEk-8V",
        "outputId": "c491b095-b1bc-4d9a-b239-74b6201dda43"
      },
      "source": [
        "torch.cuda.is_available()"
      ],
      "id": "i7Zf3iqEk-8V",
      "execution_count": null,
      "outputs": [
        {
          "output_type": "execute_result",
          "data": {
            "text/plain": [
              "True"
            ]
          },
          "metadata": {
            "tags": []
          },
          "execution_count": 54
        }
      ]
    },
    {
      "cell_type": "code",
      "metadata": {
        "colab": {
          "base_uri": "https://localhost:8080/"
        },
        "id": "eabIU5sak-8W",
        "outputId": "c60b4c42-3f2f-46e7-f27b-25935977384a"
      },
      "source": [
        "print(torch.__version__)"
      ],
      "id": "eabIU5sak-8W",
      "execution_count": null,
      "outputs": [
        {
          "output_type": "stream",
          "text": [
            "1.8.1+cu101\n"
          ],
          "name": "stdout"
        }
      ]
    },
    {
      "cell_type": "code",
      "metadata": {
        "colab": {
          "base_uri": "https://localhost:8080/",
          "height": 301
        },
        "id": "yzNihcTpk-8Y",
        "outputId": "daf7f722-7375-427f-a6f8-9602fc3769b1"
      },
      "source": [
        "transform = transforms.Compose(\n",
        "    [transforms.ToTensor(),\n",
        "     transforms.Normalize((0.5, 0.5, 0.5), (0.5, 0.5, 0.5)),\n",
        "     ]\n",
        ")\n",
        "\n",
        "if True:\n",
        "    transform = transforms.Compose([\n",
        "        transforms.ToTensor(),\n",
        "        transforms.Normalize((0.5, 0.5, 0.5), (0.5, 0.5, 0.5)),\n",
        "        transforms.GaussianBlur(kernel_size=[3,3], sigma=(0.2, 1)),\n",
        "        transforms.RandomAffine(degrees=[-20, 20], translate=[0.1, 0.1], scale=[0.9, 1.1], shear=[-20, 20]),\n",
        "        ])\n",
        "    \n",
        " \n",
        "trainset = datasets.CIFAR10(\n",
        "    root='./data', train=True, download=True, transform=transform)\n",
        "trainloader = torch.utils.data.DataLoader(\n",
        "    trainset, batch_size=32, shuffle=True, num_workers=2)\n",
        " \n",
        "testset = datasets.CIFAR10(\n",
        "    root='./data', train=False, download=True, transform=transform)\n",
        "testloader = torch.utils.data.DataLoader(\n",
        "    testset, batch_size=32, shuffle=False, num_workers=2)\n",
        " \n",
        "classes = ('plane', 'car', 'bird', 'cat',\n",
        "           'deer', 'dog', 'frog', 'horse', 'ship', 'truck')\n",
        "\n",
        "def imshow(img):\n",
        "    img = img / 2 + 0.5     # unnormalize\n",
        "    npimg = img.numpy()\n",
        "    plt.imshow(np.transpose(npimg, (1, 2, 0)))\n",
        "    plt.show()\n",
        "    \n",
        "imshow(trainset[0][0])"
      ],
      "id": "yzNihcTpk-8Y",
      "execution_count": null,
      "outputs": [
        {
          "output_type": "stream",
          "text": [
            "Files already downloaded and verified\n",
            "Files already downloaded and verified\n"
          ],
          "name": "stdout"
        },
        {
          "output_type": "display_data",
          "data": {
            "image/png": "[encoded data removed]",
            "text/plain": [
              "<Figure size 432x288 with 1 Axes>"
            ]
          },
          "metadata": {
            "tags": [],
            "needs_background": "light"
          }
        }
      ]
    },
    {
      "cell_type": "code",
      "metadata": {
        "colab": {
          "base_uri": "https://localhost:8080/",
          "height": 35
        },
        "id": "oolevyynk-8d",
        "outputId": "7b57acb8-29f6-4c7a-df18-0fe9e18c93c1"
      },
      "source": [
        "classes[trainset[0][1]]"
      ],
      "id": "oolevyynk-8d",
      "execution_count": null,
      "outputs": [
        {
          "output_type": "execute_result",
          "data": {
            "application/vnd.google.colaboratory.intrinsic+json": {
              "type": "string"
            },
            "text/plain": [
              "'frog'"
            ]
          },
          "metadata": {
            "tags": []
          },
          "execution_count": 57
        }
      ]
    },
    {
      "cell_type": "code",
      "metadata": {
        "colab": {
          "base_uri": "https://localhost:8080/"
        },
        "id": "Q0Gj1glUk-8e",
        "outputId": "f9aee813-d45f-4352-9049-f3cf64e74f4c"
      },
      "source": [
        "trainset[0][0].shape"
      ],
      "id": "Q0Gj1glUk-8e",
      "execution_count": null,
      "outputs": [
        {
          "output_type": "execute_result",
          "data": {
            "text/plain": [
              "torch.Size([3, 32, 32])"
            ]
          },
          "metadata": {
            "tags": []
          },
          "execution_count": 58
        }
      ]
    },
    {
      "cell_type": "code",
      "metadata": {
        "id": "v6DYUgdMk-8g"
      },
      "source": [
        "def test(net, dataloader, device='cuda:0'):\n",
        "    net = net.to(device)\n",
        "    conf_matrix = np.zeros((10, 10))\n",
        "    for i, (X, y) in enumerate(dataloader):\n",
        "        X, y = X.to(device), y.to(device)\n",
        "        with torch.no_grad():\n",
        "            pred = net(X)\n",
        "            pred_cls = pred.argmax(1)\n",
        "            for j in range(len(pred_cls)):\n",
        "                conf_matrix[y[j]][pred_cls[j]] += 1\n",
        "    return conf_matrix"
      ],
      "id": "v6DYUgdMk-8g",
      "execution_count": null,
      "outputs": []
    },
    {
      "cell_type": "code",
      "metadata": {
        "id": "mJIhOQpGk-8g"
      },
      "source": [
        "def train(net, dataloader, optimizer, loss_func, epochs=100, device='cuda:0', scheduler=None):\n",
        "    n = len(trainloader.dataset)\n",
        "    net.to(device)\n",
        "    train_acc = np.zeros(epochs)\n",
        "    test_acc = np.zeros(epochs)\n",
        "    train_loss = np.zeros(epochs)\n",
        "    test_loss = np.zeros(epochs)\n",
        "    \n",
        "    for epoch in tqdm(range(epochs)):\n",
        "        epoch_ok = 0\n",
        "        \n",
        "        for i, (X, y) in enumerate(dataloader):\n",
        "            X, y = X.to(device), y.to(device)\n",
        "            optimizer.zero_grad()\n",
        "            pred = net(X)\n",
        "            loss = loss_func(pred, y)\n",
        "            \n",
        "            train_loss[epoch] += loss.item()\n",
        "            pred_cls = pred.argmax(1)\n",
        "            epoch_ok += sum(pred_cls == y)\n",
        "            \n",
        "            loss.backward()\n",
        "            optimizer.step()\n",
        "        \n",
        "        if scheduler: scheduler.step()\n",
        "        \n",
        "        conf_matrix = test(net, testloader)    \n",
        "        test_acc[epoch] = np.diag(conf_matrix).sum() / np.sum(conf_matrix)\n",
        "        train_acc[epoch] = epoch_ok / n\n",
        "        \n",
        "        print(f'Epoch {epoch}: train loss: {train_loss[epoch]:.4f}, train acc: {train_acc[epoch]:.3f}, '\n",
        "              f'test acc: {test_acc[epoch]}')\n",
        "    \n",
        "    return  train_acc, test_acc, train_loss, test_loss"
      ],
      "id": "mJIhOQpGk-8g",
      "execution_count": null,
      "outputs": []
    },
    {
      "cell_type": "code",
      "metadata": {
        "colab": {
          "base_uri": "https://localhost:8080/"
        },
        "id": "OpBIEwhyhW5X",
        "outputId": "57aca649-2f70-4c2d-eb55-be956349b1a9"
      },
      "source": [
        "device = torch.device(\"cuda:0\" if torch.cuda.is_available() else \"cpu\")\n",
        "device"
      ],
      "id": "OpBIEwhyhW5X",
      "execution_count": null,
      "outputs": [
        {
          "output_type": "execute_result",
          "data": {
            "text/plain": [
              "device(type='cuda', index=0)"
            ]
          },
          "metadata": {
            "tags": []
          },
          "execution_count": 61
        }
      ]
    },
    {
      "cell_type": "code",
      "metadata": {
        "id": "8keAO80x-iB-"
      },
      "source": [
        "class InceptionBlock(nn.Module):\n",
        "\n",
        "    def __init__(self, c_in, c_red, c_out : dict, res = False):\n",
        "        super().__init__()\n",
        "\n",
        "        self.resTF = res\n",
        "        self.res = nn.Conv2d(c_in, c_out[\"1x1\"]+c_out[\"3x3\"]+c_out[\"5x5\"]+c_out[\"max\"], kernel_size=1)\n",
        "\n",
        "        # 1x1 convolution branch\n",
        "        self.conv_1x1 = nn.Sequential(\n",
        "            nn.Conv2d(c_in, c_out[\"1x1\"], kernel_size=1),\n",
        "            nn.BatchNorm2d(c_out[\"1x1\"]),\n",
        "            nn.ReLU()\n",
        "        )\n",
        "\n",
        "        # 3x3 convolution branch\n",
        "        self.conv_3x3 = nn.Sequential(\n",
        "            nn.Conv2d(c_in, c_red, kernel_size=1),\n",
        "            nn.BatchNorm2d(c_red),\n",
        "            nn.ReLU(),\n",
        "            nn.Conv2d(c_red, c_out[\"3x3\"], kernel_size=3, padding=1),\n",
        "            nn.BatchNorm2d(c_out[\"3x3\"]),\n",
        "            nn.ReLU()\n",
        "        )\n",
        "\n",
        "        # 5x5 convolution branch\n",
        "        self.conv_5x5 = nn.Sequential(\n",
        "            nn.Conv2d(c_in, c_red, kernel_size=1),\n",
        "            nn.BatchNorm2d(c_red),\n",
        "            nn.ReLU(),\n",
        "            nn.Conv2d(c_red, c_out[\"5x5\"], kernel_size=5, padding=2),\n",
        "            nn.BatchNorm2d(c_out[\"5x5\"]),\n",
        "            nn.ReLU()\n",
        "        )\n",
        "\n",
        "        # Max-pool branch\n",
        "        self.max_pool = nn.Sequential(\n",
        "            nn.MaxPool2d(kernel_size=3, padding=1, stride=1),\n",
        "            nn.Conv2d(c_in, c_out[\"max\"], kernel_size=1),\n",
        "            nn.BatchNorm2d(c_out[\"max\"]),\n",
        "            nn.ReLU()\n",
        "        )\n",
        "\n",
        "\n",
        "    def forward(self, x):\n",
        "        x_1x1 = self.conv_1x1(x)\n",
        "        x_3x3 = self.conv_3x3(x)\n",
        "        x_5x5 = self.conv_5x5(x)\n",
        "        x_max = self.max_pool(x)\n",
        "        x_out = torch.cat([x_1x1, x_3x3, x_5x5, x_max], dim=1)\n",
        "\n",
        "        if self.resTF:\n",
        "            residal = self.res(x)\n",
        "            x_out += residal\n",
        "        \n",
        "        return x_out\n",
        "\n",
        "class IcepNet01(nn.Module):\n",
        "    def __init__(self, classes=10, simpnet_name='IncepNet02'):\n",
        "        super(IcepNet01, self).__init__()\n",
        "        \n",
        "        self.conv1 = nn.Conv2d(in_channels=3, out_channels=16, kernel_size=3, padding=1)\n",
        " \n",
        "        self.inception_net = self._make_layers()\n",
        " \n",
        "        self.gap = nn.MaxPool2d(kernel_size=(32, 32))\n",
        " \n",
        "        self.linear = nn.Sequential(\n",
        "            nn.Linear(128, 64),\n",
        "            nn.ReLU(),\n",
        "            nn.Dropout(0.1),\n",
        "            nn.Linear(64, 32),\n",
        "            nn.ReLU(),\n",
        "            nn.Dropout(0.1),\n",
        "            nn.Linear(32, 10),\n",
        "            nn.ReLU()\n",
        "        )\n",
        " \n",
        "    def forward(self, x):\n",
        "        x = self.conv1(x)\n",
        "        x = self.inception_net(x)\n",
        "        x = self.gap(x)\n",
        "        x = x.squeeze()\n",
        "        # mlp block\n",
        "        x = self.linear(x)\n",
        "        return x\n",
        " \n",
        "    def _make_layers(self):\n",
        " \n",
        "        model = nn.Sequential(\n",
        "            nn.ReLU(),\n",
        "            nn.BatchNorm2d(16),\n",
        "            InceptionBlock(c_in=16, c_red=16, c_out={\"1x1\":8, \"3x3\":8, \"5x5\":8, \"max\":8}),\n",
        "            nn.ReLU(),\n",
        "            nn.BatchNorm2d(32),\n",
        "            InceptionBlock(c_in=32, c_red=32, c_out={\"1x1\":16, \"3x3\":16, \"5x5\":16, \"max\":16}),\n",
        "            nn.ReLU(),\n",
        "            nn.BatchNorm2d(64),\n",
        "            InceptionBlock(c_in=64, c_red=64, c_out={\"1x1\":32, \"3x3\":32, \"5x5\":32, \"max\":32}),\n",
        "            nn.ReLU(),\n",
        "            nn.BatchNorm2d(128),\n",
        "            InceptionBlock(c_in=128, c_red=128, c_out={\"1x1\":32, \"3x3\":32, \"5x5\":32, \"max\":32}),\n",
        "            nn.ReLU(),\n",
        "            nn.BatchNorm2d(128),\n",
        "            InceptionBlock(c_in=128, c_red=128, c_out={\"1x1\":32, \"3x3\":32, \"5x5\":32, \"max\":32}),\n",
        "            nn.ReLU(),\n",
        "            nn.BatchNorm2d(128)\n",
        "        )\n",
        " \n",
        "        for m in model.modules():\n",
        "          if isinstance(m, nn.Conv2d):\n",
        "            nn.init.xavier_uniform_(m.weight.data, gain=nn.init.calculate_gain('relu'))\n",
        " \n",
        "        return model"
      ],
      "id": "8keAO80x-iB-",
      "execution_count": null,
      "outputs": []
    },
    {
      "cell_type": "code",
      "metadata": {
        "colab": {
          "base_uri": "https://localhost:8080/"
        },
        "id": "wwh1YqrNk-8i",
        "outputId": "053df273-7ee4-48a6-9205-ec0d4c36ace3"
      },
      "source": [
        "device = torch.device(\"cuda:0\" if torch.cuda.is_available() else \"cpu\")\n",
        "device"
      ],
      "id": "wwh1YqrNk-8i",
      "execution_count": null,
      "outputs": [
        {
          "output_type": "execute_result",
          "data": {
            "text/plain": [
              "device(type='cuda', index=0)"
            ]
          },
          "metadata": {
            "tags": []
          },
          "execution_count": 74
        }
      ]
    },
    {
      "cell_type": "code",
      "metadata": {
        "id": "j5PwtGUok-8j",
        "colab": {
          "base_uri": "https://localhost:8080/"
        },
        "outputId": "bf2efaf9-8210-48bf-9d05-752c43e07c24"
      },
      "source": [
        "loss_func = nn.CrossEntropyLoss()\n",
        "net = IcepNet01().to(device)\n",
        "sgd = optim.SGD(net.parameters(), lr=0.01, momentum=0.9)\n",
        "scheduler = optim.lr_scheduler.StepLR(sgd, step_size=10, gamma=0.5, verbose=True)"
      ],
      "id": "j5PwtGUok-8j",
      "execution_count": null,
      "outputs": [
        {
          "output_type": "stream",
          "text": [
            "Adjusting learning rate of group 0 to 1.0000e-02.\n"
          ],
          "name": "stdout"
        }
      ]
    },
    {
      "cell_type": "code",
      "metadata": {
        "colab": {
          "base_uri": "https://localhost:8080/",
          "height": 1000,
          "referenced_widgets": [
            "27ba964b83ea45289e863bbb21d213ec",
            "2c6ce76610ae47799491a748c65730f3",
            "6a5354bb57524087b389727580221a82",
            "fd3e02f4e6124c008bb872df4ffde62f",
            "fc9af670425644379ac90a3fc369513c",
            "01f38a55bad248bbaccd830f8fb9be97",
            "dca22b62fdef48889e92b961c65396d3",
            "a50a2ec6ed6640029b56b1eacd240e45"
          ]
        },
        "id": "W5WvmpC4nNnH",
        "outputId": "4dbe6337-42f8-493b-b9b9-918347e1389c"
      },
      "source": [
        "train_acc, test_acc, train_loss, test_loss = train(net, trainloader, sgd, loss_func, 100)"
      ],
      "id": "W5WvmpC4nNnH",
      "execution_count": null,
      "outputs": [
        {
          "output_type": "display_data",
          "data": {
            "application/vnd.jupyter.widget-view+json": {
              "model_id": "27ba964b83ea45289e863bbb21d213ec",
              "version_minor": 0,
              "version_major": 2
            },
            "text/plain": [
              "HBox(children=(FloatProgress(value=0.0), HTML(value='')))"
            ]
          },
          "metadata": {
            "tags": []
          }
        },
        {
          "output_type": "stream",
          "text": [
            "Epoch 0: train loss: 3185.1290, train acc: 0.227, test acc: 0.3079\n",
            "Epoch 1: train loss: 2681.0022, train acc: 0.349, test acc: 0.4038\n",
            "Epoch 2: train loss: 2417.7579, train acc: 0.426, test acc: 0.4554\n",
            "Epoch 3: train loss: 2280.4281, train acc: 0.468, test acc: 0.4817\n",
            "Epoch 4: train loss: 2167.9812, train acc: 0.497, test acc: 0.5012\n",
            "Epoch 5: train loss: 2080.3963, train acc: 0.522, test acc: 0.538\n",
            "Epoch 6: train loss: 2005.5272, train acc: 0.542, test acc: 0.5478\n",
            "Epoch 7: train loss: 1924.5003, train acc: 0.561, test acc: 0.5568\n",
            "Epoch 8: train loss: 1869.5581, train acc: 0.578, test acc: 0.5781\n",
            "Epoch 9: train loss: 1805.7647, train acc: 0.592, test acc: 0.5658\n",
            "Epoch 10: train loss: 1759.3927, train acc: 0.604, test acc: 0.6014\n",
            "Epoch 11: train loss: 1718.5789, train acc: 0.618, test acc: 0.6024\n",
            "Epoch 12: train loss: 1673.4364, train acc: 0.626, test acc: 0.612\n",
            "Epoch 13: train loss: 1634.4021, train acc: 0.636, test acc: 0.634\n",
            "Epoch 14: train loss: 1601.3304, train acc: 0.643, test acc: 0.6375\n",
            "Epoch 15: train loss: 1568.5254, train acc: 0.653, test acc: 0.6528\n",
            "Epoch 16: train loss: 1533.6341, train acc: 0.661, test acc: 0.6247\n",
            "Epoch 17: train loss: 1504.3194, train acc: 0.667, test acc: 0.6516\n",
            "Epoch 18: train loss: 1497.1390, train acc: 0.672, test acc: 0.6567\n",
            "Epoch 19: train loss: 1455.3785, train acc: 0.681, test acc: 0.6674\n",
            "Epoch 20: train loss: 1434.7569, train acc: 0.686, test acc: 0.6615\n",
            "Epoch 21: train loss: 1409.4720, train acc: 0.691, test acc: 0.6894\n",
            "Epoch 22: train loss: 1400.4729, train acc: 0.693, test acc: 0.6636\n",
            "Epoch 23: train loss: 1371.0371, train acc: 0.702, test acc: 0.6913\n",
            "Epoch 24: train loss: 1350.0736, train acc: 0.706, test acc: 0.6589\n",
            "Epoch 25: train loss: 1339.0182, train acc: 0.708, test acc: 0.6952\n",
            "Epoch 26: train loss: 1314.9190, train acc: 0.712, test acc: 0.6946\n",
            "Epoch 27: train loss: 1299.3663, train acc: 0.717, test acc: 0.7035\n",
            "Epoch 28: train loss: 1278.1860, train acc: 0.723, test acc: 0.7\n",
            "Epoch 29: train loss: 1259.7178, train acc: 0.726, test acc: 0.6837\n",
            "Epoch 30: train loss: 1249.4356, train acc: 0.729, test acc: 0.6867\n",
            "Epoch 31: train loss: 1227.4440, train acc: 0.733, test acc: 0.697\n",
            "Epoch 32: train loss: 1220.6877, train acc: 0.737, test acc: 0.7006\n",
            "Epoch 33: train loss: 1197.0600, train acc: 0.742, test acc: 0.6959\n",
            "Epoch 34: train loss: 1182.5908, train acc: 0.743, test acc: 0.7166\n",
            "Epoch 35: train loss: 1163.7098, train acc: 0.748, test acc: 0.7168\n",
            "Epoch 36: train loss: 1158.5140, train acc: 0.750, test acc: 0.7238\n",
            "Epoch 37: train loss: 1139.7186, train acc: 0.754, test acc: 0.723\n",
            "Epoch 38: train loss: 1132.1995, train acc: 0.755, test acc: 0.7203\n",
            "Epoch 39: train loss: 1107.5543, train acc: 0.761, test acc: 0.7296\n",
            "Epoch 40: train loss: 1111.6472, train acc: 0.761, test acc: 0.7239\n",
            "Epoch 41: train loss: 1084.0774, train acc: 0.767, test acc: 0.7374\n",
            "Epoch 42: train loss: 1073.2188, train acc: 0.769, test acc: 0.7207\n",
            "Epoch 43: train loss: 1075.8635, train acc: 0.770, test acc: 0.7339\n",
            "Epoch 44: train loss: 1067.4743, train acc: 0.772, test acc: 0.733\n",
            "Epoch 45: train loss: 1033.0458, train acc: 0.778, test acc: 0.7363\n",
            "Epoch 46: train loss: 1035.0942, train acc: 0.779, test acc: 0.7355\n",
            "Epoch 47: train loss: 1027.8356, train acc: 0.780, test acc: 0.7352\n",
            "Epoch 48: train loss: 1010.5592, train acc: 0.783, test acc: 0.7303\n",
            "Epoch 49: train loss: 1007.0355, train acc: 0.784, test acc: 0.7427\n",
            "Epoch 50: train loss: 986.2918, train acc: 0.788, test acc: 0.7526\n",
            "Epoch 51: train loss: 982.7401, train acc: 0.789, test acc: 0.7483\n",
            "Epoch 52: train loss: 961.4132, train acc: 0.793, test acc: 0.7474\n",
            "Epoch 53: train loss: 963.2281, train acc: 0.792, test acc: 0.7401\n",
            "Epoch 54: train loss: 949.7041, train acc: 0.798, test acc: 0.7554\n",
            "Epoch 55: train loss: 947.7660, train acc: 0.797, test acc: 0.7532\n",
            "Epoch 56: train loss: 939.3836, train acc: 0.797, test acc: 0.7498\n",
            "Epoch 57: train loss: 935.7320, train acc: 0.796, test acc: 0.7465\n",
            "Epoch 58: train loss: 917.7869, train acc: 0.804, test acc: 0.7505\n",
            "Epoch 59: train loss: 928.0525, train acc: 0.800, test acc: 0.7575\n",
            "Epoch 60: train loss: 904.6116, train acc: 0.805, test acc: 0.7455\n",
            "Epoch 61: train loss: 905.2860, train acc: 0.806, test acc: 0.7452\n",
            "Epoch 62: train loss: 895.6074, train acc: 0.807, test acc: 0.7478\n",
            "Epoch 63: train loss: 886.7518, train acc: 0.810, test acc: 0.757\n",
            "Epoch 64: train loss: 884.7416, train acc: 0.808, test acc: 0.7575\n",
            "Epoch 65: train loss: 879.0611, train acc: 0.811, test acc: 0.7575\n",
            "Epoch 66: train loss: 864.9772, train acc: 0.814, test acc: 0.7699\n",
            "Epoch 67: train loss: 866.4600, train acc: 0.812, test acc: 0.7639\n",
            "Epoch 68: train loss: 856.5485, train acc: 0.816, test acc: 0.7702\n",
            "Epoch 69: train loss: 839.0091, train acc: 0.820, test acc: 0.7582\n",
            "Epoch 70: train loss: 849.6334, train acc: 0.818, test acc: 0.7637\n",
            "Epoch 71: train loss: 837.2595, train acc: 0.819, test acc: 0.7673\n",
            "Epoch 72: train loss: 825.0375, train acc: 0.821, test acc: 0.7551\n",
            "Epoch 73: train loss: 821.7705, train acc: 0.825, test acc: 0.7652\n",
            "Epoch 74: train loss: 825.4332, train acc: 0.823, test acc: 0.7561\n",
            "Epoch 75: train loss: 811.3786, train acc: 0.826, test acc: 0.7641\n",
            "Epoch 76: train loss: 799.4381, train acc: 0.828, test acc: 0.7642\n",
            "Epoch 77: train loss: 800.7612, train acc: 0.827, test acc: 0.7622\n",
            "Epoch 78: train loss: 791.7824, train acc: 0.830, test acc: 0.7674\n",
            "Epoch 79: train loss: 778.8526, train acc: 0.832, test acc: 0.7653\n",
            "Epoch 80: train loss: 781.8145, train acc: 0.832, test acc: 0.7717\n",
            "Epoch 81: train loss: 781.0473, train acc: 0.833, test acc: 0.7604\n",
            "Epoch 82: train loss: 768.8866, train acc: 0.834, test acc: 0.7646\n",
            "Epoch 83: train loss: 758.0419, train acc: 0.839, test acc: 0.7736\n",
            "Epoch 84: train loss: 754.8628, train acc: 0.838, test acc: 0.7546\n",
            "Epoch 85: train loss: 760.2101, train acc: 0.837, test acc: 0.7735\n",
            "Epoch 86: train loss: 754.3362, train acc: 0.839, test acc: 0.778\n",
            "Epoch 87: train loss: 745.8209, train acc: 0.840, test acc: 0.746\n",
            "Epoch 88: train loss: 752.4620, train acc: 0.839, test acc: 0.7693\n",
            "Epoch 89: train loss: 738.8661, train acc: 0.841, test acc: 0.7803\n",
            "Epoch 90: train loss: 737.8795, train acc: 0.841, test acc: 0.7772\n",
            "Epoch 91: train loss: 733.3444, train acc: 0.843, test acc: 0.7716\n",
            "Epoch 92: train loss: 720.4947, train acc: 0.845, test acc: 0.774\n",
            "Epoch 93: train loss: 717.3489, train acc: 0.846, test acc: 0.7656\n",
            "Epoch 94: train loss: 713.6187, train acc: 0.848, test acc: 0.7652\n",
            "Epoch 95: train loss: 721.2329, train acc: 0.845, test acc: 0.7751\n",
            "Epoch 96: train loss: 709.9093, train acc: 0.847, test acc: 0.7729\n",
            "Epoch 97: train loss: 711.8393, train acc: 0.848, test acc: 0.7773\n",
            "Epoch 98: train loss: 708.5746, train acc: 0.847, test acc: 0.7749\n",
            "Epoch 99: train loss: 686.0812, train acc: 0.852, test acc: 0.7745\n",
            "\n"
          ],
          "name": "stdout"
        }
      ]
    },
    {
      "cell_type": "code",
      "metadata": {
        "id": "9ZnMhNdvzejf"
      },
      "source": [
        "import pandas as pd\n",
        "dataset = pd.DataFrame({'train_acc': train_acc, \n",
        "                        'test_acc': test_acc,\n",
        "                        'train_loss': train_loss, \n",
        "                        'test_loss': test_loss})\n",
        "dataset.to_csv('incepion_dense.csv')\n",
        "\n",
        "# Specify a path\n",
        "PATH = \"Inception_dense.pt\"\n",
        "\n",
        "# Save\n",
        "torch.save(net, PATH)"
      ],
      "id": "9ZnMhNdvzejf",
      "execution_count": null,
      "outputs": []
    },
    {
      "cell_type": "code",
      "metadata": {
        "colab": {
          "base_uri": "https://localhost:8080/",
          "height": 17
        },
        "id": "jkAmNGRCABYv",
        "outputId": "987800de-8e57-4f55-ccc4-303e9faa45c3"
      },
      "source": [
        "from google.colab import files\n",
        "files.download('incepion_dense.csv')\n",
        "files.download('Inception_dense.pt')"
      ],
      "id": "jkAmNGRCABYv",
      "execution_count": null,
      "outputs": [
        {
          "output_type": "display_data",
          "data": {
            "application/javascript": [
              "\n",
              "    async function download(id, filename, size) {\n",
              "      if (!google.colab.kernel.accessAllowed) {\n",
              "        return;\n",
              "      }\n",
              "      const div = document.createElement('div');\n",
              "      const label = document.createElement('label');\n",
              "      label.textContent = `Downloading \"${filename}\": `;\n",
              "      div.appendChild(label);\n",
              "      const progress = document.createElement('progress');\n",
              "      progress.max = size;\n",
              "      div.appendChild(progress);\n",
              "      document.body.appendChild(div);\n",
              "\n",
              "      const buffers = [];\n",
              "      let downloaded = 0;\n",
              "\n",
              "      const channel = await google.colab.kernel.comms.open(id);\n",
              "      // Send a message to notify the kernel that we're ready.\n",
              "      channel.send({})\n",
              "\n",
              "      for await (const message of channel.messages) {\n",
              "        // Send a message to notify the kernel that we're ready.\n",
              "        channel.send({})\n",
              "        if (message.buffers) {\n",
              "          for (const buffer of message.buffers) {\n",
              "            buffers.push(buffer);\n",
              "            downloaded += buffer.byteLength;\n",
              "            progress.value = downloaded;\n",
              "          }\n",
              "        }\n",
              "      }\n",
              "      const blob = new Blob(buffers, {type: 'application/binary'});\n",
              "      const a = document.createElement('a');\n",
              "      a.href = window.URL.createObjectURL(blob);\n",
              "      a.download = filename;\n",
              "      div.appendChild(a);\n",
              "      a.click();\n",
              "      div.remove();\n",
              "    }\n",
              "  "
            ],
            "text/plain": [
              "<IPython.core.display.Javascript object>"
            ]
          },
          "metadata": {
            "tags": []
          }
        },
        {
          "output_type": "display_data",
          "data": {
            "application/javascript": [
              "download(\"download_f0550fbf-5988-4a5f-af33-1037435b2730\", \"incepion_dense.csv\", 5132)"
            ],
            "text/plain": [
              "<IPython.core.display.Javascript object>"
            ]
          },
          "metadata": {
            "tags": []
          }
        },
        {
          "output_type": "display_data",
          "data": {
            "application/javascript": [
              "\n",
              "    async function download(id, filename, size) {\n",
              "      if (!google.colab.kernel.accessAllowed) {\n",
              "        return;\n",
              "      }\n",
              "      const div = document.createElement('div');\n",
              "      const label = document.createElement('label');\n",
              "      label.textContent = `Downloading \"${filename}\": `;\n",
              "      div.appendChild(label);\n",
              "      const progress = document.createElement('progress');\n",
              "      progress.max = size;\n",
              "      div.appendChild(progress);\n",
              "      document.body.appendChild(div);\n",
              "\n",
              "      const buffers = [];\n",
              "      let downloaded = 0;\n",
              "\n",
              "      const channel = await google.colab.kernel.comms.open(id);\n",
              "      // Send a message to notify the kernel that we're ready.\n",
              "      channel.send({})\n",
              "\n",
              "      for await (const message of channel.messages) {\n",
              "        // Send a message to notify the kernel that we're ready.\n",
              "        channel.send({})\n",
              "        if (message.buffers) {\n",
              "          for (const buffer of message.buffers) {\n",
              "            buffers.push(buffer);\n",
              "            downloaded += buffer.byteLength;\n",
              "            progress.value = downloaded;\n",
              "          }\n",
              "        }\n",
              "      }\n",
              "      const blob = new Blob(buffers, {type: 'application/binary'});\n",
              "      const a = document.createElement('a');\n",
              "      a.href = window.URL.createObjectURL(blob);\n",
              "      a.download = filename;\n",
              "      div.appendChild(a);\n",
              "      a.click();\n",
              "      div.remove();\n",
              "    }\n",
              "  "
            ],
            "text/plain": [
              "<IPython.core.display.Javascript object>"
            ]
          },
          "metadata": {
            "tags": []
          }
        },
        {
          "output_type": "display_data",
          "data": {
            "application/javascript": [
              "download(\"download_ed9a9603-fd52-46e0-8bd3-69b339697e1c\", \"Inception_dense.pt\", 2232833)"
            ],
            "text/plain": [
              "<IPython.core.display.Javascript object>"
            ]
          },
          "metadata": {
            "tags": []
          }
        }
      ]
    },
    {
      "cell_type": "code",
      "metadata": {
        "colab": {
          "base_uri": "https://localhost:8080/"
        },
        "id": "njjbsAoClQa7",
        "outputId": "5804d8ed-68c0-443e-973c-087088ab6ac2"
      },
      "source": [
        "plt.plot(train_acc,label='train acc')\n",
        "plt.plot(test_acc,label='test acc')\n",
        "plt.legend()\n",
        "plt.show()"
      ],
      "id": "njjbsAoClQa7",
      "execution_count": null,
      "outputs": [
        {
          "output_type": "display_data",
          "data": {
            "image/png": "[encoded data removed]",
            "text/plain": [
              "<Figure size 432x288 with 1 Axes>"
            ]
          },
          "metadata": {
            "tags": [],
            "needs_background": "light"
          }
        }
      ]
    },
    {
      "cell_type": "code",
      "metadata": {
        "colab": {
          "base_uri": "https://localhost:8080/",
          "height": 240,
          "referenced_widgets": [
            "9b8d6e1346d94c0c8f4f19807d7abc9c",
            "0574fa158af846fdad9cc58488484341",
            "53b92cf5b7194b81bf88473e69bd611e",
            "1f33ee57d674445a965dad1fd2569a5b",
            "de8dd48e8f934417b7534e19f69ec21e",
            "1c4cfc4b841f49d2b3e1fe4c02f1e2cc",
            "1390481b98454a77b81aa6443dd62fd0",
            "d89d9703ff414e45b91e6e7f01347c35"
          ]
        },
        "id": "LQqZBi-6sUH7",
        "outputId": "1d4c283e-ab27-4adf-b82e-2120ec320075"
      },
      "source": [
        "train_acc_res, test_acc_res, train_loss_res, test_loss_res = train(resnet, trainloader, sgd, loss_func, 10)"
      ],
      "id": "LQqZBi-6sUH7",
      "execution_count": null,
      "outputs": [
        {
          "output_type": "display_data",
          "data": {
            "application/vnd.jupyter.widget-view+json": {
              "model_id": "9b8d6e1346d94c0c8f4f19807d7abc9c",
              "version_minor": 0,
              "version_major": 2
            },
            "text/plain": [
              "HBox(children=(FloatProgress(value=0.0, max=10.0), HTML(value='')))"
            ]
          },
          "metadata": {
            "tags": []
          }
        },
        {
          "output_type": "stream",
          "text": [
            "Epoch 0: train loss: 596.9078, train acc: 0.872, test acc: 0.8084\n",
            "Epoch 1: train loss: 602.0539, train acc: 0.873, test acc: 0.8055\n",
            "Epoch 2: train loss: 593.2748, train acc: 0.871, test acc: 0.7979\n",
            "Epoch 3: train loss: 590.3426, train acc: 0.872, test acc: 0.7997\n",
            "Epoch 4: train loss: 580.9173, train acc: 0.874, test acc: 0.808\n",
            "Epoch 5: train loss: 591.7177, train acc: 0.873, test acc: 0.8088\n",
            "Epoch 6: train loss: 575.1690, train acc: 0.875, test acc: 0.803\n",
            "Epoch 7: train loss: 577.0605, train acc: 0.876, test acc: 0.8049\n",
            "Epoch 8: train loss: 576.3891, train acc: 0.876, test acc: 0.8078\n",
            "Epoch 9: train loss: 565.6397, train acc: 0.879, test acc: 0.8036\n",
            "\n"
          ],
          "name": "stdout"
        }
      ]
    },
    {
      "cell_type": "code",
      "metadata": {
        "colab": {
          "base_uri": "https://localhost:8080/",
          "height": 265
        },
        "id": "q8_djZiz2_7v",
        "outputId": "ba03e6fb-7df5-46ce-dbc4-7353d2f09280"
      },
      "source": [
        "plt.plot(train_acc_res,label='train acc')\n",
        "plt.plot(test_acc_res,label='test acc')\n",
        "plt.legend()\n",
        "plt.show()"
      ],
      "id": "q8_djZiz2_7v",
      "execution_count": null,
      "outputs": [
        {
          "output_type": "display_data",
          "data": {
            "image/png": "[encoded data removed]",
            "text/plain": [
              "<Figure size 432x288 with 1 Axes>"
            ]
          },
          "metadata": {
            "tags": [],
            "needs_background": "light"
          }
        }
      ]
    }
  ]
}