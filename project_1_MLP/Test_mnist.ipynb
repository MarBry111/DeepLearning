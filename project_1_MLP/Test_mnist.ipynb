{
 "cells": [
  {
   "cell_type": "code",
   "execution_count": null,
   "metadata": {
    "ExecuteTime": {
     "end_time": "2021-03-17T16:37:56.528978Z",
     "start_time": "2021-03-17T16:37:55.918882Z"
    },
    "scrolled": true
   },
   "outputs": [],
   "source": [
    "%load_ext autoreload\n",
    "%autoreload 2\n",
    "from mlp2 import *\n",
    "import numpy as np\n",
    "from os import listdir\n",
    "import plotly.express as px\n",
    "import plotly.graph_objects as go\n",
    "import matplotlib.pyplot as plt\n",
    "import pandas as pd\n",
    "import gzip\n"
   ]
  },
  {
   "cell_type": "code",
   "execution_count": null,
   "metadata": {
    "ExecuteTime": {
     "end_time": "2021-03-17T18:07:20.505297Z",
     "start_time": "2021-03-17T18:07:20.287086Z"
    }
   },
   "outputs": [],
   "source": [
    "def read_images(path, n):\n",
    "    f = gzip.open(path, 'r')\n",
    "    image_size = 28\n",
    "    num_images = n\n",
    "\n",
    "    f.read(16)\n",
    "    buf = f.read(image_size * image_size * num_images)\n",
    "    data = np.frombuffer(buf, dtype=np.uint8)\n",
    "    data = data.reshape(num_images, image_size * image_size)\n",
    "    return data\n",
    "\n",
    "def read_labels(path, n):\n",
    "    f = gzip.open(path, 'r')\n",
    "    num_images = n\n",
    "\n",
    "    f.read(8)\n",
    "    buf = f.read(num_images)\n",
    "    data = np.frombuffer(buf, dtype=np.uint8)\n",
    "    data = data.reshape(num_images)\n",
    "    return data\n",
    "\n",
    "X_train = read_images('MNIST/raw/train-images-idx3-ubyte.gz', n=60000) / 256\n",
    "T_tr = read_labels('MNIST/raw/train-labels-idx1-ubyte.gz', n=60000)\n",
    "\n",
    "X_test = read_images('MNIST/raw/t10k-images-idx3-ubyte.gz', n=10000) / 256\n",
    "T_tst = read_labels('MNIST/raw/t10k-labels-idx1-ubyte.gz', n=10000)"
   ]
  },
  {
   "cell_type": "code",
   "execution_count": null,
   "metadata": {
    "ExecuteTime": {
     "end_time": "2021-03-17T18:07:21.281814Z",
     "start_time": "2021-03-17T18:07:21.270817Z"
    }
   },
   "outputs": [],
   "source": [
    "X_train.shape, X_test.shape, T_tr.shape, T_tst.shape"
   ]
  },
  {
   "cell_type": "code",
   "execution_count": null,
   "metadata": {
    "ExecuteTime": {
     "end_time": "2021-03-17T18:07:21.776884Z",
     "start_time": "2021-03-17T18:07:21.763251Z"
    }
   },
   "outputs": [],
   "source": [
    "T_tr[59600]"
   ]
  },
  {
   "cell_type": "code",
   "execution_count": null,
   "metadata": {
    "ExecuteTime": {
     "end_time": "2021-03-17T18:07:22.137698Z",
     "start_time": "2021-03-17T18:07:22.082425Z"
    }
   },
   "outputs": [],
   "source": [
    "px.imshow(X_train[59600].reshape(28, 28))"
   ]
  },
  {
   "cell_type": "code",
   "execution_count": null,
   "metadata": {},
   "outputs": [],
   "source": []
  },
  {
   "cell_type": "code",
   "execution_count": null,
   "metadata": {},
   "outputs": [],
   "source": []
  },
  {
   "cell_type": "code",
   "execution_count": null,
   "metadata": {
    "ExecuteTime": {
     "end_time": "2021-03-17T18:07:29.192756Z",
     "start_time": "2021-03-17T18:07:29.182134Z"
    }
   },
   "outputs": [],
   "source": [
    "T_tr"
   ]
  },
  {
   "cell_type": "code",
   "execution_count": null,
   "metadata": {
    "ExecuteTime": {
     "end_time": "2021-03-17T18:07:29.412246Z",
     "start_time": "2021-03-17T18:07:29.391863Z"
    },
    "scrolled": true
   },
   "outputs": [],
   "source": [
    "T_train = np.zeros((T_tr.size, 10))\n",
    "T_train[np.arange(T_tr.size),T_tr] = 1"
   ]
  },
  {
   "cell_type": "code",
   "execution_count": null,
   "metadata": {
    "ExecuteTime": {
     "end_time": "2021-03-17T18:07:29.587700Z",
     "start_time": "2021-03-17T18:07:29.574252Z"
    },
    "scrolled": true
   },
   "outputs": [],
   "source": [
    "T_test = np.zeros((T_tst.size, 10))\n",
    "T_test[np.arange(T_tst.size),T_tst] = 1"
   ]
  },
  {
   "cell_type": "code",
   "execution_count": null,
   "metadata": {
    "ExecuteTime": {
     "end_time": "2021-03-17T18:07:29.761595Z",
     "start_time": "2021-03-17T18:07:29.750996Z"
    },
    "scrolled": true
   },
   "outputs": [],
   "source": [
    "X_train.shape[1]"
   ]
  },
  {
   "cell_type": "code",
   "execution_count": null,
   "metadata": {
    "ExecuteTime": {
     "end_time": "2021-03-17T18:07:30.250683Z",
     "start_time": "2021-03-17T18:07:30.232581Z"
    },
    "scrolled": true
   },
   "outputs": [],
   "source": [
    "T_test.shape[1]"
   ]
  },
  {
   "cell_type": "code",
   "execution_count": null,
   "metadata": {
    "ExecuteTime": {
     "end_time": "2021-03-17T18:08:53.634622Z",
     "start_time": "2021-03-17T18:08:53.619979Z"
    }
   },
   "outputs": [],
   "source": [
    "layers = [\n",
    "    LinearLayer(n_inputs=784, n_units=256, rng=rng, bias=True, name='Linear_1'),\n",
    "    ReLULayer(name='ReLU_1'),\n",
    "    LinearLayer(n_inputs=256, n_units=10, rng=rng, bias=True, name='Linear_OUT'),\n",
    "]"
   ]
  },
  {
   "cell_type": "code",
   "execution_count": null,
   "metadata": {
    "ExecuteTime": {
     "end_time": "2021-03-17T18:08:54.089181Z",
     "start_time": "2021-03-17T18:08:54.076066Z"
    },
    "scrolled": true
   },
   "outputs": [],
   "source": [
    "np.seterr(all='raise', under='warn', over='warn')\n",
    "rng = np.random.RandomState(1234)\n",
    "net = MLP(rng=rng,\n",
    "          n_inputs= X_train.shape[1],\n",
    "          layers=layers, \n",
    "          bias=True, \n",
    "          batch_size=32, \n",
    "          n_epochs=300, \n",
    "          eta=0.01, \n",
    "          momentum=0.9, \n",
    "          classification=True,\n",
    "         )"
   ]
  },
  {
   "cell_type": "code",
   "execution_count": null,
   "metadata": {
    "ExecuteTime": {
     "end_time": "2021-03-17T18:24:14.192288Z",
     "start_time": "2021-03-17T18:08:54.353085Z"
    },
    "scrolled": false
   },
   "outputs": [],
   "source": [
    "output =  net.train(X_train, \n",
    "          T_train, \n",
    "          X_test=X_test, \n",
    "          T_test=T_test, \n",
    "          verbose=False)"
   ]
  },
  {
   "cell_type": "code",
   "execution_count": null,
   "metadata": {
    "ExecuteTime": {
     "end_time": "2021-03-17T18:24:53.522668Z",
     "start_time": "2021-03-17T18:24:53.502074Z"
    },
    "scrolled": false
   },
   "outputs": [],
   "source": [
    "fig = go.Figure()\n",
    "for i in range(1,5):\n",
    "    fig.add_trace(\n",
    "        go.Scatter(y=output[f'Linear_{i}_mean_weight'], name=f'layer {i}')\n",
    "    )\n",
    "fig.update_layout(xaxis_title='Epoch', yaxis_title='mean weight / initial mean weight')\n",
    "fig"
   ]
  },
  {
   "cell_type": "code",
   "execution_count": null,
   "metadata": {
    "ExecuteTime": {
     "end_time": "2021-03-17T18:24:53.699556Z",
     "start_time": "2021-03-17T18:24:53.681544Z"
    },
    "scrolled": false
   },
   "outputs": [],
   "source": [
    "fig = go.Figure()\n",
    "for i in range(1,5):\n",
    "    fig.add_trace(\n",
    "        go.Scatter(y=output[f'Linear_{i}_mean_update'], name=f'layer {i}')\n",
    "    )\n",
    "fig.update_layout(xaxis_title='Epoch', yaxis_title='mean update')\n",
    "fig"
   ]
  },
  {
   "cell_type": "code",
   "execution_count": null,
   "metadata": {
    "ExecuteTime": {
     "end_time": "2021-03-17T18:24:53.884834Z",
     "start_time": "2021-03-17T18:24:53.865587Z"
    },
    "scrolled": false
   },
   "outputs": [],
   "source": [
    "go.Figure(\n",
    "    [\n",
    "        go.Scatter(y=output['acc_train'], name='train accuracy'),\n",
    "        go.Scatter(y=output['acc_test'], name='test accuracy'),\n",
    "    ]\n",
    ")"
   ]
  },
  {
   "cell_type": "code",
   "execution_count": null,
   "metadata": {},
   "outputs": [],
   "source": []
  },
  {
   "cell_type": "markdown",
   "metadata": {},
   "source": [
    "# Experiments"
   ]
  },
  {
   "cell_type": "markdown",
   "metadata": {},
   "source": [
    "## How does activation function affect the model's accuracy? \n",
    "Experiment with sigmoid and two other activation functions. The activation function in an output layer should be chosen accordingly to the problem"
   ]
  },
  {
   "cell_type": "code",
   "execution_count": null,
   "metadata": {
    "ExecuteTime": {
     "end_time": "2021-03-17T18:29:53.609090Z",
     "start_time": "2021-03-17T18:29:53.594270Z"
    }
   },
   "outputs": [],
   "source": [
    "rng = np.random.RandomState(1234)\n",
    "layers = [\n",
    "    LinearLayer(n_inputs=784, n_units=256, rng=rng, bias=True, name='Linear_1'),\n",
    "    ReLULayer(name='ReLU_1'),\n",
    "    LinearLayer(n_inputs=256, n_units=10, rng=rng, bias=True, name='Linear_OUT'),\n",
    "]\n",
    "\n",
    "rng = np.random.RandomState(1234)\n",
    "net = MLP(rng=rng,\n",
    "          n_inputs= X_train.shape[1],\n",
    "          layers=layers, \n",
    "          layers_default=None, \n",
    "          bias=True, \n",
    "          batch_size=32, \n",
    "          n_epochs=200, \n",
    "          eta=0.01, \n",
    "          momentum=0.9, \n",
    "          classification=True,\n",
    "         )"
   ]
  },
  {
   "cell_type": "code",
   "execution_count": null,
   "metadata": {
    "ExecuteTime": {
     "end_time": "2021-03-17T18:39:46.901478Z",
     "start_time": "2021-03-17T18:29:54.356636Z"
    },
    "scrolled": true
   },
   "outputs": [],
   "source": [
    "output_relu =  net.train(X_train, \n",
    "          T_train, \n",
    "          X_test=X_test, \n",
    "          T_test=T_test, \n",
    "          verbose=False)"
   ]
  },
  {
   "cell_type": "code",
   "execution_count": null,
   "metadata": {
    "ExecuteTime": {
     "end_time": "2021-03-17T18:39:46.926717Z",
     "start_time": "2021-03-17T18:39:46.902764Z"
    }
   },
   "outputs": [],
   "source": [
    "rng = np.random.RandomState(1234)\n",
    "layers = [\n",
    "    LinearLayer(n_inputs=784, n_units=256, rng=rng, bias=True, name='Linear_1'),\n",
    "    TanhLayer(name='Tanh_1'),\n",
    "    LinearLayer(n_inputs=256, n_units=10, rng=rng, bias=True, name='Linear_OUT'),\n",
    "]\n",
    "\n",
    "rng = np.random.RandomState(1234)\n",
    "net = MLP(rng=rng,\n",
    "          n_inputs= X_train.shape[1],\n",
    "          layers=layers, \n",
    "          layers_default=None, \n",
    "          bias=True, \n",
    "          batch_size=32, \n",
    "          n_epochs=200, \n",
    "          eta=0.01, \n",
    "          momentum=0.9, \n",
    "          classification=True,\n",
    "         )"
   ]
  },
  {
   "cell_type": "code",
   "execution_count": null,
   "metadata": {
    "ExecuteTime": {
     "end_time": "2021-03-17T18:49:36.740475Z",
     "start_time": "2021-03-17T18:39:46.928204Z"
    }
   },
   "outputs": [],
   "source": [
    "output_tanh = net.train(X_train, \n",
    "          T_train, \n",
    "          X_test=X_test, \n",
    "          T_test=T_test, \n",
    "          verbose=False)"
   ]
  },
  {
   "cell_type": "code",
   "execution_count": null,
   "metadata": {
    "ExecuteTime": {
     "end_time": "2021-03-17T18:49:36.762951Z",
     "start_time": "2021-03-17T18:49:36.741614Z"
    }
   },
   "outputs": [],
   "source": [
    "rng = np.random.RandomState(1234)\n",
    "rng = np.random.RandomState(1234)\n",
    "layers = [\n",
    "    LinearLayer(n_inputs=784, n_units=256, rng=rng, bias=True, name='Linear_1'),\n",
    "    SigmaLayer(name='Sigma_1'),\n",
    "    LinearLayer(n_inputs=256, n_units=10, rng=rng, bias=True, name='Linear_OUT'),\n",
    "]\n",
    "\n",
    "rng = np.random.RandomState(1234)\n",
    "net = MLP(rng=rng,\n",
    "          n_inputs= X_train.shape[1],\n",
    "          layers=layers, \n",
    "          layers_default=None, \n",
    "          bias=True, \n",
    "          batch_size=32, \n",
    "          n_epochs=200, \n",
    "          eta=0.01, \n",
    "          momentum=0.9, \n",
    "          classification=True,\n",
    "         )\n"
   ]
  },
  {
   "cell_type": "code",
   "execution_count": null,
   "metadata": {
    "ExecuteTime": {
     "end_time": "2021-03-17T18:59:32.110121Z",
     "start_time": "2021-03-17T18:49:36.764013Z"
    }
   },
   "outputs": [],
   "source": [
    "output_sigmoid =  net.train(X_train, \n",
    "          T_train, \n",
    "          X_test=X_test, \n",
    "          T_test=T_test, \n",
    "          verbose=False)"
   ]
  },
  {
   "cell_type": "code",
   "execution_count": null,
   "metadata": {},
   "outputs": [],
   "source": []
  },
  {
   "cell_type": "code",
   "execution_count": null,
   "metadata": {
    "ExecuteTime": {
     "end_time": "2021-03-17T19:10:54.265416Z",
     "start_time": "2021-03-17T19:10:54.227431Z"
    }
   },
   "outputs": [],
   "source": [
    "fig = go.Figure()\n",
    "for (act, output, color) in zip(['sigmoid', 'relu', 'tanh'], \n",
    "                              [output_sigmoid, output_relu, output_tanh],\n",
    "                              ['red', 'green', 'blue']\n",
    "                             ):\n",
    "    fig.add_trace(go.Scatter(\n",
    "        y=output['acc_train'], \n",
    "        mode='lines',\n",
    "        line=dict(color=color, dash='dash'), \n",
    "        opacity=0.5,\n",
    "        name=f'{act} train'\n",
    "    ))\n",
    "    fig.add_trace(go.Scatter(\n",
    "        y=output['acc_test'], \n",
    "        mode='lines',\n",
    "        line=dict(color=color), \n",
    "        opacity=0.5,\n",
    "        name=f'{act} test'\n",
    "    ))\n",
    "fig"
   ]
  },
  {
   "cell_type": "markdown",
   "metadata": {},
   "source": [
    "## How does the number of hidden layers and number of neurons in hidden layers impact the model's accuracy? "
   ]
  },
  {
   "cell_type": "code",
   "execution_count": null,
   "metadata": {
    "ExecuteTime": {
     "end_time": "2021-03-17T19:50:34.039646Z",
     "start_time": "2021-03-17T19:13:15.367279Z"
    }
   },
   "outputs": [],
   "source": [
    "rng = np.random.RandomState(1234)\n",
    "n_layers = np.array([2, 3, 5])\n",
    "n_units = np.array([20, 50, 100])\n",
    "results = np.zeros((3, 3))\n",
    "for i, n_layer in enumerate(n_layers):\n",
    "    for j, n_unit in enumerate(n_units):\n",
    "        net = MLP(\n",
    "            rng=rng,\n",
    "            n_inputs= X_train.shape[1],\n",
    "            layers=None, \n",
    "            layers_default=[n_layer, n_unit, 10, ReLULayer], \n",
    "            bias=True, \n",
    "            batch_size=32, \n",
    "            n_epochs=200, \n",
    "            eta=0.01, \n",
    "            momentum=0.9, \n",
    "            classification=True,\n",
    "        )\n",
    "        output_sigmoid = net.train(\n",
    "            X_train, \n",
    "            T_train, \n",
    "            X_test=X_test, \n",
    "            T_test=T_test, \n",
    "            verbose=False)\n",
    "        results[i, j] = max(output_sigmoid['acc_test'])"
   ]
  },
  {
   "cell_type": "code",
   "execution_count": null,
   "metadata": {
    "ExecuteTime": {
     "end_time": "2021-03-17T19:50:34.054169Z",
     "start_time": "2021-03-17T19:50:34.040809Z"
    }
   },
   "outputs": [],
   "source": [
    "results"
   ]
  },
  {
   "cell_type": "markdown",
   "metadata": {},
   "source": [
    "## How does the loss function affect the model's accuracy? \n",
    "Consider two different loss functions for both classification and regression."
   ]
  },
  {
   "cell_type": "code",
   "execution_count": null,
   "metadata": {
    "ExecuteTime": {
     "end_time": "2021-03-16T11:14:26.451611Z",
     "start_time": "2021-03-16T11:14:26.390582Z"
    }
   },
   "outputs": [],
   "source": [
    "# x = np.random.uniform(-3, 3, size=10000)\n",
    "# y = np.random.uniform(-3, 3, size=10000)\n",
    "x = np.random.randn(10000)\n",
    "y = np.random.randn(10000)\n",
    "X = np.vstack([x, y]).T\n",
    "# z = np.sin(x) * np.cos(y) + np.random.randn(10000) / 100\n",
    "z = np.cos(x) * np.sin(y) #+ np.random.randn(10000) / 100\n",
    "z = z.reshape([len(z), 1])\n",
    "X_train = X[:9000]\n",
    "T_train = z[:9000]\n",
    "X_test = X[9000:]\n",
    "T_test = z[9000:]"
   ]
  },
  {
   "cell_type": "code",
   "execution_count": null,
   "metadata": {
    "ExecuteTime": {
     "end_time": "2021-03-16T11:14:45.557405Z",
     "start_time": "2021-03-16T11:14:26.455105Z"
    },
    "scrolled": true
   },
   "outputs": [],
   "source": [
    "rng = np.random.RandomState(123)\n",
    "layers = [\n",
    "    LinearLayer(n_inputs=2, n_units=20, rng=rng, bias=True, name='Linear_1'),\n",
    "    ReLULayer(name='ReLU_1'),\n",
    "    LinearLayer(n_inputs=20, n_units=20, rng=rng, bias=True, name='Linear_2'),\n",
    "    ReLULayer(name='ReLU_2'),\n",
    "    LinearLayer(n_inputs=20, n_units=1, rng=rng, bias=True, name='Linear_OUT'),\n",
    "]\n",
    "\n",
    "net = MLP(rng=rng,\n",
    "          n_inputs= X_train.shape[1],\n",
    "          layers=layers, \n",
    "          layers_default=None, \n",
    "          bias=True, \n",
    "          batch_size=32, \n",
    "          n_epochs=200, \n",
    "          eta=0.01, \n",
    "          momentum=0, \n",
    "          classification=False,\n",
    "          loss=LossMeanAbsoluteError(name='MAE')\n",
    "         )\n",
    "\n",
    "output_MAE =  net.train(X_train, \n",
    "          y_train, \n",
    "          X_test=X_test, \n",
    "          T_test=y_test)"
   ]
  },
  {
   "cell_type": "code",
   "execution_count": null,
   "metadata": {
    "ExecuteTime": {
     "end_time": "2021-03-16T11:15:05.527104Z",
     "start_time": "2021-03-16T11:14:45.562283Z"
    }
   },
   "outputs": [],
   "source": [
    "rng = np.random.RandomState(123)\n",
    "layers = [\n",
    "    LinearLayer(n_inputs=2, n_units=20, rng=rng, bias=True, name='Linear_1'),\n",
    "    ReLULayer(name='ReLU_1'),\n",
    "    LinearLayer(n_inputs=20, n_units=20, rng=rng, bias=True, name='Linear_2'),\n",
    "    ReLULayer(name='ReLU_2'),\n",
    "    LinearLayer(n_inputs=20, n_units=1, rng=rng, bias=True, name='Linear_OUT'),\n",
    "]\n",
    "\n",
    "net = MLP(rng=rng,\n",
    "          n_inputs= X_train.shape[1],\n",
    "          layers=layers, \n",
    "          layers_default=None, \n",
    "          bias=True, \n",
    "          batch_size=32, \n",
    "          n_epochs=200, \n",
    "          eta=0.01, \n",
    "          momentum=0, \n",
    "          classification=False,\n",
    "          loss=LossMeanSquareError(name='MSE')\n",
    "         )\n",
    "\n",
    "output_MSE =  net.train(X_train, \n",
    "          y_train, \n",
    "          X_test=X_test, \n",
    "          T_test=y_test)"
   ]
  },
  {
   "cell_type": "code",
   "execution_count": null,
   "metadata": {
    "ExecuteTime": {
     "end_time": "2021-03-16T11:15:05.622264Z",
     "start_time": "2021-03-16T11:15:05.533319Z"
    }
   },
   "outputs": [],
   "source": [
    "fig = go.Figure()\n",
    "for (loss, output, color) in zip(['MSE', 'MAE'], \n",
    "                              [output_MAE, output_MSE],\n",
    "                              ['red', 'green']\n",
    "                             ):\n",
    "    fig.add_trace(go.Scatter(\n",
    "        y=output['loss_train'], \n",
    "        mode='lines',\n",
    "        line=dict(color=color, dash='dash'), \n",
    "        opacity=0.5,\n",
    "        name=f'{loss} train'\n",
    "    ))\n",
    "    fig.add_trace(go.Scatter(\n",
    "        y=output['loss_test'], \n",
    "        mode='lines',\n",
    "        line=dict(color=color), \n",
    "        opacity=0.5,\n",
    "        name=f'{loss} test'\n",
    "    ))\n",
    "fig"
   ]
  },
  {
   "cell_type": "code",
   "execution_count": null,
   "metadata": {},
   "outputs": [],
   "source": []
  },
  {
   "cell_type": "code",
   "execution_count": null,
   "metadata": {},
   "outputs": [],
   "source": []
  },
  {
   "cell_type": "code",
   "execution_count": null,
   "metadata": {},
   "outputs": [],
   "source": []
  },
  {
   "cell_type": "code",
   "execution_count": null,
   "metadata": {},
   "outputs": [],
   "source": []
  },
  {
   "cell_type": "code",
   "execution_count": null,
   "metadata": {},
   "outputs": [],
   "source": []
  },
  {
   "cell_type": "code",
   "execution_count": null,
   "metadata": {},
   "outputs": [],
   "source": []
  },
  {
   "cell_type": "code",
   "execution_count": null,
   "metadata": {},
   "outputs": [],
   "source": []
  },
  {
   "cell_type": "code",
   "execution_count": null,
   "metadata": {},
   "outputs": [],
   "source": []
  },
  {
   "cell_type": "code",
   "execution_count": null,
   "metadata": {},
   "outputs": [],
   "source": []
  }
 ],
 "metadata": {
  "kernelspec": {
   "display_name": "Python 3",
   "language": "python",
   "name": "python3"
  },
  "language_info": {
   "codemirror_mode": {
    "name": "ipython",
    "version": 3
   },
   "file_extension": ".py",
   "mimetype": "text/x-python",
   "name": "python",
   "nbconvert_exporter": "python",
   "pygments_lexer": "ipython3",
   "version": "3.8.5"
  },
  "toc": {
   "base_numbering": 1,
   "nav_menu": {},
   "number_sections": true,
   "sideBar": true,
   "skip_h1_title": false,
   "title_cell": "Table of Contents",
   "title_sidebar": "Contents",
   "toc_cell": false,
   "toc_position": {},
   "toc_section_display": true,
   "toc_window_display": true
  }
 },
 "nbformat": 4,
 "nbformat_minor": 4
}
