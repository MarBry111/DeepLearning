{
 "cells": [
  {
   "cell_type": "code",
   "execution_count": 8,
   "metadata": {
    "ExecuteTime": {
     "end_time": "2021-03-17T14:59:07.429550Z",
     "start_time": "2021-03-17T14:59:04.263820Z"
    },
    "scrolled": true
   },
   "outputs": [],
   "source": [
    "%load_ext autoreload\n",
    "%autoreload 2\n",
    "from mlp2 import *\n",
    "import numpy as np\n",
    "from os import listdir\n",
    "import plotly.express as px\n",
    "import plotly.graph_objects as go\n",
    "import matplotlib.pyplot as plt\n",
    "import pandas as pd\n",
    "import gzip\n"
   ]
  },
  {
   "cell_type": "code",
   "execution_count": 172,
   "metadata": {
    "ExecuteTime": {
     "end_time": "2021-03-17T16:09:07.457685Z",
     "start_time": "2021-03-17T16:09:07.000239Z"
    }
   },
   "outputs": [],
   "source": [
    "def read_images(path, n):\n",
    "    f = gzip.open(path, 'r')\n",
    "    image_size = 28\n",
    "    num_images = n\n",
    "\n",
    "    f.read(16)\n",
    "    buf = f.read(image_size * image_size * num_images)\n",
    "    data = np.frombuffer(buf, dtype=np.uint8)\n",
    "    data = data.reshape(num_images, image_size * image_size)\n",
    "    return data\n",
    "\n",
    "def read_labels(path, n):\n",
    "    f = gzip.open(path, 'r')\n",
    "    num_images = n\n",
    "\n",
    "    f.read(8)\n",
    "    buf = f.read(num_images)\n",
    "    data = np.frombuffer(buf, dtype=np.uint8)\n",
    "    data = data.reshape(num_images)\n",
    "    return data\n",
    "\n",
    "X_train = read_images('MNIST/raw/train-images-idx3-ubyte.gz', n=60000)\n",
    "T_tr = read_labels('MNIST/raw/train-labels-idx1-ubyte.gz', n=60000)\n",
    "\n",
    "X_test = read_images('MNIST/raw/t10k-images-idx3-ubyte.gz', n=10000)\n",
    "T_tst = read_labels('MNIST/raw/t10k-labels-idx1-ubyte.gz', n=10000)"
   ]
  },
  {
   "cell_type": "code",
   "execution_count": 173,
   "metadata": {
    "ExecuteTime": {
     "end_time": "2021-03-17T16:09:11.037024Z",
     "start_time": "2021-03-17T16:09:10.959348Z"
    }
   },
   "outputs": [
    {
     "data": {
      "text/plain": [
       "((60000, 784), (10000, 784), (60000,), (10000,))"
      ]
     },
     "execution_count": 173,
     "metadata": {},
     "output_type": "execute_result"
    }
   ],
   "source": [
    "X_train.shape, X_test.shape, T_tr.shape, T_tst.shape"
   ]
  },
  {
   "cell_type": "code",
   "execution_count": 174,
   "metadata": {
    "ExecuteTime": {
     "end_time": "2021-03-17T16:09:16.380828Z",
     "start_time": "2021-03-17T16:09:16.313436Z"
    }
   },
   "outputs": [
    {
     "data": {
      "text/plain": [
       "5"
      ]
     },
     "execution_count": 174,
     "metadata": {},
     "output_type": "execute_result"
    }
   ],
   "source": [
    "T_tr[59600]"
   ]
  },
  {
   "cell_type": "code",
   "execution_count": 175,
   "metadata": {
    "ExecuteTime": {
     "end_time": "2021-03-17T16:09:16.659380Z",
     "start_time": "2021-03-17T16:09:16.495349Z"
    }
   },
   "outputs": [
    {
     "data": {
      "application/vnd.plotly.v1+json": {
       "config": {
        "plotlyServerURL": "https://plot.ly"
       },
       "data": [
        {
         "coloraxis": "coloraxis",
         "hovertemplate": "x: %{x}<br>y: %{y}<br>color: %{z}<extra></extra>",
         "name": "0",
         "type": "heatmap",
         "xaxis": "x",
         "yaxis": "y",
         "z": [
          [
           0,
           0,
           0,
           0,
           0,
           0,
           0,
           0,
           0,
           0,
           0,
           0,
           0,
           0,
           0,
           0,
           0,
           0,
           0,
           0,
           0,
           0,
           0,
           0,
           0,
           0,
           0,
           0
          ],
          [
           0,
           0,
           0,
           0,
           0,
           0,
           0,
           0,
           0,
           0,
           0,
           0,
           0,
           0,
           0,
           0,
           0,
           0,
           0,
           0,
           0,
           0,
           0,
           0,
           0,
           0,
           0,
           0
          ],
          [
           0,
           0,
           0,
           0,
           0,
           0,
           0,
           0,
           0,
           0,
           0,
           0,
           0,
           0,
           0,
           0,
           0,
           0,
           0,
           0,
           0,
           0,
           0,
           0,
           0,
           0,
           0,
           0
          ],
          [
           0,
           0,
           0,
           0,
           0,
           0,
           0,
           0,
           0,
           0,
           0,
           0,
           0,
           0,
           0,
           0,
           0,
           0,
           0,
           0,
           0,
           0,
           0,
           0,
           0,
           0,
           0,
           0
          ],
          [
           0,
           0,
           0,
           0,
           0,
           0,
           0,
           0,
           0,
           0,
           0,
           0,
           0,
           0,
           0,
           0,
           0,
           0,
           0,
           0,
           0,
           0,
           0,
           0,
           0,
           0,
           0,
           0
          ],
          [
           0,
           0,
           0,
           0,
           0,
           0,
           0,
           0,
           0,
           0,
           0,
           0,
           0,
           0,
           21,
           72,
           152,
           173,
           253,
           254,
           253,
           214,
           213,
           0,
           0,
           0,
           0,
           0
          ],
          [
           0,
           0,
           0,
           0,
           0,
           0,
           0,
           0,
           0,
           0,
           0,
           0,
           0,
           123,
           223,
           253,
           252,
           253,
           252,
           253,
           252,
           213,
           252,
           0,
           0,
           0,
           0,
           0
          ],
          [
           0,
           0,
           0,
           0,
           0,
           0,
           0,
           0,
           0,
           0,
           0,
           0,
           203,
           254,
           253,
           254,
           253,
           234,
           213,
           224,
           122,
           0,
           0,
           0,
           0,
           0,
           0,
           0
          ],
          [
           0,
           0,
           0,
           0,
           0,
           0,
           0,
           0,
           0,
           0,
           0,
           62,
           223,
           253,
           212,
           131,
           50,
           30,
           10,
           20,
           0,
           0,
           0,
           0,
           0,
           0,
           0,
           0
          ],
          [
           0,
           0,
           0,
           0,
           0,
           0,
           0,
           0,
           0,
           11,
           92,
           254,
           253,
           234,
           30,
           0,
           0,
           0,
           0,
           0,
           0,
           0,
           0,
           0,
           0,
           0,
           0,
           0
          ],
          [
           0,
           0,
           0,
           0,
           0,
           0,
           0,
           0,
           0,
           92,
           252,
           253,
           252,
           253,
           131,
           0,
           0,
           0,
           0,
           0,
           0,
           0,
           0,
           0,
           0,
           0,
           0,
           0
          ],
          [
           0,
           0,
           0,
           0,
           0,
           0,
           0,
           0,
           62,
           254,
           253,
           142,
           20,
           163,
           122,
           0,
           0,
           0,
           0,
           0,
           0,
           0,
           0,
           0,
           0,
           0,
           0,
           0
          ],
          [
           0,
           0,
           0,
           0,
           0,
           0,
           0,
           0,
           102,
           253,
           252,
           0,
           0,
           0,
           0,
           0,
           0,
           0,
           0,
           0,
           0,
           0,
           0,
           0,
           0,
           0,
           0,
           0
          ],
          [
           0,
           0,
           0,
           0,
           0,
           0,
           0,
           0,
           41,
           193,
           253,
           0,
           0,
           0,
           0,
           0,
           0,
           0,
           0,
           0,
           0,
           0,
           0,
           0,
           0,
           0,
           0,
           0
          ],
          [
           0,
           0,
           0,
           0,
           0,
           0,
           0,
           0,
           0,
           71,
           252,
           123,
           0,
           0,
           0,
           0,
           0,
           0,
           0,
           0,
           0,
           0,
           0,
           0,
           0,
           0,
           0,
           0
          ],
          [
           0,
           0,
           0,
           0,
           0,
           0,
           0,
           0,
           0,
           41,
           223,
           254,
           131,
           21,
           0,
           0,
           0,
           0,
           0,
           0,
           0,
           0,
           0,
           0,
           0,
           0,
           0,
           0
          ],
          [
           0,
           0,
           0,
           0,
           0,
           0,
           0,
           0,
           0,
           0,
           20,
           213,
           252,
           162,
           20,
           0,
           0,
           0,
           0,
           0,
           0,
           0,
           0,
           0,
           0,
           0,
           0,
           0
          ],
          [
           0,
           0,
           0,
           0,
           0,
           0,
           0,
           0,
           0,
           0,
           0,
           0,
           203,
           254,
           213,
           21,
           0,
           0,
           0,
           0,
           0,
           0,
           0,
           0,
           0,
           0,
           0,
           0
          ],
          [
           0,
           0,
           0,
           0,
           0,
           0,
           0,
           0,
           0,
           0,
           0,
           0,
           81,
           213,
           252,
           183,
           0,
           0,
           0,
           0,
           0,
           0,
           0,
           0,
           0,
           0,
           0,
           0
          ],
          [
           0,
           0,
           0,
           0,
           0,
           0,
           0,
           0,
           0,
           0,
           0,
           0,
           0,
           0,
           163,
           254,
           71,
           0,
           0,
           0,
           0,
           0,
           0,
           0,
           0,
           0,
           0,
           0
          ],
          [
           0,
           0,
           0,
           0,
           0,
           0,
           0,
           0,
           0,
           0,
           0,
           0,
           0,
           0,
           162,
           253,
           232,
           0,
           0,
           0,
           0,
           0,
           0,
           0,
           0,
           0,
           0,
           0
          ],
          [
           0,
           0,
           0,
           0,
           0,
           0,
           0,
           52,
           51,
           0,
           0,
           0,
           0,
           0,
           103,
           255,
           253,
           0,
           0,
           0,
           0,
           0,
           0,
           0,
           0,
           0,
           0,
           0
          ],
          [
           0,
           0,
           0,
           0,
           0,
           0,
           0,
           213,
           252,
           203,
           203,
           123,
           203,
           163,
           223,
           253,
           252,
           0,
           0,
           0,
           0,
           0,
           0,
           0,
           0,
           0,
           0,
           0
          ],
          [
           0,
           0,
           0,
           0,
           0,
           0,
           0,
           21,
           142,
           234,
           253,
           255,
           253,
           255,
           253,
           255,
           253,
           41,
           0,
           0,
           0,
           0,
           0,
           0,
           0,
           0,
           0,
           0
          ],
          [
           0,
           0,
           0,
           0,
           0,
           0,
           0,
           0,
           0,
           51,
           192,
           151,
           70,
           172,
           252,
           151,
           70,
           0,
           0,
           0,
           0,
           0,
           0,
           0,
           0,
           0,
           0,
           0
          ],
          [
           0,
           0,
           0,
           0,
           0,
           0,
           0,
           0,
           0,
           0,
           0,
           0,
           0,
           0,
           0,
           0,
           0,
           0,
           0,
           0,
           0,
           0,
           0,
           0,
           0,
           0,
           0,
           0
          ],
          [
           0,
           0,
           0,
           0,
           0,
           0,
           0,
           0,
           0,
           0,
           0,
           0,
           0,
           0,
           0,
           0,
           0,
           0,
           0,
           0,
           0,
           0,
           0,
           0,
           0,
           0,
           0,
           0
          ],
          [
           0,
           0,
           0,
           0,
           0,
           0,
           0,
           0,
           0,
           0,
           0,
           0,
           0,
           0,
           0,
           0,
           0,
           0,
           0,
           0,
           0,
           0,
           0,
           0,
           0,
           0,
           0,
           0
          ]
         ]
        }
       ],
       "layout": {
        "coloraxis": {
         "colorscale": [
          [
           0,
           "#0d0887"
          ],
          [
           0.1111111111111111,
           "#46039f"
          ],
          [
           0.2222222222222222,
           "#7201a8"
          ],
          [
           0.3333333333333333,
           "#9c179e"
          ],
          [
           0.4444444444444444,
           "#bd3786"
          ],
          [
           0.5555555555555556,
           "#d8576b"
          ],
          [
           0.6666666666666666,
           "#ed7953"
          ],
          [
           0.7777777777777778,
           "#fb9f3a"
          ],
          [
           0.8888888888888888,
           "#fdca26"
          ],
          [
           1,
           "#f0f921"
          ]
         ]
        },
        "margin": {
         "t": 60
        },
        "template": {
         "data": {
          "bar": [
           {
            "error_x": {
             "color": "#2a3f5f"
            },
            "error_y": {
             "color": "#2a3f5f"
            },
            "marker": {
             "line": {
              "color": "#E5ECF6",
              "width": 0.5
             }
            },
            "type": "bar"
           }
          ],
          "barpolar": [
           {
            "marker": {
             "line": {
              "color": "#E5ECF6",
              "width": 0.5
             }
            },
            "type": "barpolar"
           }
          ],
          "carpet": [
           {
            "aaxis": {
             "endlinecolor": "#2a3f5f",
             "gridcolor": "white",
             "linecolor": "white",
             "minorgridcolor": "white",
             "startlinecolor": "#2a3f5f"
            },
            "baxis": {
             "endlinecolor": "#2a3f5f",
             "gridcolor": "white",
             "linecolor": "white",
             "minorgridcolor": "white",
             "startlinecolor": "#2a3f5f"
            },
            "type": "carpet"
           }
          ],
          "choropleth": [
           {
            "colorbar": {
             "outlinewidth": 0,
             "ticks": ""
            },
            "type": "choropleth"
           }
          ],
          "contour": [
           {
            "colorbar": {
             "outlinewidth": 0,
             "ticks": ""
            },
            "colorscale": [
             [
              0,
              "#0d0887"
             ],
             [
              0.1111111111111111,
              "#46039f"
             ],
             [
              0.2222222222222222,
              "#7201a8"
             ],
             [
              0.3333333333333333,
              "#9c179e"
             ],
             [
              0.4444444444444444,
              "#bd3786"
             ],
             [
              0.5555555555555556,
              "#d8576b"
             ],
             [
              0.6666666666666666,
              "#ed7953"
             ],
             [
              0.7777777777777778,
              "#fb9f3a"
             ],
             [
              0.8888888888888888,
              "#fdca26"
             ],
             [
              1,
              "#f0f921"
             ]
            ],
            "type": "contour"
           }
          ],
          "contourcarpet": [
           {
            "colorbar": {
             "outlinewidth": 0,
             "ticks": ""
            },
            "type": "contourcarpet"
           }
          ],
          "heatmap": [
           {
            "colorbar": {
             "outlinewidth": 0,
             "ticks": ""
            },
            "colorscale": [
             [
              0,
              "#0d0887"
             ],
             [
              0.1111111111111111,
              "#46039f"
             ],
             [
              0.2222222222222222,
              "#7201a8"
             ],
             [
              0.3333333333333333,
              "#9c179e"
             ],
             [
              0.4444444444444444,
              "#bd3786"
             ],
             [
              0.5555555555555556,
              "#d8576b"
             ],
             [
              0.6666666666666666,
              "#ed7953"
             ],
             [
              0.7777777777777778,
              "#fb9f3a"
             ],
             [
              0.8888888888888888,
              "#fdca26"
             ],
             [
              1,
              "#f0f921"
             ]
            ],
            "type": "heatmap"
           }
          ],
          "heatmapgl": [
           {
            "colorbar": {
             "outlinewidth": 0,
             "ticks": ""
            },
            "colorscale": [
             [
              0,
              "#0d0887"
             ],
             [
              0.1111111111111111,
              "#46039f"
             ],
             [
              0.2222222222222222,
              "#7201a8"
             ],
             [
              0.3333333333333333,
              "#9c179e"
             ],
             [
              0.4444444444444444,
              "#bd3786"
             ],
             [
              0.5555555555555556,
              "#d8576b"
             ],
             [
              0.6666666666666666,
              "#ed7953"
             ],
             [
              0.7777777777777778,
              "#fb9f3a"
             ],
             [
              0.8888888888888888,
              "#fdca26"
             ],
             [
              1,
              "#f0f921"
             ]
            ],
            "type": "heatmapgl"
           }
          ],
          "histogram": [
           {
            "marker": {
             "colorbar": {
              "outlinewidth": 0,
              "ticks": ""
             }
            },
            "type": "histogram"
           }
          ],
          "histogram2d": [
           {
            "colorbar": {
             "outlinewidth": 0,
             "ticks": ""
            },
            "colorscale": [
             [
              0,
              "#0d0887"
             ],
             [
              0.1111111111111111,
              "#46039f"
             ],
             [
              0.2222222222222222,
              "#7201a8"
             ],
             [
              0.3333333333333333,
              "#9c179e"
             ],
             [
              0.4444444444444444,
              "#bd3786"
             ],
             [
              0.5555555555555556,
              "#d8576b"
             ],
             [
              0.6666666666666666,
              "#ed7953"
             ],
             [
              0.7777777777777778,
              "#fb9f3a"
             ],
             [
              0.8888888888888888,
              "#fdca26"
             ],
             [
              1,
              "#f0f921"
             ]
            ],
            "type": "histogram2d"
           }
          ],
          "histogram2dcontour": [
           {
            "colorbar": {
             "outlinewidth": 0,
             "ticks": ""
            },
            "colorscale": [
             [
              0,
              "#0d0887"
             ],
             [
              0.1111111111111111,
              "#46039f"
             ],
             [
              0.2222222222222222,
              "#7201a8"
             ],
             [
              0.3333333333333333,
              "#9c179e"
             ],
             [
              0.4444444444444444,
              "#bd3786"
             ],
             [
              0.5555555555555556,
              "#d8576b"
             ],
             [
              0.6666666666666666,
              "#ed7953"
             ],
             [
              0.7777777777777778,
              "#fb9f3a"
             ],
             [
              0.8888888888888888,
              "#fdca26"
             ],
             [
              1,
              "#f0f921"
             ]
            ],
            "type": "histogram2dcontour"
           }
          ],
          "mesh3d": [
           {
            "colorbar": {
             "outlinewidth": 0,
             "ticks": ""
            },
            "type": "mesh3d"
           }
          ],
          "parcoords": [
           {
            "line": {
             "colorbar": {
              "outlinewidth": 0,
              "ticks": ""
             }
            },
            "type": "parcoords"
           }
          ],
          "pie": [
           {
            "automargin": true,
            "type": "pie"
           }
          ],
          "scatter": [
           {
            "marker": {
             "colorbar": {
              "outlinewidth": 0,
              "ticks": ""
             }
            },
            "type": "scatter"
           }
          ],
          "scatter3d": [
           {
            "line": {
             "colorbar": {
              "outlinewidth": 0,
              "ticks": ""
             }
            },
            "marker": {
             "colorbar": {
              "outlinewidth": 0,
              "ticks": ""
             }
            },
            "type": "scatter3d"
           }
          ],
          "scattercarpet": [
           {
            "marker": {
             "colorbar": {
              "outlinewidth": 0,
              "ticks": ""
             }
            },
            "type": "scattercarpet"
           }
          ],
          "scattergeo": [
           {
            "marker": {
             "colorbar": {
              "outlinewidth": 0,
              "ticks": ""
             }
            },
            "type": "scattergeo"
           }
          ],
          "scattergl": [
           {
            "marker": {
             "colorbar": {
              "outlinewidth": 0,
              "ticks": ""
             }
            },
            "type": "scattergl"
           }
          ],
          "scattermapbox": [
           {
            "marker": {
             "colorbar": {
              "outlinewidth": 0,
              "ticks": ""
             }
            },
            "type": "scattermapbox"
           }
          ],
          "scatterpolar": [
           {
            "marker": {
             "colorbar": {
              "outlinewidth": 0,
              "ticks": ""
             }
            },
            "type": "scatterpolar"
           }
          ],
          "scatterpolargl": [
           {
            "marker": {
             "colorbar": {
              "outlinewidth": 0,
              "ticks": ""
             }
            },
            "type": "scatterpolargl"
           }
          ],
          "scatterternary": [
           {
            "marker": {
             "colorbar": {
              "outlinewidth": 0,
              "ticks": ""
             }
            },
            "type": "scatterternary"
           }
          ],
          "surface": [
           {
            "colorbar": {
             "outlinewidth": 0,
             "ticks": ""
            },
            "colorscale": [
             [
              0,
              "#0d0887"
             ],
             [
              0.1111111111111111,
              "#46039f"
             ],
             [
              0.2222222222222222,
              "#7201a8"
             ],
             [
              0.3333333333333333,
              "#9c179e"
             ],
             [
              0.4444444444444444,
              "#bd3786"
             ],
             [
              0.5555555555555556,
              "#d8576b"
             ],
             [
              0.6666666666666666,
              "#ed7953"
             ],
             [
              0.7777777777777778,
              "#fb9f3a"
             ],
             [
              0.8888888888888888,
              "#fdca26"
             ],
             [
              1,
              "#f0f921"
             ]
            ],
            "type": "surface"
           }
          ],
          "table": [
           {
            "cells": {
             "fill": {
              "color": "#EBF0F8"
             },
             "line": {
              "color": "white"
             }
            },
            "header": {
             "fill": {
              "color": "#C8D4E3"
             },
             "line": {
              "color": "white"
             }
            },
            "type": "table"
           }
          ]
         },
         "layout": {
          "annotationdefaults": {
           "arrowcolor": "#2a3f5f",
           "arrowhead": 0,
           "arrowwidth": 1
          },
          "autotypenumbers": "strict",
          "coloraxis": {
           "colorbar": {
            "outlinewidth": 0,
            "ticks": ""
           }
          },
          "colorscale": {
           "diverging": [
            [
             0,
             "#8e0152"
            ],
            [
             0.1,
             "#c51b7d"
            ],
            [
             0.2,
             "#de77ae"
            ],
            [
             0.3,
             "#f1b6da"
            ],
            [
             0.4,
             "#fde0ef"
            ],
            [
             0.5,
             "#f7f7f7"
            ],
            [
             0.6,
             "#e6f5d0"
            ],
            [
             0.7,
             "#b8e186"
            ],
            [
             0.8,
             "#7fbc41"
            ],
            [
             0.9,
             "#4d9221"
            ],
            [
             1,
             "#276419"
            ]
           ],
           "sequential": [
            [
             0,
             "#0d0887"
            ],
            [
             0.1111111111111111,
             "#46039f"
            ],
            [
             0.2222222222222222,
             "#7201a8"
            ],
            [
             0.3333333333333333,
             "#9c179e"
            ],
            [
             0.4444444444444444,
             "#bd3786"
            ],
            [
             0.5555555555555556,
             "#d8576b"
            ],
            [
             0.6666666666666666,
             "#ed7953"
            ],
            [
             0.7777777777777778,
             "#fb9f3a"
            ],
            [
             0.8888888888888888,
             "#fdca26"
            ],
            [
             1,
             "#f0f921"
            ]
           ],
           "sequentialminus": [
            [
             0,
             "#0d0887"
            ],
            [
             0.1111111111111111,
             "#46039f"
            ],
            [
             0.2222222222222222,
             "#7201a8"
            ],
            [
             0.3333333333333333,
             "#9c179e"
            ],
            [
             0.4444444444444444,
             "#bd3786"
            ],
            [
             0.5555555555555556,
             "#d8576b"
            ],
            [
             0.6666666666666666,
             "#ed7953"
            ],
            [
             0.7777777777777778,
             "#fb9f3a"
            ],
            [
             0.8888888888888888,
             "#fdca26"
            ],
            [
             1,
             "#f0f921"
            ]
           ]
          },
          "colorway": [
           "#636efa",
           "#EF553B",
           "#00cc96",
           "#ab63fa",
           "#FFA15A",
           "#19d3f3",
           "#FF6692",
           "#B6E880",
           "#FF97FF",
           "#FECB52"
          ],
          "font": {
           "color": "#2a3f5f"
          },
          "geo": {
           "bgcolor": "white",
           "lakecolor": "white",
           "landcolor": "#E5ECF6",
           "showlakes": true,
           "showland": true,
           "subunitcolor": "white"
          },
          "hoverlabel": {
           "align": "left"
          },
          "hovermode": "closest",
          "mapbox": {
           "style": "light"
          },
          "paper_bgcolor": "white",
          "plot_bgcolor": "#E5ECF6",
          "polar": {
           "angularaxis": {
            "gridcolor": "white",
            "linecolor": "white",
            "ticks": ""
           },
           "bgcolor": "#E5ECF6",
           "radialaxis": {
            "gridcolor": "white",
            "linecolor": "white",
            "ticks": ""
           }
          },
          "scene": {
           "xaxis": {
            "backgroundcolor": "#E5ECF6",
            "gridcolor": "white",
            "gridwidth": 2,
            "linecolor": "white",
            "showbackground": true,
            "ticks": "",
            "zerolinecolor": "white"
           },
           "yaxis": {
            "backgroundcolor": "#E5ECF6",
            "gridcolor": "white",
            "gridwidth": 2,
            "linecolor": "white",
            "showbackground": true,
            "ticks": "",
            "zerolinecolor": "white"
           },
           "zaxis": {
            "backgroundcolor": "#E5ECF6",
            "gridcolor": "white",
            "gridwidth": 2,
            "linecolor": "white",
            "showbackground": true,
            "ticks": "",
            "zerolinecolor": "white"
           }
          },
          "shapedefaults": {
           "line": {
            "color": "#2a3f5f"
           }
          },
          "ternary": {
           "aaxis": {
            "gridcolor": "white",
            "linecolor": "white",
            "ticks": ""
           },
           "baxis": {
            "gridcolor": "white",
            "linecolor": "white",
            "ticks": ""
           },
           "bgcolor": "#E5ECF6",
           "caxis": {
            "gridcolor": "white",
            "linecolor": "white",
            "ticks": ""
           }
          },
          "title": {
           "x": 0.05
          },
          "xaxis": {
           "automargin": true,
           "gridcolor": "white",
           "linecolor": "white",
           "ticks": "",
           "title": {
            "standoff": 15
           },
           "zerolinecolor": "white",
           "zerolinewidth": 2
          },
          "yaxis": {
           "automargin": true,
           "gridcolor": "white",
           "linecolor": "white",
           "ticks": "",
           "title": {
            "standoff": 15
           },
           "zerolinecolor": "white",
           "zerolinewidth": 2
          }
         }
        },
        "xaxis": {
         "anchor": "y",
         "constrain": "domain",
         "domain": [
          0,
          1
         ],
         "scaleanchor": "y"
        },
        "yaxis": {
         "anchor": "x",
         "autorange": "reversed",
         "constrain": "domain",
         "domain": [
          0,
          1
         ]
        }
       }
      },
      "text/html": [
       "<div>                            <div id=\"86f7e901-f51e-4e4f-a740-c0a2415748e1\" class=\"plotly-graph-div\" style=\"height:525px; width:100%;\"></div>            <script type=\"text/javascript\">                require([\"plotly\"], function(Plotly) {                    window.PLOTLYENV=window.PLOTLYENV || {};                                    if (document.getElementById(\"86f7e901-f51e-4e4f-a740-c0a2415748e1\")) {                    Plotly.newPlot(                        \"86f7e901-f51e-4e4f-a740-c0a2415748e1\",                        [{\"coloraxis\": \"coloraxis\", \"hovertemplate\": \"x: %{x}<br>y: %{y}<br>color: %{z}<extra></extra>\", \"name\": \"0\", \"type\": \"heatmap\", \"xaxis\": \"x\", \"yaxis\": \"y\", \"z\": [[0, 0, 0, 0, 0, 0, 0, 0, 0, 0, 0, 0, 0, 0, 0, 0, 0, 0, 0, 0, 0, 0, 0, 0, 0, 0, 0, 0], [0, 0, 0, 0, 0, 0, 0, 0, 0, 0, 0, 0, 0, 0, 0, 0, 0, 0, 0, 0, 0, 0, 0, 0, 0, 0, 0, 0], [0, 0, 0, 0, 0, 0, 0, 0, 0, 0, 0, 0, 0, 0, 0, 0, 0, 0, 0, 0, 0, 0, 0, 0, 0, 0, 0, 0], [0, 0, 0, 0, 0, 0, 0, 0, 0, 0, 0, 0, 0, 0, 0, 0, 0, 0, 0, 0, 0, 0, 0, 0, 0, 0, 0, 0], [0, 0, 0, 0, 0, 0, 0, 0, 0, 0, 0, 0, 0, 0, 0, 0, 0, 0, 0, 0, 0, 0, 0, 0, 0, 0, 0, 0], [0, 0, 0, 0, 0, 0, 0, 0, 0, 0, 0, 0, 0, 0, 21, 72, 152, 173, 253, 254, 253, 214, 213, 0, 0, 0, 0, 0], [0, 0, 0, 0, 0, 0, 0, 0, 0, 0, 0, 0, 0, 123, 223, 253, 252, 253, 252, 253, 252, 213, 252, 0, 0, 0, 0, 0], [0, 0, 0, 0, 0, 0, 0, 0, 0, 0, 0, 0, 203, 254, 253, 254, 253, 234, 213, 224, 122, 0, 0, 0, 0, 0, 0, 0], [0, 0, 0, 0, 0, 0, 0, 0, 0, 0, 0, 62, 223, 253, 212, 131, 50, 30, 10, 20, 0, 0, 0, 0, 0, 0, 0, 0], [0, 0, 0, 0, 0, 0, 0, 0, 0, 11, 92, 254, 253, 234, 30, 0, 0, 0, 0, 0, 0, 0, 0, 0, 0, 0, 0, 0], [0, 0, 0, 0, 0, 0, 0, 0, 0, 92, 252, 253, 252, 253, 131, 0, 0, 0, 0, 0, 0, 0, 0, 0, 0, 0, 0, 0], [0, 0, 0, 0, 0, 0, 0, 0, 62, 254, 253, 142, 20, 163, 122, 0, 0, 0, 0, 0, 0, 0, 0, 0, 0, 0, 0, 0], [0, 0, 0, 0, 0, 0, 0, 0, 102, 253, 252, 0, 0, 0, 0, 0, 0, 0, 0, 0, 0, 0, 0, 0, 0, 0, 0, 0], [0, 0, 0, 0, 0, 0, 0, 0, 41, 193, 253, 0, 0, 0, 0, 0, 0, 0, 0, 0, 0, 0, 0, 0, 0, 0, 0, 0], [0, 0, 0, 0, 0, 0, 0, 0, 0, 71, 252, 123, 0, 0, 0, 0, 0, 0, 0, 0, 0, 0, 0, 0, 0, 0, 0, 0], [0, 0, 0, 0, 0, 0, 0, 0, 0, 41, 223, 254, 131, 21, 0, 0, 0, 0, 0, 0, 0, 0, 0, 0, 0, 0, 0, 0], [0, 0, 0, 0, 0, 0, 0, 0, 0, 0, 20, 213, 252, 162, 20, 0, 0, 0, 0, 0, 0, 0, 0, 0, 0, 0, 0, 0], [0, 0, 0, 0, 0, 0, 0, 0, 0, 0, 0, 0, 203, 254, 213, 21, 0, 0, 0, 0, 0, 0, 0, 0, 0, 0, 0, 0], [0, 0, 0, 0, 0, 0, 0, 0, 0, 0, 0, 0, 81, 213, 252, 183, 0, 0, 0, 0, 0, 0, 0, 0, 0, 0, 0, 0], [0, 0, 0, 0, 0, 0, 0, 0, 0, 0, 0, 0, 0, 0, 163, 254, 71, 0, 0, 0, 0, 0, 0, 0, 0, 0, 0, 0], [0, 0, 0, 0, 0, 0, 0, 0, 0, 0, 0, 0, 0, 0, 162, 253, 232, 0, 0, 0, 0, 0, 0, 0, 0, 0, 0, 0], [0, 0, 0, 0, 0, 0, 0, 52, 51, 0, 0, 0, 0, 0, 103, 255, 253, 0, 0, 0, 0, 0, 0, 0, 0, 0, 0, 0], [0, 0, 0, 0, 0, 0, 0, 213, 252, 203, 203, 123, 203, 163, 223, 253, 252, 0, 0, 0, 0, 0, 0, 0, 0, 0, 0, 0], [0, 0, 0, 0, 0, 0, 0, 21, 142, 234, 253, 255, 253, 255, 253, 255, 253, 41, 0, 0, 0, 0, 0, 0, 0, 0, 0, 0], [0, 0, 0, 0, 0, 0, 0, 0, 0, 51, 192, 151, 70, 172, 252, 151, 70, 0, 0, 0, 0, 0, 0, 0, 0, 0, 0, 0], [0, 0, 0, 0, 0, 0, 0, 0, 0, 0, 0, 0, 0, 0, 0, 0, 0, 0, 0, 0, 0, 0, 0, 0, 0, 0, 0, 0], [0, 0, 0, 0, 0, 0, 0, 0, 0, 0, 0, 0, 0, 0, 0, 0, 0, 0, 0, 0, 0, 0, 0, 0, 0, 0, 0, 0], [0, 0, 0, 0, 0, 0, 0, 0, 0, 0, 0, 0, 0, 0, 0, 0, 0, 0, 0, 0, 0, 0, 0, 0, 0, 0, 0, 0]]}],                        {\"coloraxis\": {\"colorscale\": [[0.0, \"#0d0887\"], [0.1111111111111111, \"#46039f\"], [0.2222222222222222, \"#7201a8\"], [0.3333333333333333, \"#9c179e\"], [0.4444444444444444, \"#bd3786\"], [0.5555555555555556, \"#d8576b\"], [0.6666666666666666, \"#ed7953\"], [0.7777777777777778, \"#fb9f3a\"], [0.8888888888888888, \"#fdca26\"], [1.0, \"#f0f921\"]]}, \"margin\": {\"t\": 60}, \"template\": {\"data\": {\"bar\": [{\"error_x\": {\"color\": \"#2a3f5f\"}, \"error_y\": {\"color\": \"#2a3f5f\"}, \"marker\": {\"line\": {\"color\": \"#E5ECF6\", \"width\": 0.5}}, \"type\": \"bar\"}], \"barpolar\": [{\"marker\": {\"line\": {\"color\": \"#E5ECF6\", \"width\": 0.5}}, \"type\": \"barpolar\"}], \"carpet\": [{\"aaxis\": {\"endlinecolor\": \"#2a3f5f\", \"gridcolor\": \"white\", \"linecolor\": \"white\", \"minorgridcolor\": \"white\", \"startlinecolor\": \"#2a3f5f\"}, \"baxis\": {\"endlinecolor\": \"#2a3f5f\", \"gridcolor\": \"white\", \"linecolor\": \"white\", \"minorgridcolor\": \"white\", \"startlinecolor\": \"#2a3f5f\"}, \"type\": \"carpet\"}], \"choropleth\": [{\"colorbar\": {\"outlinewidth\": 0, \"ticks\": \"\"}, \"type\": \"choropleth\"}], \"contour\": [{\"colorbar\": {\"outlinewidth\": 0, \"ticks\": \"\"}, \"colorscale\": [[0.0, \"#0d0887\"], [0.1111111111111111, \"#46039f\"], [0.2222222222222222, \"#7201a8\"], [0.3333333333333333, \"#9c179e\"], [0.4444444444444444, \"#bd3786\"], [0.5555555555555556, \"#d8576b\"], [0.6666666666666666, \"#ed7953\"], [0.7777777777777778, \"#fb9f3a\"], [0.8888888888888888, \"#fdca26\"], [1.0, \"#f0f921\"]], \"type\": \"contour\"}], \"contourcarpet\": [{\"colorbar\": {\"outlinewidth\": 0, \"ticks\": \"\"}, \"type\": \"contourcarpet\"}], \"heatmap\": [{\"colorbar\": {\"outlinewidth\": 0, \"ticks\": \"\"}, \"colorscale\": [[0.0, \"#0d0887\"], [0.1111111111111111, \"#46039f\"], [0.2222222222222222, \"#7201a8\"], [0.3333333333333333, \"#9c179e\"], [0.4444444444444444, \"#bd3786\"], [0.5555555555555556, \"#d8576b\"], [0.6666666666666666, \"#ed7953\"], [0.7777777777777778, \"#fb9f3a\"], [0.8888888888888888, \"#fdca26\"], [1.0, \"#f0f921\"]], \"type\": \"heatmap\"}], \"heatmapgl\": [{\"colorbar\": {\"outlinewidth\": 0, \"ticks\": \"\"}, \"colorscale\": [[0.0, \"#0d0887\"], [0.1111111111111111, \"#46039f\"], [0.2222222222222222, \"#7201a8\"], [0.3333333333333333, \"#9c179e\"], [0.4444444444444444, \"#bd3786\"], [0.5555555555555556, \"#d8576b\"], [0.6666666666666666, \"#ed7953\"], [0.7777777777777778, \"#fb9f3a\"], [0.8888888888888888, \"#fdca26\"], [1.0, \"#f0f921\"]], \"type\": \"heatmapgl\"}], \"histogram\": [{\"marker\": {\"colorbar\": {\"outlinewidth\": 0, \"ticks\": \"\"}}, \"type\": \"histogram\"}], \"histogram2d\": [{\"colorbar\": {\"outlinewidth\": 0, \"ticks\": \"\"}, \"colorscale\": [[0.0, \"#0d0887\"], [0.1111111111111111, \"#46039f\"], [0.2222222222222222, \"#7201a8\"], [0.3333333333333333, \"#9c179e\"], [0.4444444444444444, \"#bd3786\"], [0.5555555555555556, \"#d8576b\"], [0.6666666666666666, \"#ed7953\"], [0.7777777777777778, \"#fb9f3a\"], [0.8888888888888888, \"#fdca26\"], [1.0, \"#f0f921\"]], \"type\": \"histogram2d\"}], \"histogram2dcontour\": [{\"colorbar\": {\"outlinewidth\": 0, \"ticks\": \"\"}, \"colorscale\": [[0.0, \"#0d0887\"], [0.1111111111111111, \"#46039f\"], [0.2222222222222222, \"#7201a8\"], [0.3333333333333333, \"#9c179e\"], [0.4444444444444444, \"#bd3786\"], [0.5555555555555556, \"#d8576b\"], [0.6666666666666666, \"#ed7953\"], [0.7777777777777778, \"#fb9f3a\"], [0.8888888888888888, \"#fdca26\"], [1.0, \"#f0f921\"]], \"type\": \"histogram2dcontour\"}], \"mesh3d\": [{\"colorbar\": {\"outlinewidth\": 0, \"ticks\": \"\"}, \"type\": \"mesh3d\"}], \"parcoords\": [{\"line\": {\"colorbar\": {\"outlinewidth\": 0, \"ticks\": \"\"}}, \"type\": \"parcoords\"}], \"pie\": [{\"automargin\": true, \"type\": \"pie\"}], \"scatter\": [{\"marker\": {\"colorbar\": {\"outlinewidth\": 0, \"ticks\": \"\"}}, \"type\": \"scatter\"}], \"scatter3d\": [{\"line\": {\"colorbar\": {\"outlinewidth\": 0, \"ticks\": \"\"}}, \"marker\": {\"colorbar\": {\"outlinewidth\": 0, \"ticks\": \"\"}}, \"type\": \"scatter3d\"}], \"scattercarpet\": [{\"marker\": {\"colorbar\": {\"outlinewidth\": 0, \"ticks\": \"\"}}, \"type\": \"scattercarpet\"}], \"scattergeo\": [{\"marker\": {\"colorbar\": {\"outlinewidth\": 0, \"ticks\": \"\"}}, \"type\": \"scattergeo\"}], \"scattergl\": [{\"marker\": {\"colorbar\": {\"outlinewidth\": 0, \"ticks\": \"\"}}, \"type\": \"scattergl\"}], \"scattermapbox\": [{\"marker\": {\"colorbar\": {\"outlinewidth\": 0, \"ticks\": \"\"}}, \"type\": \"scattermapbox\"}], \"scatterpolar\": [{\"marker\": {\"colorbar\": {\"outlinewidth\": 0, \"ticks\": \"\"}}, \"type\": \"scatterpolar\"}], \"scatterpolargl\": [{\"marker\": {\"colorbar\": {\"outlinewidth\": 0, \"ticks\": \"\"}}, \"type\": \"scatterpolargl\"}], \"scatterternary\": [{\"marker\": {\"colorbar\": {\"outlinewidth\": 0, \"ticks\": \"\"}}, \"type\": \"scatterternary\"}], \"surface\": [{\"colorbar\": {\"outlinewidth\": 0, \"ticks\": \"\"}, \"colorscale\": [[0.0, \"#0d0887\"], [0.1111111111111111, \"#46039f\"], [0.2222222222222222, \"#7201a8\"], [0.3333333333333333, \"#9c179e\"], [0.4444444444444444, \"#bd3786\"], [0.5555555555555556, \"#d8576b\"], [0.6666666666666666, \"#ed7953\"], [0.7777777777777778, \"#fb9f3a\"], [0.8888888888888888, \"#fdca26\"], [1.0, \"#f0f921\"]], \"type\": \"surface\"}], \"table\": [{\"cells\": {\"fill\": {\"color\": \"#EBF0F8\"}, \"line\": {\"color\": \"white\"}}, \"header\": {\"fill\": {\"color\": \"#C8D4E3\"}, \"line\": {\"color\": \"white\"}}, \"type\": \"table\"}]}, \"layout\": {\"annotationdefaults\": {\"arrowcolor\": \"#2a3f5f\", \"arrowhead\": 0, \"arrowwidth\": 1}, \"autotypenumbers\": \"strict\", \"coloraxis\": {\"colorbar\": {\"outlinewidth\": 0, \"ticks\": \"\"}}, \"colorscale\": {\"diverging\": [[0, \"#8e0152\"], [0.1, \"#c51b7d\"], [0.2, \"#de77ae\"], [0.3, \"#f1b6da\"], [0.4, \"#fde0ef\"], [0.5, \"#f7f7f7\"], [0.6, \"#e6f5d0\"], [0.7, \"#b8e186\"], [0.8, \"#7fbc41\"], [0.9, \"#4d9221\"], [1, \"#276419\"]], \"sequential\": [[0.0, \"#0d0887\"], [0.1111111111111111, \"#46039f\"], [0.2222222222222222, \"#7201a8\"], [0.3333333333333333, \"#9c179e\"], [0.4444444444444444, \"#bd3786\"], [0.5555555555555556, \"#d8576b\"], [0.6666666666666666, \"#ed7953\"], [0.7777777777777778, \"#fb9f3a\"], [0.8888888888888888, \"#fdca26\"], [1.0, \"#f0f921\"]], \"sequentialminus\": [[0.0, \"#0d0887\"], [0.1111111111111111, \"#46039f\"], [0.2222222222222222, \"#7201a8\"], [0.3333333333333333, \"#9c179e\"], [0.4444444444444444, \"#bd3786\"], [0.5555555555555556, \"#d8576b\"], [0.6666666666666666, \"#ed7953\"], [0.7777777777777778, \"#fb9f3a\"], [0.8888888888888888, \"#fdca26\"], [1.0, \"#f0f921\"]]}, \"colorway\": [\"#636efa\", \"#EF553B\", \"#00cc96\", \"#ab63fa\", \"#FFA15A\", \"#19d3f3\", \"#FF6692\", \"#B6E880\", \"#FF97FF\", \"#FECB52\"], \"font\": {\"color\": \"#2a3f5f\"}, \"geo\": {\"bgcolor\": \"white\", \"lakecolor\": \"white\", \"landcolor\": \"#E5ECF6\", \"showlakes\": true, \"showland\": true, \"subunitcolor\": \"white\"}, \"hoverlabel\": {\"align\": \"left\"}, \"hovermode\": \"closest\", \"mapbox\": {\"style\": \"light\"}, \"paper_bgcolor\": \"white\", \"plot_bgcolor\": \"#E5ECF6\", \"polar\": {\"angularaxis\": {\"gridcolor\": \"white\", \"linecolor\": \"white\", \"ticks\": \"\"}, \"bgcolor\": \"#E5ECF6\", \"radialaxis\": {\"gridcolor\": \"white\", \"linecolor\": \"white\", \"ticks\": \"\"}}, \"scene\": {\"xaxis\": {\"backgroundcolor\": \"#E5ECF6\", \"gridcolor\": \"white\", \"gridwidth\": 2, \"linecolor\": \"white\", \"showbackground\": true, \"ticks\": \"\", \"zerolinecolor\": \"white\"}, \"yaxis\": {\"backgroundcolor\": \"#E5ECF6\", \"gridcolor\": \"white\", \"gridwidth\": 2, \"linecolor\": \"white\", \"showbackground\": true, \"ticks\": \"\", \"zerolinecolor\": \"white\"}, \"zaxis\": {\"backgroundcolor\": \"#E5ECF6\", \"gridcolor\": \"white\", \"gridwidth\": 2, \"linecolor\": \"white\", \"showbackground\": true, \"ticks\": \"\", \"zerolinecolor\": \"white\"}}, \"shapedefaults\": {\"line\": {\"color\": \"#2a3f5f\"}}, \"ternary\": {\"aaxis\": {\"gridcolor\": \"white\", \"linecolor\": \"white\", \"ticks\": \"\"}, \"baxis\": {\"gridcolor\": \"white\", \"linecolor\": \"white\", \"ticks\": \"\"}, \"bgcolor\": \"#E5ECF6\", \"caxis\": {\"gridcolor\": \"white\", \"linecolor\": \"white\", \"ticks\": \"\"}}, \"title\": {\"x\": 0.05}, \"xaxis\": {\"automargin\": true, \"gridcolor\": \"white\", \"linecolor\": \"white\", \"ticks\": \"\", \"title\": {\"standoff\": 15}, \"zerolinecolor\": \"white\", \"zerolinewidth\": 2}, \"yaxis\": {\"automargin\": true, \"gridcolor\": \"white\", \"linecolor\": \"white\", \"ticks\": \"\", \"title\": {\"standoff\": 15}, \"zerolinecolor\": \"white\", \"zerolinewidth\": 2}}}, \"xaxis\": {\"anchor\": \"y\", \"constrain\": \"domain\", \"domain\": [0.0, 1.0], \"scaleanchor\": \"y\"}, \"yaxis\": {\"anchor\": \"x\", \"autorange\": \"reversed\", \"constrain\": \"domain\", \"domain\": [0.0, 1.0]}},                        {\"responsive\": true}                    ).then(function(){\n",
       "                            \n",
       "var gd = document.getElementById('86f7e901-f51e-4e4f-a740-c0a2415748e1');\n",
       "var x = new MutationObserver(function (mutations, observer) {{\n",
       "        var display = window.getComputedStyle(gd).display;\n",
       "        if (!display || display === 'none') {{\n",
       "            console.log([gd, 'removed!']);\n",
       "            Plotly.purge(gd);\n",
       "            observer.disconnect();\n",
       "        }}\n",
       "}});\n",
       "\n",
       "// Listen for the removal of the full notebook cells\n",
       "var notebookContainer = gd.closest('#notebook-container');\n",
       "if (notebookContainer) {{\n",
       "    x.observe(notebookContainer, {childList: true});\n",
       "}}\n",
       "\n",
       "// Listen for the clearing of the current output cell\n",
       "var outputEl = gd.closest('.output');\n",
       "if (outputEl) {{\n",
       "    x.observe(outputEl, {childList: true});\n",
       "}}\n",
       "\n",
       "                        })                };                });            </script>        </div>"
      ]
     },
     "metadata": {},
     "output_type": "display_data"
    }
   ],
   "source": [
    "px.imshow(X_train[59600].reshape(28, 28))"
   ]
  },
  {
   "cell_type": "code",
   "execution_count": null,
   "metadata": {},
   "outputs": [],
   "source": []
  },
  {
   "cell_type": "code",
   "execution_count": null,
   "metadata": {},
   "outputs": [],
   "source": []
  },
  {
   "cell_type": "code",
   "execution_count": 176,
   "metadata": {
    "ExecuteTime": {
     "end_time": "2021-03-17T16:09:19.544461Z",
     "start_time": "2021-03-17T16:09:19.485695Z"
    }
   },
   "outputs": [
    {
     "data": {
      "text/plain": [
       "array([5, 0, 4, ..., 5, 6, 8], dtype=uint8)"
      ]
     },
     "execution_count": 176,
     "metadata": {},
     "output_type": "execute_result"
    }
   ],
   "source": [
    "T_tr"
   ]
  },
  {
   "cell_type": "code",
   "execution_count": 177,
   "metadata": {
    "ExecuteTime": {
     "end_time": "2021-03-17T16:09:19.878693Z",
     "start_time": "2021-03-17T16:09:19.810461Z"
    },
    "scrolled": true
   },
   "outputs": [],
   "source": [
    "T_train = np.zeros((T_tr.size, 10))\n",
    "T_train[np.arange(T_tr.size),T_tr] = 1"
   ]
  },
  {
   "cell_type": "code",
   "execution_count": 178,
   "metadata": {
    "ExecuteTime": {
     "end_time": "2021-03-17T16:09:20.256563Z",
     "start_time": "2021-03-17T16:09:20.192732Z"
    },
    "scrolled": true
   },
   "outputs": [],
   "source": [
    "T_test = np.zeros((T_tst.size, 10))\n",
    "T_test[np.arange(T_tst.size),T_tst] = 1"
   ]
  },
  {
   "cell_type": "code",
   "execution_count": 179,
   "metadata": {
    "ExecuteTime": {
     "end_time": "2021-03-17T16:09:20.718130Z",
     "start_time": "2021-03-17T16:09:20.650564Z"
    },
    "scrolled": true
   },
   "outputs": [
    {
     "data": {
      "text/plain": [
       "784"
      ]
     },
     "execution_count": 179,
     "metadata": {},
     "output_type": "execute_result"
    }
   ],
   "source": [
    "X_train.shape[1]"
   ]
  },
  {
   "cell_type": "code",
   "execution_count": 180,
   "metadata": {
    "ExecuteTime": {
     "end_time": "2021-03-17T16:09:21.319052Z",
     "start_time": "2021-03-17T16:09:21.249828Z"
    },
    "scrolled": true
   },
   "outputs": [
    {
     "data": {
      "text/plain": [
       "10"
      ]
     },
     "execution_count": 180,
     "metadata": {},
     "output_type": "execute_result"
    }
   ],
   "source": [
    "T_test.shape[1]"
   ]
  },
  {
   "cell_type": "code",
   "execution_count": 184,
   "metadata": {
    "ExecuteTime": {
     "end_time": "2021-03-17T16:09:58.155493Z",
     "start_time": "2021-03-17T16:09:58.082015Z"
    },
    "scrolled": true
   },
   "outputs": [],
   "source": [
    "np.seterr(all='raise', under='warn', over='warn')\n",
    "rng = np.random.RandomState(1234)\n",
    "net = MLP(rng=rng,\n",
    "          n_inputs= X_train.shape[1],\n",
    "          layers=None, \n",
    "          layers_default=[4, 30, 10, SigmaLayer], \n",
    "          bias=True, \n",
    "          batch_size=32, \n",
    "          n_epochs=300, \n",
    "          eta=0.01, \n",
    "          momentum=0.9, \n",
    "          classification=True,\n",
    "         )"
   ]
  },
  {
   "cell_type": "code",
   "execution_count": 185,
   "metadata": {
    "ExecuteTime": {
     "end_time": "2021-03-17T16:09:58.623821Z",
     "start_time": "2021-03-17T16:09:58.564127Z"
    }
   },
   "outputs": [
    {
     "data": {
      "text/plain": [
       "(60000, 784)"
      ]
     },
     "execution_count": 185,
     "metadata": {},
     "output_type": "execute_result"
    }
   ],
   "source": [
    "X_train.shape"
   ]
  },
  {
   "cell_type": "code",
   "execution_count": null,
   "metadata": {
    "ExecuteTime": {
     "start_time": "2021-03-17T16:09:58.869Z"
    },
    "scrolled": true
   },
   "outputs": [
    {
     "name": "stderr",
     "output_type": "stream",
     "text": [
      " 78%|███████▊  | 234/300 [14:17<10:56,  9.95s/it]"
     ]
    }
   ],
   "source": [
    "output =  net.train(X_train, \n",
    "          T_train, \n",
    "          X_test=X_test, \n",
    "          T_test=T_test, \n",
    "          verbose=False)"
   ]
  },
  {
   "cell_type": "code",
   "execution_count": 14,
   "metadata": {
    "ExecuteTime": {
     "end_time": "2021-03-16T10:15:10.551105Z",
     "start_time": "2021-03-16T10:15:10.443166Z"
    },
    "scrolled": false
   },
   "outputs": [
    {
     "data": {
      "application/vnd.plotly.v1+json": {
       "config": {
        "plotlyServerURL": "https://plot.ly"
       },
       "data": [
        {
         "name": "layer 1",
         "type": "scatter",
         "y": [
          1.0026640269541152,
          1.006157072536973,
          1.0102350992702565,
          1.014909489924025,
          1.0201971649122468,
          1.0261215904959684,
          1.032712878894673,
          1.040007910730826,
          1.0480504435109084,
          1.056891157607963,
          1.0665875750036433,
          1.077203762020817,
          1.088809696165486,
          1.1014801395053626,
          1.1152928199039471,
          1.1303256849526644,
          1.1466529775060819,
          1.1643399130442478,
          1.1834358561484202,
          1.2039661417636303,
          1.225923103703375,
          1.2492574534816538,
          1.2738717946256621,
          1.299618491731992,
          1.3263038949073391,
          1.3536996469340792,
          1.3815596079262702,
          1.409638803938026,
          1.4398217629349983,
          1.4709128503939586,
          1.5017064629791619,
          1.532058971193896,
          1.5618525048840293,
          1.5909908195750522,
          1.6193955417741885,
          1.6470033120241048,
          1.673763909027551,
          1.7001186046362973,
          1.726837415950312,
          1.752540060602658,
          1.7772204546092871,
          1.8008831744797351,
          1.8259278031983417,
          1.8517594315331134,
          1.8765582164584367,
          1.9003424307940697,
          1.9231372084955982,
          1.9449728934949337,
          1.9658835913570658,
          1.9859059325116408,
          2.0050780413683342,
          2.0234386968628755,
          2.0410266647996784,
          2.057880179860782,
          2.0740365547643322,
          2.0895318951847126,
          2.104400901089321,
          2.118676737595818,
          2.1323909609512617,
          2.1455734875724843,
          2.15825259617,
          2.170454954781005,
          2.1822056660727367,
          2.1935283255725553,
          2.2044450885660902,
          2.2149767423080817,
          2.225142780937809,
          2.2349614811045404,
          2.2444499768079,
          2.253624332360667,
          2.2624996127029413,
          2.2710899505500013,
          2.279408610053599,
          2.2874680468080215,
          2.295279964146652,
          2.3028553657595183,
          2.31020460472331,
          2.317337429078012,
          2.324263024112349,
          2.3309900515373903,
          2.337526685736459,
          2.343880647281955,
          2.350059233907774,
          2.3560693491207534,
          2.3619175286271976,
          2.367609964741645,
          2.3731525289354365,
          2.3785507926725202,
          2.383810046669816,
          2.3889353187095153,
          2.3939313901209904,
          2.398993625662335,
          2.4040069825489248,
          2.4089006759280847,
          2.4136787707449505,
          2.418345143613255,
          2.422903493983267,
          2.4273573545054448,
          2.4317101006562356,
          2.4359649596865074
         ]
        },
        {
         "name": "layer 2",
         "type": "scatter",
         "y": [
          0.9994458680357664,
          1.0001367546074267,
          1.00309158633969,
          1.006961339099607,
          1.0113493648389718,
          1.0166907086138195,
          1.0232475538724584,
          1.0308275586090552,
          1.0394182383858142,
          1.0498067002273097,
          1.0608810048242476,
          1.072635336587005,
          1.0851236465940868,
          1.0987125331681165,
          1.1131918298790682,
          1.1284828549399704,
          1.144604816340173,
          1.1615641223597168,
          1.1815085794129874,
          1.2033413360487877,
          1.2278480192022312,
          1.254927637378715,
          1.2836926008266167,
          1.3142795014931095,
          1.3455952594883274,
          1.3788351450065082,
          1.4124287455972124,
          1.4459860211755302,
          1.479104741052975,
          1.512372980077012,
          1.5459976091292371,
          1.578786987684639,
          1.6106538723574169,
          1.641531788092489,
          1.6713700541850598,
          1.700130421209448,
          1.7279158203123597,
          1.7549430683606546,
          1.7808352966317569,
          1.8055936327032873,
          1.8292295179288744,
          1.8521005323115363,
          1.873909428922402,
          1.8955048412548896,
          1.9176593065982244,
          1.9388666916686579,
          1.959100585413014,
          1.9784052353975254,
          1.996825934740139,
          2.014408086209787,
          2.0311964705071732,
          2.0472346974892828,
          2.062564814402158,
          2.0772270438602147,
          2.091338972820724,
          2.1050598454830025,
          2.1182561655853345,
          2.1310917736011032,
          2.143412193352752,
          2.1552465410443986,
          2.1666220788940804,
          2.177564303694477,
          2.1880970417532057,
          2.198242546658439,
          2.208021597247397,
          2.2174535938796143,
          2.2265566516777024,
          2.235463102313701,
          2.2442959040440895,
          2.252841913799968,
          2.261115166204874,
          2.269128797375837,
          2.2768951102778563,
          2.284425635537885,
          2.291731187884502,
          2.298821918417542,
          2.3057073629354075,
          2.312396486559875,
          2.318924453096172,
          2.325287229067766,
          2.331476978665278,
          2.3375007694720615,
          2.3433652745521,
          2.3490767997512907,
          2.3546535382004867,
          2.360094726210868,
          2.365399455279556,
          2.370572817446467,
          2.3756196438279424,
          2.3805445215063665,
          2.3853518091344776,
          2.3900456513618065,
          2.39462999218161,
          2.3991085872881572,
          2.4034850155264698,
          2.407762689509446,
          2.41194486547076,
          2.4160346524159277,
          2.420035020628463,
          2.423948809583075
         ]
        },
        {
         "name": "layer 3",
         "type": "scatter",
         "y": [
          0.9979919262773206,
          0.9902069627039254,
          0.9837761471815337,
          0.9782024463993598,
          0.9734825069011228,
          0.9696162049095042,
          0.9666068659374114,
          0.9664854520040114,
          0.9692293883036276,
          0.9729036329197138,
          0.9775367286295734,
          0.9868005312139098,
          1.000898996536825,
          1.0166388261563066,
          1.0388660830908794,
          1.0676125950358448,
          1.1004034800900269,
          1.1348820225465972,
          1.1710325791203229,
          1.208799632750235,
          1.2490228728291735,
          1.294835840413741,
          1.3420400967546857,
          1.3930643497883546,
          1.4482971506879734,
          1.5037280679119602,
          1.5589011337533119,
          1.6133997055780336,
          1.666872509262209,
          1.7190469126920138,
          1.7697291441141108,
          1.8187947945274672,
          1.8661744181951179,
          1.911838480946961,
          1.9557843624207265,
          1.9980265922390368,
          2.0385904226066383,
          2.0775082090029664,
          2.1148177598092253,
          2.1505617490498676,
          2.1847874366224103,
          2.2175462400945896,
          2.2488930187915765,
          2.2788851438674973,
          2.3075815021642634,
          2.335041559090035,
          2.3613245497165543,
          2.38648881960652,
          2.4105913100211462,
          2.4336871715542583,
          2.455829487759941,
          2.477069090679131,
          2.4974544512933443,
          2.5170316294588617,
          2.535844269781607,
          2.5539336320501245,
          2.5713386470187625,
          2.588095990311462,
          2.6042401688760295,
          2.6198036157311244,
          2.6348167897488923,
          2.649308277967937,
          2.6633048984986796,
          2.6768318025197857,
          2.689912574209121,
          2.7025693277315623,
          2.714822800635367,
          2.7266924431988873,
          2.738196503426448,
          2.7493521075212417,
          2.760175335767308,
          2.7706812938355942,
          2.780884179593511,
          2.7907973455461894,
          2.8004333570730795,
          2.8098040466483085,
          2.818920564248908,
          2.827793424163854,
          2.8364325484199058,
          2.8448473070391898,
          2.8530465553390845,
          2.8610386684781726,
          2.8688315734437846,
          2.8764327786670063,
          2.8838494014409837,
          2.89108819330785,
          2.8981555635690364,
          2.9050576010634166,
          2.9118000943475493,
          2.918388550402588,
          2.9248282119831863,
          2.9311240737148845,
          2.9372808970382795,
          2.9433032240904997,
          2.9491953906073105,
          2.954961537922482,
          2.960605624134869,
          2.96613143450785,
          2.9715425911605755,
          2.9768425621055004
         ]
        },
        {
         "name": "layer 4",
         "type": "scatter",
         "y": []
        }
       ],
       "layout": {
        "template": {
         "data": {
          "bar": [
           {
            "error_x": {
             "color": "#2a3f5f"
            },
            "error_y": {
             "color": "#2a3f5f"
            },
            "marker": {
             "line": {
              "color": "#E5ECF6",
              "width": 0.5
             }
            },
            "type": "bar"
           }
          ],
          "barpolar": [
           {
            "marker": {
             "line": {
              "color": "#E5ECF6",
              "width": 0.5
             }
            },
            "type": "barpolar"
           }
          ],
          "carpet": [
           {
            "aaxis": {
             "endlinecolor": "#2a3f5f",
             "gridcolor": "white",
             "linecolor": "white",
             "minorgridcolor": "white",
             "startlinecolor": "#2a3f5f"
            },
            "baxis": {
             "endlinecolor": "#2a3f5f",
             "gridcolor": "white",
             "linecolor": "white",
             "minorgridcolor": "white",
             "startlinecolor": "#2a3f5f"
            },
            "type": "carpet"
           }
          ],
          "choropleth": [
           {
            "colorbar": {
             "outlinewidth": 0,
             "ticks": ""
            },
            "type": "choropleth"
           }
          ],
          "contour": [
           {
            "colorbar": {
             "outlinewidth": 0,
             "ticks": ""
            },
            "colorscale": [
             [
              0,
              "#0d0887"
             ],
             [
              0.1111111111111111,
              "#46039f"
             ],
             [
              0.2222222222222222,
              "#7201a8"
             ],
             [
              0.3333333333333333,
              "#9c179e"
             ],
             [
              0.4444444444444444,
              "#bd3786"
             ],
             [
              0.5555555555555556,
              "#d8576b"
             ],
             [
              0.6666666666666666,
              "#ed7953"
             ],
             [
              0.7777777777777778,
              "#fb9f3a"
             ],
             [
              0.8888888888888888,
              "#fdca26"
             ],
             [
              1,
              "#f0f921"
             ]
            ],
            "type": "contour"
           }
          ],
          "contourcarpet": [
           {
            "colorbar": {
             "outlinewidth": 0,
             "ticks": ""
            },
            "type": "contourcarpet"
           }
          ],
          "heatmap": [
           {
            "colorbar": {
             "outlinewidth": 0,
             "ticks": ""
            },
            "colorscale": [
             [
              0,
              "#0d0887"
             ],
             [
              0.1111111111111111,
              "#46039f"
             ],
             [
              0.2222222222222222,
              "#7201a8"
             ],
             [
              0.3333333333333333,
              "#9c179e"
             ],
             [
              0.4444444444444444,
              "#bd3786"
             ],
             [
              0.5555555555555556,
              "#d8576b"
             ],
             [
              0.6666666666666666,
              "#ed7953"
             ],
             [
              0.7777777777777778,
              "#fb9f3a"
             ],
             [
              0.8888888888888888,
              "#fdca26"
             ],
             [
              1,
              "#f0f921"
             ]
            ],
            "type": "heatmap"
           }
          ],
          "heatmapgl": [
           {
            "colorbar": {
             "outlinewidth": 0,
             "ticks": ""
            },
            "colorscale": [
             [
              0,
              "#0d0887"
             ],
             [
              0.1111111111111111,
              "#46039f"
             ],
             [
              0.2222222222222222,
              "#7201a8"
             ],
             [
              0.3333333333333333,
              "#9c179e"
             ],
             [
              0.4444444444444444,
              "#bd3786"
             ],
             [
              0.5555555555555556,
              "#d8576b"
             ],
             [
              0.6666666666666666,
              "#ed7953"
             ],
             [
              0.7777777777777778,
              "#fb9f3a"
             ],
             [
              0.8888888888888888,
              "#fdca26"
             ],
             [
              1,
              "#f0f921"
             ]
            ],
            "type": "heatmapgl"
           }
          ],
          "histogram": [
           {
            "marker": {
             "colorbar": {
              "outlinewidth": 0,
              "ticks": ""
             }
            },
            "type": "histogram"
           }
          ],
          "histogram2d": [
           {
            "colorbar": {
             "outlinewidth": 0,
             "ticks": ""
            },
            "colorscale": [
             [
              0,
              "#0d0887"
             ],
             [
              0.1111111111111111,
              "#46039f"
             ],
             [
              0.2222222222222222,
              "#7201a8"
             ],
             [
              0.3333333333333333,
              "#9c179e"
             ],
             [
              0.4444444444444444,
              "#bd3786"
             ],
             [
              0.5555555555555556,
              "#d8576b"
             ],
             [
              0.6666666666666666,
              "#ed7953"
             ],
             [
              0.7777777777777778,
              "#fb9f3a"
             ],
             [
              0.8888888888888888,
              "#fdca26"
             ],
             [
              1,
              "#f0f921"
             ]
            ],
            "type": "histogram2d"
           }
          ],
          "histogram2dcontour": [
           {
            "colorbar": {
             "outlinewidth": 0,
             "ticks": ""
            },
            "colorscale": [
             [
              0,
              "#0d0887"
             ],
             [
              0.1111111111111111,
              "#46039f"
             ],
             [
              0.2222222222222222,
              "#7201a8"
             ],
             [
              0.3333333333333333,
              "#9c179e"
             ],
             [
              0.4444444444444444,
              "#bd3786"
             ],
             [
              0.5555555555555556,
              "#d8576b"
             ],
             [
              0.6666666666666666,
              "#ed7953"
             ],
             [
              0.7777777777777778,
              "#fb9f3a"
             ],
             [
              0.8888888888888888,
              "#fdca26"
             ],
             [
              1,
              "#f0f921"
             ]
            ],
            "type": "histogram2dcontour"
           }
          ],
          "mesh3d": [
           {
            "colorbar": {
             "outlinewidth": 0,
             "ticks": ""
            },
            "type": "mesh3d"
           }
          ],
          "parcoords": [
           {
            "line": {
             "colorbar": {
              "outlinewidth": 0,
              "ticks": ""
             }
            },
            "type": "parcoords"
           }
          ],
          "pie": [
           {
            "automargin": true,
            "type": "pie"
           }
          ],
          "scatter": [
           {
            "marker": {
             "colorbar": {
              "outlinewidth": 0,
              "ticks": ""
             }
            },
            "type": "scatter"
           }
          ],
          "scatter3d": [
           {
            "line": {
             "colorbar": {
              "outlinewidth": 0,
              "ticks": ""
             }
            },
            "marker": {
             "colorbar": {
              "outlinewidth": 0,
              "ticks": ""
             }
            },
            "type": "scatter3d"
           }
          ],
          "scattercarpet": [
           {
            "marker": {
             "colorbar": {
              "outlinewidth": 0,
              "ticks": ""
             }
            },
            "type": "scattercarpet"
           }
          ],
          "scattergeo": [
           {
            "marker": {
             "colorbar": {
              "outlinewidth": 0,
              "ticks": ""
             }
            },
            "type": "scattergeo"
           }
          ],
          "scattergl": [
           {
            "marker": {
             "colorbar": {
              "outlinewidth": 0,
              "ticks": ""
             }
            },
            "type": "scattergl"
           }
          ],
          "scattermapbox": [
           {
            "marker": {
             "colorbar": {
              "outlinewidth": 0,
              "ticks": ""
             }
            },
            "type": "scattermapbox"
           }
          ],
          "scatterpolar": [
           {
            "marker": {
             "colorbar": {
              "outlinewidth": 0,
              "ticks": ""
             }
            },
            "type": "scatterpolar"
           }
          ],
          "scatterpolargl": [
           {
            "marker": {
             "colorbar": {
              "outlinewidth": 0,
              "ticks": ""
             }
            },
            "type": "scatterpolargl"
           }
          ],
          "scatterternary": [
           {
            "marker": {
             "colorbar": {
              "outlinewidth": 0,
              "ticks": ""
             }
            },
            "type": "scatterternary"
           }
          ],
          "surface": [
           {
            "colorbar": {
             "outlinewidth": 0,
             "ticks": ""
            },
            "colorscale": [
             [
              0,
              "#0d0887"
             ],
             [
              0.1111111111111111,
              "#46039f"
             ],
             [
              0.2222222222222222,
              "#7201a8"
             ],
             [
              0.3333333333333333,
              "#9c179e"
             ],
             [
              0.4444444444444444,
              "#bd3786"
             ],
             [
              0.5555555555555556,
              "#d8576b"
             ],
             [
              0.6666666666666666,
              "#ed7953"
             ],
             [
              0.7777777777777778,
              "#fb9f3a"
             ],
             [
              0.8888888888888888,
              "#fdca26"
             ],
             [
              1,
              "#f0f921"
             ]
            ],
            "type": "surface"
           }
          ],
          "table": [
           {
            "cells": {
             "fill": {
              "color": "#EBF0F8"
             },
             "line": {
              "color": "white"
             }
            },
            "header": {
             "fill": {
              "color": "#C8D4E3"
             },
             "line": {
              "color": "white"
             }
            },
            "type": "table"
           }
          ]
         },
         "layout": {
          "annotationdefaults": {
           "arrowcolor": "#2a3f5f",
           "arrowhead": 0,
           "arrowwidth": 1
          },
          "autotypenumbers": "strict",
          "coloraxis": {
           "colorbar": {
            "outlinewidth": 0,
            "ticks": ""
           }
          },
          "colorscale": {
           "diverging": [
            [
             0,
             "#8e0152"
            ],
            [
             0.1,
             "#c51b7d"
            ],
            [
             0.2,
             "#de77ae"
            ],
            [
             0.3,
             "#f1b6da"
            ],
            [
             0.4,
             "#fde0ef"
            ],
            [
             0.5,
             "#f7f7f7"
            ],
            [
             0.6,
             "#e6f5d0"
            ],
            [
             0.7,
             "#b8e186"
            ],
            [
             0.8,
             "#7fbc41"
            ],
            [
             0.9,
             "#4d9221"
            ],
            [
             1,
             "#276419"
            ]
           ],
           "sequential": [
            [
             0,
             "#0d0887"
            ],
            [
             0.1111111111111111,
             "#46039f"
            ],
            [
             0.2222222222222222,
             "#7201a8"
            ],
            [
             0.3333333333333333,
             "#9c179e"
            ],
            [
             0.4444444444444444,
             "#bd3786"
            ],
            [
             0.5555555555555556,
             "#d8576b"
            ],
            [
             0.6666666666666666,
             "#ed7953"
            ],
            [
             0.7777777777777778,
             "#fb9f3a"
            ],
            [
             0.8888888888888888,
             "#fdca26"
            ],
            [
             1,
             "#f0f921"
            ]
           ],
           "sequentialminus": [
            [
             0,
             "#0d0887"
            ],
            [
             0.1111111111111111,
             "#46039f"
            ],
            [
             0.2222222222222222,
             "#7201a8"
            ],
            [
             0.3333333333333333,
             "#9c179e"
            ],
            [
             0.4444444444444444,
             "#bd3786"
            ],
            [
             0.5555555555555556,
             "#d8576b"
            ],
            [
             0.6666666666666666,
             "#ed7953"
            ],
            [
             0.7777777777777778,
             "#fb9f3a"
            ],
            [
             0.8888888888888888,
             "#fdca26"
            ],
            [
             1,
             "#f0f921"
            ]
           ]
          },
          "colorway": [
           "#636efa",
           "#EF553B",
           "#00cc96",
           "#ab63fa",
           "#FFA15A",
           "#19d3f3",
           "#FF6692",
           "#B6E880",
           "#FF97FF",
           "#FECB52"
          ],
          "font": {
           "color": "#2a3f5f"
          },
          "geo": {
           "bgcolor": "white",
           "lakecolor": "white",
           "landcolor": "#E5ECF6",
           "showlakes": true,
           "showland": true,
           "subunitcolor": "white"
          },
          "hoverlabel": {
           "align": "left"
          },
          "hovermode": "closest",
          "mapbox": {
           "style": "light"
          },
          "paper_bgcolor": "white",
          "plot_bgcolor": "#E5ECF6",
          "polar": {
           "angularaxis": {
            "gridcolor": "white",
            "linecolor": "white",
            "ticks": ""
           },
           "bgcolor": "#E5ECF6",
           "radialaxis": {
            "gridcolor": "white",
            "linecolor": "white",
            "ticks": ""
           }
          },
          "scene": {
           "xaxis": {
            "backgroundcolor": "#E5ECF6",
            "gridcolor": "white",
            "gridwidth": 2,
            "linecolor": "white",
            "showbackground": true,
            "ticks": "",
            "zerolinecolor": "white"
           },
           "yaxis": {
            "backgroundcolor": "#E5ECF6",
            "gridcolor": "white",
            "gridwidth": 2,
            "linecolor": "white",
            "showbackground": true,
            "ticks": "",
            "zerolinecolor": "white"
           },
           "zaxis": {
            "backgroundcolor": "#E5ECF6",
            "gridcolor": "white",
            "gridwidth": 2,
            "linecolor": "white",
            "showbackground": true,
            "ticks": "",
            "zerolinecolor": "white"
           }
          },
          "shapedefaults": {
           "line": {
            "color": "#2a3f5f"
           }
          },
          "ternary": {
           "aaxis": {
            "gridcolor": "white",
            "linecolor": "white",
            "ticks": ""
           },
           "baxis": {
            "gridcolor": "white",
            "linecolor": "white",
            "ticks": ""
           },
           "bgcolor": "#E5ECF6",
           "caxis": {
            "gridcolor": "white",
            "linecolor": "white",
            "ticks": ""
           }
          },
          "title": {
           "x": 0.05
          },
          "xaxis": {
           "automargin": true,
           "gridcolor": "white",
           "linecolor": "white",
           "ticks": "",
           "title": {
            "standoff": 15
           },
           "zerolinecolor": "white",
           "zerolinewidth": 2
          },
          "yaxis": {
           "automargin": true,
           "gridcolor": "white",
           "linecolor": "white",
           "ticks": "",
           "title": {
            "standoff": 15
           },
           "zerolinecolor": "white",
           "zerolinewidth": 2
          }
         }
        },
        "xaxis": {
         "title": {
          "text": "Epoch"
         }
        },
        "yaxis": {
         "title": {
          "text": "mean weight / initial mean weight"
         }
        }
       }
      },
      "text/html": [
       "<div>                            <div id=\"6c850ca5-f2e5-4758-8882-7f3d06a4e419\" class=\"plotly-graph-div\" style=\"height:525px; width:100%;\"></div>            <script type=\"text/javascript\">                require([\"plotly\"], function(Plotly) {                    window.PLOTLYENV=window.PLOTLYENV || {};                                    if (document.getElementById(\"6c850ca5-f2e5-4758-8882-7f3d06a4e419\")) {                    Plotly.newPlot(                        \"6c850ca5-f2e5-4758-8882-7f3d06a4e419\",                        [{\"name\": \"layer 1\", \"type\": \"scatter\", \"y\": [1.0026640269541152, 1.006157072536973, 1.0102350992702565, 1.014909489924025, 1.0201971649122468, 1.0261215904959684, 1.032712878894673, 1.040007910730826, 1.0480504435109084, 1.056891157607963, 1.0665875750036433, 1.077203762020817, 1.088809696165486, 1.1014801395053626, 1.1152928199039471, 1.1303256849526644, 1.1466529775060819, 1.1643399130442478, 1.1834358561484202, 1.2039661417636303, 1.225923103703375, 1.2492574534816538, 1.2738717946256621, 1.299618491731992, 1.3263038949073391, 1.3536996469340792, 1.3815596079262702, 1.409638803938026, 1.4398217629349983, 1.4709128503939586, 1.5017064629791619, 1.532058971193896, 1.5618525048840293, 1.5909908195750522, 1.6193955417741885, 1.6470033120241048, 1.673763909027551, 1.7001186046362973, 1.726837415950312, 1.752540060602658, 1.7772204546092871, 1.8008831744797351, 1.8259278031983417, 1.8517594315331134, 1.8765582164584367, 1.9003424307940697, 1.9231372084955982, 1.9449728934949337, 1.9658835913570658, 1.9859059325116408, 2.0050780413683342, 2.0234386968628755, 2.0410266647996784, 2.057880179860782, 2.0740365547643322, 2.0895318951847126, 2.104400901089321, 2.118676737595818, 2.1323909609512617, 2.1455734875724843, 2.15825259617, 2.170454954781005, 2.1822056660727367, 2.1935283255725553, 2.2044450885660902, 2.2149767423080817, 2.225142780937809, 2.2349614811045404, 2.2444499768079, 2.253624332360667, 2.2624996127029413, 2.2710899505500013, 2.279408610053599, 2.2874680468080215, 2.295279964146652, 2.3028553657595183, 2.31020460472331, 2.317337429078012, 2.324263024112349, 2.3309900515373903, 2.337526685736459, 2.343880647281955, 2.350059233907774, 2.3560693491207534, 2.3619175286271976, 2.367609964741645, 2.3731525289354365, 2.3785507926725202, 2.383810046669816, 2.3889353187095153, 2.3939313901209904, 2.398993625662335, 2.4040069825489248, 2.4089006759280847, 2.4136787707449505, 2.418345143613255, 2.422903493983267, 2.4273573545054448, 2.4317101006562356, 2.4359649596865074]}, {\"name\": \"layer 2\", \"type\": \"scatter\", \"y\": [0.9994458680357664, 1.0001367546074267, 1.00309158633969, 1.006961339099607, 1.0113493648389718, 1.0166907086138195, 1.0232475538724584, 1.0308275586090552, 1.0394182383858142, 1.0498067002273097, 1.0608810048242476, 1.072635336587005, 1.0851236465940868, 1.0987125331681165, 1.1131918298790682, 1.1284828549399704, 1.144604816340173, 1.1615641223597168, 1.1815085794129874, 1.2033413360487877, 1.2278480192022312, 1.254927637378715, 1.2836926008266167, 1.3142795014931095, 1.3455952594883274, 1.3788351450065082, 1.4124287455972124, 1.4459860211755302, 1.479104741052975, 1.512372980077012, 1.5459976091292371, 1.578786987684639, 1.6106538723574169, 1.641531788092489, 1.6713700541850598, 1.700130421209448, 1.7279158203123597, 1.7549430683606546, 1.7808352966317569, 1.8055936327032873, 1.8292295179288744, 1.8521005323115363, 1.873909428922402, 1.8955048412548896, 1.9176593065982244, 1.9388666916686579, 1.959100585413014, 1.9784052353975254, 1.996825934740139, 2.014408086209787, 2.0311964705071732, 2.0472346974892828, 2.062564814402158, 2.0772270438602147, 2.091338972820724, 2.1050598454830025, 2.1182561655853345, 2.1310917736011032, 2.143412193352752, 2.1552465410443986, 2.1666220788940804, 2.177564303694477, 2.1880970417532057, 2.198242546658439, 2.208021597247397, 2.2174535938796143, 2.2265566516777024, 2.235463102313701, 2.2442959040440895, 2.252841913799968, 2.261115166204874, 2.269128797375837, 2.2768951102778563, 2.284425635537885, 2.291731187884502, 2.298821918417542, 2.3057073629354075, 2.312396486559875, 2.318924453096172, 2.325287229067766, 2.331476978665278, 2.3375007694720615, 2.3433652745521, 2.3490767997512907, 2.3546535382004867, 2.360094726210868, 2.365399455279556, 2.370572817446467, 2.3756196438279424, 2.3805445215063665, 2.3853518091344776, 2.3900456513618065, 2.39462999218161, 2.3991085872881572, 2.4034850155264698, 2.407762689509446, 2.41194486547076, 2.4160346524159277, 2.420035020628463, 2.423948809583075]}, {\"name\": \"layer 3\", \"type\": \"scatter\", \"y\": [0.9979919262773206, 0.9902069627039254, 0.9837761471815337, 0.9782024463993598, 0.9734825069011228, 0.9696162049095042, 0.9666068659374114, 0.9664854520040114, 0.9692293883036276, 0.9729036329197138, 0.9775367286295734, 0.9868005312139098, 1.000898996536825, 1.0166388261563066, 1.0388660830908794, 1.0676125950358448, 1.1004034800900269, 1.1348820225465972, 1.1710325791203229, 1.208799632750235, 1.2490228728291735, 1.294835840413741, 1.3420400967546857, 1.3930643497883546, 1.4482971506879734, 1.5037280679119602, 1.5589011337533119, 1.6133997055780336, 1.666872509262209, 1.7190469126920138, 1.7697291441141108, 1.8187947945274672, 1.8661744181951179, 1.911838480946961, 1.9557843624207265, 1.9980265922390368, 2.0385904226066383, 2.0775082090029664, 2.1148177598092253, 2.1505617490498676, 2.1847874366224103, 2.2175462400945896, 2.2488930187915765, 2.2788851438674973, 2.3075815021642634, 2.335041559090035, 2.3613245497165543, 2.38648881960652, 2.4105913100211462, 2.4336871715542583, 2.455829487759941, 2.477069090679131, 2.4974544512933443, 2.5170316294588617, 2.535844269781607, 2.5539336320501245, 2.5713386470187625, 2.588095990311462, 2.6042401688760295, 2.6198036157311244, 2.6348167897488923, 2.649308277967937, 2.6633048984986796, 2.6768318025197857, 2.689912574209121, 2.7025693277315623, 2.714822800635367, 2.7266924431988873, 2.738196503426448, 2.7493521075212417, 2.760175335767308, 2.7706812938355942, 2.780884179593511, 2.7907973455461894, 2.8004333570730795, 2.8098040466483085, 2.818920564248908, 2.827793424163854, 2.8364325484199058, 2.8448473070391898, 2.8530465553390845, 2.8610386684781726, 2.8688315734437846, 2.8764327786670063, 2.8838494014409837, 2.89108819330785, 2.8981555635690364, 2.9050576010634166, 2.9118000943475493, 2.918388550402588, 2.9248282119831863, 2.9311240737148845, 2.9372808970382795, 2.9433032240904997, 2.9491953906073105, 2.954961537922482, 2.960605624134869, 2.96613143450785, 2.9715425911605755, 2.9768425621055004]}, {\"name\": \"layer 4\", \"type\": \"scatter\", \"y\": []}],                        {\"template\": {\"data\": {\"bar\": [{\"error_x\": {\"color\": \"#2a3f5f\"}, \"error_y\": {\"color\": \"#2a3f5f\"}, \"marker\": {\"line\": {\"color\": \"#E5ECF6\", \"width\": 0.5}}, \"type\": \"bar\"}], \"barpolar\": [{\"marker\": {\"line\": {\"color\": \"#E5ECF6\", \"width\": 0.5}}, \"type\": \"barpolar\"}], \"carpet\": [{\"aaxis\": {\"endlinecolor\": \"#2a3f5f\", \"gridcolor\": \"white\", \"linecolor\": \"white\", \"minorgridcolor\": \"white\", \"startlinecolor\": \"#2a3f5f\"}, \"baxis\": {\"endlinecolor\": \"#2a3f5f\", \"gridcolor\": \"white\", \"linecolor\": \"white\", \"minorgridcolor\": \"white\", \"startlinecolor\": \"#2a3f5f\"}, \"type\": \"carpet\"}], \"choropleth\": [{\"colorbar\": {\"outlinewidth\": 0, \"ticks\": \"\"}, \"type\": \"choropleth\"}], \"contour\": [{\"colorbar\": {\"outlinewidth\": 0, \"ticks\": \"\"}, \"colorscale\": [[0.0, \"#0d0887\"], [0.1111111111111111, \"#46039f\"], [0.2222222222222222, \"#7201a8\"], [0.3333333333333333, \"#9c179e\"], [0.4444444444444444, \"#bd3786\"], [0.5555555555555556, \"#d8576b\"], [0.6666666666666666, \"#ed7953\"], [0.7777777777777778, \"#fb9f3a\"], [0.8888888888888888, \"#fdca26\"], [1.0, \"#f0f921\"]], \"type\": \"contour\"}], \"contourcarpet\": [{\"colorbar\": {\"outlinewidth\": 0, \"ticks\": \"\"}, \"type\": \"contourcarpet\"}], \"heatmap\": [{\"colorbar\": {\"outlinewidth\": 0, \"ticks\": \"\"}, \"colorscale\": [[0.0, \"#0d0887\"], [0.1111111111111111, \"#46039f\"], [0.2222222222222222, \"#7201a8\"], [0.3333333333333333, \"#9c179e\"], [0.4444444444444444, \"#bd3786\"], [0.5555555555555556, \"#d8576b\"], [0.6666666666666666, \"#ed7953\"], [0.7777777777777778, \"#fb9f3a\"], [0.8888888888888888, \"#fdca26\"], [1.0, \"#f0f921\"]], \"type\": \"heatmap\"}], \"heatmapgl\": [{\"colorbar\": {\"outlinewidth\": 0, \"ticks\": \"\"}, \"colorscale\": [[0.0, \"#0d0887\"], [0.1111111111111111, \"#46039f\"], [0.2222222222222222, \"#7201a8\"], [0.3333333333333333, \"#9c179e\"], [0.4444444444444444, \"#bd3786\"], [0.5555555555555556, \"#d8576b\"], [0.6666666666666666, \"#ed7953\"], [0.7777777777777778, \"#fb9f3a\"], [0.8888888888888888, \"#fdca26\"], [1.0, \"#f0f921\"]], \"type\": \"heatmapgl\"}], \"histogram\": [{\"marker\": {\"colorbar\": {\"outlinewidth\": 0, \"ticks\": \"\"}}, \"type\": \"histogram\"}], \"histogram2d\": [{\"colorbar\": {\"outlinewidth\": 0, \"ticks\": \"\"}, \"colorscale\": [[0.0, \"#0d0887\"], [0.1111111111111111, \"#46039f\"], [0.2222222222222222, \"#7201a8\"], [0.3333333333333333, \"#9c179e\"], [0.4444444444444444, \"#bd3786\"], [0.5555555555555556, \"#d8576b\"], [0.6666666666666666, \"#ed7953\"], [0.7777777777777778, \"#fb9f3a\"], [0.8888888888888888, \"#fdca26\"], [1.0, \"#f0f921\"]], \"type\": \"histogram2d\"}], \"histogram2dcontour\": [{\"colorbar\": {\"outlinewidth\": 0, \"ticks\": \"\"}, \"colorscale\": [[0.0, \"#0d0887\"], [0.1111111111111111, \"#46039f\"], [0.2222222222222222, \"#7201a8\"], [0.3333333333333333, \"#9c179e\"], [0.4444444444444444, \"#bd3786\"], [0.5555555555555556, \"#d8576b\"], [0.6666666666666666, \"#ed7953\"], [0.7777777777777778, \"#fb9f3a\"], [0.8888888888888888, \"#fdca26\"], [1.0, \"#f0f921\"]], \"type\": \"histogram2dcontour\"}], \"mesh3d\": [{\"colorbar\": {\"outlinewidth\": 0, \"ticks\": \"\"}, \"type\": \"mesh3d\"}], \"parcoords\": [{\"line\": {\"colorbar\": {\"outlinewidth\": 0, \"ticks\": \"\"}}, \"type\": \"parcoords\"}], \"pie\": [{\"automargin\": true, \"type\": \"pie\"}], \"scatter\": [{\"marker\": {\"colorbar\": {\"outlinewidth\": 0, \"ticks\": \"\"}}, \"type\": \"scatter\"}], \"scatter3d\": [{\"line\": {\"colorbar\": {\"outlinewidth\": 0, \"ticks\": \"\"}}, \"marker\": {\"colorbar\": {\"outlinewidth\": 0, \"ticks\": \"\"}}, \"type\": \"scatter3d\"}], \"scattercarpet\": [{\"marker\": {\"colorbar\": {\"outlinewidth\": 0, \"ticks\": \"\"}}, \"type\": \"scattercarpet\"}], \"scattergeo\": [{\"marker\": {\"colorbar\": {\"outlinewidth\": 0, \"ticks\": \"\"}}, \"type\": \"scattergeo\"}], \"scattergl\": [{\"marker\": {\"colorbar\": {\"outlinewidth\": 0, \"ticks\": \"\"}}, \"type\": \"scattergl\"}], \"scattermapbox\": [{\"marker\": {\"colorbar\": {\"outlinewidth\": 0, \"ticks\": \"\"}}, \"type\": \"scattermapbox\"}], \"scatterpolar\": [{\"marker\": {\"colorbar\": {\"outlinewidth\": 0, \"ticks\": \"\"}}, \"type\": \"scatterpolar\"}], \"scatterpolargl\": [{\"marker\": {\"colorbar\": {\"outlinewidth\": 0, \"ticks\": \"\"}}, \"type\": \"scatterpolargl\"}], \"scatterternary\": [{\"marker\": {\"colorbar\": {\"outlinewidth\": 0, \"ticks\": \"\"}}, \"type\": \"scatterternary\"}], \"surface\": [{\"colorbar\": {\"outlinewidth\": 0, \"ticks\": \"\"}, \"colorscale\": [[0.0, \"#0d0887\"], [0.1111111111111111, \"#46039f\"], [0.2222222222222222, \"#7201a8\"], [0.3333333333333333, \"#9c179e\"], [0.4444444444444444, \"#bd3786\"], [0.5555555555555556, \"#d8576b\"], [0.6666666666666666, \"#ed7953\"], [0.7777777777777778, \"#fb9f3a\"], [0.8888888888888888, \"#fdca26\"], [1.0, \"#f0f921\"]], \"type\": \"surface\"}], \"table\": [{\"cells\": {\"fill\": {\"color\": \"#EBF0F8\"}, \"line\": {\"color\": \"white\"}}, \"header\": {\"fill\": {\"color\": \"#C8D4E3\"}, \"line\": {\"color\": \"white\"}}, \"type\": \"table\"}]}, \"layout\": {\"annotationdefaults\": {\"arrowcolor\": \"#2a3f5f\", \"arrowhead\": 0, \"arrowwidth\": 1}, \"autotypenumbers\": \"strict\", \"coloraxis\": {\"colorbar\": {\"outlinewidth\": 0, \"ticks\": \"\"}}, \"colorscale\": {\"diverging\": [[0, \"#8e0152\"], [0.1, \"#c51b7d\"], [0.2, \"#de77ae\"], [0.3, \"#f1b6da\"], [0.4, \"#fde0ef\"], [0.5, \"#f7f7f7\"], [0.6, \"#e6f5d0\"], [0.7, \"#b8e186\"], [0.8, \"#7fbc41\"], [0.9, \"#4d9221\"], [1, \"#276419\"]], \"sequential\": [[0.0, \"#0d0887\"], [0.1111111111111111, \"#46039f\"], [0.2222222222222222, \"#7201a8\"], [0.3333333333333333, \"#9c179e\"], [0.4444444444444444, \"#bd3786\"], [0.5555555555555556, \"#d8576b\"], [0.6666666666666666, \"#ed7953\"], [0.7777777777777778, \"#fb9f3a\"], [0.8888888888888888, \"#fdca26\"], [1.0, \"#f0f921\"]], \"sequentialminus\": [[0.0, \"#0d0887\"], [0.1111111111111111, \"#46039f\"], [0.2222222222222222, \"#7201a8\"], [0.3333333333333333, \"#9c179e\"], [0.4444444444444444, \"#bd3786\"], [0.5555555555555556, \"#d8576b\"], [0.6666666666666666, \"#ed7953\"], [0.7777777777777778, \"#fb9f3a\"], [0.8888888888888888, \"#fdca26\"], [1.0, \"#f0f921\"]]}, \"colorway\": [\"#636efa\", \"#EF553B\", \"#00cc96\", \"#ab63fa\", \"#FFA15A\", \"#19d3f3\", \"#FF6692\", \"#B6E880\", \"#FF97FF\", \"#FECB52\"], \"font\": {\"color\": \"#2a3f5f\"}, \"geo\": {\"bgcolor\": \"white\", \"lakecolor\": \"white\", \"landcolor\": \"#E5ECF6\", \"showlakes\": true, \"showland\": true, \"subunitcolor\": \"white\"}, \"hoverlabel\": {\"align\": \"left\"}, \"hovermode\": \"closest\", \"mapbox\": {\"style\": \"light\"}, \"paper_bgcolor\": \"white\", \"plot_bgcolor\": \"#E5ECF6\", \"polar\": {\"angularaxis\": {\"gridcolor\": \"white\", \"linecolor\": \"white\", \"ticks\": \"\"}, \"bgcolor\": \"#E5ECF6\", \"radialaxis\": {\"gridcolor\": \"white\", \"linecolor\": \"white\", \"ticks\": \"\"}}, \"scene\": {\"xaxis\": {\"backgroundcolor\": \"#E5ECF6\", \"gridcolor\": \"white\", \"gridwidth\": 2, \"linecolor\": \"white\", \"showbackground\": true, \"ticks\": \"\", \"zerolinecolor\": \"white\"}, \"yaxis\": {\"backgroundcolor\": \"#E5ECF6\", \"gridcolor\": \"white\", \"gridwidth\": 2, \"linecolor\": \"white\", \"showbackground\": true, \"ticks\": \"\", \"zerolinecolor\": \"white\"}, \"zaxis\": {\"backgroundcolor\": \"#E5ECF6\", \"gridcolor\": \"white\", \"gridwidth\": 2, \"linecolor\": \"white\", \"showbackground\": true, \"ticks\": \"\", \"zerolinecolor\": \"white\"}}, \"shapedefaults\": {\"line\": {\"color\": \"#2a3f5f\"}}, \"ternary\": {\"aaxis\": {\"gridcolor\": \"white\", \"linecolor\": \"white\", \"ticks\": \"\"}, \"baxis\": {\"gridcolor\": \"white\", \"linecolor\": \"white\", \"ticks\": \"\"}, \"bgcolor\": \"#E5ECF6\", \"caxis\": {\"gridcolor\": \"white\", \"linecolor\": \"white\", \"ticks\": \"\"}}, \"title\": {\"x\": 0.05}, \"xaxis\": {\"automargin\": true, \"gridcolor\": \"white\", \"linecolor\": \"white\", \"ticks\": \"\", \"title\": {\"standoff\": 15}, \"zerolinecolor\": \"white\", \"zerolinewidth\": 2}, \"yaxis\": {\"automargin\": true, \"gridcolor\": \"white\", \"linecolor\": \"white\", \"ticks\": \"\", \"title\": {\"standoff\": 15}, \"zerolinecolor\": \"white\", \"zerolinewidth\": 2}}}, \"xaxis\": {\"title\": {\"text\": \"Epoch\"}}, \"yaxis\": {\"title\": {\"text\": \"mean weight / initial mean weight\"}}},                        {\"responsive\": true}                    ).then(function(){\n",
       "                            \n",
       "var gd = document.getElementById('6c850ca5-f2e5-4758-8882-7f3d06a4e419');\n",
       "var x = new MutationObserver(function (mutations, observer) {{\n",
       "        var display = window.getComputedStyle(gd).display;\n",
       "        if (!display || display === 'none') {{\n",
       "            console.log([gd, 'removed!']);\n",
       "            Plotly.purge(gd);\n",
       "            observer.disconnect();\n",
       "        }}\n",
       "}});\n",
       "\n",
       "// Listen for the removal of the full notebook cells\n",
       "var notebookContainer = gd.closest('#notebook-container');\n",
       "if (notebookContainer) {{\n",
       "    x.observe(notebookContainer, {childList: true});\n",
       "}}\n",
       "\n",
       "// Listen for the clearing of the current output cell\n",
       "var outputEl = gd.closest('.output');\n",
       "if (outputEl) {{\n",
       "    x.observe(outputEl, {childList: true});\n",
       "}}\n",
       "\n",
       "                        })                };                });            </script>        </div>"
      ]
     },
     "metadata": {},
     "output_type": "display_data"
    }
   ],
   "source": [
    "fig = go.Figure()\n",
    "for i in range(1,5):\n",
    "    fig.add_trace(\n",
    "        go.Scatter(y=output[f'Linear_{i}_mean_weight'], name=f'layer {i}')\n",
    "    )\n",
    "fig.update_layout(xaxis_title='Epoch', yaxis_title='mean weight / initial mean weight')\n",
    "fig"
   ]
  },
  {
   "cell_type": "code",
   "execution_count": 15,
   "metadata": {
    "ExecuteTime": {
     "end_time": "2021-03-16T10:15:10.639280Z",
     "start_time": "2021-03-16T10:15:10.555127Z"
    },
    "scrolled": false
   },
   "outputs": [
    {
     "data": {
      "application/vnd.plotly.v1+json": {
       "config": {
        "plotlyServerURL": "https://plot.ly"
       },
       "data": [
        {
         "name": "layer 1",
         "type": "scatter",
         "y": [
          0.0012340255872871691,
          0.001284821819838578,
          0.001320706466895957,
          0.0013644637989886162,
          0.0014151754827186618,
          0.0014728748902516776,
          0.0015370745526328358,
          0.0016096285853459918,
          0.001691686811117052,
          0.0017833632327384345,
          0.0018845671236698107,
          0.0019964377225688227,
          0.0021205133183644065,
          0.00225528064705305,
          0.0024005633936992196,
          0.002556251426283031,
          0.0027211898922370865,
          0.0028941902499044236,
          0.003074167110821199,
          0.0032577433830003255,
          0.0034409386838859823,
          0.0036197015300128642,
          0.003790301853340694,
          0.003951002317065697,
          0.004102769813712867,
          0.004248349713025706,
          0.004389191903540259,
          0.0045251876043206195,
          0.00465541978870794,
          0.00477711824442436,
          0.004894950386219758,
          0.005009918455556306,
          0.005117179108775026,
          0.005213496438166119,
          0.005297825663117455,
          0.005370232221732782,
          0.0054302043515223304,
          0.005476985973634786,
          0.005510563259929759,
          0.005531503854642718,
          0.005540910613708313,
          0.005540193905974889,
          0.005530581711353892,
          0.005513252968142108,
          0.005489691915090678,
          0.00546092357512179,
          0.005427939789424621,
          0.005392052434896905,
          0.005354387612615161,
          0.0053159006361158095,
          0.00527706939565604,
          0.005238141151504171,
          0.005199449555892819,
          0.005161352396756332,
          0.005123467217426833,
          0.005085882034526824,
          0.005049050147757648,
          0.005013314044300335,
          0.004978410157084896,
          0.004944144425532014,
          0.004910678486149302,
          0.004878142255268223,
          0.0048465269421624135,
          0.004815720657693192,
          0.004785730646472549,
          0.004756495317791503,
          0.00472806564422713,
          0.004700443149861235,
          0.004673628661570109,
          0.004647617403619906,
          0.004622379974854078,
          0.004597887026948567,
          0.004574127455243685,
          0.004551091145865805,
          0.004528746263028977,
          0.00450707179737963,
          0.0044860515845471585,
          0.0044656663384554296,
          0.004445889001762538,
          0.0044266966017111765,
          0.004408064184239376,
          0.004389974681136114,
          0.004372415642960889,
          0.004355359528426276,
          0.004338786772664608,
          0.004322681825285443,
          0.004307030755884374,
          0.004291816754066535,
          0.004277025197913129,
          0.004262642475959867,
          0.004248647575839568,
          0.004235032838815845,
          0.004221781248474115,
          0.004208883846605721,
          0.00419632748708731,
          0.004184097210047261,
          0.00417218938054576,
          0.004160591331672879,
          0.004149294755132623,
          0.0041382888928561245
         ]
        },
        {
         "name": "layer 2",
         "type": "scatter",
         "y": [
          0.00996487903961659,
          0.010063805400854164,
          0.01004331280718353,
          0.010049174178074414,
          0.010076305464032615,
          0.01012580465337435,
          0.010200730113731682,
          0.010305322099234666,
          0.01043635616712564,
          0.010593558756798394,
          0.010777378204744982,
          0.010988741692756827,
          0.011227738354016352,
          0.011495989779453515,
          0.011799419245387905,
          0.01213140325519203,
          0.012483485588985998,
          0.012847271072113357,
          0.013214362566569276,
          0.013573798091070366,
          0.013917308274712669,
          0.01423649001175749,
          0.014521850984456613,
          0.014764632286941234,
          0.014961159982569012,
          0.01511158950463116,
          0.015218446914342027,
          0.015294531897315998,
          0.015333122896885473,
          0.015334858667351714,
          0.015304090987993582,
          0.015248204162963866,
          0.015170866365324576,
          0.015067120964903162,
          0.014942182552157861,
          0.014796574372210176,
          0.014626803659820962,
          0.014434643686295183,
          0.014223447022168123,
          0.013997091777857755,
          0.01376080994631192,
          0.013519906723565102,
          0.01327744330269503,
          0.013035664439991377,
          0.012796619212054055,
          0.01256215265226359,
          0.012333851566265104,
          0.012112980869603837,
          0.011900602153096415,
          0.011697268035666376,
          0.0115031409806415,
          0.011318328199776604,
          0.01114269080570764,
          0.010975940446612011,
          0.010817805961460411,
          0.01066786313325761,
          0.01052569696164364,
          0.010390983426377095,
          0.01026329246151552,
          0.010142199241015145,
          0.010027370464332028,
          0.009918426847234577,
          0.009814973176120385,
          0.009716647281380282,
          0.009623124038262848,
          0.009534055682920688,
          0.009449168528891258,
          0.009368207483877806,
          0.009290898287832255,
          0.00921698531435524,
          0.00914626850478573,
          0.009078557313097367,
          0.00901368049197387,
          0.008951472738920125,
          0.00889177805603374,
          0.008834452511408322,
          0.008779362879517649,
          0.008726390574752635,
          0.008675423813983786,
          0.008626344584273457,
          0.008579060523204951,
          0.008533482991650654,
          0.00848951806903533,
          0.008447077757792229,
          0.008406092847310517,
          0.008366490697143725,
          0.008328208835150864,
          0.008291186621196291,
          0.008255364860778137,
          0.008220690557161129,
          0.008187113848804136,
          0.008154579221285246,
          0.00812304525265366,
          0.008092464745035827,
          0.00806279716409113,
          0.008034006541888197,
          0.00800605848425302,
          0.007978916192402203,
          0.007952545175078318,
          0.007926913985768187
         ]
        },
        {
         "name": "layer 3",
         "type": "scatter",
         "y": [
          0.05693448146166444,
          0.057832949593109244,
          0.05758884444613255,
          0.05736027994339472,
          0.05710569237091749,
          0.056821962009463926,
          0.056506118293584436,
          0.05615491032554509,
          0.05576461285207106,
          0.05533109088166557,
          0.05485004944127478,
          0.05431598151274722,
          0.05372389872692009,
          0.05306779490336555,
          0.052341190412081844,
          0.05153723913086166,
          0.05064943794816665,
          0.04967149314914476,
          0.04860038831059302,
          0.04743427792368495,
          0.04617696709421769,
          0.04483553520928272,
          0.04342365997339004,
          0.04196595325937851,
          0.0405000890815326,
          0.039095365278894886,
          0.03771990273908606,
          0.036345448207488834,
          0.034982607821268254,
          0.033641354439349236,
          0.03232795824911453,
          0.0310466195781328,
          0.029800016544545015,
          0.0285898008010075,
          0.027417192256183602,
          0.026283670016148206,
          0.025191847561635682,
          0.024143466538303508,
          0.023139630352343517,
          0.02218160258171252,
          0.021271112709983647,
          0.020409237182079754,
          0.019596427778908392,
          0.018832261687106132,
          0.018116001672674176,
          0.017446203415515674,
          0.016820910822116338,
          0.01623792282023079,
          0.015694826434454214,
          0.015189144083370966,
          0.014718307923915496,
          0.014279784983202414,
          0.013871163775161057,
          0.013490129443620472,
          0.013134548533935529,
          0.012802417983794065,
          0.012491828674541029,
          0.012201064246532143,
          0.011928535827126448,
          0.011672775208657412,
          0.011432432103635076,
          0.011206301726247769,
          0.01099326321795513,
          0.010792313171447725,
          0.010602519730195697,
          0.010423044955364235,
          0.010253104030722276,
          0.010092004762360865,
          0.009939100023939433,
          0.009793804540897379,
          0.009655590628782424,
          0.009523987161720177,
          0.009398543111014752,
          0.009278843057451438,
          0.009164510735780817,
          0.009055201984303997,
          0.00895060053136141,
          0.008850418424123284,
          0.00875438256067054,
          0.00866225256249298,
          0.00857379578297619,
          0.008488800700756912,
          0.008407071646958782,
          0.008328425343994953,
          0.008252697443006494,
          0.008179732291603183,
          0.008109383119412216,
          0.008041516241125824,
          0.007976004103907157,
          0.007912724663884601,
          0.007851569061935062,
          0.007792433386015099,
          0.007735218345593462,
          0.007679833315439978,
          0.00762619726407761,
          0.0075742291803395385,
          0.0075238499982982765,
          0.007474989148117556,
          0.007427583079815622,
          0.007381565882907149
         ]
        },
        {
         "name": "layer 4",
         "type": "scatter",
         "y": []
        }
       ],
       "layout": {
        "template": {
         "data": {
          "bar": [
           {
            "error_x": {
             "color": "#2a3f5f"
            },
            "error_y": {
             "color": "#2a3f5f"
            },
            "marker": {
             "line": {
              "color": "#E5ECF6",
              "width": 0.5
             }
            },
            "type": "bar"
           }
          ],
          "barpolar": [
           {
            "marker": {
             "line": {
              "color": "#E5ECF6",
              "width": 0.5
             }
            },
            "type": "barpolar"
           }
          ],
          "carpet": [
           {
            "aaxis": {
             "endlinecolor": "#2a3f5f",
             "gridcolor": "white",
             "linecolor": "white",
             "minorgridcolor": "white",
             "startlinecolor": "#2a3f5f"
            },
            "baxis": {
             "endlinecolor": "#2a3f5f",
             "gridcolor": "white",
             "linecolor": "white",
             "minorgridcolor": "white",
             "startlinecolor": "#2a3f5f"
            },
            "type": "carpet"
           }
          ],
          "choropleth": [
           {
            "colorbar": {
             "outlinewidth": 0,
             "ticks": ""
            },
            "type": "choropleth"
           }
          ],
          "contour": [
           {
            "colorbar": {
             "outlinewidth": 0,
             "ticks": ""
            },
            "colorscale": [
             [
              0,
              "#0d0887"
             ],
             [
              0.1111111111111111,
              "#46039f"
             ],
             [
              0.2222222222222222,
              "#7201a8"
             ],
             [
              0.3333333333333333,
              "#9c179e"
             ],
             [
              0.4444444444444444,
              "#bd3786"
             ],
             [
              0.5555555555555556,
              "#d8576b"
             ],
             [
              0.6666666666666666,
              "#ed7953"
             ],
             [
              0.7777777777777778,
              "#fb9f3a"
             ],
             [
              0.8888888888888888,
              "#fdca26"
             ],
             [
              1,
              "#f0f921"
             ]
            ],
            "type": "contour"
           }
          ],
          "contourcarpet": [
           {
            "colorbar": {
             "outlinewidth": 0,
             "ticks": ""
            },
            "type": "contourcarpet"
           }
          ],
          "heatmap": [
           {
            "colorbar": {
             "outlinewidth": 0,
             "ticks": ""
            },
            "colorscale": [
             [
              0,
              "#0d0887"
             ],
             [
              0.1111111111111111,
              "#46039f"
             ],
             [
              0.2222222222222222,
              "#7201a8"
             ],
             [
              0.3333333333333333,
              "#9c179e"
             ],
             [
              0.4444444444444444,
              "#bd3786"
             ],
             [
              0.5555555555555556,
              "#d8576b"
             ],
             [
              0.6666666666666666,
              "#ed7953"
             ],
             [
              0.7777777777777778,
              "#fb9f3a"
             ],
             [
              0.8888888888888888,
              "#fdca26"
             ],
             [
              1,
              "#f0f921"
             ]
            ],
            "type": "heatmap"
           }
          ],
          "heatmapgl": [
           {
            "colorbar": {
             "outlinewidth": 0,
             "ticks": ""
            },
            "colorscale": [
             [
              0,
              "#0d0887"
             ],
             [
              0.1111111111111111,
              "#46039f"
             ],
             [
              0.2222222222222222,
              "#7201a8"
             ],
             [
              0.3333333333333333,
              "#9c179e"
             ],
             [
              0.4444444444444444,
              "#bd3786"
             ],
             [
              0.5555555555555556,
              "#d8576b"
             ],
             [
              0.6666666666666666,
              "#ed7953"
             ],
             [
              0.7777777777777778,
              "#fb9f3a"
             ],
             [
              0.8888888888888888,
              "#fdca26"
             ],
             [
              1,
              "#f0f921"
             ]
            ],
            "type": "heatmapgl"
           }
          ],
          "histogram": [
           {
            "marker": {
             "colorbar": {
              "outlinewidth": 0,
              "ticks": ""
             }
            },
            "type": "histogram"
           }
          ],
          "histogram2d": [
           {
            "colorbar": {
             "outlinewidth": 0,
             "ticks": ""
            },
            "colorscale": [
             [
              0,
              "#0d0887"
             ],
             [
              0.1111111111111111,
              "#46039f"
             ],
             [
              0.2222222222222222,
              "#7201a8"
             ],
             [
              0.3333333333333333,
              "#9c179e"
             ],
             [
              0.4444444444444444,
              "#bd3786"
             ],
             [
              0.5555555555555556,
              "#d8576b"
             ],
             [
              0.6666666666666666,
              "#ed7953"
             ],
             [
              0.7777777777777778,
              "#fb9f3a"
             ],
             [
              0.8888888888888888,
              "#fdca26"
             ],
             [
              1,
              "#f0f921"
             ]
            ],
            "type": "histogram2d"
           }
          ],
          "histogram2dcontour": [
           {
            "colorbar": {
             "outlinewidth": 0,
             "ticks": ""
            },
            "colorscale": [
             [
              0,
              "#0d0887"
             ],
             [
              0.1111111111111111,
              "#46039f"
             ],
             [
              0.2222222222222222,
              "#7201a8"
             ],
             [
              0.3333333333333333,
              "#9c179e"
             ],
             [
              0.4444444444444444,
              "#bd3786"
             ],
             [
              0.5555555555555556,
              "#d8576b"
             ],
             [
              0.6666666666666666,
              "#ed7953"
             ],
             [
              0.7777777777777778,
              "#fb9f3a"
             ],
             [
              0.8888888888888888,
              "#fdca26"
             ],
             [
              1,
              "#f0f921"
             ]
            ],
            "type": "histogram2dcontour"
           }
          ],
          "mesh3d": [
           {
            "colorbar": {
             "outlinewidth": 0,
             "ticks": ""
            },
            "type": "mesh3d"
           }
          ],
          "parcoords": [
           {
            "line": {
             "colorbar": {
              "outlinewidth": 0,
              "ticks": ""
             }
            },
            "type": "parcoords"
           }
          ],
          "pie": [
           {
            "automargin": true,
            "type": "pie"
           }
          ],
          "scatter": [
           {
            "marker": {
             "colorbar": {
              "outlinewidth": 0,
              "ticks": ""
             }
            },
            "type": "scatter"
           }
          ],
          "scatter3d": [
           {
            "line": {
             "colorbar": {
              "outlinewidth": 0,
              "ticks": ""
             }
            },
            "marker": {
             "colorbar": {
              "outlinewidth": 0,
              "ticks": ""
             }
            },
            "type": "scatter3d"
           }
          ],
          "scattercarpet": [
           {
            "marker": {
             "colorbar": {
              "outlinewidth": 0,
              "ticks": ""
             }
            },
            "type": "scattercarpet"
           }
          ],
          "scattergeo": [
           {
            "marker": {
             "colorbar": {
              "outlinewidth": 0,
              "ticks": ""
             }
            },
            "type": "scattergeo"
           }
          ],
          "scattergl": [
           {
            "marker": {
             "colorbar": {
              "outlinewidth": 0,
              "ticks": ""
             }
            },
            "type": "scattergl"
           }
          ],
          "scattermapbox": [
           {
            "marker": {
             "colorbar": {
              "outlinewidth": 0,
              "ticks": ""
             }
            },
            "type": "scattermapbox"
           }
          ],
          "scatterpolar": [
           {
            "marker": {
             "colorbar": {
              "outlinewidth": 0,
              "ticks": ""
             }
            },
            "type": "scatterpolar"
           }
          ],
          "scatterpolargl": [
           {
            "marker": {
             "colorbar": {
              "outlinewidth": 0,
              "ticks": ""
             }
            },
            "type": "scatterpolargl"
           }
          ],
          "scatterternary": [
           {
            "marker": {
             "colorbar": {
              "outlinewidth": 0,
              "ticks": ""
             }
            },
            "type": "scatterternary"
           }
          ],
          "surface": [
           {
            "colorbar": {
             "outlinewidth": 0,
             "ticks": ""
            },
            "colorscale": [
             [
              0,
              "#0d0887"
             ],
             [
              0.1111111111111111,
              "#46039f"
             ],
             [
              0.2222222222222222,
              "#7201a8"
             ],
             [
              0.3333333333333333,
              "#9c179e"
             ],
             [
              0.4444444444444444,
              "#bd3786"
             ],
             [
              0.5555555555555556,
              "#d8576b"
             ],
             [
              0.6666666666666666,
              "#ed7953"
             ],
             [
              0.7777777777777778,
              "#fb9f3a"
             ],
             [
              0.8888888888888888,
              "#fdca26"
             ],
             [
              1,
              "#f0f921"
             ]
            ],
            "type": "surface"
           }
          ],
          "table": [
           {
            "cells": {
             "fill": {
              "color": "#EBF0F8"
             },
             "line": {
              "color": "white"
             }
            },
            "header": {
             "fill": {
              "color": "#C8D4E3"
             },
             "line": {
              "color": "white"
             }
            },
            "type": "table"
           }
          ]
         },
         "layout": {
          "annotationdefaults": {
           "arrowcolor": "#2a3f5f",
           "arrowhead": 0,
           "arrowwidth": 1
          },
          "autotypenumbers": "strict",
          "coloraxis": {
           "colorbar": {
            "outlinewidth": 0,
            "ticks": ""
           }
          },
          "colorscale": {
           "diverging": [
            [
             0,
             "#8e0152"
            ],
            [
             0.1,
             "#c51b7d"
            ],
            [
             0.2,
             "#de77ae"
            ],
            [
             0.3,
             "#f1b6da"
            ],
            [
             0.4,
             "#fde0ef"
            ],
            [
             0.5,
             "#f7f7f7"
            ],
            [
             0.6,
             "#e6f5d0"
            ],
            [
             0.7,
             "#b8e186"
            ],
            [
             0.8,
             "#7fbc41"
            ],
            [
             0.9,
             "#4d9221"
            ],
            [
             1,
             "#276419"
            ]
           ],
           "sequential": [
            [
             0,
             "#0d0887"
            ],
            [
             0.1111111111111111,
             "#46039f"
            ],
            [
             0.2222222222222222,
             "#7201a8"
            ],
            [
             0.3333333333333333,
             "#9c179e"
            ],
            [
             0.4444444444444444,
             "#bd3786"
            ],
            [
             0.5555555555555556,
             "#d8576b"
            ],
            [
             0.6666666666666666,
             "#ed7953"
            ],
            [
             0.7777777777777778,
             "#fb9f3a"
            ],
            [
             0.8888888888888888,
             "#fdca26"
            ],
            [
             1,
             "#f0f921"
            ]
           ],
           "sequentialminus": [
            [
             0,
             "#0d0887"
            ],
            [
             0.1111111111111111,
             "#46039f"
            ],
            [
             0.2222222222222222,
             "#7201a8"
            ],
            [
             0.3333333333333333,
             "#9c179e"
            ],
            [
             0.4444444444444444,
             "#bd3786"
            ],
            [
             0.5555555555555556,
             "#d8576b"
            ],
            [
             0.6666666666666666,
             "#ed7953"
            ],
            [
             0.7777777777777778,
             "#fb9f3a"
            ],
            [
             0.8888888888888888,
             "#fdca26"
            ],
            [
             1,
             "#f0f921"
            ]
           ]
          },
          "colorway": [
           "#636efa",
           "#EF553B",
           "#00cc96",
           "#ab63fa",
           "#FFA15A",
           "#19d3f3",
           "#FF6692",
           "#B6E880",
           "#FF97FF",
           "#FECB52"
          ],
          "font": {
           "color": "#2a3f5f"
          },
          "geo": {
           "bgcolor": "white",
           "lakecolor": "white",
           "landcolor": "#E5ECF6",
           "showlakes": true,
           "showland": true,
           "subunitcolor": "white"
          },
          "hoverlabel": {
           "align": "left"
          },
          "hovermode": "closest",
          "mapbox": {
           "style": "light"
          },
          "paper_bgcolor": "white",
          "plot_bgcolor": "#E5ECF6",
          "polar": {
           "angularaxis": {
            "gridcolor": "white",
            "linecolor": "white",
            "ticks": ""
           },
           "bgcolor": "#E5ECF6",
           "radialaxis": {
            "gridcolor": "white",
            "linecolor": "white",
            "ticks": ""
           }
          },
          "scene": {
           "xaxis": {
            "backgroundcolor": "#E5ECF6",
            "gridcolor": "white",
            "gridwidth": 2,
            "linecolor": "white",
            "showbackground": true,
            "ticks": "",
            "zerolinecolor": "white"
           },
           "yaxis": {
            "backgroundcolor": "#E5ECF6",
            "gridcolor": "white",
            "gridwidth": 2,
            "linecolor": "white",
            "showbackground": true,
            "ticks": "",
            "zerolinecolor": "white"
           },
           "zaxis": {
            "backgroundcolor": "#E5ECF6",
            "gridcolor": "white",
            "gridwidth": 2,
            "linecolor": "white",
            "showbackground": true,
            "ticks": "",
            "zerolinecolor": "white"
           }
          },
          "shapedefaults": {
           "line": {
            "color": "#2a3f5f"
           }
          },
          "ternary": {
           "aaxis": {
            "gridcolor": "white",
            "linecolor": "white",
            "ticks": ""
           },
           "baxis": {
            "gridcolor": "white",
            "linecolor": "white",
            "ticks": ""
           },
           "bgcolor": "#E5ECF6",
           "caxis": {
            "gridcolor": "white",
            "linecolor": "white",
            "ticks": ""
           }
          },
          "title": {
           "x": 0.05
          },
          "xaxis": {
           "automargin": true,
           "gridcolor": "white",
           "linecolor": "white",
           "ticks": "",
           "title": {
            "standoff": 15
           },
           "zerolinecolor": "white",
           "zerolinewidth": 2
          },
          "yaxis": {
           "automargin": true,
           "gridcolor": "white",
           "linecolor": "white",
           "ticks": "",
           "title": {
            "standoff": 15
           },
           "zerolinecolor": "white",
           "zerolinewidth": 2
          }
         }
        },
        "xaxis": {
         "title": {
          "text": "Epoch"
         }
        },
        "yaxis": {
         "title": {
          "text": "mean update"
         }
        }
       }
      },
      "text/html": [
       "<div>                            <div id=\"964d48ae-b893-4b22-84b8-ea64dab2a69f\" class=\"plotly-graph-div\" style=\"height:525px; width:100%;\"></div>            <script type=\"text/javascript\">                require([\"plotly\"], function(Plotly) {                    window.PLOTLYENV=window.PLOTLYENV || {};                                    if (document.getElementById(\"964d48ae-b893-4b22-84b8-ea64dab2a69f\")) {                    Plotly.newPlot(                        \"964d48ae-b893-4b22-84b8-ea64dab2a69f\",                        [{\"name\": \"layer 1\", \"type\": \"scatter\", \"y\": [0.0012340255872871691, 0.001284821819838578, 0.001320706466895957, 0.0013644637989886162, 0.0014151754827186618, 0.0014728748902516776, 0.0015370745526328358, 0.0016096285853459918, 0.001691686811117052, 0.0017833632327384345, 0.0018845671236698107, 0.0019964377225688227, 0.0021205133183644065, 0.00225528064705305, 0.0024005633936992196, 0.002556251426283031, 0.0027211898922370865, 0.0028941902499044236, 0.003074167110821199, 0.0032577433830003255, 0.0034409386838859823, 0.0036197015300128642, 0.003790301853340694, 0.003951002317065697, 0.004102769813712867, 0.004248349713025706, 0.004389191903540259, 0.0045251876043206195, 0.00465541978870794, 0.00477711824442436, 0.004894950386219758, 0.005009918455556306, 0.005117179108775026, 0.005213496438166119, 0.005297825663117455, 0.005370232221732782, 0.0054302043515223304, 0.005476985973634786, 0.005510563259929759, 0.005531503854642718, 0.005540910613708313, 0.005540193905974889, 0.005530581711353892, 0.005513252968142108, 0.005489691915090678, 0.00546092357512179, 0.005427939789424621, 0.005392052434896905, 0.005354387612615161, 0.0053159006361158095, 0.00527706939565604, 0.005238141151504171, 0.005199449555892819, 0.005161352396756332, 0.005123467217426833, 0.005085882034526824, 0.005049050147757648, 0.005013314044300335, 0.004978410157084896, 0.004944144425532014, 0.004910678486149302, 0.004878142255268223, 0.0048465269421624135, 0.004815720657693192, 0.004785730646472549, 0.004756495317791503, 0.00472806564422713, 0.004700443149861235, 0.004673628661570109, 0.004647617403619906, 0.004622379974854078, 0.004597887026948567, 0.004574127455243685, 0.004551091145865805, 0.004528746263028977, 0.00450707179737963, 0.0044860515845471585, 0.0044656663384554296, 0.004445889001762538, 0.0044266966017111765, 0.004408064184239376, 0.004389974681136114, 0.004372415642960889, 0.004355359528426276, 0.004338786772664608, 0.004322681825285443, 0.004307030755884374, 0.004291816754066535, 0.004277025197913129, 0.004262642475959867, 0.004248647575839568, 0.004235032838815845, 0.004221781248474115, 0.004208883846605721, 0.00419632748708731, 0.004184097210047261, 0.00417218938054576, 0.004160591331672879, 0.004149294755132623, 0.0041382888928561245]}, {\"name\": \"layer 2\", \"type\": \"scatter\", \"y\": [0.00996487903961659, 0.010063805400854164, 0.01004331280718353, 0.010049174178074414, 0.010076305464032615, 0.01012580465337435, 0.010200730113731682, 0.010305322099234666, 0.01043635616712564, 0.010593558756798394, 0.010777378204744982, 0.010988741692756827, 0.011227738354016352, 0.011495989779453515, 0.011799419245387905, 0.01213140325519203, 0.012483485588985998, 0.012847271072113357, 0.013214362566569276, 0.013573798091070366, 0.013917308274712669, 0.01423649001175749, 0.014521850984456613, 0.014764632286941234, 0.014961159982569012, 0.01511158950463116, 0.015218446914342027, 0.015294531897315998, 0.015333122896885473, 0.015334858667351714, 0.015304090987993582, 0.015248204162963866, 0.015170866365324576, 0.015067120964903162, 0.014942182552157861, 0.014796574372210176, 0.014626803659820962, 0.014434643686295183, 0.014223447022168123, 0.013997091777857755, 0.01376080994631192, 0.013519906723565102, 0.01327744330269503, 0.013035664439991377, 0.012796619212054055, 0.01256215265226359, 0.012333851566265104, 0.012112980869603837, 0.011900602153096415, 0.011697268035666376, 0.0115031409806415, 0.011318328199776604, 0.01114269080570764, 0.010975940446612011, 0.010817805961460411, 0.01066786313325761, 0.01052569696164364, 0.010390983426377095, 0.01026329246151552, 0.010142199241015145, 0.010027370464332028, 0.009918426847234577, 0.009814973176120385, 0.009716647281380282, 0.009623124038262848, 0.009534055682920688, 0.009449168528891258, 0.009368207483877806, 0.009290898287832255, 0.00921698531435524, 0.00914626850478573, 0.009078557313097367, 0.00901368049197387, 0.008951472738920125, 0.00889177805603374, 0.008834452511408322, 0.008779362879517649, 0.008726390574752635, 0.008675423813983786, 0.008626344584273457, 0.008579060523204951, 0.008533482991650654, 0.00848951806903533, 0.008447077757792229, 0.008406092847310517, 0.008366490697143725, 0.008328208835150864, 0.008291186621196291, 0.008255364860778137, 0.008220690557161129, 0.008187113848804136, 0.008154579221285246, 0.00812304525265366, 0.008092464745035827, 0.00806279716409113, 0.008034006541888197, 0.00800605848425302, 0.007978916192402203, 0.007952545175078318, 0.007926913985768187]}, {\"name\": \"layer 3\", \"type\": \"scatter\", \"y\": [0.05693448146166444, 0.057832949593109244, 0.05758884444613255, 0.05736027994339472, 0.05710569237091749, 0.056821962009463926, 0.056506118293584436, 0.05615491032554509, 0.05576461285207106, 0.05533109088166557, 0.05485004944127478, 0.05431598151274722, 0.05372389872692009, 0.05306779490336555, 0.052341190412081844, 0.05153723913086166, 0.05064943794816665, 0.04967149314914476, 0.04860038831059302, 0.04743427792368495, 0.04617696709421769, 0.04483553520928272, 0.04342365997339004, 0.04196595325937851, 0.0405000890815326, 0.039095365278894886, 0.03771990273908606, 0.036345448207488834, 0.034982607821268254, 0.033641354439349236, 0.03232795824911453, 0.0310466195781328, 0.029800016544545015, 0.0285898008010075, 0.027417192256183602, 0.026283670016148206, 0.025191847561635682, 0.024143466538303508, 0.023139630352343517, 0.02218160258171252, 0.021271112709983647, 0.020409237182079754, 0.019596427778908392, 0.018832261687106132, 0.018116001672674176, 0.017446203415515674, 0.016820910822116338, 0.01623792282023079, 0.015694826434454214, 0.015189144083370966, 0.014718307923915496, 0.014279784983202414, 0.013871163775161057, 0.013490129443620472, 0.013134548533935529, 0.012802417983794065, 0.012491828674541029, 0.012201064246532143, 0.011928535827126448, 0.011672775208657412, 0.011432432103635076, 0.011206301726247769, 0.01099326321795513, 0.010792313171447725, 0.010602519730195697, 0.010423044955364235, 0.010253104030722276, 0.010092004762360865, 0.009939100023939433, 0.009793804540897379, 0.009655590628782424, 0.009523987161720177, 0.009398543111014752, 0.009278843057451438, 0.009164510735780817, 0.009055201984303997, 0.00895060053136141, 0.008850418424123284, 0.00875438256067054, 0.00866225256249298, 0.00857379578297619, 0.008488800700756912, 0.008407071646958782, 0.008328425343994953, 0.008252697443006494, 0.008179732291603183, 0.008109383119412216, 0.008041516241125824, 0.007976004103907157, 0.007912724663884601, 0.007851569061935062, 0.007792433386015099, 0.007735218345593462, 0.007679833315439978, 0.00762619726407761, 0.0075742291803395385, 0.0075238499982982765, 0.007474989148117556, 0.007427583079815622, 0.007381565882907149]}, {\"name\": \"layer 4\", \"type\": \"scatter\", \"y\": []}],                        {\"template\": {\"data\": {\"bar\": [{\"error_x\": {\"color\": \"#2a3f5f\"}, \"error_y\": {\"color\": \"#2a3f5f\"}, \"marker\": {\"line\": {\"color\": \"#E5ECF6\", \"width\": 0.5}}, \"type\": \"bar\"}], \"barpolar\": [{\"marker\": {\"line\": {\"color\": \"#E5ECF6\", \"width\": 0.5}}, \"type\": \"barpolar\"}], \"carpet\": [{\"aaxis\": {\"endlinecolor\": \"#2a3f5f\", \"gridcolor\": \"white\", \"linecolor\": \"white\", \"minorgridcolor\": \"white\", \"startlinecolor\": \"#2a3f5f\"}, \"baxis\": {\"endlinecolor\": \"#2a3f5f\", \"gridcolor\": \"white\", \"linecolor\": \"white\", \"minorgridcolor\": \"white\", \"startlinecolor\": \"#2a3f5f\"}, \"type\": \"carpet\"}], \"choropleth\": [{\"colorbar\": {\"outlinewidth\": 0, \"ticks\": \"\"}, \"type\": \"choropleth\"}], \"contour\": [{\"colorbar\": {\"outlinewidth\": 0, \"ticks\": \"\"}, \"colorscale\": [[0.0, \"#0d0887\"], [0.1111111111111111, \"#46039f\"], [0.2222222222222222, \"#7201a8\"], [0.3333333333333333, \"#9c179e\"], [0.4444444444444444, \"#bd3786\"], [0.5555555555555556, \"#d8576b\"], [0.6666666666666666, \"#ed7953\"], [0.7777777777777778, \"#fb9f3a\"], [0.8888888888888888, \"#fdca26\"], [1.0, \"#f0f921\"]], \"type\": \"contour\"}], \"contourcarpet\": [{\"colorbar\": {\"outlinewidth\": 0, \"ticks\": \"\"}, \"type\": \"contourcarpet\"}], \"heatmap\": [{\"colorbar\": {\"outlinewidth\": 0, \"ticks\": \"\"}, \"colorscale\": [[0.0, \"#0d0887\"], [0.1111111111111111, \"#46039f\"], [0.2222222222222222, \"#7201a8\"], [0.3333333333333333, \"#9c179e\"], [0.4444444444444444, \"#bd3786\"], [0.5555555555555556, \"#d8576b\"], [0.6666666666666666, \"#ed7953\"], [0.7777777777777778, \"#fb9f3a\"], [0.8888888888888888, \"#fdca26\"], [1.0, \"#f0f921\"]], \"type\": \"heatmap\"}], \"heatmapgl\": [{\"colorbar\": {\"outlinewidth\": 0, \"ticks\": \"\"}, \"colorscale\": [[0.0, \"#0d0887\"], [0.1111111111111111, \"#46039f\"], [0.2222222222222222, \"#7201a8\"], [0.3333333333333333, \"#9c179e\"], [0.4444444444444444, \"#bd3786\"], [0.5555555555555556, \"#d8576b\"], [0.6666666666666666, \"#ed7953\"], [0.7777777777777778, \"#fb9f3a\"], [0.8888888888888888, \"#fdca26\"], [1.0, \"#f0f921\"]], \"type\": \"heatmapgl\"}], \"histogram\": [{\"marker\": {\"colorbar\": {\"outlinewidth\": 0, \"ticks\": \"\"}}, \"type\": \"histogram\"}], \"histogram2d\": [{\"colorbar\": {\"outlinewidth\": 0, \"ticks\": \"\"}, \"colorscale\": [[0.0, \"#0d0887\"], [0.1111111111111111, \"#46039f\"], [0.2222222222222222, \"#7201a8\"], [0.3333333333333333, \"#9c179e\"], [0.4444444444444444, \"#bd3786\"], [0.5555555555555556, \"#d8576b\"], [0.6666666666666666, \"#ed7953\"], [0.7777777777777778, \"#fb9f3a\"], [0.8888888888888888, \"#fdca26\"], [1.0, \"#f0f921\"]], \"type\": \"histogram2d\"}], \"histogram2dcontour\": [{\"colorbar\": {\"outlinewidth\": 0, \"ticks\": \"\"}, \"colorscale\": [[0.0, \"#0d0887\"], [0.1111111111111111, \"#46039f\"], [0.2222222222222222, \"#7201a8\"], [0.3333333333333333, \"#9c179e\"], [0.4444444444444444, \"#bd3786\"], [0.5555555555555556, \"#d8576b\"], [0.6666666666666666, \"#ed7953\"], [0.7777777777777778, \"#fb9f3a\"], [0.8888888888888888, \"#fdca26\"], [1.0, \"#f0f921\"]], \"type\": \"histogram2dcontour\"}], \"mesh3d\": [{\"colorbar\": {\"outlinewidth\": 0, \"ticks\": \"\"}, \"type\": \"mesh3d\"}], \"parcoords\": [{\"line\": {\"colorbar\": {\"outlinewidth\": 0, \"ticks\": \"\"}}, \"type\": \"parcoords\"}], \"pie\": [{\"automargin\": true, \"type\": \"pie\"}], \"scatter\": [{\"marker\": {\"colorbar\": {\"outlinewidth\": 0, \"ticks\": \"\"}}, \"type\": \"scatter\"}], \"scatter3d\": [{\"line\": {\"colorbar\": {\"outlinewidth\": 0, \"ticks\": \"\"}}, \"marker\": {\"colorbar\": {\"outlinewidth\": 0, \"ticks\": \"\"}}, \"type\": \"scatter3d\"}], \"scattercarpet\": [{\"marker\": {\"colorbar\": {\"outlinewidth\": 0, \"ticks\": \"\"}}, \"type\": \"scattercarpet\"}], \"scattergeo\": [{\"marker\": {\"colorbar\": {\"outlinewidth\": 0, \"ticks\": \"\"}}, \"type\": \"scattergeo\"}], \"scattergl\": [{\"marker\": {\"colorbar\": {\"outlinewidth\": 0, \"ticks\": \"\"}}, \"type\": \"scattergl\"}], \"scattermapbox\": [{\"marker\": {\"colorbar\": {\"outlinewidth\": 0, \"ticks\": \"\"}}, \"type\": \"scattermapbox\"}], \"scatterpolar\": [{\"marker\": {\"colorbar\": {\"outlinewidth\": 0, \"ticks\": \"\"}}, \"type\": \"scatterpolar\"}], \"scatterpolargl\": [{\"marker\": {\"colorbar\": {\"outlinewidth\": 0, \"ticks\": \"\"}}, \"type\": \"scatterpolargl\"}], \"scatterternary\": [{\"marker\": {\"colorbar\": {\"outlinewidth\": 0, \"ticks\": \"\"}}, \"type\": \"scatterternary\"}], \"surface\": [{\"colorbar\": {\"outlinewidth\": 0, \"ticks\": \"\"}, \"colorscale\": [[0.0, \"#0d0887\"], [0.1111111111111111, \"#46039f\"], [0.2222222222222222, \"#7201a8\"], [0.3333333333333333, \"#9c179e\"], [0.4444444444444444, \"#bd3786\"], [0.5555555555555556, \"#d8576b\"], [0.6666666666666666, \"#ed7953\"], [0.7777777777777778, \"#fb9f3a\"], [0.8888888888888888, \"#fdca26\"], [1.0, \"#f0f921\"]], \"type\": \"surface\"}], \"table\": [{\"cells\": {\"fill\": {\"color\": \"#EBF0F8\"}, \"line\": {\"color\": \"white\"}}, \"header\": {\"fill\": {\"color\": \"#C8D4E3\"}, \"line\": {\"color\": \"white\"}}, \"type\": \"table\"}]}, \"layout\": {\"annotationdefaults\": {\"arrowcolor\": \"#2a3f5f\", \"arrowhead\": 0, \"arrowwidth\": 1}, \"autotypenumbers\": \"strict\", \"coloraxis\": {\"colorbar\": {\"outlinewidth\": 0, \"ticks\": \"\"}}, \"colorscale\": {\"diverging\": [[0, \"#8e0152\"], [0.1, \"#c51b7d\"], [0.2, \"#de77ae\"], [0.3, \"#f1b6da\"], [0.4, \"#fde0ef\"], [0.5, \"#f7f7f7\"], [0.6, \"#e6f5d0\"], [0.7, \"#b8e186\"], [0.8, \"#7fbc41\"], [0.9, \"#4d9221\"], [1, \"#276419\"]], \"sequential\": [[0.0, \"#0d0887\"], [0.1111111111111111, \"#46039f\"], [0.2222222222222222, \"#7201a8\"], [0.3333333333333333, \"#9c179e\"], [0.4444444444444444, \"#bd3786\"], [0.5555555555555556, \"#d8576b\"], [0.6666666666666666, \"#ed7953\"], [0.7777777777777778, \"#fb9f3a\"], [0.8888888888888888, \"#fdca26\"], [1.0, \"#f0f921\"]], \"sequentialminus\": [[0.0, \"#0d0887\"], [0.1111111111111111, \"#46039f\"], [0.2222222222222222, \"#7201a8\"], [0.3333333333333333, \"#9c179e\"], [0.4444444444444444, \"#bd3786\"], [0.5555555555555556, \"#d8576b\"], [0.6666666666666666, \"#ed7953\"], [0.7777777777777778, \"#fb9f3a\"], [0.8888888888888888, \"#fdca26\"], [1.0, \"#f0f921\"]]}, \"colorway\": [\"#636efa\", \"#EF553B\", \"#00cc96\", \"#ab63fa\", \"#FFA15A\", \"#19d3f3\", \"#FF6692\", \"#B6E880\", \"#FF97FF\", \"#FECB52\"], \"font\": {\"color\": \"#2a3f5f\"}, \"geo\": {\"bgcolor\": \"white\", \"lakecolor\": \"white\", \"landcolor\": \"#E5ECF6\", \"showlakes\": true, \"showland\": true, \"subunitcolor\": \"white\"}, \"hoverlabel\": {\"align\": \"left\"}, \"hovermode\": \"closest\", \"mapbox\": {\"style\": \"light\"}, \"paper_bgcolor\": \"white\", \"plot_bgcolor\": \"#E5ECF6\", \"polar\": {\"angularaxis\": {\"gridcolor\": \"white\", \"linecolor\": \"white\", \"ticks\": \"\"}, \"bgcolor\": \"#E5ECF6\", \"radialaxis\": {\"gridcolor\": \"white\", \"linecolor\": \"white\", \"ticks\": \"\"}}, \"scene\": {\"xaxis\": {\"backgroundcolor\": \"#E5ECF6\", \"gridcolor\": \"white\", \"gridwidth\": 2, \"linecolor\": \"white\", \"showbackground\": true, \"ticks\": \"\", \"zerolinecolor\": \"white\"}, \"yaxis\": {\"backgroundcolor\": \"#E5ECF6\", \"gridcolor\": \"white\", \"gridwidth\": 2, \"linecolor\": \"white\", \"showbackground\": true, \"ticks\": \"\", \"zerolinecolor\": \"white\"}, \"zaxis\": {\"backgroundcolor\": \"#E5ECF6\", \"gridcolor\": \"white\", \"gridwidth\": 2, \"linecolor\": \"white\", \"showbackground\": true, \"ticks\": \"\", \"zerolinecolor\": \"white\"}}, \"shapedefaults\": {\"line\": {\"color\": \"#2a3f5f\"}}, \"ternary\": {\"aaxis\": {\"gridcolor\": \"white\", \"linecolor\": \"white\", \"ticks\": \"\"}, \"baxis\": {\"gridcolor\": \"white\", \"linecolor\": \"white\", \"ticks\": \"\"}, \"bgcolor\": \"#E5ECF6\", \"caxis\": {\"gridcolor\": \"white\", \"linecolor\": \"white\", \"ticks\": \"\"}}, \"title\": {\"x\": 0.05}, \"xaxis\": {\"automargin\": true, \"gridcolor\": \"white\", \"linecolor\": \"white\", \"ticks\": \"\", \"title\": {\"standoff\": 15}, \"zerolinecolor\": \"white\", \"zerolinewidth\": 2}, \"yaxis\": {\"automargin\": true, \"gridcolor\": \"white\", \"linecolor\": \"white\", \"ticks\": \"\", \"title\": {\"standoff\": 15}, \"zerolinecolor\": \"white\", \"zerolinewidth\": 2}}}, \"xaxis\": {\"title\": {\"text\": \"Epoch\"}}, \"yaxis\": {\"title\": {\"text\": \"mean update\"}}},                        {\"responsive\": true}                    ).then(function(){\n",
       "                            \n",
       "var gd = document.getElementById('964d48ae-b893-4b22-84b8-ea64dab2a69f');\n",
       "var x = new MutationObserver(function (mutations, observer) {{\n",
       "        var display = window.getComputedStyle(gd).display;\n",
       "        if (!display || display === 'none') {{\n",
       "            console.log([gd, 'removed!']);\n",
       "            Plotly.purge(gd);\n",
       "            observer.disconnect();\n",
       "        }}\n",
       "}});\n",
       "\n",
       "// Listen for the removal of the full notebook cells\n",
       "var notebookContainer = gd.closest('#notebook-container');\n",
       "if (notebookContainer) {{\n",
       "    x.observe(notebookContainer, {childList: true});\n",
       "}}\n",
       "\n",
       "// Listen for the clearing of the current output cell\n",
       "var outputEl = gd.closest('.output');\n",
       "if (outputEl) {{\n",
       "    x.observe(outputEl, {childList: true});\n",
       "}}\n",
       "\n",
       "                        })                };                });            </script>        </div>"
      ]
     },
     "metadata": {},
     "output_type": "display_data"
    }
   ],
   "source": [
    "fig = go.Figure()\n",
    "for i in range(1,5):\n",
    "    fig.add_trace(\n",
    "        go.Scatter(y=output[f'Linear_{i}_mean_update'], name=f'layer {i}')\n",
    "    )\n",
    "fig.update_layout(xaxis_title='Epoch', yaxis_title='mean update')\n",
    "fig"
   ]
  },
  {
   "cell_type": "code",
   "execution_count": 16,
   "metadata": {
    "ExecuteTime": {
     "end_time": "2021-03-16T10:15:10.716703Z",
     "start_time": "2021-03-16T10:15:10.642745Z"
    },
    "scrolled": false
   },
   "outputs": [
    {
     "data": {
      "application/vnd.plotly.v1+json": {
       "config": {
        "plotlyServerURL": "https://plot.ly"
       },
       "data": [
        {
         "name": "train accuracy",
         "type": "scatter",
         "y": [
          0.3333333333333333,
          0.3333333333333333,
          0.3333333333333333,
          0.3333333333333333,
          0.3333333333333333,
          0.3333333333333333,
          0.3333333333333333,
          0.3333333333333333,
          0.3333333333333333,
          0.3333333333333333,
          0.3333333333333333,
          0.3333333333333333,
          0.3333333333333333,
          0.3333333333333333,
          0.3333333333333333,
          0.3333333333333333,
          0.3333333333333333,
          0.3333333333333333,
          0.3333333333333333,
          0.3333333333333333,
          0.3333333333333333,
          0.3333333333333333,
          0.3333333333333333,
          0.3333333333333333,
          0.3333333333333333,
          0.33726666666666666,
          0.35223333333333334,
          0.3797,
          0.4176,
          0.4519,
          0.4841666666666667,
          0.5111666666666667,
          0.5331,
          0.5486333333333333,
          0.5619666666666666,
          0.5725,
          0.5795666666666667,
          0.5842,
          0.5888,
          0.5917333333333333,
          0.5964,
          0.6137666666666667,
          0.6557666666666667,
          0.7157333333333333,
          0.7717333333333334,
          0.8134333333333333,
          0.8445666666666667,
          0.8646,
          0.879,
          0.8883333333333333,
          0.8957,
          0.9,
          0.9037333333333334,
          0.9067333333333333,
          0.9091333333333333,
          0.9103666666666667,
          0.9119,
          0.9130666666666667,
          0.9142333333333333,
          0.9151,
          0.9158666666666667,
          0.9166333333333333,
          0.9169333333333334,
          0.9173333333333333,
          0.9178,
          0.9182666666666667,
          0.9187333333333333,
          0.919,
          0.9191666666666667,
          0.9193666666666667,
          0.9195666666666666,
          0.9199,
          0.9200333333333334,
          0.9203,
          0.9205666666666666,
          0.9207333333333333,
          0.9209,
          0.9208666666666666,
          0.921,
          0.9211333333333334,
          0.9212,
          0.9213666666666667,
          0.9214333333333333,
          0.9214666666666667,
          0.9215,
          0.9215,
          0.9216,
          0.9217,
          0.9217333333333333,
          0.9218333333333333,
          0.9218,
          0.9219666666666667,
          0.922,
          0.9222333333333333,
          0.9224333333333333,
          0.9225666666666666,
          0.9227333333333333,
          0.9227666666666666,
          0.9228333333333333,
          0.9228,
          0.9229333333333334
         ]
        },
        {
         "name": "test accuracy",
         "type": "scatter",
         "y": [
          0.3333333333333333,
          0.3333333333333333,
          0.3333333333333333,
          0.3333333333333333,
          0.3333333333333333,
          0.3333333333333333,
          0.3333333333333333,
          0.3333333333333333,
          0.3333333333333333,
          0.3333333333333333,
          0.3333333333333333,
          0.3333333333333333,
          0.3333333333333333,
          0.3333333333333333,
          0.3333333333333333,
          0.3333333333333333,
          0.3333333333333333,
          0.3333333333333333,
          0.3333333333333333,
          0.3333333333333333,
          0.3333333333333333,
          0.3333333333333333,
          0.3333333333333333,
          0.3333333333333333,
          0.33343333333333336,
          0.3363333333333333,
          0.35083333333333333,
          0.3799666666666667,
          0.4135,
          0.4485,
          0.4796666666666667,
          0.5088666666666667,
          0.5323,
          0.548,
          0.5608333333333333,
          0.5692666666666667,
          0.5756,
          0.5808,
          0.5847,
          0.5881333333333333,
          0.5930333333333333,
          0.6103333333333333,
          0.6525,
          0.7124666666666667,
          0.7689,
          0.8119,
          0.8404,
          0.8607666666666667,
          0.8748666666666667,
          0.884,
          0.8905666666666666,
          0.8963,
          0.8995,
          0.9020666666666667,
          0.9044,
          0.9064,
          0.9077,
          0.9088333333333334,
          0.9098333333333334,
          0.9109666666666667,
          0.9115,
          0.9119,
          0.9126,
          0.9130333333333334,
          0.9136333333333333,
          0.9143,
          0.9145333333333333,
          0.9149,
          0.9154666666666667,
          0.9157666666666666,
          0.9158666666666667,
          0.9161333333333334,
          0.9163666666666667,
          0.9167,
          0.9169666666666667,
          0.9171,
          0.9170666666666667,
          0.9172333333333333,
          0.9174333333333333,
          0.9175666666666666,
          0.9178666666666667,
          0.918,
          0.9179666666666667,
          0.9180333333333334,
          0.9181333333333334,
          0.9182666666666667,
          0.9184,
          0.9184666666666667,
          0.9184666666666667,
          0.9186333333333333,
          0.9186333333333333,
          0.9186666666666666,
          0.9187666666666666,
          0.9188666666666667,
          0.9187666666666666,
          0.9188666666666667,
          0.9190666666666667,
          0.9191,
          0.9192,
          0.9194,
          0.9194666666666667
         ]
        }
       ],
       "layout": {
        "template": {
         "data": {
          "bar": [
           {
            "error_x": {
             "color": "#2a3f5f"
            },
            "error_y": {
             "color": "#2a3f5f"
            },
            "marker": {
             "line": {
              "color": "#E5ECF6",
              "width": 0.5
             }
            },
            "type": "bar"
           }
          ],
          "barpolar": [
           {
            "marker": {
             "line": {
              "color": "#E5ECF6",
              "width": 0.5
             }
            },
            "type": "barpolar"
           }
          ],
          "carpet": [
           {
            "aaxis": {
             "endlinecolor": "#2a3f5f",
             "gridcolor": "white",
             "linecolor": "white",
             "minorgridcolor": "white",
             "startlinecolor": "#2a3f5f"
            },
            "baxis": {
             "endlinecolor": "#2a3f5f",
             "gridcolor": "white",
             "linecolor": "white",
             "minorgridcolor": "white",
             "startlinecolor": "#2a3f5f"
            },
            "type": "carpet"
           }
          ],
          "choropleth": [
           {
            "colorbar": {
             "outlinewidth": 0,
             "ticks": ""
            },
            "type": "choropleth"
           }
          ],
          "contour": [
           {
            "colorbar": {
             "outlinewidth": 0,
             "ticks": ""
            },
            "colorscale": [
             [
              0,
              "#0d0887"
             ],
             [
              0.1111111111111111,
              "#46039f"
             ],
             [
              0.2222222222222222,
              "#7201a8"
             ],
             [
              0.3333333333333333,
              "#9c179e"
             ],
             [
              0.4444444444444444,
              "#bd3786"
             ],
             [
              0.5555555555555556,
              "#d8576b"
             ],
             [
              0.6666666666666666,
              "#ed7953"
             ],
             [
              0.7777777777777778,
              "#fb9f3a"
             ],
             [
              0.8888888888888888,
              "#fdca26"
             ],
             [
              1,
              "#f0f921"
             ]
            ],
            "type": "contour"
           }
          ],
          "contourcarpet": [
           {
            "colorbar": {
             "outlinewidth": 0,
             "ticks": ""
            },
            "type": "contourcarpet"
           }
          ],
          "heatmap": [
           {
            "colorbar": {
             "outlinewidth": 0,
             "ticks": ""
            },
            "colorscale": [
             [
              0,
              "#0d0887"
             ],
             [
              0.1111111111111111,
              "#46039f"
             ],
             [
              0.2222222222222222,
              "#7201a8"
             ],
             [
              0.3333333333333333,
              "#9c179e"
             ],
             [
              0.4444444444444444,
              "#bd3786"
             ],
             [
              0.5555555555555556,
              "#d8576b"
             ],
             [
              0.6666666666666666,
              "#ed7953"
             ],
             [
              0.7777777777777778,
              "#fb9f3a"
             ],
             [
              0.8888888888888888,
              "#fdca26"
             ],
             [
              1,
              "#f0f921"
             ]
            ],
            "type": "heatmap"
           }
          ],
          "heatmapgl": [
           {
            "colorbar": {
             "outlinewidth": 0,
             "ticks": ""
            },
            "colorscale": [
             [
              0,
              "#0d0887"
             ],
             [
              0.1111111111111111,
              "#46039f"
             ],
             [
              0.2222222222222222,
              "#7201a8"
             ],
             [
              0.3333333333333333,
              "#9c179e"
             ],
             [
              0.4444444444444444,
              "#bd3786"
             ],
             [
              0.5555555555555556,
              "#d8576b"
             ],
             [
              0.6666666666666666,
              "#ed7953"
             ],
             [
              0.7777777777777778,
              "#fb9f3a"
             ],
             [
              0.8888888888888888,
              "#fdca26"
             ],
             [
              1,
              "#f0f921"
             ]
            ],
            "type": "heatmapgl"
           }
          ],
          "histogram": [
           {
            "marker": {
             "colorbar": {
              "outlinewidth": 0,
              "ticks": ""
             }
            },
            "type": "histogram"
           }
          ],
          "histogram2d": [
           {
            "colorbar": {
             "outlinewidth": 0,
             "ticks": ""
            },
            "colorscale": [
             [
              0,
              "#0d0887"
             ],
             [
              0.1111111111111111,
              "#46039f"
             ],
             [
              0.2222222222222222,
              "#7201a8"
             ],
             [
              0.3333333333333333,
              "#9c179e"
             ],
             [
              0.4444444444444444,
              "#bd3786"
             ],
             [
              0.5555555555555556,
              "#d8576b"
             ],
             [
              0.6666666666666666,
              "#ed7953"
             ],
             [
              0.7777777777777778,
              "#fb9f3a"
             ],
             [
              0.8888888888888888,
              "#fdca26"
             ],
             [
              1,
              "#f0f921"
             ]
            ],
            "type": "histogram2d"
           }
          ],
          "histogram2dcontour": [
           {
            "colorbar": {
             "outlinewidth": 0,
             "ticks": ""
            },
            "colorscale": [
             [
              0,
              "#0d0887"
             ],
             [
              0.1111111111111111,
              "#46039f"
             ],
             [
              0.2222222222222222,
              "#7201a8"
             ],
             [
              0.3333333333333333,
              "#9c179e"
             ],
             [
              0.4444444444444444,
              "#bd3786"
             ],
             [
              0.5555555555555556,
              "#d8576b"
             ],
             [
              0.6666666666666666,
              "#ed7953"
             ],
             [
              0.7777777777777778,
              "#fb9f3a"
             ],
             [
              0.8888888888888888,
              "#fdca26"
             ],
             [
              1,
              "#f0f921"
             ]
            ],
            "type": "histogram2dcontour"
           }
          ],
          "mesh3d": [
           {
            "colorbar": {
             "outlinewidth": 0,
             "ticks": ""
            },
            "type": "mesh3d"
           }
          ],
          "parcoords": [
           {
            "line": {
             "colorbar": {
              "outlinewidth": 0,
              "ticks": ""
             }
            },
            "type": "parcoords"
           }
          ],
          "pie": [
           {
            "automargin": true,
            "type": "pie"
           }
          ],
          "scatter": [
           {
            "marker": {
             "colorbar": {
              "outlinewidth": 0,
              "ticks": ""
             }
            },
            "type": "scatter"
           }
          ],
          "scatter3d": [
           {
            "line": {
             "colorbar": {
              "outlinewidth": 0,
              "ticks": ""
             }
            },
            "marker": {
             "colorbar": {
              "outlinewidth": 0,
              "ticks": ""
             }
            },
            "type": "scatter3d"
           }
          ],
          "scattercarpet": [
           {
            "marker": {
             "colorbar": {
              "outlinewidth": 0,
              "ticks": ""
             }
            },
            "type": "scattercarpet"
           }
          ],
          "scattergeo": [
           {
            "marker": {
             "colorbar": {
              "outlinewidth": 0,
              "ticks": ""
             }
            },
            "type": "scattergeo"
           }
          ],
          "scattergl": [
           {
            "marker": {
             "colorbar": {
              "outlinewidth": 0,
              "ticks": ""
             }
            },
            "type": "scattergl"
           }
          ],
          "scattermapbox": [
           {
            "marker": {
             "colorbar": {
              "outlinewidth": 0,
              "ticks": ""
             }
            },
            "type": "scattermapbox"
           }
          ],
          "scatterpolar": [
           {
            "marker": {
             "colorbar": {
              "outlinewidth": 0,
              "ticks": ""
             }
            },
            "type": "scatterpolar"
           }
          ],
          "scatterpolargl": [
           {
            "marker": {
             "colorbar": {
              "outlinewidth": 0,
              "ticks": ""
             }
            },
            "type": "scatterpolargl"
           }
          ],
          "scatterternary": [
           {
            "marker": {
             "colorbar": {
              "outlinewidth": 0,
              "ticks": ""
             }
            },
            "type": "scatterternary"
           }
          ],
          "surface": [
           {
            "colorbar": {
             "outlinewidth": 0,
             "ticks": ""
            },
            "colorscale": [
             [
              0,
              "#0d0887"
             ],
             [
              0.1111111111111111,
              "#46039f"
             ],
             [
              0.2222222222222222,
              "#7201a8"
             ],
             [
              0.3333333333333333,
              "#9c179e"
             ],
             [
              0.4444444444444444,
              "#bd3786"
             ],
             [
              0.5555555555555556,
              "#d8576b"
             ],
             [
              0.6666666666666666,
              "#ed7953"
             ],
             [
              0.7777777777777778,
              "#fb9f3a"
             ],
             [
              0.8888888888888888,
              "#fdca26"
             ],
             [
              1,
              "#f0f921"
             ]
            ],
            "type": "surface"
           }
          ],
          "table": [
           {
            "cells": {
             "fill": {
              "color": "#EBF0F8"
             },
             "line": {
              "color": "white"
             }
            },
            "header": {
             "fill": {
              "color": "#C8D4E3"
             },
             "line": {
              "color": "white"
             }
            },
            "type": "table"
           }
          ]
         },
         "layout": {
          "annotationdefaults": {
           "arrowcolor": "#2a3f5f",
           "arrowhead": 0,
           "arrowwidth": 1
          },
          "autotypenumbers": "strict",
          "coloraxis": {
           "colorbar": {
            "outlinewidth": 0,
            "ticks": ""
           }
          },
          "colorscale": {
           "diverging": [
            [
             0,
             "#8e0152"
            ],
            [
             0.1,
             "#c51b7d"
            ],
            [
             0.2,
             "#de77ae"
            ],
            [
             0.3,
             "#f1b6da"
            ],
            [
             0.4,
             "#fde0ef"
            ],
            [
             0.5,
             "#f7f7f7"
            ],
            [
             0.6,
             "#e6f5d0"
            ],
            [
             0.7,
             "#b8e186"
            ],
            [
             0.8,
             "#7fbc41"
            ],
            [
             0.9,
             "#4d9221"
            ],
            [
             1,
             "#276419"
            ]
           ],
           "sequential": [
            [
             0,
             "#0d0887"
            ],
            [
             0.1111111111111111,
             "#46039f"
            ],
            [
             0.2222222222222222,
             "#7201a8"
            ],
            [
             0.3333333333333333,
             "#9c179e"
            ],
            [
             0.4444444444444444,
             "#bd3786"
            ],
            [
             0.5555555555555556,
             "#d8576b"
            ],
            [
             0.6666666666666666,
             "#ed7953"
            ],
            [
             0.7777777777777778,
             "#fb9f3a"
            ],
            [
             0.8888888888888888,
             "#fdca26"
            ],
            [
             1,
             "#f0f921"
            ]
           ],
           "sequentialminus": [
            [
             0,
             "#0d0887"
            ],
            [
             0.1111111111111111,
             "#46039f"
            ],
            [
             0.2222222222222222,
             "#7201a8"
            ],
            [
             0.3333333333333333,
             "#9c179e"
            ],
            [
             0.4444444444444444,
             "#bd3786"
            ],
            [
             0.5555555555555556,
             "#d8576b"
            ],
            [
             0.6666666666666666,
             "#ed7953"
            ],
            [
             0.7777777777777778,
             "#fb9f3a"
            ],
            [
             0.8888888888888888,
             "#fdca26"
            ],
            [
             1,
             "#f0f921"
            ]
           ]
          },
          "colorway": [
           "#636efa",
           "#EF553B",
           "#00cc96",
           "#ab63fa",
           "#FFA15A",
           "#19d3f3",
           "#FF6692",
           "#B6E880",
           "#FF97FF",
           "#FECB52"
          ],
          "font": {
           "color": "#2a3f5f"
          },
          "geo": {
           "bgcolor": "white",
           "lakecolor": "white",
           "landcolor": "#E5ECF6",
           "showlakes": true,
           "showland": true,
           "subunitcolor": "white"
          },
          "hoverlabel": {
           "align": "left"
          },
          "hovermode": "closest",
          "mapbox": {
           "style": "light"
          },
          "paper_bgcolor": "white",
          "plot_bgcolor": "#E5ECF6",
          "polar": {
           "angularaxis": {
            "gridcolor": "white",
            "linecolor": "white",
            "ticks": ""
           },
           "bgcolor": "#E5ECF6",
           "radialaxis": {
            "gridcolor": "white",
            "linecolor": "white",
            "ticks": ""
           }
          },
          "scene": {
           "xaxis": {
            "backgroundcolor": "#E5ECF6",
            "gridcolor": "white",
            "gridwidth": 2,
            "linecolor": "white",
            "showbackground": true,
            "ticks": "",
            "zerolinecolor": "white"
           },
           "yaxis": {
            "backgroundcolor": "#E5ECF6",
            "gridcolor": "white",
            "gridwidth": 2,
            "linecolor": "white",
            "showbackground": true,
            "ticks": "",
            "zerolinecolor": "white"
           },
           "zaxis": {
            "backgroundcolor": "#E5ECF6",
            "gridcolor": "white",
            "gridwidth": 2,
            "linecolor": "white",
            "showbackground": true,
            "ticks": "",
            "zerolinecolor": "white"
           }
          },
          "shapedefaults": {
           "line": {
            "color": "#2a3f5f"
           }
          },
          "ternary": {
           "aaxis": {
            "gridcolor": "white",
            "linecolor": "white",
            "ticks": ""
           },
           "baxis": {
            "gridcolor": "white",
            "linecolor": "white",
            "ticks": ""
           },
           "bgcolor": "#E5ECF6",
           "caxis": {
            "gridcolor": "white",
            "linecolor": "white",
            "ticks": ""
           }
          },
          "title": {
           "x": 0.05
          },
          "xaxis": {
           "automargin": true,
           "gridcolor": "white",
           "linecolor": "white",
           "ticks": "",
           "title": {
            "standoff": 15
           },
           "zerolinecolor": "white",
           "zerolinewidth": 2
          },
          "yaxis": {
           "automargin": true,
           "gridcolor": "white",
           "linecolor": "white",
           "ticks": "",
           "title": {
            "standoff": 15
           },
           "zerolinecolor": "white",
           "zerolinewidth": 2
          }
         }
        }
       }
      },
      "text/html": [
       "<div>                            <div id=\"eba5c5fe-e4d9-40f3-b1b1-c97c57e1dcb5\" class=\"plotly-graph-div\" style=\"height:525px; width:100%;\"></div>            <script type=\"text/javascript\">                require([\"plotly\"], function(Plotly) {                    window.PLOTLYENV=window.PLOTLYENV || {};                                    if (document.getElementById(\"eba5c5fe-e4d9-40f3-b1b1-c97c57e1dcb5\")) {                    Plotly.newPlot(                        \"eba5c5fe-e4d9-40f3-b1b1-c97c57e1dcb5\",                        [{\"name\": \"train accuracy\", \"type\": \"scatter\", \"y\": [0.3333333333333333, 0.3333333333333333, 0.3333333333333333, 0.3333333333333333, 0.3333333333333333, 0.3333333333333333, 0.3333333333333333, 0.3333333333333333, 0.3333333333333333, 0.3333333333333333, 0.3333333333333333, 0.3333333333333333, 0.3333333333333333, 0.3333333333333333, 0.3333333333333333, 0.3333333333333333, 0.3333333333333333, 0.3333333333333333, 0.3333333333333333, 0.3333333333333333, 0.3333333333333333, 0.3333333333333333, 0.3333333333333333, 0.3333333333333333, 0.3333333333333333, 0.33726666666666666, 0.35223333333333334, 0.3797, 0.4176, 0.4519, 0.4841666666666667, 0.5111666666666667, 0.5331, 0.5486333333333333, 0.5619666666666666, 0.5725, 0.5795666666666667, 0.5842, 0.5888, 0.5917333333333333, 0.5964, 0.6137666666666667, 0.6557666666666667, 0.7157333333333333, 0.7717333333333334, 0.8134333333333333, 0.8445666666666667, 0.8646, 0.879, 0.8883333333333333, 0.8957, 0.9, 0.9037333333333334, 0.9067333333333333, 0.9091333333333333, 0.9103666666666667, 0.9119, 0.9130666666666667, 0.9142333333333333, 0.9151, 0.9158666666666667, 0.9166333333333333, 0.9169333333333334, 0.9173333333333333, 0.9178, 0.9182666666666667, 0.9187333333333333, 0.919, 0.9191666666666667, 0.9193666666666667, 0.9195666666666666, 0.9199, 0.9200333333333334, 0.9203, 0.9205666666666666, 0.9207333333333333, 0.9209, 0.9208666666666666, 0.921, 0.9211333333333334, 0.9212, 0.9213666666666667, 0.9214333333333333, 0.9214666666666667, 0.9215, 0.9215, 0.9216, 0.9217, 0.9217333333333333, 0.9218333333333333, 0.9218, 0.9219666666666667, 0.922, 0.9222333333333333, 0.9224333333333333, 0.9225666666666666, 0.9227333333333333, 0.9227666666666666, 0.9228333333333333, 0.9228, 0.9229333333333334]}, {\"name\": \"test accuracy\", \"type\": \"scatter\", \"y\": [0.3333333333333333, 0.3333333333333333, 0.3333333333333333, 0.3333333333333333, 0.3333333333333333, 0.3333333333333333, 0.3333333333333333, 0.3333333333333333, 0.3333333333333333, 0.3333333333333333, 0.3333333333333333, 0.3333333333333333, 0.3333333333333333, 0.3333333333333333, 0.3333333333333333, 0.3333333333333333, 0.3333333333333333, 0.3333333333333333, 0.3333333333333333, 0.3333333333333333, 0.3333333333333333, 0.3333333333333333, 0.3333333333333333, 0.3333333333333333, 0.33343333333333336, 0.3363333333333333, 0.35083333333333333, 0.3799666666666667, 0.4135, 0.4485, 0.4796666666666667, 0.5088666666666667, 0.5323, 0.548, 0.5608333333333333, 0.5692666666666667, 0.5756, 0.5808, 0.5847, 0.5881333333333333, 0.5930333333333333, 0.6103333333333333, 0.6525, 0.7124666666666667, 0.7689, 0.8119, 0.8404, 0.8607666666666667, 0.8748666666666667, 0.884, 0.8905666666666666, 0.8963, 0.8995, 0.9020666666666667, 0.9044, 0.9064, 0.9077, 0.9088333333333334, 0.9098333333333334, 0.9109666666666667, 0.9115, 0.9119, 0.9126, 0.9130333333333334, 0.9136333333333333, 0.9143, 0.9145333333333333, 0.9149, 0.9154666666666667, 0.9157666666666666, 0.9158666666666667, 0.9161333333333334, 0.9163666666666667, 0.9167, 0.9169666666666667, 0.9171, 0.9170666666666667, 0.9172333333333333, 0.9174333333333333, 0.9175666666666666, 0.9178666666666667, 0.918, 0.9179666666666667, 0.9180333333333334, 0.9181333333333334, 0.9182666666666667, 0.9184, 0.9184666666666667, 0.9184666666666667, 0.9186333333333333, 0.9186333333333333, 0.9186666666666666, 0.9187666666666666, 0.9188666666666667, 0.9187666666666666, 0.9188666666666667, 0.9190666666666667, 0.9191, 0.9192, 0.9194, 0.9194666666666667]}],                        {\"template\": {\"data\": {\"bar\": [{\"error_x\": {\"color\": \"#2a3f5f\"}, \"error_y\": {\"color\": \"#2a3f5f\"}, \"marker\": {\"line\": {\"color\": \"#E5ECF6\", \"width\": 0.5}}, \"type\": \"bar\"}], \"barpolar\": [{\"marker\": {\"line\": {\"color\": \"#E5ECF6\", \"width\": 0.5}}, \"type\": \"barpolar\"}], \"carpet\": [{\"aaxis\": {\"endlinecolor\": \"#2a3f5f\", \"gridcolor\": \"white\", \"linecolor\": \"white\", \"minorgridcolor\": \"white\", \"startlinecolor\": \"#2a3f5f\"}, \"baxis\": {\"endlinecolor\": \"#2a3f5f\", \"gridcolor\": \"white\", \"linecolor\": \"white\", \"minorgridcolor\": \"white\", \"startlinecolor\": \"#2a3f5f\"}, \"type\": \"carpet\"}], \"choropleth\": [{\"colorbar\": {\"outlinewidth\": 0, \"ticks\": \"\"}, \"type\": \"choropleth\"}], \"contour\": [{\"colorbar\": {\"outlinewidth\": 0, \"ticks\": \"\"}, \"colorscale\": [[0.0, \"#0d0887\"], [0.1111111111111111, \"#46039f\"], [0.2222222222222222, \"#7201a8\"], [0.3333333333333333, \"#9c179e\"], [0.4444444444444444, \"#bd3786\"], [0.5555555555555556, \"#d8576b\"], [0.6666666666666666, \"#ed7953\"], [0.7777777777777778, \"#fb9f3a\"], [0.8888888888888888, \"#fdca26\"], [1.0, \"#f0f921\"]], \"type\": \"contour\"}], \"contourcarpet\": [{\"colorbar\": {\"outlinewidth\": 0, \"ticks\": \"\"}, \"type\": \"contourcarpet\"}], \"heatmap\": [{\"colorbar\": {\"outlinewidth\": 0, \"ticks\": \"\"}, \"colorscale\": [[0.0, \"#0d0887\"], [0.1111111111111111, \"#46039f\"], [0.2222222222222222, \"#7201a8\"], [0.3333333333333333, \"#9c179e\"], [0.4444444444444444, \"#bd3786\"], [0.5555555555555556, \"#d8576b\"], [0.6666666666666666, \"#ed7953\"], [0.7777777777777778, \"#fb9f3a\"], [0.8888888888888888, \"#fdca26\"], [1.0, \"#f0f921\"]], \"type\": \"heatmap\"}], \"heatmapgl\": [{\"colorbar\": {\"outlinewidth\": 0, \"ticks\": \"\"}, \"colorscale\": [[0.0, \"#0d0887\"], [0.1111111111111111, \"#46039f\"], [0.2222222222222222, \"#7201a8\"], [0.3333333333333333, \"#9c179e\"], [0.4444444444444444, \"#bd3786\"], [0.5555555555555556, \"#d8576b\"], [0.6666666666666666, \"#ed7953\"], [0.7777777777777778, \"#fb9f3a\"], [0.8888888888888888, \"#fdca26\"], [1.0, \"#f0f921\"]], \"type\": \"heatmapgl\"}], \"histogram\": [{\"marker\": {\"colorbar\": {\"outlinewidth\": 0, \"ticks\": \"\"}}, \"type\": \"histogram\"}], \"histogram2d\": [{\"colorbar\": {\"outlinewidth\": 0, \"ticks\": \"\"}, \"colorscale\": [[0.0, \"#0d0887\"], [0.1111111111111111, \"#46039f\"], [0.2222222222222222, \"#7201a8\"], [0.3333333333333333, \"#9c179e\"], [0.4444444444444444, \"#bd3786\"], [0.5555555555555556, \"#d8576b\"], [0.6666666666666666, \"#ed7953\"], [0.7777777777777778, \"#fb9f3a\"], [0.8888888888888888, \"#fdca26\"], [1.0, \"#f0f921\"]], \"type\": \"histogram2d\"}], \"histogram2dcontour\": [{\"colorbar\": {\"outlinewidth\": 0, \"ticks\": \"\"}, \"colorscale\": [[0.0, \"#0d0887\"], [0.1111111111111111, \"#46039f\"], [0.2222222222222222, \"#7201a8\"], [0.3333333333333333, \"#9c179e\"], [0.4444444444444444, \"#bd3786\"], [0.5555555555555556, \"#d8576b\"], [0.6666666666666666, \"#ed7953\"], [0.7777777777777778, \"#fb9f3a\"], [0.8888888888888888, \"#fdca26\"], [1.0, \"#f0f921\"]], \"type\": \"histogram2dcontour\"}], \"mesh3d\": [{\"colorbar\": {\"outlinewidth\": 0, \"ticks\": \"\"}, \"type\": \"mesh3d\"}], \"parcoords\": [{\"line\": {\"colorbar\": {\"outlinewidth\": 0, \"ticks\": \"\"}}, \"type\": \"parcoords\"}], \"pie\": [{\"automargin\": true, \"type\": \"pie\"}], \"scatter\": [{\"marker\": {\"colorbar\": {\"outlinewidth\": 0, \"ticks\": \"\"}}, \"type\": \"scatter\"}], \"scatter3d\": [{\"line\": {\"colorbar\": {\"outlinewidth\": 0, \"ticks\": \"\"}}, \"marker\": {\"colorbar\": {\"outlinewidth\": 0, \"ticks\": \"\"}}, \"type\": \"scatter3d\"}], \"scattercarpet\": [{\"marker\": {\"colorbar\": {\"outlinewidth\": 0, \"ticks\": \"\"}}, \"type\": \"scattercarpet\"}], \"scattergeo\": [{\"marker\": {\"colorbar\": {\"outlinewidth\": 0, \"ticks\": \"\"}}, \"type\": \"scattergeo\"}], \"scattergl\": [{\"marker\": {\"colorbar\": {\"outlinewidth\": 0, \"ticks\": \"\"}}, \"type\": \"scattergl\"}], \"scattermapbox\": [{\"marker\": {\"colorbar\": {\"outlinewidth\": 0, \"ticks\": \"\"}}, \"type\": \"scattermapbox\"}], \"scatterpolar\": [{\"marker\": {\"colorbar\": {\"outlinewidth\": 0, \"ticks\": \"\"}}, \"type\": \"scatterpolar\"}], \"scatterpolargl\": [{\"marker\": {\"colorbar\": {\"outlinewidth\": 0, \"ticks\": \"\"}}, \"type\": \"scatterpolargl\"}], \"scatterternary\": [{\"marker\": {\"colorbar\": {\"outlinewidth\": 0, \"ticks\": \"\"}}, \"type\": \"scatterternary\"}], \"surface\": [{\"colorbar\": {\"outlinewidth\": 0, \"ticks\": \"\"}, \"colorscale\": [[0.0, \"#0d0887\"], [0.1111111111111111, \"#46039f\"], [0.2222222222222222, \"#7201a8\"], [0.3333333333333333, \"#9c179e\"], [0.4444444444444444, \"#bd3786\"], [0.5555555555555556, \"#d8576b\"], [0.6666666666666666, \"#ed7953\"], [0.7777777777777778, \"#fb9f3a\"], [0.8888888888888888, \"#fdca26\"], [1.0, \"#f0f921\"]], \"type\": \"surface\"}], \"table\": [{\"cells\": {\"fill\": {\"color\": \"#EBF0F8\"}, \"line\": {\"color\": \"white\"}}, \"header\": {\"fill\": {\"color\": \"#C8D4E3\"}, \"line\": {\"color\": \"white\"}}, \"type\": \"table\"}]}, \"layout\": {\"annotationdefaults\": {\"arrowcolor\": \"#2a3f5f\", \"arrowhead\": 0, \"arrowwidth\": 1}, \"autotypenumbers\": \"strict\", \"coloraxis\": {\"colorbar\": {\"outlinewidth\": 0, \"ticks\": \"\"}}, \"colorscale\": {\"diverging\": [[0, \"#8e0152\"], [0.1, \"#c51b7d\"], [0.2, \"#de77ae\"], [0.3, \"#f1b6da\"], [0.4, \"#fde0ef\"], [0.5, \"#f7f7f7\"], [0.6, \"#e6f5d0\"], [0.7, \"#b8e186\"], [0.8, \"#7fbc41\"], [0.9, \"#4d9221\"], [1, \"#276419\"]], \"sequential\": [[0.0, \"#0d0887\"], [0.1111111111111111, \"#46039f\"], [0.2222222222222222, \"#7201a8\"], [0.3333333333333333, \"#9c179e\"], [0.4444444444444444, \"#bd3786\"], [0.5555555555555556, \"#d8576b\"], [0.6666666666666666, \"#ed7953\"], [0.7777777777777778, \"#fb9f3a\"], [0.8888888888888888, \"#fdca26\"], [1.0, \"#f0f921\"]], \"sequentialminus\": [[0.0, \"#0d0887\"], [0.1111111111111111, \"#46039f\"], [0.2222222222222222, \"#7201a8\"], [0.3333333333333333, \"#9c179e\"], [0.4444444444444444, \"#bd3786\"], [0.5555555555555556, \"#d8576b\"], [0.6666666666666666, \"#ed7953\"], [0.7777777777777778, \"#fb9f3a\"], [0.8888888888888888, \"#fdca26\"], [1.0, \"#f0f921\"]]}, \"colorway\": [\"#636efa\", \"#EF553B\", \"#00cc96\", \"#ab63fa\", \"#FFA15A\", \"#19d3f3\", \"#FF6692\", \"#B6E880\", \"#FF97FF\", \"#FECB52\"], \"font\": {\"color\": \"#2a3f5f\"}, \"geo\": {\"bgcolor\": \"white\", \"lakecolor\": \"white\", \"landcolor\": \"#E5ECF6\", \"showlakes\": true, \"showland\": true, \"subunitcolor\": \"white\"}, \"hoverlabel\": {\"align\": \"left\"}, \"hovermode\": \"closest\", \"mapbox\": {\"style\": \"light\"}, \"paper_bgcolor\": \"white\", \"plot_bgcolor\": \"#E5ECF6\", \"polar\": {\"angularaxis\": {\"gridcolor\": \"white\", \"linecolor\": \"white\", \"ticks\": \"\"}, \"bgcolor\": \"#E5ECF6\", \"radialaxis\": {\"gridcolor\": \"white\", \"linecolor\": \"white\", \"ticks\": \"\"}}, \"scene\": {\"xaxis\": {\"backgroundcolor\": \"#E5ECF6\", \"gridcolor\": \"white\", \"gridwidth\": 2, \"linecolor\": \"white\", \"showbackground\": true, \"ticks\": \"\", \"zerolinecolor\": \"white\"}, \"yaxis\": {\"backgroundcolor\": \"#E5ECF6\", \"gridcolor\": \"white\", \"gridwidth\": 2, \"linecolor\": \"white\", \"showbackground\": true, \"ticks\": \"\", \"zerolinecolor\": \"white\"}, \"zaxis\": {\"backgroundcolor\": \"#E5ECF6\", \"gridcolor\": \"white\", \"gridwidth\": 2, \"linecolor\": \"white\", \"showbackground\": true, \"ticks\": \"\", \"zerolinecolor\": \"white\"}}, \"shapedefaults\": {\"line\": {\"color\": \"#2a3f5f\"}}, \"ternary\": {\"aaxis\": {\"gridcolor\": \"white\", \"linecolor\": \"white\", \"ticks\": \"\"}, \"baxis\": {\"gridcolor\": \"white\", \"linecolor\": \"white\", \"ticks\": \"\"}, \"bgcolor\": \"#E5ECF6\", \"caxis\": {\"gridcolor\": \"white\", \"linecolor\": \"white\", \"ticks\": \"\"}}, \"title\": {\"x\": 0.05}, \"xaxis\": {\"automargin\": true, \"gridcolor\": \"white\", \"linecolor\": \"white\", \"ticks\": \"\", \"title\": {\"standoff\": 15}, \"zerolinecolor\": \"white\", \"zerolinewidth\": 2}, \"yaxis\": {\"automargin\": true, \"gridcolor\": \"white\", \"linecolor\": \"white\", \"ticks\": \"\", \"title\": {\"standoff\": 15}, \"zerolinecolor\": \"white\", \"zerolinewidth\": 2}}}},                        {\"responsive\": true}                    ).then(function(){\n",
       "                            \n",
       "var gd = document.getElementById('eba5c5fe-e4d9-40f3-b1b1-c97c57e1dcb5');\n",
       "var x = new MutationObserver(function (mutations, observer) {{\n",
       "        var display = window.getComputedStyle(gd).display;\n",
       "        if (!display || display === 'none') {{\n",
       "            console.log([gd, 'removed!']);\n",
       "            Plotly.purge(gd);\n",
       "            observer.disconnect();\n",
       "        }}\n",
       "}});\n",
       "\n",
       "// Listen for the removal of the full notebook cells\n",
       "var notebookContainer = gd.closest('#notebook-container');\n",
       "if (notebookContainer) {{\n",
       "    x.observe(notebookContainer, {childList: true});\n",
       "}}\n",
       "\n",
       "// Listen for the clearing of the current output cell\n",
       "var outputEl = gd.closest('.output');\n",
       "if (outputEl) {{\n",
       "    x.observe(outputEl, {childList: true});\n",
       "}}\n",
       "\n",
       "                        })                };                });            </script>        </div>"
      ]
     },
     "metadata": {},
     "output_type": "display_data"
    }
   ],
   "source": [
    "go.Figure(\n",
    "    [\n",
    "        go.Scatter(y=output['acc_train'], name='train accuracy'),\n",
    "        go.Scatter(y=output['acc_test'], name='test accuracy'),\n",
    "    ]\n",
    ")"
   ]
  },
  {
   "cell_type": "code",
   "execution_count": 17,
   "metadata": {
    "ExecuteTime": {
     "end_time": "2021-03-16T10:15:10.783682Z",
     "start_time": "2021-03-16T10:15:10.720731Z"
    },
    "scrolled": true
   },
   "outputs": [],
   "source": [
    "xx = np.linspace(-2, 2, 300)\n",
    "yy = np.linspace(-2, 2, 300)\n",
    "xx, yy = np.meshgrid(xx, yy)\n",
    "X_sample = np.array([xx.flatten(), yy.flatten()]).T"
   ]
  },
  {
   "cell_type": "code",
   "execution_count": 18,
   "metadata": {
    "ExecuteTime": {
     "end_time": "2021-03-16T10:15:10.913533Z",
     "start_time": "2021-03-16T10:15:10.786483Z"
    },
    "scrolled": true
   },
   "outputs": [],
   "source": [
    "y = net.propagate(X_sample)"
   ]
  },
  {
   "cell_type": "code",
   "execution_count": null,
   "metadata": {},
   "outputs": [],
   "source": []
  },
  {
   "cell_type": "code",
   "execution_count": null,
   "metadata": {
    "ExecuteTime": {
     "end_time": "2021-03-16T10:15:38.341761Z",
     "start_time": "2021-03-16T10:15:29.946669Z"
    },
    "scrolled": false
   },
   "outputs": [],
   "source": [
    "go.Figure(\n",
    "    [go.Contour(x=xx.flatten(), y=yy.flatten(), z=y[:, 0], \n",
    "                contours_showlabels=True, contours_coloring ='heatmap'),\n",
    "    go.Scattergl(x=X_train[:,0], y=X_train[:,1], marker_size=2,\n",
    "               marker_color=T_tr, mode='markers', opacity=0.3)]\n",
    ")"
   ]
  },
  {
   "cell_type": "code",
   "execution_count": null,
   "metadata": {
    "ExecuteTime": {
     "end_time": "2021-03-16T10:15:42.992176Z",
     "start_time": "2021-03-16T10:15:38.346884Z"
    },
    "scrolled": false
   },
   "outputs": [],
   "source": [
    "go.Figure(\n",
    "    [go.Contour(x=xx.flatten(), y=yy.flatten(), z=y[:, 1], \n",
    "                contours_showlabels=True, contours_coloring ='heatmap'),\n",
    "    go.Scattergl(x=X_train[:,0], y=X_train[:,1], marker_size=2,\n",
    "               marker_color=T_tr, mode='markers', opacity=0.3)]\n",
    ")"
   ]
  },
  {
   "cell_type": "code",
   "execution_count": null,
   "metadata": {
    "ExecuteTime": {
     "end_time": "2021-03-16T10:15:47.612176Z",
     "start_time": "2021-03-16T10:15:42.996502Z"
    },
    "scrolled": false
   },
   "outputs": [],
   "source": [
    "go.Figure(\n",
    "    [go.Contour(x=xx.flatten(), y=yy.flatten(), z=y[:, 2], \n",
    "                contours_showlabels=True, contours_coloring ='heatmap'),\n",
    "    go.Scattergl(x=X_train[:,0], y=X_train[:,1], marker_size=2,\n",
    "               marker_color=T_tr, mode='markers', opacity=0.3)]\n",
    ")"
   ]
  },
  {
   "cell_type": "markdown",
   "metadata": {},
   "source": [
    "# Regression"
   ]
  },
  {
   "cell_type": "code",
   "execution_count": null,
   "metadata": {
    "ExecuteTime": {
     "end_time": "2021-03-09T18:00:59.630920Z",
     "start_time": "2021-03-09T18:00:59.405790Z"
    },
    "scrolled": true
   },
   "outputs": [],
   "source": []
  },
  {
   "cell_type": "code",
   "execution_count": null,
   "metadata": {
    "ExecuteTime": {
     "end_time": "2021-03-16T10:16:15.356144Z",
     "start_time": "2021-03-16T10:16:14.783344Z"
    },
    "scrolled": false
   },
   "outputs": [],
   "source": [
    "# x = np.random.uniform(-3, 3, size=10000)\n",
    "# y = np.random.uniform(-3, 3, size=10000)\n",
    "x = np.random.randn(10000)\n",
    "y = np.random.randn(10000)\n",
    "X = np.vstack([x, y]).T\n",
    "# z = np.sin(x) * np.cos(y) + np.random.randn(10000) / 100\n",
    "z = np.cos(x) * np.sin(y) #+ np.random.randn(10000) / 100\n",
    "z = z.reshape([len(z), 1])\n",
    "X_train = X[:9000]\n",
    "y_train = z[:9000]\n",
    "X_test = X[9000:]\n",
    "y_test = z[9000:]\n",
    "px.scatter(x=x, y=y, color=z[:, 0])"
   ]
  },
  {
   "cell_type": "code",
   "execution_count": 23,
   "metadata": {
    "ExecuteTime": {
     "end_time": "2021-03-16T10:16:35.275205Z",
     "start_time": "2021-03-16T10:16:15.358755Z"
    },
    "scrolled": true
   },
   "outputs": [
    {
     "name": "stderr",
     "output_type": "stream",
     "text": [
      "100%|██████████| 200/200 [00:19<00:00, 10.09it/s]\n"
     ]
    }
   ],
   "source": [
    "rng = np.random.RandomState(123)\n",
    "layers = [\n",
    "    LinearLayer(n_inputs=2, n_units=20, rng=rng, bias=True, name='Linear_1'),\n",
    "    ReLULayer(name='ReLU_1'),\n",
    "    LinearLayer(n_inputs=20, n_units=20, rng=rng, bias=True, name='Linear_2'),\n",
    "    ReLULayer(name='ReLU_2'),\n",
    "#     LinearLayer(n_inputs=20, n_units=20, rng=rng, bias=True, name='Linear_3'),\n",
    "#     ReLULayer(name='ReLU_3'),\n",
    "    LinearLayer(n_inputs=20, n_units=1, rng=rng, bias=True, name='Linear_OUT'),\n",
    "]\n",
    "\n",
    "np.seterr(all='raise', under='warn', over='warn')\n",
    "net = MLP(rng=rng,\n",
    "          n_inputs= X_train.shape[1],\n",
    "          layers=layers, \n",
    "          layers_default=None, \n",
    "          bias=True, \n",
    "          batch_size=32, \n",
    "          n_epochs=200, \n",
    "          eta=0.01, \n",
    "          momentum=0, \n",
    "          classification=False,\n",
    "         )\n",
    "\n",
    "output =  net.train(X_train, \n",
    "          y_train, \n",
    "          X_test=X_test, \n",
    "          T_test=y_test)"
   ]
  },
  {
   "cell_type": "code",
   "execution_count": null,
   "metadata": {
    "ExecuteTime": {
     "end_time": "2021-03-16T10:16:35.446364Z",
     "start_time": "2021-03-16T10:16:35.332893Z"
    },
    "scrolled": false
   },
   "outputs": [],
   "source": [
    "fig = go.Figure()\n",
    "for i in range(1,5):\n",
    "    fig.add_trace(\n",
    "        go.Scatter(y=output[f'Linear_{i}_mean_weight'], name=f'layer {i}')\n",
    "    )\n",
    "fig.update_layout(xaxis_title='Epoch', yaxis_title='mean weight / initial mean weight')\n",
    "fig"
   ]
  },
  {
   "cell_type": "code",
   "execution_count": 25,
   "metadata": {
    "ExecuteTime": {
     "end_time": "2021-03-16T10:16:35.571604Z",
     "start_time": "2021-03-16T10:16:35.460861Z"
    },
    "scrolled": true
   },
   "outputs": [],
   "source": [
    "xx = np.linspace(-3, 3, 100)\n",
    "yy = np.linspace(-3, 3, 100)\n",
    "xxx, yyy = np.meshgrid(xx, yy)\n",
    "X_sample = np.array([xxx.flatten(), yyy.flatten()]).T"
   ]
  },
  {
   "cell_type": "code",
   "execution_count": 26,
   "metadata": {
    "ExecuteTime": {
     "end_time": "2021-03-16T10:16:35.641439Z",
     "start_time": "2021-03-16T10:16:35.574745Z"
    },
    "scrolled": true
   },
   "outputs": [],
   "source": [
    "y = net.propagate(X_sample)"
   ]
  },
  {
   "cell_type": "code",
   "execution_count": null,
   "metadata": {
    "ExecuteTime": {
     "end_time": "2021-03-16T10:16:36.313512Z",
     "start_time": "2021-03-16T10:16:35.647894Z"
    },
    "scrolled": false
   },
   "outputs": [],
   "source": [
    "go.Figure(data=[\n",
    "    go.Surface(x=xxx, y=yyy, z=y.reshape(100, 100), colorscale='Greens', opacity=0.5),\n",
    "    go.Surface(x=xxx, y=yyy, z=np.cos(xxx) * np.sin(yyy), colorscale='Reds', opacity=0.5),\n",
    "])"
   ]
  },
  {
   "cell_type": "code",
   "execution_count": null,
   "metadata": {
    "ExecuteTime": {
     "end_time": "2021-03-16T10:16:36.384944Z",
     "start_time": "2021-03-16T10:16:36.316182Z"
    }
   },
   "outputs": [],
   "source": [
    "go.Figure(\n",
    "    [\n",
    "        go.Scatter(y=output['loss_train'], name='train loss'),\n",
    "        go.Scatter(y=output['loss_test'], name='test loss'),\n",
    "    ],\n",
    "    layout=dict(yaxis_type='log')\n",
    ")"
   ]
  },
  {
   "cell_type": "markdown",
   "metadata": {},
   "source": [
    "# Experiments"
   ]
  },
  {
   "cell_type": "code",
   "execution_count": 29,
   "metadata": {
    "ExecuteTime": {
     "end_time": "2021-03-16T10:16:36.452048Z",
     "start_time": "2021-03-16T10:16:36.388607Z"
    }
   },
   "outputs": [],
   "source": [
    "X_train = datasets['data.three_gauss.train.10000'][:,:-1]\n",
    "T_tr = datasets['data.three_gauss.train.10000'][:,-1].astype(int)\n",
    "X_test = datasets['data.three_gauss.test.10000'][:,:-1]\n",
    "T_tst = datasets['data.three_gauss.test.10000'][:,-1].astype(int)\n",
    "\n",
    "T_train = np.zeros((T_tr.size, T_tr.max()))\n",
    "T_train[np.arange(T_tr.size),T_tr-1] = 1\n",
    "\n",
    "T_test = np.zeros((T_tst.size, T_tst.max()))\n",
    "T_test[np.arange(T_tst.size),T_tst-1] = 1"
   ]
  },
  {
   "cell_type": "markdown",
   "metadata": {},
   "source": [
    "## How does activation function affect the model's accuracy? \n",
    "Experiment with sigmoid and two other activation functions. The activation function in an output layer should be chosen accordingly to the problem"
   ]
  },
  {
   "cell_type": "code",
   "execution_count": 31,
   "metadata": {
    "ExecuteTime": {
     "end_time": "2021-03-16T10:17:13.274632Z",
     "start_time": "2021-03-16T10:17:13.215169Z"
    }
   },
   "outputs": [],
   "source": [
    "rng = np.random.RandomState(1234)\n",
    "layers = [\n",
    "    LinearLayer(n_inputs=2, n_units=10, rng=rng, bias=True, name='Linear_1'),\n",
    "    ReLULayer(name='ReLU_1'),\n",
    "    LinearLayer(n_inputs=10, n_units=10, rng=rng, bias=True, name='Linear_2'),\n",
    "    ReLULayer(name='ReLU_2'),\n",
    "    LinearLayer(n_inputs=10, n_units=3, rng=rng, bias=True, name='Linear_OUT'),\n",
    "]\n",
    "\n",
    "rng = np.random.RandomState(1234)\n",
    "net = MLP(rng=rng,\n",
    "          n_inputs= X_train.shape[1],\n",
    "          layers=layers, \n",
    "          layers_default=None, \n",
    "          bias=True, \n",
    "          batch_size=32, \n",
    "          n_epochs=500, \n",
    "          eta=0.01, \n",
    "          momentum=0.9, \n",
    "          classification=True,\n",
    "         )"
   ]
  },
  {
   "cell_type": "code",
   "execution_count": 32,
   "metadata": {
    "ExecuteTime": {
     "end_time": "2021-03-16T10:20:35.809291Z",
     "start_time": "2021-03-16T10:17:14.304495Z"
    },
    "scrolled": true
   },
   "outputs": [
    {
     "name": "stderr",
     "output_type": "stream",
     "text": [
      " 14%|█▍        | 70/500 [00:30<02:37,  2.73it/s]/Users/albertroethel/repos/DeepLearning/mlp/project_1_MLP/mlp2.py:621: RuntimeWarning:\n",
      "\n",
      "underflow encountered in multiply\n",
      "\n",
      "/Users/albertroethel/repos/DeepLearning/mlp/project_1_MLP/mlp2.py:541: RuntimeWarning:\n",
      "\n",
      "underflow encountered in multiply\n",
      "\n",
      " 14%|█▍        | 71/500 [00:31<02:44,  2.61it/s]/Users/albertroethel/anaconda3/envs/ml/lib/python3.8/site-packages/numpy/core/_methods.py:162: RuntimeWarning:\n",
      "\n",
      "underflow encountered in true_divide\n",
      "\n",
      " 27%|██▋       | 135/500 [00:57<02:48,  2.17it/s]/Users/albertroethel/repos/DeepLearning/mlp/project_1_MLP/mlp2.py:542: RuntimeWarning:\n",
      "\n",
      "underflow encountered in multiply\n",
      "\n",
      "100%|██████████| 500/500 [03:21<00:00,  2.48it/s]\n"
     ]
    }
   ],
   "source": [
    "output_relu =  net.train(X_train, \n",
    "          T_train, \n",
    "          X_test=X_test, \n",
    "          T_test=T_test, \n",
    "          verbose=False)"
   ]
  },
  {
   "cell_type": "code",
   "execution_count": 33,
   "metadata": {
    "ExecuteTime": {
     "end_time": "2021-03-16T10:20:36.137952Z",
     "start_time": "2021-03-16T10:20:35.823187Z"
    }
   },
   "outputs": [],
   "source": [
    "rng = np.random.RandomState(1234)\n",
    "layers = [\n",
    "    LinearLayer(n_inputs=2, n_units=10, rng=rng, bias=True, name='Linear_1'),\n",
    "    TanhLayer(name='Tanh_1'),\n",
    "    LinearLayer(n_inputs=10, n_units=10, rng=rng, bias=True, name='Linear_2'),\n",
    "    TanhLayer(name='Tanh_2'),\n",
    "    LinearLayer(n_inputs=10, n_units=3, rng=rng, bias=True, name='Linear_OUT'),\n",
    "]\n",
    "\n",
    "rng = np.random.RandomState(1234)\n",
    "net = MLP(rng=rng,\n",
    "          n_inputs= X_train.shape[1],\n",
    "          layers=layers, \n",
    "          layers_default=None, \n",
    "          bias=True, \n",
    "          batch_size=32, \n",
    "          n_epochs=500, \n",
    "          eta=0.01, \n",
    "          momentum=0.9, \n",
    "          classification=True,\n",
    "         )"
   ]
  },
  {
   "cell_type": "code",
   "execution_count": 34,
   "metadata": {
    "ExecuteTime": {
     "end_time": "2021-03-16T10:24:10.019474Z",
     "start_time": "2021-03-16T10:20:36.144416Z"
    }
   },
   "outputs": [
    {
     "name": "stderr",
     "output_type": "stream",
     "text": [
      "100%|██████████| 500/500 [03:33<00:00,  2.34it/s]\n"
     ]
    }
   ],
   "source": [
    "output_tanh =  net.train(X_train, \n",
    "          T_train, \n",
    "          X_test=X_test, \n",
    "          T_test=T_test, \n",
    "          verbose=False)"
   ]
  },
  {
   "cell_type": "code",
   "execution_count": 35,
   "metadata": {
    "ExecuteTime": {
     "end_time": "2021-03-16T10:24:10.347831Z",
     "start_time": "2021-03-16T10:24:10.025489Z"
    }
   },
   "outputs": [],
   "source": [
    "rng = np.random.RandomState(1234)\n",
    "layers = [\n",
    "    LinearLayer(n_inputs=2, n_units=10, rng=rng, bias=True, name='Linear_1'),\n",
    "    SigmaLayer(name='ReLU_1'),\n",
    "    LinearLayer(n_inputs=10, n_units=10, rng=rng, bias=True, name='Linear_2'),\n",
    "    SigmaLayer(name='ReLU_2'),\n",
    "    LinearLayer(n_inputs=10, n_units=3, rng=rng, bias=True, name='Linear_OUT'),\n",
    "]\n",
    "\n",
    "rng = np.random.RandomState(1234)\n",
    "net = MLP(rng=rng,\n",
    "          n_inputs= X_train.shape[1],\n",
    "          layers=layers, \n",
    "          layers_default=None, \n",
    "          bias=True, \n",
    "          batch_size=32, \n",
    "          n_epochs=500, \n",
    "          eta=0.01, \n",
    "          momentum=0.9, \n",
    "          classification=True,\n",
    "         )"
   ]
  },
  {
   "cell_type": "code",
   "execution_count": 36,
   "metadata": {
    "ExecuteTime": {
     "end_time": "2021-03-16T10:27:35.582587Z",
     "start_time": "2021-03-16T10:24:10.352643Z"
    }
   },
   "outputs": [
    {
     "name": "stderr",
     "output_type": "stream",
     "text": [
      "100%|██████████| 500/500 [03:25<00:00,  2.44it/s]\n"
     ]
    }
   ],
   "source": [
    "output_sigmoid =  net.train(X_train, \n",
    "          T_train, \n",
    "          X_test=X_test, \n",
    "          T_test=T_test, \n",
    "          verbose=False)"
   ]
  },
  {
   "cell_type": "code",
   "execution_count": null,
   "metadata": {},
   "outputs": [],
   "source": []
  },
  {
   "cell_type": "code",
   "execution_count": 37,
   "metadata": {
    "ExecuteTime": {
     "end_time": "2021-03-16T10:27:35.913153Z",
     "start_time": "2021-03-16T10:27:35.586495Z"
    }
   },
   "outputs": [
    {
     "data": {
      "text/plain": [
       "dict_keys(['acc_train', 'loss_train', 'loss_test', 'acc_test', 'Linear_1_mean_weight', 'Linear_1_mean_update', 'Linear_2_mean_weight', 'Linear_2_mean_update', 'Linear_OUT_mean_weight', 'Linear_OUT_mean_update'])"
      ]
     },
     "execution_count": 37,
     "metadata": {},
     "output_type": "execute_result"
    }
   ],
   "source": [
    "output_sigmoid.keys()"
   ]
  },
  {
   "cell_type": "code",
   "execution_count": null,
   "metadata": {
    "ExecuteTime": {
     "end_time": "2021-03-16T10:27:36.117187Z",
     "start_time": "2021-03-16T10:27:35.919136Z"
    }
   },
   "outputs": [],
   "source": [
    "fig = go.Figure()\n",
    "for (act, output, color) in zip(['sigmoid', 'relu', 'tanh'], \n",
    "                              [output_sigmoid, output_relu, output_tanh],\n",
    "                              ['red', 'green', 'blue']\n",
    "                             ):\n",
    "    fig.add_trace(go.Scatter(\n",
    "        y=output['acc_train'], \n",
    "        mode='lines',\n",
    "        line=dict(color=color, dash='dash'), \n",
    "        opacity=0.5,\n",
    "        name=f'{act} train'\n",
    "    ))\n",
    "    fig.add_trace(go.Scatter(\n",
    "        y=output['acc_test'], \n",
    "        mode='lines',\n",
    "        line=dict(color=color), \n",
    "        opacity=0.5,\n",
    "        name=f'{act} test'\n",
    "    ))\n",
    "fig"
   ]
  },
  {
   "cell_type": "markdown",
   "metadata": {},
   "source": [
    "## How does the number of hidden layers and number of neurons in hidden layers impact the model's accuracy? "
   ]
  },
  {
   "cell_type": "code",
   "execution_count": 40,
   "metadata": {
    "ExecuteTime": {
     "end_time": "2021-03-16T11:14:26.053608Z",
     "start_time": "2021-03-16T10:27:50.462867Z"
    }
   },
   "outputs": [
    {
     "name": "stderr",
     "output_type": "stream",
     "text": [
      "100%|██████████| 200/200 [01:07<00:00,  2.95it/s]\n",
      "100%|██████████| 200/200 [01:05<00:00,  3.07it/s]\n",
      "100%|██████████| 200/200 [01:12<00:00,  2.76it/s]\n",
      "100%|██████████| 200/200 [01:24<00:00,  2.38it/s]\n",
      "100%|██████████| 200/200 [01:20<00:00,  2.47it/s]\n",
      "100%|██████████| 200/200 [01:33<00:00,  2.14it/s]\n",
      "100%|██████████| 200/200 [01:48<00:00,  1.85it/s]\n",
      "100%|██████████| 200/200 [02:28<00:00,  1.34it/s]\n",
      "100%|██████████| 200/200 [01:57<00:00,  1.71it/s]\n",
      "100%|██████████| 200/200 [02:27<00:00,  1.35it/s]\n",
      "100%|██████████| 200/200 [02:53<00:00,  1.15it/s]\n",
      "100%|██████████| 200/200 [04:22<00:00,  1.31s/it]\n",
      "100%|██████████| 200/200 [03:29<00:00,  1.05s/it]\n",
      "100%|██████████| 200/200 [04:28<00:00,  1.34s/it]\n",
      "100%|██████████| 200/200 [05:41<00:00,  1.71s/it]\n",
      "100%|██████████| 200/200 [09:10<00:00,  2.75s/it]\n"
     ]
    }
   ],
   "source": [
    "rng = np.random.RandomState(1234)\n",
    "n_layers = np.array([2, 3, 5, 10])\n",
    "n_units = np.array([10, 20, 30, 50])\n",
    "results = np.zeros((4, 4))\n",
    "for i, n_layer in enumerate(n_layers):\n",
    "    for j, n_unit in enumerate(n_units):\n",
    "        net = MLP(\n",
    "            rng=rng,\n",
    "            n_inputs= X_train.shape[1],\n",
    "            layers=None, \n",
    "            layers_default=[n_layer, n_unit, 3, SigmaLayer], \n",
    "            bias=True, \n",
    "            batch_size=32, \n",
    "            n_epochs=200, \n",
    "            eta=0.01, \n",
    "            momentum=0.9, \n",
    "            classification=True,\n",
    "        )\n",
    "        output_sigmoid =  net.train(\n",
    "            X_train, \n",
    "            T_train, \n",
    "            X_test=X_test, \n",
    "            T_test=T_test, \n",
    "            verbose=False)\n",
    "        results[i, j] = max(output_sigmoid['acc_test'])"
   ]
  },
  {
   "cell_type": "code",
   "execution_count": 41,
   "metadata": {
    "ExecuteTime": {
     "end_time": "2021-03-16T11:14:26.383469Z",
     "start_time": "2021-03-16T11:14:26.060860Z"
    }
   },
   "outputs": [
    {
     "data": {
      "text/plain": [
       "array([[0.92473333, 0.913     , 0.8945    , 0.8338    ],\n",
       "       [0.9206    , 0.90426667, 0.8789    , 0.8285    ],\n",
       "       [0.33333333, 0.33333333, 0.33333333, 0.33333333],\n",
       "       [0.33333333, 0.33333333, 0.33333333, 0.33333333]])"
      ]
     },
     "execution_count": 41,
     "metadata": {},
     "output_type": "execute_result"
    }
   ],
   "source": [
    "results"
   ]
  },
  {
   "cell_type": "markdown",
   "metadata": {},
   "source": [
    "## How does the loss function affect the model's accuracy? \n",
    "Consider two different loss functions for both classification and regression."
   ]
  },
  {
   "cell_type": "code",
   "execution_count": 42,
   "metadata": {
    "ExecuteTime": {
     "end_time": "2021-03-16T11:14:26.451611Z",
     "start_time": "2021-03-16T11:14:26.390582Z"
    }
   },
   "outputs": [],
   "source": [
    "# x = np.random.uniform(-3, 3, size=10000)\n",
    "# y = np.random.uniform(-3, 3, size=10000)\n",
    "x = np.random.randn(10000)\n",
    "y = np.random.randn(10000)\n",
    "X = np.vstack([x, y]).T\n",
    "# z = np.sin(x) * np.cos(y) + np.random.randn(10000) / 100\n",
    "z = np.cos(x) * np.sin(y) #+ np.random.randn(10000) / 100\n",
    "z = z.reshape([len(z), 1])\n",
    "X_train = X[:9000]\n",
    "T_train = z[:9000]\n",
    "X_test = X[9000:]\n",
    "T_test = z[9000:]"
   ]
  },
  {
   "cell_type": "code",
   "execution_count": 43,
   "metadata": {
    "ExecuteTime": {
     "end_time": "2021-03-16T11:14:45.557405Z",
     "start_time": "2021-03-16T11:14:26.455105Z"
    },
    "scrolled": true
   },
   "outputs": [
    {
     "name": "stderr",
     "output_type": "stream",
     "text": [
      "100%|██████████| 200/200 [00:19<00:00, 10.51it/s]\n"
     ]
    }
   ],
   "source": [
    "rng = np.random.RandomState(123)\n",
    "layers = [\n",
    "    LinearLayer(n_inputs=2, n_units=20, rng=rng, bias=True, name='Linear_1'),\n",
    "    ReLULayer(name='ReLU_1'),\n",
    "    LinearLayer(n_inputs=20, n_units=20, rng=rng, bias=True, name='Linear_2'),\n",
    "    ReLULayer(name='ReLU_2'),\n",
    "    LinearLayer(n_inputs=20, n_units=1, rng=rng, bias=True, name='Linear_OUT'),\n",
    "]\n",
    "\n",
    "net = MLP(rng=rng,\n",
    "          n_inputs= X_train.shape[1],\n",
    "          layers=layers, \n",
    "          layers_default=None, \n",
    "          bias=True, \n",
    "          batch_size=32, \n",
    "          n_epochs=200, \n",
    "          eta=0.01, \n",
    "          momentum=0, \n",
    "          classification=False,\n",
    "          loss=LossMeanAbsoluteError(name='MAE')\n",
    "         )\n",
    "\n",
    "output_MAE =  net.train(X_train, \n",
    "          y_train, \n",
    "          X_test=X_test, \n",
    "          T_test=y_test)"
   ]
  },
  {
   "cell_type": "code",
   "execution_count": 44,
   "metadata": {
    "ExecuteTime": {
     "end_time": "2021-03-16T11:15:05.527104Z",
     "start_time": "2021-03-16T11:14:45.562283Z"
    }
   },
   "outputs": [
    {
     "name": "stderr",
     "output_type": "stream",
     "text": [
      "100%|██████████| 200/200 [00:19<00:00, 10.06it/s]\n"
     ]
    }
   ],
   "source": [
    "rng = np.random.RandomState(123)\n",
    "layers = [\n",
    "    LinearLayer(n_inputs=2, n_units=20, rng=rng, bias=True, name='Linear_1'),\n",
    "    ReLULayer(name='ReLU_1'),\n",
    "    LinearLayer(n_inputs=20, n_units=20, rng=rng, bias=True, name='Linear_2'),\n",
    "    ReLULayer(name='ReLU_2'),\n",
    "    LinearLayer(n_inputs=20, n_units=1, rng=rng, bias=True, name='Linear_OUT'),\n",
    "]\n",
    "\n",
    "net = MLP(rng=rng,\n",
    "          n_inputs= X_train.shape[1],\n",
    "          layers=layers, \n",
    "          layers_default=None, \n",
    "          bias=True, \n",
    "          batch_size=32, \n",
    "          n_epochs=200, \n",
    "          eta=0.01, \n",
    "          momentum=0, \n",
    "          classification=False,\n",
    "          loss=LossMeanSquareError(name='MSE')\n",
    "         )\n",
    "\n",
    "output_MSE =  net.train(X_train, \n",
    "          y_train, \n",
    "          X_test=X_test, \n",
    "          T_test=y_test)"
   ]
  },
  {
   "cell_type": "code",
   "execution_count": null,
   "metadata": {
    "ExecuteTime": {
     "end_time": "2021-03-16T11:15:05.622264Z",
     "start_time": "2021-03-16T11:15:05.533319Z"
    }
   },
   "outputs": [],
   "source": [
    "fig = go.Figure()\n",
    "for (loss, output, color) in zip(['MSE', 'MAE'], \n",
    "                              [output_MAE, output_MSE],\n",
    "                              ['red', 'green']\n",
    "                             ):\n",
    "    fig.add_trace(go.Scatter(\n",
    "        y=output['loss_train'], \n",
    "        mode='lines',\n",
    "        line=dict(color=color, dash='dash'), \n",
    "        opacity=0.5,\n",
    "        name=f'{loss} train'\n",
    "    ))\n",
    "    fig.add_trace(go.Scatter(\n",
    "        y=output['loss_test'], \n",
    "        mode='lines',\n",
    "        line=dict(color=color), \n",
    "        opacity=0.5,\n",
    "        name=f'{loss} test'\n",
    "    ))\n",
    "fig"
   ]
  },
  {
   "cell_type": "code",
   "execution_count": null,
   "metadata": {},
   "outputs": [],
   "source": []
  },
  {
   "cell_type": "code",
   "execution_count": null,
   "metadata": {},
   "outputs": [],
   "source": []
  },
  {
   "cell_type": "code",
   "execution_count": null,
   "metadata": {},
   "outputs": [],
   "source": []
  },
  {
   "cell_type": "code",
   "execution_count": null,
   "metadata": {},
   "outputs": [],
   "source": []
  },
  {
   "cell_type": "code",
   "execution_count": null,
   "metadata": {},
   "outputs": [],
   "source": []
  },
  {
   "cell_type": "code",
   "execution_count": null,
   "metadata": {},
   "outputs": [],
   "source": []
  },
  {
   "cell_type": "code",
   "execution_count": null,
   "metadata": {},
   "outputs": [],
   "source": []
  },
  {
   "cell_type": "code",
   "execution_count": null,
   "metadata": {},
   "outputs": [],
   "source": []
  },
  {
   "cell_type": "code",
   "execution_count": null,
   "metadata": {},
   "outputs": [],
   "source": []
  }
 ],
 "metadata": {
  "kernelspec": {
   "display_name": "Python 3",
   "language": "python",
   "name": "python3"
  },
  "language_info": {
   "codemirror_mode": {
    "name": "ipython",
    "version": 3
   },
   "file_extension": ".py",
   "mimetype": "text/x-python",
   "name": "python",
   "nbconvert_exporter": "python",
   "pygments_lexer": "ipython3",
   "version": "3.8.5"
  },
  "toc": {
   "base_numbering": 1,
   "nav_menu": {},
   "number_sections": true,
   "sideBar": true,
   "skip_h1_title": false,
   "title_cell": "Table of Contents",
   "title_sidebar": "Contents",
   "toc_cell": false,
   "toc_position": {},
   "toc_section_display": true,
   "toc_window_display": true
  }
 },
 "nbformat": 4,
 "nbformat_minor": 4
}
