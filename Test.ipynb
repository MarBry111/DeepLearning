{
 "cells": [
  {
   "cell_type": "code",
   "execution_count": 82,
   "metadata": {},
   "outputs": [
    {
     "name": "stdout",
     "output_type": "stream",
     "text": [
      "The autoreload extension is already loaded. To reload it, use:\n",
      "  %reload_ext autoreload\n"
     ]
    }
   ],
   "source": [
    "%load_ext autoreload\n",
    "%autoreload 2\n",
    "from mlp2 import *\n",
    "import numpy as np\n",
    "from os import listdir\n",
    "import matplotlib.pyplot as plt"
   ]
  },
  {
   "cell_type": "code",
   "execution_count": 72,
   "metadata": {},
   "outputs": [],
   "source": [
    "datasets = {}\n",
    "path = 'project-1-part-1-data'\n",
    "for file in listdir(path):\n",
    "    datasets[file[:-4]] = np.loadtxt(path+'/'+file, delimiter=',', skiprows=1)"
   ]
  },
  {
   "cell_type": "code",
   "execution_count": 73,
   "metadata": {},
   "outputs": [
    {
     "data": {
      "text/plain": [
       "dict_keys(['data.three_gauss.train.10000', 'data.simple.train.10000', 'data.simple.test.10000', 'data.three_gauss.test.10000'])"
      ]
     },
     "execution_count": 73,
     "metadata": {},
     "output_type": "execute_result"
    }
   ],
   "source": [
    "datasets.keys()"
   ]
  },
  {
   "cell_type": "code",
   "execution_count": 74,
   "metadata": {},
   "outputs": [],
   "source": [
    "X_train = datasets['data.simple.train.10000'][:,:-1]\n",
    "T_tr = datasets['data.simple.train.10000'][:,-1].astype(int)\n",
    "X_test = datasets['data.simple.test.10000'][:,:-1]\n",
    "T_tst = datasets['data.simple.test.10000'][:,-1].astype(int)"
   ]
  },
  {
   "cell_type": "code",
   "execution_count": 75,
   "metadata": {},
   "outputs": [],
   "source": [
    "T_train = np.zeros((T_tr.size, T_tr.max()))\n",
    "T_train[np.arange(T_tr.size),T_tr-1] = 1"
   ]
  },
  {
   "cell_type": "code",
   "execution_count": 76,
   "metadata": {},
   "outputs": [],
   "source": [
    "T_test = np.zeros((T_tst.size, T_tst.max()))\n",
    "T_test[np.arange(T_tst.size),T_tst-1] = 1"
   ]
  },
  {
   "cell_type": "code",
   "execution_count": 77,
   "metadata": {},
   "outputs": [
    {
     "data": {
      "text/plain": [
       "2"
      ]
     },
     "execution_count": 77,
     "metadata": {},
     "output_type": "execute_result"
    }
   ],
   "source": [
    "X_train.shape[1]"
   ]
  },
  {
   "cell_type": "code",
   "execution_count": 78,
   "metadata": {},
   "outputs": [
    {
     "data": {
      "text/plain": [
       "2"
      ]
     },
     "execution_count": 78,
     "metadata": {},
     "output_type": "execute_result"
    }
   ],
   "source": [
    "T_test.shape[1]"
   ]
  },
  {
   "cell_type": "code",
   "execution_count": 79,
   "metadata": {},
   "outputs": [],
   "source": [
    "np.seterr(all='raise', under='warn', over='warn')\n",
    "rng = np.random.RandomState(1234)\n",
    "net = MLP(rng=rng,\n",
    "          n_inputs= X_train.shape[1],\n",
    "          layers=None, \n",
    "          layers_default=[5, 50, 2, SigmaLayer], \n",
    "          bias=True, \n",
    "          batch_size=10, \n",
    "          n_epochs=100, \n",
    "          eta=0.5, \n",
    "          momentum=0.5, \n",
    "          classification=True)"
   ]
  },
  {
   "cell_type": "code",
   "execution_count": 80,
   "metadata": {},
   "outputs": [
    {
     "name": "stderr",
     "output_type": "stream",
     "text": [
      "/home/marek/Dokumenty/DS_mgr/SEM02/DL/mlp2.py:183: RuntimeWarning: underflow encountered in true_divide\n",
      "  X2 = 1 / ( 1 + np.exp(-X) )\n",
      "/home/marek/Dokumenty/DS_mgr/SEM02/DL/mlp2.py:84: RuntimeWarning: underflow encountered in true_divide\n",
      "  dW = X.T.dot(delta_next)/X.shape[0]\n",
      "/home/marek/Dokumenty/DS_mgr/SEM02/DL/mlp2.py:515: RuntimeWarning: underflow encountered in multiply\n",
      "  dtheta = [-self.eta * g for g in gs]\n"
     ]
    }
   ],
   "source": [
    "output =  net.train(X_train, \n",
    "          T_train, \n",
    "          X_test=X_test, \n",
    "          T_test=T_test, \n",
    "          verbose=False)"
   ]
  },
  {
   "cell_type": "code",
   "execution_count": 81,
   "metadata": {},
   "outputs": [
    {
     "data": {
      "text/plain": [
       "dict_keys(['loss_train', 'acc_train', 'loss_test', 'acc_test', 'Linear_1', 'Linear_2', 'Linear_3', 'Linear_4', 'Linear_5', 'Linear_6'])"
      ]
     },
     "execution_count": 81,
     "metadata": {},
     "output_type": "execute_result"
    }
   ],
   "source": [
    "output.keys()"
   ]
  },
  {
   "cell_type": "code",
   "execution_count": 85,
   "metadata": {},
   "outputs": [
    {
     "data": {
      "text/plain": [
       "[<matplotlib.lines.Line2D at 0x7ffb30b4b790>]"
      ]
     },
     "execution_count": 85,
     "metadata": {},
     "output_type": "execute_result"
    },
    {
     "data": {
      "image/png": "[encoded data removed]",
      "text/plain": [
       "<Figure size 432x288 with 1 Axes>"
      ]
     },
     "metadata": {
      "needs_background": "light"
     },
     "output_type": "display_data"
    }
   ],
   "source": [
    "plt.plot(output['acc_train'])\n",
    "plt.plot(output['acc_test'])"
   ]
  },
  {
   "cell_type": "code",
   "execution_count": 88,
   "metadata": {},
   "outputs": [
    {
     "data": {
      "text/plain": [
       "(10000, 1)"
      ]
     },
     "execution_count": 88,
     "metadata": {},
     "output_type": "execute_result"
    }
   ],
   "source": [
    "output['loss_test'][0].shape"
   ]
  },
  {
   "cell_type": "code",
   "execution_count": null,
   "metadata": {},
   "outputs": [],
   "source": []
  }
 ],
 "metadata": {
  "kernelspec": {
   "display_name": "Python 3",
   "language": "python",
   "name": "python3"
  },
  "language_info": {
   "codemirror_mode": {
    "name": "ipython",
    "version": 3
   },
   "file_extension": ".py",
   "mimetype": "text/x-python",
   "name": "python",
   "nbconvert_exporter": "python",
   "pygments_lexer": "ipython3",
   "version": "3.8.5"
  },
  "toc": {
   "base_numbering": 1,
   "nav_menu": {},
   "number_sections": true,
   "sideBar": true,
   "skip_h1_title": false,
   "title_cell": "Table of Contents",
   "title_sidebar": "Contents",
   "toc_cell": false,
   "toc_position": {},
   "toc_section_display": true,
   "toc_window_display": false
  }
 },
 "nbformat": 4,
 "nbformat_minor": 4
}
