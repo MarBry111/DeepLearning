{
 "cells": [
  {
   "cell_type": "code",
   "execution_count": null,
   "metadata": {
    "ExecuteTime": {
     "end_time": "2021-03-13T09:38:49.679973Z",
     "start_time": "2021-03-13T09:38:45.899322Z"
    },
    "scrolled": true
   },
   "outputs": [],
   "source": [
    "%load_ext autoreload\n",
    "%autoreload 2\n",
    "from mlp2 import *\n",
    "import numpy as np\n",
    "from os import listdir\n",
    "import plotly.express as px\n",
    "import plotly.graph_objects as go\n",
    "import matplotlib.pyplot as plt\n",
    "import pandas as pd"
   ]
  },
  {
   "cell_type": "code",
   "execution_count": null,
   "metadata": {
    "ExecuteTime": {
     "end_time": "2021-03-13T09:38:51.016025Z",
     "start_time": "2021-03-13T09:38:49.683198Z"
    },
    "scrolled": true
   },
   "outputs": [],
   "source": [
    "datasets = {}\n",
    "path = 'project-1-part-1-data'\n",
    "for file in listdir(path):\n",
    "    datasets[file[:-4]] = np.loadtxt(path+'/'+file, delimiter=',', skiprows=1)"
   ]
  },
  {
   "cell_type": "code",
   "execution_count": null,
   "metadata": {
    "ExecuteTime": {
     "end_time": "2021-03-13T09:38:51.110981Z",
     "start_time": "2021-03-13T09:38:51.019279Z"
    },
    "scrolled": true
   },
   "outputs": [],
   "source": [
    "datasets.keys()"
   ]
  },
  {
   "cell_type": "code",
   "execution_count": null,
   "metadata": {
    "ExecuteTime": {
     "end_time": "2021-03-13T09:38:51.212315Z",
     "start_time": "2021-03-13T09:38:51.125700Z"
    },
    "scrolled": true
   },
   "outputs": [],
   "source": [
    "X_train = datasets['data.simple.train.10000'][:,:-1]\n",
    "T_tr = datasets['data.simple.train.10000'][:,-1].astype(int)\n",
    "X_test = datasets['data.simple.test.10000'][:,:-1]\n",
    "T_tst = datasets['data.simple.test.10000'][:,-1].astype(int)"
   ]
  },
  {
   "cell_type": "code",
   "execution_count": null,
   "metadata": {
    "ExecuteTime": {
     "end_time": "2021-03-13T09:38:51.398755Z",
     "start_time": "2021-03-13T09:38:51.222067Z"
    }
   },
   "outputs": [],
   "source": [
    "X_train = datasets['data.three_gauss.train.10000'][:,:-1]\n",
    "T_tr = datasets['data.three_gauss.train.10000'][:,-1].astype(int)\n",
    "X_test = datasets['data.three_gauss.test.10000'][:,:-1]\n",
    "T_tst = datasets['data.three_gauss.test.10000'][:,-1].astype(int)"
   ]
  },
  {
   "cell_type": "code",
   "execution_count": null,
   "metadata": {
    "ExecuteTime": {
     "end_time": "2021-03-12T20:38:06.834968Z",
     "start_time": "2021-03-12T20:38:06.132182Z"
    },
    "scrolled": false
   },
   "outputs": [],
   "source": [
    "px.scatter(x=X_train[:, 0], y=X_train[:, 1], color=T_tr, opacity=0.08)"
   ]
  },
  {
   "cell_type": "code",
   "execution_count": null,
   "metadata": {
    "ExecuteTime": {
     "end_time": "2021-03-12T20:38:24.504814Z",
     "start_time": "2021-03-12T20:38:24.399928Z"
    },
    "scrolled": true
   },
   "outputs": [],
   "source": [
    "T_train = np.zeros((T_tr.size, T_tr.max()))\n",
    "T_train[np.arange(T_tr.size),T_tr-1] = 1"
   ]
  },
  {
   "cell_type": "code",
   "execution_count": null,
   "metadata": {
    "ExecuteTime": {
     "end_time": "2021-03-12T20:38:26.046569Z",
     "start_time": "2021-03-12T20:38:25.987754Z"
    },
    "scrolled": true
   },
   "outputs": [],
   "source": [
    "T_test = np.zeros((T_tst.size, T_tst.max()))\n",
    "T_test[np.arange(T_tst.size),T_tst-1] = 1"
   ]
  },
  {
   "cell_type": "code",
   "execution_count": null,
   "metadata": {
    "ExecuteTime": {
     "end_time": "2021-03-12T20:38:26.427961Z",
     "start_time": "2021-03-12T20:38:26.356295Z"
    },
    "scrolled": true
   },
   "outputs": [],
   "source": [
    "X_train.shape[1]"
   ]
  },
  {
   "cell_type": "code",
   "execution_count": null,
   "metadata": {
    "ExecuteTime": {
     "end_time": "2021-03-12T20:38:27.028909Z",
     "start_time": "2021-03-12T20:38:26.958027Z"
    },
    "scrolled": true
   },
   "outputs": [],
   "source": [
    "T_test.shape[1]"
   ]
  },
  {
   "cell_type": "code",
   "execution_count": null,
   "metadata": {
    "ExecuteTime": {
     "end_time": "2021-03-12T20:39:01.566597Z",
     "start_time": "2021-03-12T20:39:01.396317Z"
    },
    "scrolled": true
   },
   "outputs": [],
   "source": [
    "np.seterr(all='raise', under='warn', over='warn')\n",
    "rng = np.random.RandomState(1234)\n",
    "net = MLP(rng=rng,\n",
    "          n_inputs= X_train.shape[1],\n",
    "          layers=None, \n",
    "          layers_default=[3, 10, 3, TanhLayer], \n",
    "          bias=True, \n",
    "          batch_size=32, \n",
    "          n_epochs=500, \n",
    "          eta=0.01, \n",
    "          momentum=0.9, \n",
    "          classification=True,\n",
    "          learning_history=True\n",
    "         )"
   ]
  },
  {
   "cell_type": "code",
   "execution_count": null,
   "metadata": {
    "ExecuteTime": {
     "end_time": "2021-03-12T20:42:52.655635Z",
     "start_time": "2021-03-12T20:39:02.322269Z"
    },
    "scrolled": true
   },
   "outputs": [],
   "source": [
    "output =  net.train(X_train, \n",
    "          T_train, \n",
    "          X_test=X_test, \n",
    "          T_test=T_test, \n",
    "          verbose=False)"
   ]
  },
  {
   "cell_type": "code",
   "execution_count": null,
   "metadata": {
    "ExecuteTime": {
     "end_time": "2021-03-12T20:33:51.012524Z",
     "start_time": "2021-03-12T20:33:50.951087Z"
    },
    "scrolled": true
   },
   "outputs": [],
   "source": [
    "output.keys()"
   ]
  },
  {
   "cell_type": "code",
   "execution_count": null,
   "metadata": {
    "ExecuteTime": {
     "end_time": "2021-03-12T20:57:07.796883Z",
     "start_time": "2021-03-12T20:57:07.477494Z"
    },
    "scrolled": false
   },
   "outputs": [],
   "source": [
    "fig = go.Figure()\n",
    "for i in range(1,5):\n",
    "    fig.add_trace(\n",
    "        go.Scatter(y=output[f'Linear_{i}_mean_weight'], name=f'layer {i}')\n",
    "    )\n",
    "fig.update_layout(xaxis_title='Epoch', yaxis_title='mean weight / initial mean weight')\n",
    "fig"
   ]
  },
  {
   "cell_type": "code",
   "execution_count": null,
   "metadata": {
    "ExecuteTime": {
     "end_time": "2021-03-12T20:57:14.543838Z",
     "start_time": "2021-03-12T20:57:14.444533Z"
    },
    "scrolled": false
   },
   "outputs": [],
   "source": [
    "fig = go.Figure()\n",
    "for i in range(1,5):\n",
    "    fig.add_trace(\n",
    "        go.Scatter(y=output[f'Linear_{i}_mean_update'], name=f'layer {i}')\n",
    "    )\n",
    "fig.update_layout(xaxis_title='Epoch', yaxis_title='mean update')\n",
    "fig"
   ]
  },
  {
   "cell_type": "code",
   "execution_count": null,
   "metadata": {
    "ExecuteTime": {
     "end_time": "2021-03-12T20:57:18.939794Z",
     "start_time": "2021-03-12T20:57:18.788799Z"
    },
    "scrolled": false
   },
   "outputs": [],
   "source": [
    "go.Figure(\n",
    "    [\n",
    "        go.Scatter(y=output['acc_train'], name='train accuracy'),\n",
    "        go.Scatter(y=output['acc_test'], name='test accuracy'),\n",
    "    ]\n",
    ")"
   ]
  },
  {
   "cell_type": "code",
   "execution_count": null,
   "metadata": {
    "ExecuteTime": {
     "end_time": "2021-03-12T20:59:16.077999Z",
     "start_time": "2021-03-12T20:59:16.016361Z"
    },
    "scrolled": true
   },
   "outputs": [],
   "source": [
    "xx = np.linspace(-2, 2, 300)\n",
    "yy = np.linspace(-2, 2, 300)\n",
    "xx, yy = np.meshgrid(xx, yy)\n",
    "X_sample = np.array([xx.flatten(), yy.flatten()]).T"
   ]
  },
  {
   "cell_type": "code",
   "execution_count": null,
   "metadata": {
    "ExecuteTime": {
     "end_time": "2021-03-12T20:59:17.291120Z",
     "start_time": "2021-03-12T20:59:17.122871Z"
    },
    "scrolled": true
   },
   "outputs": [],
   "source": [
    "y = net.propagate(X_sample)"
   ]
  },
  {
   "cell_type": "code",
   "execution_count": null,
   "metadata": {},
   "outputs": [],
   "source": []
  },
  {
   "cell_type": "code",
   "execution_count": null,
   "metadata": {
    "ExecuteTime": {
     "end_time": "2021-03-12T21:00:07.557325Z",
     "start_time": "2021-03-12T21:00:05.461045Z"
    },
    "scrolled": false
   },
   "outputs": [],
   "source": [
    "go.Figure(\n",
    "    [go.Contour(x=xx.flatten(), y=yy.flatten(), z=y[:, 0], \n",
    "                contours_showlabels=True, contours_coloring ='heatmap'),\n",
    "    go.Scattergl(x=X_train[:,0], y=X_train[:,1], marker_size=2,\n",
    "               marker_color=T_tr, mode='markers', opacity=0.3)]\n",
    ")"
   ]
  },
  {
   "cell_type": "code",
   "execution_count": null,
   "metadata": {
    "ExecuteTime": {
     "end_time": "2021-03-12T21:02:02.752003Z",
     "start_time": "2021-03-12T21:02:00.181863Z"
    },
    "scrolled": false
   },
   "outputs": [],
   "source": [
    "go.Figure(\n",
    "    [go.Contour(x=xx.flatten(), y=yy.flatten(), z=y[:, 1], \n",
    "                contours_showlabels=True, contours_coloring ='heatmap'),\n",
    "    go.Scattergl(x=X_train[:,0], y=X_train[:,1], marker_size=2,\n",
    "               marker_color=T_tr, mode='markers', opacity=0.3)]\n",
    ")"
   ]
  },
  {
   "cell_type": "code",
   "execution_count": null,
   "metadata": {
    "ExecuteTime": {
     "end_time": "2021-03-12T21:02:06.686459Z",
     "start_time": "2021-03-12T21:02:03.634465Z"
    },
    "scrolled": false
   },
   "outputs": [],
   "source": [
    "go.Figure(\n",
    "    [go.Contour(x=xx.flatten(), y=yy.flatten(), z=y[:, 2], \n",
    "                contours_showlabels=True, contours_coloring ='heatmap'),\n",
    "    go.Scattergl(x=X_train[:,0], y=X_train[:,1], marker_size=2,\n",
    "               marker_color=T_tr, mode='markers', opacity=0.3)]\n",
    ")"
   ]
  },
  {
   "cell_type": "markdown",
   "metadata": {},
   "source": [
    "# Regression"
   ]
  },
  {
   "cell_type": "code",
   "execution_count": null,
   "metadata": {
    "ExecuteTime": {
     "end_time": "2021-03-09T18:00:59.630920Z",
     "start_time": "2021-03-09T18:00:59.405790Z"
    },
    "scrolled": true
   },
   "outputs": [],
   "source": []
  },
  {
   "cell_type": "code",
   "execution_count": null,
   "metadata": {
    "ExecuteTime": {
     "end_time": "2021-03-13T09:39:36.728153Z",
     "start_time": "2021-03-13T09:39:32.510345Z"
    },
    "scrolled": false
   },
   "outputs": [],
   "source": [
    "# x = np.random.uniform(-3, 3, size=10000)\n",
    "# y = np.random.uniform(-3, 3, size=10000)\n",
    "x = np.random.randn(10000)\n",
    "y = np.random.randn(10000)\n",
    "X = np.vstack([x, y]).T\n",
    "# z = np.sin(x) * np.cos(y) + np.random.randn(10000) / 100\n",
    "z = np.cos(x) * np.sin(y) #+ np.random.randn(10000) / 100\n",
    "z = z.reshape([len(z), 1])\n",
    "X_train = X[:9000]\n",
    "y_train = z[:9000]\n",
    "X_test = X[9000:]\n",
    "y_test = z[9000:]\n",
    "px.scatter(x=x, y=y, color=z[:, 0])"
   ]
  },
  {
   "cell_type": "code",
   "execution_count": null,
   "metadata": {
    "ExecuteTime": {
     "end_time": "2021-03-13T09:45:59.352754Z",
     "start_time": "2021-03-13T09:45:38.409788Z"
    },
    "scrolled": true
   },
   "outputs": [],
   "source": [
    "rng = np.random.RandomState(123)\n",
    "layers = [\n",
    "    LinearLayer(n_inputs=2, n_units=20, rng=rng, bias=True, name='Linear_1'),\n",
    "    ReLULayer(name='ReLU_1'),\n",
    "    LinearLayer(n_inputs=20, n_units=20, rng=rng, bias=True, name='Linear_2'),\n",
    "    ReLULayer(name='ReLU_2'),\n",
    "#     LinearLayer(n_inputs=20, n_units=20, rng=rng, bias=True, name='Linear_3'),\n",
    "#     ReLULayer(name='ReLU_3'),\n",
    "    LinearLayer(n_inputs=20, n_units=1, rng=rng, bias=True, name='Linear_OUT'),\n",
    "]\n",
    "\n",
    "np.seterr(all='raise', under='warn', over='warn')\n",
    "net = MLP(rng=rng,\n",
    "          n_inputs= X_train.shape[1],\n",
    "          layers=layers, \n",
    "          layers_default=None, \n",
    "          bias=True, \n",
    "          batch_size=32, \n",
    "          n_epochs=200, \n",
    "          eta=0.01, \n",
    "          momentum=0, \n",
    "          classification=False,\n",
    "         )\n",
    "\n",
    "output =  net.train(X_train, \n",
    "          y_train, \n",
    "          X_test=X_test, \n",
    "          T_test=y_test)"
   ]
  },
  {
   "cell_type": "code",
   "execution_count": null,
   "metadata": {
    "ExecuteTime": {
     "end_time": "2021-03-13T09:45:59.492704Z",
     "start_time": "2021-03-13T09:45:59.358240Z"
    },
    "scrolled": false
   },
   "outputs": [],
   "source": [
    "fig = go.Figure()\n",
    "for i in range(1,5):\n",
    "    fig.add_trace(\n",
    "        go.Scatter(y=output[f'Linear_{i}_mean_weight'], name=f'layer {i}')\n",
    "    )\n",
    "fig.update_layout(xaxis_title='Epoch', yaxis_title='mean weight / initial mean weight')\n",
    "fig"
   ]
  },
  {
   "cell_type": "code",
   "execution_count": null,
   "metadata": {
    "ExecuteTime": {
     "end_time": "2021-03-13T09:45:59.581001Z",
     "start_time": "2021-03-13T09:45:59.500346Z"
    },
    "scrolled": true
   },
   "outputs": [],
   "source": [
    "xx = np.linspace(-3, 3, 100)\n",
    "yy = np.linspace(-3, 3, 100)\n",
    "xxx, yyy = np.meshgrid(xx, yy)\n",
    "X_sample = np.array([xxx.flatten(), yyy.flatten()]).T"
   ]
  },
  {
   "cell_type": "code",
   "execution_count": null,
   "metadata": {
    "ExecuteTime": {
     "end_time": "2021-03-13T09:45:59.705724Z",
     "start_time": "2021-03-13T09:45:59.587215Z"
    },
    "scrolled": true
   },
   "outputs": [],
   "source": [
    "y = net.propagate(X_sample)"
   ]
  },
  {
   "cell_type": "code",
   "execution_count": null,
   "metadata": {
    "ExecuteTime": {
     "end_time": "2021-03-13T09:46:00.446199Z",
     "start_time": "2021-03-13T09:45:59.713933Z"
    },
    "scrolled": false
   },
   "outputs": [],
   "source": [
    "go.Figure(data=[\n",
    "    go.Surface(x=xxx, y=yyy, z=y.reshape(100, 100), colorscale='Greens', opacity=0.5),\n",
    "    go.Surface(x=xxx, y=yyy, z=np.cos(xxx) * np.sin(yyy), colorscale='Reds', opacity=0.5),\n",
    "])"
   ]
  },
  {
   "cell_type": "code",
   "execution_count": null,
   "metadata": {
    "ExecuteTime": {
     "end_time": "2021-03-13T09:46:00.517173Z",
     "start_time": "2021-03-13T09:46:00.448394Z"
    }
   },
   "outputs": [],
   "source": [
    "go.Figure(\n",
    "    [\n",
    "        go.Scatter(y=output['loss_train'], name='train loss'),\n",
    "        go.Scatter(y=output['loss_test'], name='test loss'),\n",
    "    ],\n",
    "    layout=dict(yaxis_type='log')\n",
    ")"
   ]
  },
  {
   "cell_type": "markdown",
   "metadata": {},
   "source": [
    "# Experiments"
   ]
  },
  {
   "cell_type": "code",
   "execution_count": null,
   "metadata": {
    "ExecuteTime": {
     "end_time": "2021-03-12T21:22:29.105665Z",
     "start_time": "2021-03-12T21:22:28.877538Z"
    }
   },
   "outputs": [],
   "source": [
    "X_train = datasets['data.three_gauss.train.10000'][:,:-1]\n",
    "T_tr = datasets['data.three_gauss.train.10000'][:,-1].astype(int)\n",
    "X_test = datasets['data.three_gauss.test.10000'][:,:-1]\n",
    "T_tst = datasets['data.three_gauss.test.10000'][:,-1].astype(int)\n",
    "\n",
    "T_train = np.zeros((T_tr.size, T_tr.max()))\n",
    "T_train[np.arange(T_tr.size),T_tr-1] = 1\n",
    "\n",
    "T_test = np.zeros((T_tst.size, T_tst.max()))\n",
    "T_test[np.arange(T_tst.size),T_tst-1] = 1"
   ]
  },
  {
   "cell_type": "markdown",
   "metadata": {},
   "source": [
    "## How does activation function affect the model's accuracy? \n",
    "Experiment with sigmoid and two other activation functions. The activation function in an output layer should be chosen accordingly to the problem"
   ]
  },
  {
   "cell_type": "code",
   "execution_count": null,
   "metadata": {
    "ExecuteTime": {
     "end_time": "2021-03-12T21:22:32.814848Z",
     "start_time": "2021-03-12T21:22:32.751388Z"
    }
   },
   "outputs": [],
   "source": [
    "rng = np.random.RandomState(1234)\n",
    "layers = [\n",
    "    LinearLayer(n_inputs=2, n_units=10, rng=rng, bias=True, name='Linear_1'),\n",
    "    ReLULayer(name='ReLU_1'),\n",
    "    LinearLayer(n_inputs=10, n_units=10, rng=rng, bias=True, name='Linear_2'),\n",
    "    ReLULayer(name='ReLU_2'),\n",
    "    LinearLayer(n_inputs=10, n_units=3, rng=rng, bias=True, name='Linear_OUT'),\n",
    "]\n",
    "\n",
    "rng = np.random.RandomState(1234)\n",
    "net = MLP(rng=rng,\n",
    "          n_inputs= X_train.shape[1],\n",
    "          layers=layers, \n",
    "          layers_default=None, \n",
    "          bias=True, \n",
    "          batch_size=32, \n",
    "          n_epochs=500, \n",
    "          eta=0.01, \n",
    "          momentum=0.9, \n",
    "          classification=True,\n",
    "          learning_history=True\n",
    "         )"
   ]
  },
  {
   "cell_type": "code",
   "execution_count": null,
   "metadata": {
    "ExecuteTime": {
     "end_time": "2021-03-12T21:27:09.630305Z",
     "start_time": "2021-03-12T21:22:33.456717Z"
    },
    "scrolled": true
   },
   "outputs": [],
   "source": [
    "output_relu =  net.train(X_train, \n",
    "          T_train, \n",
    "          X_test=X_test, \n",
    "          T_test=T_test, \n",
    "          verbose=False)"
   ]
  },
  {
   "cell_type": "code",
   "execution_count": null,
   "metadata": {
    "ExecuteTime": {
     "end_time": "2021-03-12T21:27:10.178915Z",
     "start_time": "2021-03-12T21:27:09.637403Z"
    }
   },
   "outputs": [],
   "source": [
    "rng = np.random.RandomState(1234)\n",
    "layers = [\n",
    "    LinearLayer(n_inputs=2, n_units=10, rng=rng, bias=True, name='Linear_1'),\n",
    "    TanhLayer(name='Tanh_1'),\n",
    "    LinearLayer(n_inputs=10, n_units=10, rng=rng, bias=True, name='Linear_2'),\n",
    "    TanhLayer(name='Tanh_2'),\n",
    "    LinearLayer(n_inputs=10, n_units=3, rng=rng, bias=True, name='Linear_OUT'),\n",
    "]\n",
    "\n",
    "rng = np.random.RandomState(1234)\n",
    "net = MLP(rng=rng,\n",
    "          n_inputs= X_train.shape[1],\n",
    "          layers=layers, \n",
    "          layers_default=None, \n",
    "          bias=True, \n",
    "          batch_size=32, \n",
    "          n_epochs=500, \n",
    "          eta=0.01, \n",
    "          momentum=0.9, \n",
    "          classification=True,\n",
    "          learning_history=True\n",
    "         )"
   ]
  },
  {
   "cell_type": "code",
   "execution_count": null,
   "metadata": {
    "ExecuteTime": {
     "end_time": "2021-03-12T21:32:04.368835Z",
     "start_time": "2021-03-12T21:27:10.185851Z"
    }
   },
   "outputs": [],
   "source": [
    "output_tanh =  net.train(X_train, \n",
    "          T_train, \n",
    "          X_test=X_test, \n",
    "          T_test=T_test, \n",
    "          verbose=False)"
   ]
  },
  {
   "cell_type": "code",
   "execution_count": null,
   "metadata": {
    "ExecuteTime": {
     "end_time": "2021-03-12T21:35:44.134433Z",
     "start_time": "2021-03-12T21:35:43.577694Z"
    }
   },
   "outputs": [],
   "source": [
    "rng = np.random.RandomState(1234)\n",
    "layers = [\n",
    "    LinearLayer(n_inputs=2, n_units=10, rng=rng, bias=True, name='Linear_1'),\n",
    "    SigmaLayer(name='ReLU_1'),\n",
    "    LinearLayer(n_inputs=10, n_units=10, rng=rng, bias=True, name='Linear_2'),\n",
    "    SigmaLayer(name='ReLU_2'),\n",
    "    LinearLayer(n_inputs=10, n_units=3, rng=rng, bias=True, name='Linear_OUT'),\n",
    "]\n",
    "\n",
    "rng = np.random.RandomState(1234)\n",
    "net = MLP(rng=rng,\n",
    "          n_inputs= X_train.shape[1],\n",
    "          layers=layers, \n",
    "          layers_default=None, \n",
    "          bias=True, \n",
    "          batch_size=32, \n",
    "          n_epochs=500, \n",
    "          eta=0.01, \n",
    "          momentum=0.9, \n",
    "          classification=True,\n",
    "          learning_history=True\n",
    "         )"
   ]
  },
  {
   "cell_type": "code",
   "execution_count": null,
   "metadata": {
    "ExecuteTime": {
     "end_time": "2021-03-12T21:40:25.153279Z",
     "start_time": "2021-03-12T21:35:48.562743Z"
    }
   },
   "outputs": [],
   "source": [
    "output_sigmoid =  net.train(X_train, \n",
    "          T_train, \n",
    "          X_test=X_test, \n",
    "          T_test=T_test, \n",
    "          verbose=False)"
   ]
  },
  {
   "cell_type": "code",
   "execution_count": null,
   "metadata": {},
   "outputs": [],
   "source": []
  },
  {
   "cell_type": "code",
   "execution_count": null,
   "metadata": {
    "ExecuteTime": {
     "end_time": "2021-03-12T21:47:34.907922Z",
     "start_time": "2021-03-12T21:47:34.664252Z"
    }
   },
   "outputs": [],
   "source": [
    "output_sigmoid.keys()"
   ]
  },
  {
   "cell_type": "code",
   "execution_count": null,
   "metadata": {
    "ExecuteTime": {
     "end_time": "2021-03-12T21:53:46.203261Z",
     "start_time": "2021-03-12T21:53:46.091145Z"
    }
   },
   "outputs": [],
   "source": [
    "fig = go.Figure()\n",
    "for (act, output, color) in zip(['sigmoid', 'relu', 'tanh'], \n",
    "                              [output_sigmoid, output_relu, output_tanh],\n",
    "                              ['red', 'green', 'blue']\n",
    "                             ):\n",
    "    fig.add_trace(go.Scatter(\n",
    "        y=output['acc_train'], \n",
    "        mode='lines',\n",
    "        line=dict(color=color, dash='dash'), \n",
    "        opacity=0.5,\n",
    "        name=f'{act} train'\n",
    "    ))\n",
    "    fig.add_trace(go.Scatter(\n",
    "        y=output['acc_test'], \n",
    "        mode='lines',\n",
    "        line=dict(color=color), \n",
    "        opacity=0.5,\n",
    "        name=f'{act} test'\n",
    "    ))\n",
    "fig"
   ]
  },
  {
   "cell_type": "markdown",
   "metadata": {},
   "source": [
    "## How does the number of hidden layers and number of neurons in hidden layers impact the model's accuracy? "
   ]
  },
  {
   "cell_type": "code",
   "execution_count": null,
   "metadata": {
    "ExecuteTime": {
     "end_time": "2021-03-13T08:44:12.156626Z",
     "start_time": "2021-03-13T07:44:52.715876Z"
    }
   },
   "outputs": [],
   "source": [
    "rng = np.random.RandomState(1234)\n",
    "n_layers = np.array([2, 3, 5, 10])\n",
    "n_units = np.array([10, 20, 30, 50])\n",
    "results = np.zeros((4, 4))\n",
    "for i, n_layer in enumerate(n_layers):\n",
    "    for j, n_unit in enumerate(n_units):\n",
    "        net = MLP(\n",
    "            rng=rng,\n",
    "            n_inputs= X_train.shape[1],\n",
    "            layers=None, \n",
    "            layers_default=[n_layer, n_unit, 3, SigmaLayer], \n",
    "            bias=True, \n",
    "            batch_size=32, \n",
    "            n_epochs=200, \n",
    "            eta=0.01, \n",
    "            momentum=0.9, \n",
    "            classification=True,\n",
    "            learning_history=True\n",
    "        )\n",
    "        output_sigmoid =  net.train(\n",
    "            X_train, \n",
    "            T_train, \n",
    "            X_test=X_test, \n",
    "            T_test=T_test, \n",
    "            verbose=False)\n",
    "        results[i, j] = max(output_sigmoid['acc_test'])"
   ]
  },
  {
   "cell_type": "code",
   "execution_count": null,
   "metadata": {
    "ExecuteTime": {
     "end_time": "2021-03-13T08:44:12.627259Z",
     "start_time": "2021-03-13T08:44:12.161085Z"
    }
   },
   "outputs": [],
   "source": [
    "results"
   ]
  },
  {
   "cell_type": "markdown",
   "metadata": {},
   "source": [
    "## How does the loss function affect the model's accuracy? \n",
    "Consider two different loss functions for both classification and regression."
   ]
  },
  {
   "cell_type": "code",
   "execution_count": null,
   "metadata": {
    "ExecuteTime": {
     "end_time": "2021-03-13T09:48:37.279820Z",
     "start_time": "2021-03-13T09:48:36.787470Z"
    }
   },
   "outputs": [],
   "source": [
    "# x = np.random.uniform(-3, 3, size=10000)\n",
    "# y = np.random.uniform(-3, 3, size=10000)\n",
    "x = np.random.randn(10000)\n",
    "y = np.random.randn(10000)\n",
    "X = np.vstack([x, y]).T\n",
    "# z = np.sin(x) * np.cos(y) + np.random.randn(10000) / 100\n",
    "z = np.cos(x) * np.sin(y) #+ np.random.randn(10000) / 100\n",
    "z = z.reshape([len(z), 1])\n",
    "X_train = X[:9000]\n",
    "T_train = z[:9000]\n",
    "X_test = X[9000:]\n",
    "T_test = z[9000:]"
   ]
  },
  {
   "cell_type": "code",
   "execution_count": null,
   "metadata": {
    "ExecuteTime": {
     "end_time": "2021-03-13T09:49:17.243083Z",
     "start_time": "2021-03-13T09:48:56.409055Z"
    },
    "scrolled": true
   },
   "outputs": [],
   "source": [
    "rng = np.random.RandomState(123)\n",
    "layers = [\n",
    "    LinearLayer(n_inputs=2, n_units=20, rng=rng, bias=True, name='Linear_1'),\n",
    "    ReLULayer(name='ReLU_1'),\n",
    "    LinearLayer(n_inputs=20, n_units=20, rng=rng, bias=True, name='Linear_2'),\n",
    "    ReLULayer(name='ReLU_2'),\n",
    "    LinearLayer(n_inputs=20, n_units=1, rng=rng, bias=True, name='Linear_OUT'),\n",
    "]\n",
    "\n",
    "net = MLP(rng=rng,\n",
    "          n_inputs= X_train.shape[1],\n",
    "          layers=layers, \n",
    "          layers_default=None, \n",
    "          bias=True, \n",
    "          batch_size=32, \n",
    "          n_epochs=200, \n",
    "          eta=0.01, \n",
    "          momentum=0, \n",
    "          classification=False,\n",
    "          loss=LossMeanAbsoluteError(name='MAE')\n",
    "         )\n",
    "\n",
    "output_MAE =  net.train(X_train, \n",
    "          y_train, \n",
    "          X_test=X_test, \n",
    "          T_test=y_test)"
   ]
  },
  {
   "cell_type": "code",
   "execution_count": null,
   "metadata": {
    "ExecuteTime": {
     "end_time": "2021-03-13T09:50:53.338966Z",
     "start_time": "2021-03-13T09:50:27.940338Z"
    }
   },
   "outputs": [],
   "source": [
    "rng = np.random.RandomState(123)\n",
    "layers = [\n",
    "    LinearLayer(n_inputs=2, n_units=20, rng=rng, bias=True, name='Linear_1'),\n",
    "    ReLULayer(name='ReLU_1'),\n",
    "    LinearLayer(n_inputs=20, n_units=20, rng=rng, bias=True, name='Linear_2'),\n",
    "    ReLULayer(name='ReLU_2'),\n",
    "    LinearLayer(n_inputs=20, n_units=1, rng=rng, bias=True, name='Linear_OUT'),\n",
    "]\n",
    "\n",
    "net = MLP(rng=rng,\n",
    "          n_inputs= X_train.shape[1],\n",
    "          layers=layers, \n",
    "          layers_default=None, \n",
    "          bias=True, \n",
    "          batch_size=32, \n",
    "          n_epochs=200, \n",
    "          eta=0.01, \n",
    "          momentum=0, \n",
    "          classification=False,\n",
    "          loss=LossMeanSquareError(name='MSE')\n",
    "         )\n",
    "\n",
    "output_MSE =  net.train(X_train, \n",
    "          y_train, \n",
    "          X_test=X_test, \n",
    "          T_test=y_test)"
   ]
  },
  {
   "cell_type": "code",
   "execution_count": null,
   "metadata": {
    "ExecuteTime": {
     "end_time": "2021-03-13T09:50:53.725654Z",
     "start_time": "2021-03-13T09:50:53.518544Z"
    }
   },
   "outputs": [],
   "source": [
    "fig = go.Figure()\n",
    "for (loss, output, color) in zip(['MSE', 'MAE'], \n",
    "                              [output_MAE, output_MSE],\n",
    "                              ['red', 'green']\n",
    "                             ):\n",
    "    fig.add_trace(go.Scatter(\n",
    "        y=output['loss_train'], \n",
    "        mode='lines',\n",
    "        line=dict(color=color, dash='dash'), \n",
    "        opacity=0.5,\n",
    "        name=f'{loss} train'\n",
    "    ))\n",
    "    fig.add_trace(go.Scatter(\n",
    "        y=output['loss_test'], \n",
    "        mode='lines',\n",
    "        line=dict(color=color), \n",
    "        opacity=0.5,\n",
    "        name=f'{loss} test'\n",
    "    ))\n",
    "fig"
   ]
  },
  {
   "cell_type": "code",
   "execution_count": null,
   "metadata": {},
   "outputs": [],
   "source": []
  },
  {
   "cell_type": "code",
   "execution_count": null,
   "metadata": {},
   "outputs": [],
   "source": []
  },
  {
   "cell_type": "code",
   "execution_count": null,
   "metadata": {},
   "outputs": [],
   "source": []
  },
  {
   "cell_type": "code",
   "execution_count": null,
   "metadata": {},
   "outputs": [],
   "source": []
  },
  {
   "cell_type": "code",
   "execution_count": null,
   "metadata": {},
   "outputs": [],
   "source": []
  },
  {
   "cell_type": "code",
   "execution_count": null,
   "metadata": {},
   "outputs": [],
   "source": []
  },
  {
   "cell_type": "code",
   "execution_count": null,
   "metadata": {},
   "outputs": [],
   "source": []
  },
  {
   "cell_type": "code",
   "execution_count": null,
   "metadata": {},
   "outputs": [],
   "source": []
  },
  {
   "cell_type": "code",
   "execution_count": null,
   "metadata": {},
   "outputs": [],
   "source": []
  }
 ],
 "metadata": {
  "kernelspec": {
   "display_name": "Python 3",
   "language": "python",
   "name": "python3"
  },
  "language_info": {
   "codemirror_mode": {
    "name": "ipython",
    "version": 3
   },
   "file_extension": ".py",
   "mimetype": "text/x-python",
   "name": "python",
   "nbconvert_exporter": "python",
   "pygments_lexer": "ipython3",
   "version": "3.8.5"
  },
  "toc": {
   "base_numbering": 1,
   "nav_menu": {},
   "number_sections": true,
   "sideBar": true,
   "skip_h1_title": false,
   "title_cell": "Table of Contents",
   "title_sidebar": "Contents",
   "toc_cell": false,
   "toc_position": {},
   "toc_section_display": true,
   "toc_window_display": true
  }
 },
 "nbformat": 4,
 "nbformat_minor": 4
}
